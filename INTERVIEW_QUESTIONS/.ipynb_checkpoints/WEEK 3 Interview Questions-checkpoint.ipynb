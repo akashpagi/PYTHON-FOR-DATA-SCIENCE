{
 "cells": [
  {
   "cell_type": "markdown",
   "metadata": {
    "id": "wDRWkyHjEi8D"
   },
   "source": [
    "# Week-3"
   ]
  },
  {
   "cell_type": "markdown",
   "metadata": {
    "id": "rwzA9xGWV1k2"
   },
   "source": [
    "\n",
    "###`1. What is a decorator in Python?`\n",
    "\n"
   ]
  },
  {
   "cell_type": "markdown",
   "metadata": {
    "id": "g01nxwfOlO9k"
   },
   "source": [
    "Python offers a unique feature called decorators.\n",
    "\n",
    "Let's start with an analogy before getting to the technical definition of the decorators. When we mention the word \"decorator\", what enters your mind? Well, likely something that adds beauty to an existing object. An example is when we hang a picture frame to a wall to enhance the room.\n",
    "\n",
    "Decorators in Python add some feature or functionality to an existing function without altering it.\n",
    "\n",
    "Let's say we have the following simple function that takes two numbers as parameters and divides them.\n",
    "\n",
    "\n",
    "```\n",
    "def divide(first, second):\n",
    "    print (\"The result is:\", first/second)\n",
    "```\n",
    "Now if we call this function by passing the two values 16 and 4, it will return the following output:\n",
    "\n",
    "\n",
    "```\n",
    "divide(16, 4)\n",
    "```\n",
    "The output is:\n",
    "\n",
    "`The result is: 4.0`\n",
    "\n"
   ]
  },
  {
   "cell_type": "code",
   "execution_count": null,
   "metadata": {
    "colab": {
     "base_uri": "https://localhost:8080/"
    },
    "id": "KU3UJPjslkpc",
    "outputId": "c70e5dc3-b994-4aa9-c525-b9a94b0acb2b"
   },
   "outputs": [
    {
     "name": "stdout",
     "output_type": "stream",
     "text": [
      "The result is: 4.0\n"
     ]
    }
   ],
   "source": [
    "def divide(first, second):\n",
    "    print (\"The result is:\", first/second)\n",
    "\n",
    "divide(16, 4)\n"
   ]
  },
  {
   "cell_type": "markdown",
   "metadata": {
    "id": "ve_Qj9oHluhM"
   },
   "source": [
    "What will happen if we pass the number 4 first, and 16 after? The answer will be 0.25. But we don't want it to happen. We want a scenario where if we see that first < second, we swap the numbers and divide them. But we aren't allowed to change the function.\n",
    "\n",
    "Let's create a decorator that will take the function as a parameter. This decorator will add the swipe functionality to our function.\n",
    "\n",
    "```\n",
    "def swipe_decorator(func):\n",
    "    def swipe(first, second):\n",
    "        if first < second:\n",
    "            first, second = second, first\n",
    "        return func(first, second)\n",
    "\n",
    "    return swipe\n",
    "```\n",
    "\n",
    "Now we have generated a decorator for the divide() function. Let's see how it works.\n",
    "\n",
    "```\n",
    "divide = swipe_decorator(divide)\n",
    "divide(4, 16)\n",
    "```\n",
    "The output is:\n",
    "```\n",
    "The result is: 4.0\n",
    "```\n",
    "\n",
    "We have passed the function as a parameter to the decorator. The decorator \"swiped our values\" and returned the function with swiped values. After that, we invoked the returned function to generate the output as expected.\n",
    "\n"
   ]
  },
  {
   "cell_type": "code",
   "execution_count": null,
   "metadata": {
    "colab": {
     "base_uri": "https://localhost:8080/"
    },
    "id": "K92S1zlAlt6p",
    "outputId": "f9445ce4-a365-4238-ba7a-36fc761b9331"
   },
   "outputs": [
    {
     "name": "stdout",
     "output_type": "stream",
     "text": [
      "The result is: 0.25\n",
      "The result is: 4.0\n"
     ]
    }
   ],
   "source": [
    "# Func refrencinf this divide function\n",
    "def divide(first, second):\n",
    "    print (\"The result is:\", first/second)\n",
    "\n",
    "def swipe_decorator(func):\n",
    "    def swipe(first, second):\n",
    "        if first < second:\n",
    "            first, second = second, first\n",
    "        return func(first, second)\n",
    "    return swipe\n",
    "\n",
    "\n",
    "divide(4, 16) # Undecorated\n",
    "\n",
    "divide = swipe_decorator(divide) # Decorated\n",
    "\n",
    "# Decorated\n",
    "divide(4, 16)"
   ]
  },
  {
   "cell_type": "code",
   "execution_count": null,
   "metadata": {
    "id": "AFYxlD2UcVQp"
   },
   "outputs": [],
   "source": []
  },
  {
   "cell_type": "code",
   "execution_count": null,
   "metadata": {
    "colab": {
     "base_uri": "https://localhost:8080/"
    },
    "id": "yrAljHJSbcL_",
    "outputId": "d6d419ab-dc8e-4b2e-b474-35028a203fc3"
   },
   "outputs": [
    {
     "name": "stdout",
     "output_type": "stream",
     "text": [
      "The result is: 0.4\n"
     ]
    }
   ],
   "source": [
    "def divide(first, second):\n",
    "    print (\"The result is:\", first/second)\n",
    "\n",
    "divide(4,10) # Bigger/smaller"
   ]
  },
  {
   "cell_type": "code",
   "execution_count": null,
   "metadata": {
    "colab": {
     "base_uri": "https://localhost:8080/"
    },
    "id": "da2xZKOtmUDG",
    "outputId": "3a0ba415-00e9-4bc8-fffa-db5f582927d4"
   },
   "outputs": [
    {
     "name": "stdout",
     "output_type": "stream",
     "text": [
      "The result is: 4.0\n"
     ]
    }
   ],
   "source": [
    "# Another way of doing the same thing\n",
    "\n",
    "def swipe_decorator(func):\n",
    "    def swipe(first, second):\n",
    "        if first < second:\n",
    "            first, second = second, first\n",
    "        return func(first, second)\n",
    "    return swipe\n",
    "\n",
    "@swipe_decorator # divide = swipe_decorator(divide)\n",
    "def divide(first, second):\n",
    "    print (\"The result is:\", first/second)\n",
    "\n",
    "\n",
    "\n",
    "divide(4, 16)"
   ]
  },
  {
   "cell_type": "markdown",
   "metadata": {
    "id": "dObnwcNPnlXJ"
   },
   "source": [
    "###`2. How can you determine whether a class is a subclass of another class?`\n",
    "\n"
   ]
  },
  {
   "cell_type": "markdown",
   "metadata": {
    "id": "mNOhOP6uqP_L"
   },
   "source": [
    "Ans:\n",
    "\n",
    "This is accomplished by utilising a Python function called issubclass(). The function returns true or false depending on if a class is a child of another class, indicating whether it is."
   ]
  },
  {
   "cell_type": "code",
   "execution_count": null,
   "metadata": {
    "colab": {
     "base_uri": "https://localhost:8080/"
    },
    "id": "mD41-TeEnqKJ",
    "outputId": "b4ff5dc0-d16a-482c-f17b-cf0f4ab565b0"
   },
   "outputs": [
    {
     "name": "stdout",
     "output_type": "stream",
     "text": [
      "False\n",
      "True\n"
     ]
    }
   ],
   "source": [
    "class ABC:\n",
    "    pass\n",
    "\n",
    "class PQR(ABC):\n",
    "    pass\n",
    "\n",
    "print(issubclass(ABC, PQR)) # False as ABC is not the child class of PQR\n",
    "print(issubclass(PQR, ABC)) # True as PQR is a child os ABC"
   ]
  },
  {
   "cell_type": "markdown",
   "metadata": {
    "id": "UAaTVMJypDrQ"
   },
   "source": [
    "###`3.What does Python's MRO (Method Resolution Order) mean?`\n",
    "\n",
    "\n"
   ]
  },
  {
   "cell_type": "markdown",
   "metadata": {
    "id": "DhuF307VqL3u"
   },
   "source": [
    "Ans:\n",
    "\n",
    "Method Resolution Order is referred to as MRO.\n",
    "A class inherits from many classes under multiple inheritance.\n",
    "If we attempt to access a method by building an object from the child class, the methods of the child class are first searched for the method.\n",
    "If the method is not found in the child class, the inheritance classes are searched from left to right.\n",
    "\n",
    "The `show` method is present in both the `Father` and `Mother` classes in the example presented below.\n",
    "\n",
    "In MRO, methods and variables are searched from left to right because while conducting inheritance, `Father` class is written first and `Mother` class is written afterwards. So firstly `Father` class will be searched for `show` method if found then will get executed if not, `Mother` class will be searched."
   ]
  },
  {
   "cell_type": "code",
   "execution_count": null,
   "metadata": {
    "colab": {
     "base_uri": "https://localhost:8080/"
    },
    "id": "AV-edszIn52c",
    "outputId": "d0f80559-a50e-4af2-c602-623a1ab08958"
   },
   "outputs": [
    {
     "name": "stdout",
     "output_type": "stream",
     "text": [
      "You are in Son Class Constructor\n",
      "Father Class instance Method\n"
     ]
    }
   ],
   "source": [
    "# Example code\n",
    "class Father:\n",
    "  def __init__(self):\n",
    "    print('You are in Father Class Constructor')\n",
    "\n",
    "  def show(self):\n",
    "    print(\"Father Class instance Method\")\n",
    "\n",
    "class Mother:\n",
    "  def __init__(self):\n",
    "    print(\"You are in Mother Class Constructor\")\n",
    "\n",
    "  def show(self):\n",
    "    print(\"Mother Class instance Method\")\n",
    "\n",
    "class Son(Father, Mother):\n",
    "    def __init__(self):\n",
    "        print(\"You are in Son Class Constructor\")\n",
    "\n",
    "son = Son()\n",
    "son.show()"
   ]
  },
  {
   "cell_type": "code",
   "execution_count": null,
   "metadata": {
    "id": "jbQUacRspZoW"
   },
   "outputs": [],
   "source": []
  },
  {
   "cell_type": "markdown",
   "metadata": {
    "id": "mS6zsK7ThZiX"
   },
   "source": [
    "###`4. What’s the meaning of single and double underscores in Python variable and method names`"
   ]
  },
  {
   "cell_type": "markdown",
   "metadata": {
    "id": "0wshA88Whhd1"
   },
   "source": [
    "* Single Leading Underscore: `_var`\n",
    "* Single Trailing Underscore: `var_`\n",
    "* Double Leading Underscore: `__var`\n",
    "* Double Leading and Trailing Underscore: `__var__`\n",
    "* Single Underscore: `_`\n",
    "\n",
    "1. **Single Leading Underscore:** `_var` are a Python naming convention that indicates a name is meant for internal use. It is generally not enforced by the\n",
    "Python interpreter and is only meant as a hint to the programmer.\n",
    "\n",
    " Adding a single underscore in front of a variable name is more like someone putting up a tiny underscore warning sign that says:\n",
    "\n",
    "> “Hey, this isn’t really meant to be a part of the public interface of this class. Best to leave it alone.”"
   ]
  },
  {
   "cell_type": "code",
   "execution_count": null,
   "metadata": {
    "colab": {
     "base_uri": "https://localhost:8080/"
    },
    "id": "iLZyiJDni5Jk",
    "outputId": "2139f5df-7363-45e3-cc1a-17c9a4dae781"
   },
   "outputs": [
    {
     "name": "stdout",
     "output_type": "stream",
     "text": [
      "11\n",
      "23\n"
     ]
    }
   ],
   "source": [
    "class Test:\n",
    "    def __init__(self):\n",
    "        self.foo = 11\n",
    "        self._bar = 23\n",
    "\n",
    "t = Test()\n",
    "print(t.foo) #Print 11\n",
    "\n",
    "print(t._bar) # Print 23"
   ]
  },
  {
   "cell_type": "markdown",
   "metadata": {
    "id": "-DorkFPsjHUq"
   },
   "source": [
    "2. **Single Trailing Underscore:** `var_`\n",
    " Sometimes the most fitting name for a variable is already taken by a keyword in the Python language. Therefore, names like class or def cannot be used as variable names in Python. In this case, you can append a single underscore to break the naming conflict:\n",
    "\n"
   ]
  },
  {
   "cell_type": "code",
   "execution_count": null,
   "metadata": {
    "colab": {
     "base_uri": "https://localhost:8080/",
     "height": 130
    },
    "id": "eb5ws6ythbsw",
    "outputId": "2861545d-95a5-48b0-f9fc-7d67903dda78"
   },
   "outputs": [
    {
     "ename": "SyntaxError",
     "evalue": "ignored",
     "output_type": "error",
     "traceback": [
      "\u001b[0;36m  File \u001b[0;32m\"<ipython-input-1-88a174f47223>\"\u001b[0;36m, line \u001b[0;32m1\u001b[0m\n\u001b[0;31m    def make_object(name, class):\u001b[0m\n\u001b[0m                              ^\u001b[0m\n\u001b[0;31mSyntaxError\u001b[0m\u001b[0;31m:\u001b[0m invalid syntax\n"
     ]
    }
   ],
   "source": [
    "def make_object(name, class):\n",
    "    pass"
   ]
  },
  {
   "cell_type": "code",
   "execution_count": null,
   "metadata": {
    "id": "0V75gx0qj8S5"
   },
   "outputs": [],
   "source": [
    "def make_object(name, class_):\n",
    "    pass"
   ]
  },
  {
   "cell_type": "markdown",
   "metadata": {
    "id": "1oDm4gV5j3PL"
   },
   "source": [
    "In summary, a single trailing underscore (postfix) is used by convention to avoid naming conflicts with Python keywords. This convention\n",
    "is defined and explained in PEP 8."
   ]
  },
  {
   "cell_type": "markdown",
   "metadata": {
    "id": "8sQ4H_V_kPsn"
   },
   "source": [
    "3. **Double Leading Underscore**: `__var`\n",
    "\n",
    "A double underscore prefix causes the Python interpreter to rewrite\n",
    "the attribute name in order to avoid naming conflicts in subclasses.\n",
    "\n",
    "This is also called *name mangling*—the interpreter changes the name\n",
    "of the variable in a way that makes it harder to create collisions when\n",
    "the class is extended later."
   ]
  },
  {
   "cell_type": "code",
   "execution_count": null,
   "metadata": {
    "colab": {
     "base_uri": "https://localhost:8080/"
    },
    "id": "bQ7lCks6k3JM",
    "outputId": "a3774bc2-1d0b-468f-b951-0d307931732b"
   },
   "outputs": [
    {
     "name": "stdout",
     "output_type": "stream",
     "text": [
      "['_Test__baz', '__class__', '__delattr__', '__dict__', '__dir__', '__doc__', '__eq__', '__format__', '__ge__', '__getattribute__', '__gt__', '__hash__', '__init__', '__init_subclass__', '__le__', '__lt__', '__module__', '__ne__', '__new__', '__reduce__', '__reduce_ex__', '__repr__', '__setattr__', '__sizeof__', '__str__', '__subclasshook__', '__weakref__', '_bar', 'foo']\n"
     ]
    }
   ],
   "source": [
    "class Test:\n",
    "    def __init__(self):\n",
    "        self.foo = 11\n",
    "        self._bar = 23\n",
    "        self.__baz = 23\n",
    "\n",
    "t = Test()\n",
    "print(dir(t)) # This gives us a list with the object’s attributes"
   ]
  },
  {
   "cell_type": "markdown",
   "metadata": {
    "id": "U3-q_IPplOvR"
   },
   "source": [
    "```\n",
    "['_Test__baz', '__class__', '__delattr__', '__dict__',\n",
    "'__dir__', '__doc__', '__eq__', '__format__', '__ge__',\n",
    "'__getattribute__', '__gt__', '__hash__', '__init__',\n",
    "'__le__', '__lt__', '__module__', '__ne__', '__new__',\n",
    "'__reduce__', '__reduce_ex__', '__repr__',\n",
    "'__setattr__', '__sizeof__', '__str__',\n",
    "'__subclasshook__', '__weakref__', '_bar', 'foo']\n",
    "```\n",
    "\n",
    "Let’s take this list and look for our original variable names `foo`, `_bar`, and `__baz`. I promise you’ll notice some interesting changes.\n",
    "\n",
    "First of all, the `self.foo` variable appears unmodified as `foo` in the\n",
    "attribute list.\n",
    "\n",
    "Next up, `self._bar` behaves the same way—it shows up on the class\n",
    "as `_bar`. Like I explained before, the leading underscore is just a convention\n",
    "in this case—a hint for the programmer.\n",
    "\n",
    "However, with `self.__baz` things look a little different. When you\n",
    "search for `__baz` in that list, you’ll see that there is no variable with\n",
    "that exact name.\n",
    "\n",
    "So what happened to `__baz`?\n",
    "\n",
    "> If you look closely, you’ll see there’s an attribute called `_Test__baz`\n",
    "on this object. This is the name mangling that the Python interpreter\n",
    "applies. It does this to protect the variable from getting overridden in\n",
    "subclasses.\n",
    "\n",
    "This type of variables also explained in `Private attributes` and `methods` session."
   ]
  },
  {
   "cell_type": "markdown",
   "metadata": {
    "id": "SZb3PkGFmDCJ"
   },
   "source": [
    "4. **Double Leading and Trailing Underscore**: `__var__`\n",
    "\n",
    "Double underscores `__` are often referred to as “**dunders**” in the Python\n",
    "community. The reason is that double underscores appear quite often\n",
    "in Python code, and to avoid fatiguing their jaw muscles, Pythonistas\n",
    "often shorten “**double underscore**” to “**dunder**.”\n",
    "\n",
    "The names that have both leading and trailing double underscores are reserved for special use in the language. This rule covers things like `__init__` for object constructors, or `__call__` to make objects callable.\n",
    "\n",
    "These dunder methods are often referred to as magic methods.\n",
    "\n",
    "There are many dunder methods, here are some:-\n",
    "\n",
    "`__str__, __repr__, __call__, __add__, __sub__, __len__` etc.\n",
    "\n"
   ]
  },
  {
   "cell_type": "markdown",
   "metadata": {
    "id": "osM6mzKKoV5c"
   },
   "source": [
    "5. **Single Underscore** `_`:\n",
    " Sometimes used as a name for temporary or insignificant variables (“don’t care). Also, it represents the result of the last expression in a Python REPL session.\n"
   ]
  },
  {
   "cell_type": "markdown",
   "metadata": {
    "id": "192RID9Ad8Py"
   },
   "source": [
    "### **`5. What is the difference between OOP and SOP?`**\n",
    "\n",
    "| Object Oriented Programming | Structural Programming|\n",
    "| :-- | :-- |\n",
    "| Object-Oriented Programming is a type of programming which is based on objects rather than just functions and procedures | Provides logical structure to a program where programs are divided functions |\n",
    "| Bottom-up approach | Top-down approach |\n",
    "| Provides data hiding | Does not provide data hiding |\n",
    "| Can solve problems of any complexity | Can solve moderate problems |\n",
    "| Code can be reused thereby reducing redundancy | Does not support code reusability |\n",
    "\n",
    "### **`6. Can you call the base class method without creating an instance?`**\n",
    "\n",
    "Yes, you can call the base class without instantiating it if:\n",
    "- It is a static method\n",
    "- The base class is inherited by some other subclass\n",
    "\n",
    "### **`7. What are the limitations of inheritance?`**\n",
    "\n",
    "- Increases the time and effort required to execute a program as it requires jumping back and forth between different classes.\n",
    "- The parent class and the child class get tightly coupled.\n",
    "- Any modifications to the program would require changes both in the parent as well as the child class\n",
    "- Needs careful implementation else would lead to incorrect results\n",
    "\n",
    "### **`8. What is the difference between range() and xrange()?`**\n",
    "\n",
    "- range() creates a static list that can be iterated through while checking some conditions. This is a function that returns a list with integer sequences.\n",
    "- xrange() is same in functionality as range() but it does not return a list, instead it returns an object of xrange(). xrange() is used in generators for yielding.\n",
    "\n",
    "| range() | xrange() |\n",
    "| :-- | :-- |\n",
    "| In Python 3, xrange() is not supported; instead, the range() function is used to iterate in for loops. | The xrange() function is used in Python 2 to iterate in for loops.\n",
    "| It returns a list. | It returns a generator object as it doesn’t really generate a static list at the run time. |\n",
    "| It takes more memory as it keeps the entire list of iterating numbers in memory. | It takes less memory as it keeps only one number at a time in memory. |"
   ]
  },
  {
   "cell_type": "markdown",
   "metadata": {
    "id": "agEPcdorjRCv"
   },
   "source": [
    "### **`9. How to override the way objects are printed?`**\n",
    "\n",
    "Use the `__str__` and the `__repr__` dunder methods.\n",
    "\n",
    "Here’s an example that demonstrates how an instance from the Person class can be nicely formatted when printed to the console."
   ]
  },
  {
   "cell_type": "code",
   "execution_count": null,
   "metadata": {
    "colab": {
     "base_uri": "https://localhost:8080/"
    },
    "id": "TzkIIHmDlUvn",
    "outputId": "7f489e3d-8a44-4b39-8faf-c4a99f1bfeb3"
   },
   "outputs": [
    {
     "data": {
      "text/plain": [
       "John Doe (30)"
      ]
     },
     "execution_count": 4,
     "metadata": {},
     "output_type": "execute_result"
    }
   ],
   "source": [
    "class Person:\n",
    "    def __init__(self, first_name, last_name, age):\n",
    "        self.first_name = first_name\n",
    "        self.last_name = last_name\n",
    "        self.age = age\n",
    "\n",
    "    def __str__(self):\n",
    "        return f\"{self.first_name} {self.last_name} ({self.age})\"\n",
    "\n",
    "    def __repr__(self):\n",
    "        return f\"{self.first_name} {self.last_name} ({self.age})\"\n",
    "\n",
    "person = Person(\"John\", \"Doe\", 30) # thanks to __str__\n",
    "person"
   ]
  },
  {
   "cell_type": "markdown",
   "metadata": {
    "id": "AncbynnDlNmG"
   },
   "source": [
    "### **`10. What is the difference between a class method, a static method and an instance method?`**\n",
    "\n"
   ]
  },
  {
   "cell_type": "markdown",
   "metadata": {
    "id": "7TmzMOUQ1i2V"
   },
   "source": [
    "Let’s begin by writing a (Python 3) class that contains simple examples\n",
    "for all three method types:\n",
    "```\n",
    "class MyClass:\n",
    "\n",
    "    def method(self):\n",
    "        return 'instance method called', self\n",
    "\n",
    "    @classmethod\n",
    "    def classmethod(cls):\n",
    "        return 'class method called', cls\n",
    "\n",
    "    @staticmethod\n",
    "    def staticmethod():\n",
    "        return 'static method called'\n",
    "```\n",
    "\n",
    "**`Instance Methods`**\n",
    "\n",
    "The first method on `MyClass`, called `method`, is a regular instance method. That’s the basic, no-frills method type you’ll use most of the time. You can see the method takes one parameter, self, which points to an instance of MyClass when the method is called. But of course, instance methods can accept more than just one parameter.\n",
    "\n",
    "Through the self parameter, instance methods can freely access attributes and other methods on the same object. This gives them a lot of power when it comes to modifying an object’s state.\n",
    "\n",
    "Not only can they modify object state, instance methods can also access the class itself through the `self.__class__` attribute. This means instance methods can also modify class state.  This makes instance methods powerful in terms of access restrictions—they can freely modify state on the object instance and on the class itself.\n",
    "\n",
    "\n"
   ]
  },
  {
   "cell_type": "markdown",
   "metadata": {
    "id": "m-erKEsk3UkM"
   },
   "source": [
    "**`Class Methods`**\n",
    "\n",
    "Let’s compare that to the second method, `MyClass.classmethod`. I marked this method with a [`@classmethod`](https://docs.python.org/3/library/functions.html#classmethod) decorator to flag it as a class method. Instead of accepting a self parameter, class methods take a `cls` parameter that points to the class—and *not* the object instance—when the method is called.\n",
    "\n",
    "Since the class method only has access to this `cls` argument, it can’t modify object instance state. That would require access to self. However, class methods can still modify class state that applies across all instances of the class."
   ]
  },
  {
   "cell_type": "markdown",
   "metadata": {
    "id": "SZbU5uJV3XAi"
   },
   "source": [
    "`Static Methods`\n",
    "\n",
    "The third method, `MyClass.staticmethod` was marked with a [`@staticmethod6`](https://docs.python.org/3/library/functions.html#staticmethod) decorator to flag it as a static method.\n",
    "\n",
    "This type of method doesn’t take a `self` or a `cls` parameter, although, of course, it can be made to accept an arbitrary number of other parameters.\n",
    "\n",
    "As a result, a static method cannot modify object state or class state.\n",
    "Static methods are restricted in what data they can access—they’re primarily a way to namespace your methods."
   ]
  },
  {
   "cell_type": "markdown",
   "metadata": {
    "id": "ElO6OSes37JK"
   },
   "source": [
    "**Let’s See Them in Action!**\n",
    "\n",
    "Let’s take a look at how these methods behave in action when we call them. We’ll start by creating an instance of the class and then calling the three different methods on it.\n",
    "\n",
    "`MyClass` was set up in such a way that each method’s implementation returns a tuple containing information we can use to trace what’s going on and which parts of the class or object that method can access.\n"
   ]
  },
  {
   "cell_type": "code",
   "execution_count": null,
   "metadata": {
    "id": "UqIoxCculksH"
   },
   "outputs": [],
   "source": [
    "# Class\n",
    "\n",
    "class MyClass:\n",
    "\n",
    "    def method(self):\n",
    "        return 'instance method called', self\n",
    "\n",
    "    @classmethod\n",
    "    def classmethod(cls):\n",
    "        return 'class method called', cls\n",
    "\n",
    "    @staticmethod\n",
    "    def staticmethod():\n",
    "        return 'static method called'\n"
   ]
  },
  {
   "cell_type": "markdown",
   "metadata": {
    "id": "XuVf3WPl4YN4"
   },
   "source": [
    "Here’s what happens when we call an instance method:"
   ]
  },
  {
   "cell_type": "code",
   "execution_count": null,
   "metadata": {
    "colab": {
     "base_uri": "https://localhost:8080/"
    },
    "id": "iZf7oBIU4ZTg",
    "outputId": "362af227-4746-444b-c51a-06b7a5b80b0c"
   },
   "outputs": [
    {
     "data": {
      "text/plain": [
       "('instance method called', <__main__.MyClass at 0x7faa53c48640>)"
      ]
     },
     "execution_count": 29,
     "metadata": {},
     "output_type": "execute_result"
    }
   ],
   "source": [
    "obj = MyClass()\n",
    "obj.method()"
   ]
  },
  {
   "cell_type": "markdown",
   "metadata": {
    "id": "ihWKN8A74ny6"
   },
   "source": [
    "This confirms that, in this case, the instance method called method has access to the object instance (printed as `<MyClass instance>`) via the self argument.\n",
    "\n",
    "When the method is called, Python replaces the `self` argument with the instance object, `obj`.\n",
    "\n",
    "We could ignore the syntactic sugar provided by the `obj.method()` **dot-call syntax** and pass the instance object manually to get the same result:\n",
    "```\n",
    "MyClass.method(obj)\n",
    "```\n"
   ]
  },
  {
   "cell_type": "code",
   "execution_count": null,
   "metadata": {
    "colab": {
     "base_uri": "https://localhost:8080/"
    },
    "id": "nJjh8hjV4dJu",
    "outputId": "b840fa46-960d-4f35-8800-f9f14d3a521c"
   },
   "outputs": [
    {
     "data": {
      "text/plain": [
       "('instance method called', 10)"
      ]
     },
     "execution_count": 14,
     "metadata": {},
     "output_type": "execute_result"
    }
   ],
   "source": [
    "MyClass.method(obj)"
   ]
  },
  {
   "cell_type": "code",
   "execution_count": null,
   "metadata": {
    "colab": {
     "base_uri": "https://localhost:8080/"
    },
    "id": "9J646vMVerpy",
    "outputId": "3ad45ba6-6329-4d69-885c-ed9cfac9312b"
   },
   "outputs": [
    {
     "data": {
      "text/plain": [
       "__main__.MyClass"
      ]
     },
     "execution_count": 15,
     "metadata": {},
     "output_type": "execute_result"
    }
   ],
   "source": [
    "type(obj)"
   ]
  },
  {
   "cell_type": "markdown",
   "metadata": {
    "id": "97mN4RY049Mr"
   },
   "source": [
    "Let’s try out the **class method** next:\n"
   ]
  },
  {
   "cell_type": "code",
   "execution_count": null,
   "metadata": {
    "colab": {
     "base_uri": "https://localhost:8080/"
    },
    "id": "488Vw61U48Pw",
    "outputId": "ec097b46-49b6-46f7-e363-d8b48f1e0188"
   },
   "outputs": [
    {
     "data": {
      "text/plain": [
       "('class method called', __main__.MyClass)"
      ]
     },
     "execution_count": 22,
     "metadata": {},
     "output_type": "execute_result"
    }
   ],
   "source": [
    "obj.classmethod()"
   ]
  },
  {
   "cell_type": "markdown",
   "metadata": {
    "id": "JT72YmP35U73"
   },
   "source": [
    "Calling `classmethod()` showed us that it doesn’t have access to the `<MyClass instance>` object, but only to the `<class MyClass>` object, representing the class itself (**everything in Python is an object, even classes themselves**).\n",
    "\n",
    "Notice how Python automatically passes the class as the first argument to the function when we call `MyClass.classmethod()`. Calling a method in Python through the **dot syntax** triggers this behavior. The `self` parameter on instance methods works the same way.\n",
    "\n",
    "Please note that naming these parameters `self` and `cls` is just a convention. You could just as easily name them `the_object` and `the_class` and get the same result. All that matters is that they’re positioned first in the parameter list for that particular method."
   ]
  },
  {
   "cell_type": "markdown",
   "metadata": {
    "id": "Lje-VX7Z5zsn"
   },
   "source": [
    "Time to call the **static method** now:\n"
   ]
  },
  {
   "cell_type": "code",
   "execution_count": null,
   "metadata": {
    "colab": {
     "base_uri": "https://localhost:8080/",
     "height": 36
    },
    "id": "0pJxkqzc5LIN",
    "outputId": "c18cf0fe-e7a8-47f0-fe0e-e3bfeed08200"
   },
   "outputs": [
    {
     "data": {
      "application/vnd.google.colaboratory.intrinsic+json": {
       "type": "string"
      },
      "text/plain": [
       "'static method called'"
      ]
     },
     "execution_count": 30,
     "metadata": {},
     "output_type": "execute_result"
    }
   ],
   "source": [
    "obj.staticmethod()"
   ]
  },
  {
   "cell_type": "markdown",
   "metadata": {
    "id": "u9cjff-i6S9-"
   },
   "source": [
    "Did you see how we called `staticmethod()` on the object and were able to do so successfully? Some developers are surprised when they learn that it’s possible to call a static method on an object instance.\n",
    "\n",
    "Behind the scenes, Python simply enforces the access restrictions by\n",
    "not passing in the `self` or the `cls` argument when a static method gets\n",
    "called using the dot syntax\n",
    "\n",
    "This confirms that static methods can neither access the object instance state nor the class state. They work like regular functions but belong to the class’ (and every instance’s) namespace.\n",
    "\n",
    "Now, let’s take a look at what happens when we attempt to call these\n",
    "methods on the class itself, **without creating an object instance** beforehand:"
   ]
  },
  {
   "cell_type": "code",
   "execution_count": null,
   "metadata": {
    "colab": {
     "base_uri": "https://localhost:8080/",
     "height": 246
    },
    "id": "jZ5Q4awa54uN",
    "outputId": "2ae04da5-4f64-49db-fbfd-35b299cce522"
   },
   "outputs": [
    {
     "name": "stdout",
     "output_type": "stream",
     "text": [
      "('class method called', <class '__main__.MyClass'>)\n",
      "static method called\n"
     ]
    },
    {
     "ename": "TypeError",
     "evalue": "ignored",
     "output_type": "error",
     "traceback": [
      "\u001b[0;31m---------------------------------------------------------------------------\u001b[0m",
      "\u001b[0;31mTypeError\u001b[0m                                 Traceback (most recent call last)",
      "\u001b[0;32m<ipython-input-31-b561d87f2a57>\u001b[0m in \u001b[0;36m<module>\u001b[0;34m\u001b[0m\n\u001b[1;32m      4\u001b[0m \u001b[0mprint\u001b[0m\u001b[0;34m(\u001b[0m\u001b[0mMyClass\u001b[0m\u001b[0;34m.\u001b[0m\u001b[0mstaticmethod\u001b[0m\u001b[0;34m(\u001b[0m\u001b[0;34m)\u001b[0m\u001b[0;34m)\u001b[0m\u001b[0;34m\u001b[0m\u001b[0;34m\u001b[0m\u001b[0m\n\u001b[1;32m      5\u001b[0m \u001b[0;31m#Instance Method\u001b[0m\u001b[0;34m\u001b[0m\u001b[0;34m\u001b[0m\u001b[0;34m\u001b[0m\u001b[0m\n\u001b[0;32m----> 6\u001b[0;31m \u001b[0mprint\u001b[0m\u001b[0;34m(\u001b[0m\u001b[0mMyClass\u001b[0m\u001b[0;34m.\u001b[0m\u001b[0mmethod\u001b[0m\u001b[0;34m(\u001b[0m\u001b[0;34m)\u001b[0m\u001b[0;34m)\u001b[0m\u001b[0;34m\u001b[0m\u001b[0;34m\u001b[0m\u001b[0m\n\u001b[0m",
      "\u001b[0;31mTypeError\u001b[0m: method() missing 1 required positional argument: 'self'"
     ]
    }
   ],
   "source": [
    "# Class Method\n",
    "print(MyClass.classmethod())\n",
    "# Static method\n",
    "print(MyClass.staticmethod())\n",
    "#Instance Method\n",
    "print(MyClass.method())"
   ]
  },
  {
   "cell_type": "markdown",
   "metadata": {
    "id": "1VHEE3tN8YqS"
   },
   "source": [
    "We were able to call `classmethod()` and `staticmethod(`) just fine, but attempting to call the instance method `method()` failed with a `TypeError`.\n",
    "\n",
    "This is to be expected. This time we didn’t create an object instance and tried calling an instance function directly on the class blueprint itself. This means there is no way for Python to populate the `self` argument and therefore the call fails with a `TypeError exception`.\n",
    "\n",
    "This should make the distinction between these three method types a\n",
    "little more clear"
   ]
  },
  {
   "cell_type": "markdown",
   "metadata": {
    "id": "id6hjxR08Cls"
   },
   "source": [
    "**Key Takeaways**\n",
    "* Instance methods need a class instance and can access the instance through `self`.\n",
    "* Class methods don’t need a class instance. They can’t access the\n",
    "instance (`self`) but they have access to the class itself via `cls`.\n",
    "* Static methods don’t have access to `cls or self`. They work like\n",
    "regular functions but belong to the class’ namespace.\n",
    "* Static and class methods communicate and (to a certain degree)\n",
    "enforce developer intent about class design. This can have definite maintenance benefits.\n"
   ]
  },
  {
   "cell_type": "code",
   "execution_count": null,
   "metadata": {
    "id": "De783vGp62Dk"
   },
   "outputs": [],
   "source": []
  }
 ],
 "metadata": {
  "colab": {
   "collapsed_sections": [
    "dObnwcNPnlXJ",
    "UAaTVMJypDrQ",
    "mS6zsK7ThZiX",
    "agEPcdorjRCv"
   ],
   "provenance": []
  },
  "kernelspec": {
   "display_name": "Python 3 (ipykernel)",
   "language": "python",
   "name": "python3"
  },
  "language_info": {
   "codemirror_mode": {
    "name": "ipython",
    "version": 3
   },
   "file_extension": ".py",
   "mimetype": "text/x-python",
   "name": "python",
   "nbconvert_exporter": "python",
   "pygments_lexer": "ipython3",
   "version": "3.10.7"
  }
 },
 "nbformat": 4,
 "nbformat_minor": 1
}
