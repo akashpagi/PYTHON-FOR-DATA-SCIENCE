{
 "cells": [
  {
   "cell_type": "markdown",
   "metadata": {
    "id": "tUjwaHKTbUxM"
   },
   "source": [
    "# [![CampusX](https://drive.google.com/uc?id=191IBXIvjOsnlR22ReUVFSEW0zJJBhArQ) CampusX - Data Science Mentorship Program](http://campusx.in)"
   ]
  },
  {
   "cell_type": "markdown",
   "metadata": {
    "id": "n4R4Gh06llw3"
   },
   "source": [
    "#### Python interview questions & answers for \n",
    "- [lecture 1](https://www.youtube.com/watch?v=1z5-O7-5AXk&t=40s)\n",
    "- [lecture 2](https://www.youtube.com/watch?v=JCkIrdrZEE8)\n",
    "\n",
    "- [lecture 3](https://www.youtube.com/watch?v=6HAu0Y9BjA4)"
   ]
  },
  {
   "cell_type": "markdown",
   "metadata": {
    "id": "wJhGocLzlmsw"
   },
   "source": [
    "| Question No. | Question |\n",
    "| :--: | :-- |\n",
    "| 1 | What is Python? What are the benefits of using Python? |\n",
    "| 2 | What is a dynamically typed language? |\n",
    "| 3 | What is an Interpreted language? |\n",
    "| 4 | What is PEP 8 and why is it important? |\n",
    "| 5 | What are the common built-in data types in Python? |\n",
    "| 6 | Explain the ternary operator in Python. |\n",
    "| 7 | What Does the ‘is’ Operator Do? |\n",
    "| 8 | Disadvantages of Python. |\n",
    "| 9 | How strings are stored in Python? |\n",
    "| 10 | What is Zen of Python? |\n",
    "| 11 | Identity operator (is) vs ==? |\n",
    "| 12 | What does _ variables represent in Python? |\n",
    "| 13 | Modules vs packages vs Library |\n",
    "| 14 | Why 0.3 – 0.2 is not equal to 0.1 in Python? |\n",
    "| 15 | Python Docstrings |"
   ]
  },
  {
   "cell_type": "markdown",
   "metadata": {
    "id": "MlHvHFZEGCmC"
   },
   "source": [
    "### **`1. What is Python? What are the benefits of using Python?`**\n",
    "\n",
    "Python is a high-level, interpreted, general-purpose programming language. Being a general-purpose language, it can be used to build almost any type of application with the right tools/libraries. Additionally, python supports objects, modules, threads, exception-handling, and automatic memory management which help in modelling real-world problems and building applications to solve these problems.\n",
    "\n",
    "**Benefits of using Python:**\n",
    "- Python is a general-purpose programming language that has a simple, easy-to-learn syntax that emphasizes readability and therefore reduces the cost of program maintenance. Moreover, the language is capable of scripting, is completely open-source, and supports third-party packages encouraging modularity and code reuse.\n",
    "- Its high-level data structures, combined with dynamic typing and dynamic binding, attract a huge community of developers for Rapid Application Development and deployment."
   ]
  },
  {
   "cell_type": "markdown",
   "metadata": {
    "id": "-oUOYL6qHNir"
   },
   "source": [
    "### **`2. What is a dynamically typed language?`**\n",
    "\n",
    "Before we understand a dynamically typed language, we should learn about what typing is. **Typing** refers to type-checking in programming languages. In a **strongly-typed** language, such as Python, **\"1\" + 2** will result in a type error since these languages don't allow for \"type-coercion\" (implicit conversion of data types). On the other hand, a **weakly-typed** language, such as Javascript, will simply output **\"12\"** as result.\n",
    "\n",
    "Type-checking can be done at two stages:\n",
    "- **Static -** Data Types are checked before execution.\n",
    "- **Dynamic -** Data Types are checked during execution.\n",
    "Python is an interpreted language, executes each statement line by line and thus type-checking is done on the fly, during execution. Hence, Python is a Dynamically Typed Language.\n",
    "\n",
    "Read more - https://www.techtarget.com/whatis/definition/strongly-typed#:~:text=In%20computer%20programming%2C%20a%20programming,types%20of%20objects%20and%20variables."
   ]
  },
  {
   "cell_type": "markdown",
   "metadata": {
    "id": "MMBFchnoHzgJ"
   },
   "source": [
    "### **`3. What is an Interpreted language?`**\n",
    "\n",
    "An Interpreted language executes its statements line by line. Languages such as Python, Javascript, R, PHP, and Ruby are prime examples of Interpreted languages. Programs written in an interpreted language runs directly from the source code, with no intermediary compilation step.\n",
    "\n",
    "article link : https://www.baeldung.com/cs/compiled-vs-interpreted-languages"
   ]
  },
  {
   "cell_type": "markdown",
   "metadata": {
    "id": "cRt8-N7SIIF6"
   },
   "source": [
    "### **`4. What is PEP 8 and why is it important?`**\n",
    "\n",
    "PEP stands for **Python Enhancement Proposal**. A PEP is an official design document providing information to the Python community, or describing a new feature for Python or its processes. **PEP 8** is especially important since it documents the style guidelines for Python Code. Apparently contributing to the Python open-source community requires you to follow these style guidelines sincerely and strictly.\n",
    "\n",
    "Read more - https://realpython.com/python-pep8/#:~:text=PEP%208%2C%20sometimes%20spelled%20PEP8,and%20consistency%20of%20Python%20code."
   ]
  },
  {
   "cell_type": "markdown",
   "metadata": {
    "id": "5jSt7AZ2JZ2R"
   },
   "source": [
    "### **`5. What are the common built-in data types in Python?`**\n",
    "\n",
    "There are several built-in data types in Python. Although, Python doesn't require data types to be defined explicitly during variable declarations type errors are likely to occur if the knowledge of data types and their compatibility with each other are neglected. Python provides `type()` and `isinstance()` functions to check the type of these variables. These data types can be grouped into the following categories-\n",
    "\n",
    "1. **None Type:** **None** keywork represents the null values in Python. Boolean equality operation can be performed using these NoneType objects.\n",
    "\n",
    "2. **Numeric Type:** There are three distinct numeric types - `integers`, `floating-point numbers` and `complex numbers`. Additionally, `booleans` are a sub-type of integers.\n",
    "\n",
    "3. **Sequence Types:** According to Python Docs, there are three basic Sequence Types - `lists`, `tuples`, and `range` objects. Sequence types have the `in` and `not in` operators defined for their traversing their elements. These operators share the same priority as the comparison operations.\n",
    "\n",
    "4. **Mapping Types:** A mapping object can map hashable values to random objects in Python. Mappings objects are mutable and there is currently only one standard mapping type, the `dictionary`.\n",
    "\n",
    "5. **Set Types:** Currently, Python has two built-in set types - `set` and `frozenset`. `set` type is mutable and supports methods like *add()* and *remove()*. `frozenset` type is immutable and can't be modified after creation.\n",
    "\n",
    "6. **Callable Types:** Callable types are the types to which function call can be applied. They can be **user-defined functions, instance methods, generator functions**, and some other **built-in functions, methods** and **classes**.\n",
    "Refer to the documentation at [docs.python.org](https://docs.python.org/3/reference/datamodel.html) for a detailed view of the callable types.\n"
   ]
  },
  {
   "cell_type": "markdown",
   "metadata": {
    "id": "Xgs0SOgfFbzV"
   },
   "source": [
    "### `Q.6. Operator Precedence.`\n",
    "https://www.programiz.com/python-programming/precedence-associativity"
   ]
  },
  {
   "cell_type": "markdown",
   "metadata": {
    "id": "FLF3y-ObWYuJ"
   },
   "source": [
    "### `Q.7. Explain the ternary operator in Python.`"
   ]
  },
  {
   "cell_type": "markdown",
   "metadata": {
    "id": "YfHQNW2uWfBm"
   },
   "source": [
    "Unlike C++, we don’t have ?: in Python, but we have this:\n",
    "\n",
    "\n",
    "> [on true] if [expression] else [on false]\n",
    "\n",
    "\n",
    "\n",
    "If the expression is True, the statement under [on true] is executed. Else, that under [on false] is executed.\n",
    "\n",
    "Below is how you would use it:\n",
    "\n",
    "\n",
    "```\n",
    "a,b=2,3\n",
    "min=a if a<b else b\n",
    "print(min)\n",
    "```\n",
    "\n",
    "Above will print 2.\n"
   ]
  },
  {
   "cell_type": "code",
   "execution_count": null,
   "metadata": {
    "colab": {
     "base_uri": "https://localhost:8080/"
    },
    "id": "-QcYnMBkbWRl",
    "outputId": "2db416d3-5d81-470f-867a-113c5a9dc11c"
   },
   "outputs": [
    {
     "name": "stdout",
     "output_type": "stream",
     "text": [
      "Bye\n"
     ]
    }
   ],
   "source": [
    "# Run this cell to see result.\n",
    "a,b=14,12\n",
    "print(\"Hi\") if a<b else print(\"Bye\")"
   ]
  },
  {
   "cell_type": "markdown",
   "metadata": {
    "id": "VHPKfQn9E90N"
   },
   "source": [
    "### `Q 8. What Does the ‘is’ Operator Do?`\n",
    "\n",
    "Identity operators<br>\n",
    "In Python, is and is not are used to check if two values are located on the same part of the memory. Two variables that are equal does not imply that they are identical."
   ]
  },
  {
   "cell_type": "code",
   "execution_count": null,
   "metadata": {
    "colab": {
     "base_uri": "https://localhost:8080/"
    },
    "id": "MwH0gfGgGbY9",
    "outputId": "4e985b9c-2b08-4af9-f762-5b25768ce139"
   },
   "outputs": [
    {
     "data": {
      "text/plain": [
       "11126688"
      ]
     },
     "execution_count": 8,
     "metadata": {},
     "output_type": "execute_result"
    }
   ],
   "source": [
    "a = 1\n",
    "id(a)"
   ]
  },
  {
   "cell_type": "code",
   "execution_count": null,
   "metadata": {
    "colab": {
     "base_uri": "https://localhost:8080/"
    },
    "id": "_flANpMkr4Pt",
    "outputId": "c6648c45-259e-4ce4-c2cc-89932a68c020"
   },
   "outputs": [
    {
     "data": {
      "text/plain": [
       "11126720"
      ]
     },
     "execution_count": 9,
     "metadata": {},
     "output_type": "execute_result"
    }
   ],
   "source": [
    "a = 2\n",
    "id(a)"
   ]
  },
  {
   "cell_type": "code",
   "execution_count": null,
   "metadata": {
    "colab": {
     "base_uri": "https://localhost:8080/"
    },
    "id": "eGDSk3pcr4hC",
    "outputId": "1efac8bd-7c13-4d27-e9cf-9d1ef0f23e73"
   },
   "outputs": [
    {
     "data": {
      "text/plain": [
       "True"
      ]
     },
     "execution_count": 10,
     "metadata": {},
     "output_type": "execute_result"
    }
   ],
   "source": [
    "a = 1\n",
    "b = 1\n",
    "\n",
    "a is b"
   ]
  },
  {
   "cell_type": "code",
   "execution_count": null,
   "metadata": {
    "colab": {
     "base_uri": "https://localhost:8080/"
    },
    "id": "GcRbjC17sI6P",
    "outputId": "aa736f08-3502-4558-efa9-2cbcfcff60ab"
   },
   "outputs": [
    {
     "data": {
      "text/plain": [
       "11126688"
      ]
     },
     "execution_count": 11,
     "metadata": {},
     "output_type": "execute_result"
    }
   ],
   "source": [
    "id(a)"
   ]
  },
  {
   "cell_type": "code",
   "execution_count": null,
   "metadata": {
    "colab": {
     "base_uri": "https://localhost:8080/"
    },
    "id": "d5v86wmWsLB9",
    "outputId": "06803c5c-9cca-4657-ecd7-ebea6b7afd1c"
   },
   "outputs": [
    {
     "data": {
      "text/plain": [
       "11126688"
      ]
     },
     "execution_count": 12,
     "metadata": {},
     "output_type": "execute_result"
    }
   ],
   "source": [
    "id(b)"
   ]
  },
  {
   "cell_type": "code",
   "execution_count": null,
   "metadata": {
    "colab": {
     "base_uri": "https://localhost:8080/"
    },
    "id": "b3cUClpLsR7j",
    "outputId": "25d61e5f-cef4-4e29-e5eb-f3037e7e129e"
   },
   "outputs": [
    {
     "data": {
      "text/plain": [
       "False"
      ]
     },
     "execution_count": 14,
     "metadata": {},
     "output_type": "execute_result"
    }
   ],
   "source": [
    "a = 257\n",
    "b = 257\n",
    "\n",
    "a is b"
   ]
  },
  {
   "cell_type": "code",
   "execution_count": null,
   "metadata": {
    "colab": {
     "base_uri": "https://localhost:8080/"
    },
    "id": "2fRpoVjbsZU9",
    "outputId": "bf1c7987-c1bd-4c88-a7ff-17242788ce80"
   },
   "outputs": [
    {
     "data": {
      "text/plain": [
       "140582907232784"
      ]
     },
     "execution_count": 15,
     "metadata": {},
     "output_type": "execute_result"
    }
   ],
   "source": [
    "id(a)"
   ]
  },
  {
   "cell_type": "code",
   "execution_count": null,
   "metadata": {
    "colab": {
     "base_uri": "https://localhost:8080/"
    },
    "id": "S5rweMLCsdX1",
    "outputId": "18bc9baf-e446-470d-9165-9bc21f2659f0"
   },
   "outputs": [
    {
     "data": {
      "text/plain": [
       "True"
      ]
     },
     "execution_count": 17,
     "metadata": {},
     "output_type": "execute_result"
    }
   ],
   "source": [
    "a == b"
   ]
  },
  {
   "cell_type": "code",
   "execution_count": null,
   "metadata": {
    "colab": {
     "base_uri": "https://localhost:8080/"
    },
    "id": "nZJY0Huzsa_m",
    "outputId": "d144904e-6c5f-4d35-c906-ce96cadf8365"
   },
   "outputs": [
    {
     "data": {
      "text/plain": [
       "140582907232464"
      ]
     },
     "execution_count": 16,
     "metadata": {},
     "output_type": "execute_result"
    }
   ],
   "source": [
    "id(b)"
   ]
  },
  {
   "cell_type": "code",
   "execution_count": null,
   "metadata": {
    "colab": {
     "base_uri": "https://localhost:8080/"
    },
    "id": "6h0QBVQdspH9",
    "outputId": "7d8ef340-bbfd-41b6-9919-ad8a34e2ffd1"
   },
   "outputs": [
    {
     "data": {
      "text/plain": [
       "False"
      ]
     },
     "execution_count": 19,
     "metadata": {},
     "output_type": "execute_result"
    }
   ],
   "source": [
    "# -5 to 256\n",
    "\n",
    "a = -14\n",
    "b = -14\n",
    "\n",
    "a is b"
   ]
  },
  {
   "cell_type": "markdown",
   "metadata": {
    "id": "ktL-entvLsxP"
   },
   "source": [
    "### `Q 9: Disadvantages of Python.`\n",
    "\n",
    "https://www.geeksforgeeks.org/disadvantages-of-python"
   ]
  },
  {
   "cell_type": "markdown",
   "metadata": {
    "id": "WwdgXTwKN7Y4"
   },
   "source": [
    "### `Q10 How strings are stored in Python?`\n",
    "- https://stackoverflow.com/questions/19224059/how-strings-are-stored-in-python-memory-model\n",
    "- https://www.quora.com/How-are-strings-stored-internally-in-Python-3\n",
    "- https://betterprogramming.pub/an-interviewers-favorite-question-how-are-python-strings-stored-in-internal-memory-ac0eaef9d9c2"
   ]
  },
  {
   "cell_type": "markdown",
   "metadata": {
    "id": "WhSCC0OoPFO4"
   },
   "source": [
    "### `Q10 What is Zen of Python?`\n",
    "\n",
    "The Zen of Python is a collection of 19 \"guiding principles\" for writing computer programs that influence the design of the Python programming language.\n",
    "https://en.wikipedia.org/wiki/Zen_of_Python\n",
    "\n",
    "* Beautiful is better than ugly.\n",
    "* Explicit is better than implicit.\n",
    "* Simple is better than complex.\n",
    "* Complex is better than complicated.\n",
    "* Flat is better than nested.\n",
    "* Sparse is better than dense.\n",
    "* Readability counts.\n",
    "* Special cases aren't special enough to break the rules.\n",
    "* Although practicality beats purity.\n",
    "* Errors should never pass silently.\n",
    "* Unless explicitly silenced.\n",
    "* In the face of ambiguity, refuse the temptation to guess.\n",
    "* There should be one-- and preferably only one --obvious way to do it.\n",
    "* Although that way may not be obvious at first unless you're Dutch.\n",
    "* Now is better than never.\n",
    "* Although never is often better than *right* now.\n",
    "* If the implementation is hard to explain, it's a bad idea.\n",
    "* If the implementation is easy to explain, it may be a good idea.\n",
    "* Namespaces are one honking great idea -- let's do more of those!\n",
    "\n",
    "Explained in detail here - https://inventwithpython.com/blog/2018/08/17/the-zen-of-python-explained/"
   ]
  },
  {
   "cell_type": "markdown",
   "metadata": {
    "id": "qkdH5pGVPjRX"
   },
   "source": [
    "### `Q11 Identity operator (is) vs ==?`\n",
    "\n",
    "->> Here’s the main difference between python “==” vs “is:”\n",
    "\n",
    "Identity operators: The “is” and “is not” keywords are called identity operators that compare objects based on their identity.\n",
    "Equality operator: The “==” and “!=” are called equality operators that compare the objects based on their values.\n"
   ]
  },
  {
   "cell_type": "code",
   "execution_count": null,
   "metadata": {
    "colab": {
     "base_uri": "https://localhost:8080/"
    },
    "id": "zOWXpSyiRbhr",
    "outputId": "78ea3b61-df3a-4bfc-c0cd-cf98dbabde0e"
   },
   "outputs": [
    {
     "name": "stdout",
     "output_type": "stream",
     "text": [
      "id of p 140582906466864\n",
      "Id of s 140582906466864\n",
      "id of q 140582906466944\n",
      "Comapare- s == q True\n",
      "Identity- s is q False\n",
      "Identity- s is p True\n",
      "Comapare- s == p True\n"
     ]
    }
   ],
   "source": [
    "# Case 4:\n",
    "# Here variable s is assigned a list,\n",
    "# and q assigned a list values same as s but on slicing of list a new list is generated\n",
    "s=[1,2,3]\n",
    "p=s\n",
    "# cloning\n",
    "q=s[:]\n",
    "print(\"id of p\", id(p))\n",
    "print(\"Id of s\", id(s))\n",
    "print(\"id of q\", id(q))\n",
    "print(\"Comapare- s == q\", s==q)\n",
    "print(\"Identity- s is q\", s is q)\n",
    "print(\"Identity- s is p\", s is p)\n",
    "print(\"Comapare- s == p\", s==p)"
   ]
  },
  {
   "cell_type": "code",
   "execution_count": null,
   "metadata": {
    "colab": {
     "base_uri": "https://localhost:8080/"
    },
    "id": "b-NiW7n1RxED",
    "outputId": "84f323ce-3c0f-48a1-9e25-bfabe8cefe24"
   },
   "outputs": [
    {
     "name": "stdout",
     "output_type": "stream",
     "text": [
      "[1, 2, 3, 4]\n",
      "[1, 2, 3]\n"
     ]
    }
   ],
   "source": [
    "a = [1,2,3]\n",
    "b = a[:]\n",
    "\n",
    "a.append(4)\n",
    "print(a)\n",
    "print(b)"
   ]
  },
  {
   "cell_type": "markdown",
   "metadata": {
    "id": "Hnskk3uiUVqX"
   },
   "source": [
    "### `Q12 What does _ variables represent in Python?`\n",
    "\n",
    "[GssksForGeeks Article](https://www.geeksforgeeks.org/underscore-_-python)\n",
    "\n",
    "Underscore _ is considered as \"I don't Care\" or \"Throwaway\" variable in Python\n",
    "\n",
    "\n",
    "* The underscore _ is used for ignoring the specific values. If you don’t need the specific values or the values are not used, just assign the values to underscore.\n",
    "\n",
    "** Ignore a value when unpacking\n",
    "\n",
    "** Ignore the index"
   ]
  },
  {
   "cell_type": "code",
   "execution_count": null,
   "metadata": {
    "colab": {
     "base_uri": "https://localhost:8080/"
    },
    "id": "ll4qubXDUS-8",
    "outputId": "bcf5b375-e439-47eb-fa7c-8fb19ca9abc8"
   },
   "outputs": [
    {
     "name": "stdout",
     "output_type": "stream",
     "text": [
      "x- 1\n",
      "y- 3\n",
      "_ 2\n"
     ]
    }
   ],
   "source": [
    "# Ignore a value when unpacking\n",
    "x, _, y = (1, 2, 3)\n",
    "\n",
    "print(\"x-\",x)\n",
    "print(\"y-\", y)"
   ]
  },
  {
   "cell_type": "code",
   "execution_count": null,
   "metadata": {
    "colab": {
     "base_uri": "https://localhost:8080/"
    },
    "id": "CwanSyweWcdF",
    "outputId": "68e5a709-3dc8-45d5-e9b6-5e55d3c7edc9"
   },
   "outputs": [
    {
     "name": "stdout",
     "output_type": "stream",
     "text": [
      "hello\n",
      "hello\n",
      "hello\n",
      "hello\n",
      "hello\n"
     ]
    }
   ],
   "source": [
    "#Ignore the index\n",
    "\n",
    "# Say we want to print hello 5 times, we don't need index value\n",
    "\n",
    "for _ in range(5):\n",
    "    print('hello')"
   ]
  },
  {
   "cell_type": "code",
   "execution_count": null,
   "metadata": {
    "id": "PdPrRmzqVrZS"
   },
   "outputs": [],
   "source": []
  },
  {
   "cell_type": "markdown",
   "metadata": {
    "id": "0ZY-evWhW43h"
   },
   "source": [
    "### `Q13 Modules vs packages vs Library`\n",
    "\n"
   ]
  },
  {
   "cell_type": "markdown",
   "metadata": {
    "id": "2qAVNrupXuC8"
   },
   "source": [
    "Python uses some terms that you may not be familiar with if you’re coming from a different language. Among these are modules, packages, and libraries.\n",
    "\n",
    "* A **module** is a Python file that’s intended to be imported into scripts or other modules. It often defines members like classes, functions, and variables intended to be used in other files that import it.\n",
    "\n",
    "* A **package** is a collection of related modules that work together to provide certain functionality. These modules are contained within a folder and can be imported just like any other modules. This folder will often contain a special `__init__` file that tells Python it’s a package, potentially containing more modules nested within subfolders\n",
    "\n",
    "* A **library** is an umbrella term that loosely means “a bundle of code.” These can have tens or even hundreds of individual modules that can provide a wide range of functionality. Matplotlib is a plotting library. The Python Standard Library contains hundreds of modules for performing common tasks, like sending emails or reading JSON data. What’s special about the Standard Library is that it comes bundled with your installation of Python, so you can use its modules without having to download them from anywhere.\n",
    "\n",
    "These are not strict definitions. Many people feel these terms are somewhat open to interpretation. Script and module are terms that you may hear used interchangeably.\n",
    "\n",
    "https://stackoverflow.com/questions/19198166/whats-the-difference-between-a-module-and-a-library-in-python\n",
    "\n",
    "https://www.geeksforgeeks.org/what-is-the-difference-between-pythons-module-package-and-library/"
   ]
  },
  {
   "cell_type": "markdown",
   "metadata": {
    "id": "eEttOa8wYKqY"
   },
   "source": [
    "### `Q14 Why 0.3 – 0.2 is not equal to 0.1 in Python?`"
   ]
  },
  {
   "cell_type": "markdown",
   "metadata": {
    "id": "ofQRCaa9YOGS"
   },
   "source": [
    "The reason behind it is called “*precision*”, and it’s due to the fact that computers do not compute in Decimal, but in Binary. Computers do not use a base 10 system, they use a base 2 system (also called Binary code).\n",
    "\n",
    "https://www.geeksforgeeks.org/why-0-3-0-2-is-not-equal-to-0-1-in-python/"
   ]
  },
  {
   "cell_type": "code",
   "execution_count": null,
   "metadata": {
    "colab": {
     "base_uri": "https://localhost:8080/"
    },
    "id": "Uy7y3UFBYVbp",
    "outputId": "11bbbb97-adc2-4ce6-fb57-ffc413a0d657"
   },
   "outputs": [
    {
     "name": "stdout",
     "output_type": "stream",
     "text": [
      "0.09999999999999998\n",
      "False\n"
     ]
    }
   ],
   "source": [
    "# code\n",
    "print(0.3 - 0.2)\n",
    "print(0.3 - 0.2 == 0.1)"
   ]
  },
  {
   "cell_type": "markdown",
   "metadata": {
    "id": "Pitcgsr2krag"
   },
   "source": [
    "### `Q 15 - Python Docstrings`\n",
    "\n",
    "https://www.geeksforgeeks.org/python-docstrings"
   ]
  },
  {
   "cell_type": "code",
   "execution_count": null,
   "metadata": {
    "colab": {
     "base_uri": "https://localhost:8080/"
    },
    "id": "QNRq1fzljGCk",
    "outputId": "830309df-4c6c-4c39-dede-d5c24d7c0925"
   },
   "outputs": [
    {
     "name": "stdout",
     "output_type": "stream",
     "text": [
      "hello\n"
     ]
    }
   ],
   "source": [
    "print('hello')"
   ]
  },
  {
   "cell_type": "code",
   "execution_count": null,
   "metadata": {
    "colab": {
     "base_uri": "https://localhost:8080/"
    },
    "id": "kFTIYK0Oy-GB",
    "outputId": "cf1691a6-944b-49a1-e0ea-9303289d7d19"
   },
   "outputs": [
    {
     "data": {
      "text/plain": [
       "int"
      ]
     },
     "execution_count": 27,
     "metadata": {},
     "output_type": "execute_result"
    }
   ],
   "source": [
    "type(3)"
   ]
  },
  {
   "cell_type": "code",
   "execution_count": null,
   "metadata": {
    "colab": {
     "base_uri": "https://localhost:8080/"
    },
    "id": "OHqgclq_y_Cm",
    "outputId": "7999430d-87b0-4f78-cbac-a081b924b572"
   },
   "outputs": [
    {
     "name": "stdout",
     "output_type": "stream",
     "text": [
      "Forward raw_input to frontends\n",
      "\n",
      "        Raises\n",
      "        ------\n",
      "        StdinNotImplentedError if active frontend doesn't support stdin.\n",
      "        \n"
     ]
    }
   ],
   "source": [
    "print(input.__doc__)"
   ]
  },
  {
   "cell_type": "code",
   "execution_count": null,
   "metadata": {
    "colab": {
     "base_uri": "https://localhost:8080/"
    },
    "id": "zuJwv2_9zmKv",
    "outputId": "229d39c2-9f0b-4a6a-cf74-2f83da9dc478"
   },
   "outputs": [
    {
     "name": "stdout",
     "output_type": "stream",
     "text": [
      "type(object_or_name, bases, dict)\n",
      "type(object) -> the object's type\n",
      "type(name, bases, dict) -> a new type\n"
     ]
    }
   ],
   "source": [
    "print(type.__doc__)"
   ]
  },
  {
   "cell_type": "code",
   "execution_count": null,
   "metadata": {
    "colab": {
     "base_uri": "https://localhost:8080/"
    },
    "id": "pCwIKUPszMpO",
    "outputId": "12b70bcc-f4bc-4eb2-c2ef-b495204417e5"
   },
   "outputs": [
    {
     "name": "stdout",
     "output_type": "stream",
     "text": [
      "140582962705648\n",
      "140582906473392\n"
     ]
    }
   ],
   "source": [
    "s = 'have'\n",
    "print(id(s))\n",
    "s = s.capitalize()\n",
    "print(id(s))"
   ]
  },
  {
   "cell_type": "code",
   "execution_count": null,
   "metadata": {
    "colab": {
     "base_uri": "https://localhost:8080/"
    },
    "id": "L0yeSEvH09ua",
    "outputId": "086de5c8-4004-4bde-84d3-01c0090f7230"
   },
   "outputs": [
    {
     "name": "stdout",
     "output_type": "stream",
     "text": [
      "hello\n",
      "world\n"
     ]
    }
   ],
   "source": [
    "a,b = print('hello'),print('world')"
   ]
  },
  {
   "cell_type": "code",
   "execution_count": null,
   "metadata": {
    "colab": {
     "base_uri": "https://localhost:8080/"
    },
    "id": "YSMwfUNu1P2R",
    "outputId": "652ebd94-775c-45bc-8f1e-28e69a50fbd4"
   },
   "outputs": [
    {
     "name": "stdout",
     "output_type": "stream",
     "text": [
      "3 3 3 3 "
     ]
    }
   ],
   "source": [
    "for i in range(1, 5):\n",
    "    i = 3\n",
    "    print(i, end=' ')\n"
   ]
  },
  {
   "cell_type": "code",
   "execution_count": null,
   "metadata": {
    "id": "XUGouA_I1bHI"
   },
   "outputs": [],
   "source": []
  }
 ],
 "metadata": {
  "colab": {
   "provenance": []
  },
  "kernelspec": {
   "display_name": "Python 3 (ipykernel)",
   "language": "python",
   "name": "python3"
  },
  "language_info": {
   "codemirror_mode": {
    "name": "ipython",
    "version": 3
   },
   "file_extension": ".py",
   "mimetype": "text/x-python",
   "name": "python",
   "nbconvert_exporter": "python",
   "pygments_lexer": "ipython3",
   "version": "3.10.7"
  }
 },
 "nbformat": 4,
 "nbformat_minor": 1
}
