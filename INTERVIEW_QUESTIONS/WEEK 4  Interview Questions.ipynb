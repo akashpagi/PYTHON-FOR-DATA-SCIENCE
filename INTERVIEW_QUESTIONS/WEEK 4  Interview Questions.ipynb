{
 "cells": [
  {
   "cell_type": "code",
   "execution_count": null,
   "metadata": {
    "id": "HCn2UsMwMgrJ"
   },
   "outputs": [],
   "source": [
    "# 1. What do you mean by __name__ == '__main__'"
   ]
  },
  {
   "cell_type": "markdown",
   "metadata": {
    "id": "XymVT19OMyRK"
   },
   "source": [
    "### What is a module?\n",
    "\n",
    "Any file with an extention of .py is called a module in python.\n",
    "\n",
    "Whenever we execute a program it's module name is `__main__` and this name is stored in `__name__` variable"
   ]
  },
  {
   "cell_type": "code",
   "execution_count": null,
   "metadata": {
    "colab": {
     "base_uri": "https://localhost:8080/"
    },
    "id": "Arh7jMSuNLAd",
    "outputId": "94344bd4-58db-4879-a4c3-0736e3fac287"
   },
   "outputs": [
    {
     "name": "stdout",
     "output_type": "stream",
     "text": [
      "hello\n",
      "__main__\n"
     ]
    }
   ],
   "source": [
    "def display():\n",
    "  print('hello')\n",
    "\n",
    "display()\n",
    "print(__name__)"
   ]
  },
  {
   "cell_type": "markdown",
   "metadata": {
    "id": "s7XQDHr2OVb1"
   },
   "source": [
    "### Importing a module\n",
    "\n",
    "- But what is the need to import a module?\n",
    "- How to import a module"
   ]
  },
  {
   "cell_type": "code",
   "execution_count": null,
   "metadata": {
    "colab": {
     "base_uri": "https://localhost:8080/"
    },
    "id": "3ZIP03upNbvX",
    "outputId": "7bdce38f-2ce7-4ef5-c5b3-0a53207c4146"
   },
   "outputs": [
    {
     "name": "stdout",
     "output_type": "stream",
     "text": [
      "hello nitish\n"
     ]
    }
   ],
   "source": [
    "# import a module\n",
    "import test\n",
    "test.hello('nitish')"
   ]
  },
  {
   "cell_type": "code",
   "execution_count": null,
   "metadata": {
    "colab": {
     "base_uri": "https://localhost:8080/"
    },
    "id": "t1AlPWXzOz2U",
    "outputId": "1d5113f8-b746-49b9-b171-d43c76630ae1"
   },
   "outputs": [
    {
     "name": "stdout",
     "output_type": "stream",
     "text": [
      "hello nitish\n",
      "4\n"
     ]
    }
   ],
   "source": [
    "# import multiple module -> user defined + builtin\n",
    "import math\n",
    "import test\n",
    "\n",
    "test.hello('nitish')\n",
    "print(math.floor(4.3))"
   ]
  },
  {
   "cell_type": "code",
   "execution_count": null,
   "metadata": {
    "id": "jjIQisWRR32M"
   },
   "outputs": [],
   "source": [
    "# show builtin modules"
   ]
  },
  {
   "cell_type": "markdown",
   "metadata": {
    "id": "zZqAvC2OR-ls"
   },
   "source": [
    "### Variations of import statement"
   ]
  },
  {
   "cell_type": "code",
   "execution_count": null,
   "metadata": {
    "id": "w39pRArFR51i"
   },
   "outputs": [],
   "source": [
    "# Normal\n",
    "import math\n",
    "import random"
   ]
  },
  {
   "cell_type": "code",
   "execution_count": null,
   "metadata": {
    "id": "B8nroR_dSE_K"
   },
   "outputs": [],
   "source": [
    "# clubbing together\n",
    "import math,random,test"
   ]
  },
  {
   "cell_type": "code",
   "execution_count": null,
   "metadata": {
    "colab": {
     "base_uri": "https://localhost:8080/",
     "height": 223
    },
    "id": "lsTNKjyMSLAB",
    "outputId": "26a76ae5-789a-4144-9bc3-842907300080"
   },
   "outputs": [
    {
     "name": "stdout",
     "output_type": "stream",
     "text": [
      "120\n"
     ]
    },
    {
     "ename": "NameError",
     "evalue": "ignored",
     "output_type": "error",
     "traceback": [
      "\u001b[0;31m---------------------------------------------------------------------------\u001b[0m",
      "\u001b[0;31mNameError\u001b[0m                                 Traceback (most recent call last)",
      "\u001b[0;32m<ipython-input-6-cbe7c40736a8>\u001b[0m in \u001b[0;36m<module>\u001b[0;34m\u001b[0m\n\u001b[1;32m      4\u001b[0m \u001b[0;34m\u001b[0m\u001b[0m\n\u001b[1;32m      5\u001b[0m \u001b[0mprint\u001b[0m\u001b[0;34m(\u001b[0m\u001b[0mfactorial\u001b[0m\u001b[0;34m(\u001b[0m\u001b[0;36m5\u001b[0m\u001b[0;34m)\u001b[0m\u001b[0;34m)\u001b[0m\u001b[0;34m\u001b[0m\u001b[0;34m\u001b[0m\u001b[0m\n\u001b[0;32m----> 6\u001b[0;31m \u001b[0mceil\u001b[0m\u001b[0;34m(\u001b[0m\u001b[0;36m4.8\u001b[0m\u001b[0;34m)\u001b[0m\u001b[0;34m\u001b[0m\u001b[0;34m\u001b[0m\u001b[0m\n\u001b[0m",
      "\u001b[0;31mNameError\u001b[0m: name 'ceil' is not defined"
     ]
    }
   ],
   "source": [
    "# importing specific names from module\n",
    "from math import factorial,floor\n",
    "from test import hello\n",
    "\n",
    "print(factorial(5))\n",
    "ceil(4.8)"
   ]
  },
  {
   "cell_type": "code",
   "execution_count": null,
   "metadata": {
    "colab": {
     "base_uri": "https://localhost:8080/"
    },
    "id": "6NVJQwHQSX4P",
    "outputId": "ac136cf9-4e0b-4039-fc8c-ad4563fd045b"
   },
   "outputs": [
    {
     "data": {
      "text/plain": [
       "120"
      ]
     },
     "execution_count": 7,
     "metadata": {},
     "output_type": "execute_result"
    }
   ],
   "source": [
    "# renaming modules\n",
    "import math as m\n",
    "import numpy as np\n",
    "import pandas as pd\n",
    "import matplotlib.pyplot as plt\n",
    "\n",
    "\n",
    "m.factorial(5)"
   ]
  },
  {
   "cell_type": "code",
   "execution_count": null,
   "metadata": {
    "colab": {
     "base_uri": "https://localhost:8080/"
    },
    "id": "BFPwon_SSbz_",
    "outputId": "8f5f9b9a-fdaa-428e-a84a-fbc0782b2a30"
   },
   "outputs": [
    {
     "data": {
      "text/plain": [
       "120"
      ]
     },
     "execution_count": 8,
     "metadata": {},
     "output_type": "execute_result"
    }
   ],
   "source": [
    "from math import factorial as f\n",
    "\n",
    "f(5)\n"
   ]
  },
  {
   "cell_type": "markdown",
   "metadata": {
    "id": "Wtoy82ePS8Yh"
   },
   "source": [
    "### Order of execution of a module"
   ]
  },
  {
   "cell_type": "code",
   "execution_count": 2,
   "metadata": {
    "colab": {
     "base_uri": "https://localhost:8080/"
    },
    "id": "YEG0zgRCStde",
    "outputId": "d559a13a-2f79-403d-ea5e-17709a51dc0f"
   },
   "outputs": [
    {
     "name": "stdout",
     "output_type": "stream",
     "text": [
      "D:\\PYTHON\\PYTHON-FOR-DATA-SCIENCE\\INTERVIEW_QUESTIONS\n",
      "C:\\Python310\\python310.zip\n",
      "C:\\Python310\\DLLs\n",
      "C:\\Python310\\lib\n",
      "C:\\Python310\n",
      "\n",
      "C:\\Python310\\lib\\site-packages\n",
      "C:\\Python310\\lib\\site-packages\\emoji-2.1.0-py3.10.egg\n",
      "C:\\Python310\\lib\\site-packages\\win32\n",
      "C:\\Python310\\lib\\site-packages\\win32\\lib\n",
      "C:\\Python310\\lib\\site-packages\\Pythonwin\n"
     ]
    }
   ],
   "source": [
    "import sys\n",
    "for p in sys.path:\n",
    "    print(p)"
   ]
  },
  {
   "cell_type": "markdown",
   "metadata": {
    "id": "QBj3yM3ySWGE"
   },
   "source": [
    "### if `__name__` == `__main__`"
   ]
  },
  {
   "cell_type": "code",
   "execution_count": null,
   "metadata": {
    "id": "-68vYDYrTiyJ"
   },
   "outputs": [],
   "source": []
  },
  {
   "cell_type": "markdown",
   "metadata": {
    "id": "S81yyQIpVFZI"
   },
   "source": [
    "### What are packages in Python\n",
    "\n",
    "A package in python is a directory containing similar sub packages and modules.\n",
    "\n",
    "- A particular directory is treated as package if it has `__init__.py` file in it.\n",
    "- The `__init__.py` file may be empty or contain some initialization code related to the package"
   ]
  },
  {
   "cell_type": "code",
   "execution_count": null,
   "metadata": {
    "id": "0TPGU8kHVgV-"
   },
   "outputs": [],
   "source": []
  },
  {
   "cell_type": "markdown",
   "metadata": {
    "id": "8zaWkj4wV2mK"
   },
   "source": [
    "### What are 3rd party packages?\n",
    "\n",
    "- The python community creates packages and make it available for other programmers\n",
    "- PyPI -> Python Package Index\n",
    "- You can upload your own package\n",
    "- You can also install packages from PyPI and install using pip\n",
    "- pip is a package manager utility\n",
    "- it is automatically installed with python\n",
    "\n"
   ]
  },
  {
   "cell_type": "code",
   "execution_count": null,
   "metadata": {
    "id": "b-Cm7BNVV42v"
   },
   "outputs": [],
   "source": []
  }
 ],
 "metadata": {
  "colab": {
   "provenance": []
  },
  "kernelspec": {
   "display_name": "Python 3 (ipykernel)",
   "language": "python",
   "name": "python3"
  },
  "language_info": {
   "codemirror_mode": {
    "name": "ipython",
    "version": 3
   },
   "file_extension": ".py",
   "mimetype": "text/x-python",
   "name": "python",
   "nbconvert_exporter": "python",
   "pygments_lexer": "ipython3",
   "version": "3.10.7"
  }
 },
 "nbformat": 4,
 "nbformat_minor": 1
}
