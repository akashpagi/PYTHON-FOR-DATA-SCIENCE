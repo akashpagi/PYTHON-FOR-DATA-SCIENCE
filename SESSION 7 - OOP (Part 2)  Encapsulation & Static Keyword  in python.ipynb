{
 "cells": [
  {
   "cell_type": "markdown",
   "id": "5a7e31ed",
   "metadata": {},
   "source": [
    "#### Write OOP classes to handle the following scenarios:"
   ]
  },
  {
   "cell_type": "raw",
   "id": "de2df72c",
   "metadata": {},
   "source": [
    "Questions based on coordinate geometry :\n",
    "A user can create and view 2D coordinates\n",
    "A user can find out the distance between 2 coordinates\n",
    "A user can find find the distance of a coordinate from origin\n",
    "A user can check if a point lies on a given line\n",
    "A user can find the distance between a given 2D point and a given line"
   ]
  },
  {
   "cell_type": "code",
   "execution_count": 25,
   "id": "fbf7bfb0",
   "metadata": {},
   "outputs": [
    {
     "name": "stdout",
     "output_type": "stream",
     "text": [
      "\n"
     ]
    }
   ],
   "source": [
    "# A user can create and view 2D coordinates\n",
    "class Point:\n",
    "    def __init__(self,x,y):\n",
    "        self.x_cod = x\n",
    "        self.y_cod = y\n",
    "    \n",
    "    def __str__(self):\n",
    "        return \"({},{})\".format(self.x_cod,self.y_cod)\n",
    "    \n",
    "    #A user can find out the distance between 2 coordinates\n",
    "    def euclidean_distance(self,other):\n",
    "        return ((self.x_cod - other.x_cod)**2 + (self.y_cod - other.y_cod)**2)**0.5\n",
    "    \n",
    "    #A user can find the distance of a coordinate from origin\n",
    "    def distance_from_origin(self):\n",
    "        #return (self.x_cod**2 + self.y_cod**2)**0.5\n",
    "        return self.euclidean_distance(Point(0,0))\n",
    "\n",
    "print()\n",
    "\n",
    "#A user can check if a point lies on a given line\n",
    "class Line:\n",
    "    def __init__(self, A, B, C):\n",
    "        self.A = A\n",
    "        self.B = B\n",
    "        self.C = C\n",
    "    \n",
    "    def __str__(self):\n",
    "        return \"({})x + ({})y + ({}) = 0\".format(self.A,self.B,self.C)\n",
    "    \n",
    "    def Point_On_Line(line,point):\n",
    "        if (line.A*point.x_cod) + (line.B*point.y_cod) + (line.C) == 0:\n",
    "            return \"Lies on the line\"\n",
    "        else:\n",
    "            return 'Does not lie on the line'\n",
    "    \n",
    "    #A user can find the distance between a given 2D point and a given line\n",
    "    def Shortest_Distance(line,point):\n",
    "        if abs(line.A*point.x_cod + line.B*point.y_cod + line.C)/ (line.A**2 + line.B**2)**0.5 == 0:\n",
    "            return \"Lies on the line means output is 0\"\n",
    "        else:\n",
    "            return 'Does not lie on the line'\n",
    "    \n",
    "        \n",
    "        "
   ]
  },
  {
   "cell_type": "code",
   "execution_count": 23,
   "id": "9cf77d95",
   "metadata": {},
   "outputs": [
    {
     "name": "stdout",
     "output_type": "stream",
     "text": [
      "P1 : (0,0)\n",
      "P2 : (10,10)\n",
      "Euclidean Distance : 14.142135623730951\n",
      "Coordinate From Origin : 0.0\n"
     ]
    }
   ],
   "source": [
    "# points\n",
    "p1 = Point(0,0)\n",
    "print(\"P1 :\",p1)\n",
    "p2 =Point(10,10)\n",
    "print(\"P2 :\",p2)\n",
    "\n",
    "# calling eucliden distance method\n",
    "ed = p1.euclidean_distance(p2)\n",
    "print(\"Euclidean Distance :\", ed)\n",
    "\n",
    "# coordinate from origin\n",
    "dfo = p1.distance_from_origin()\n",
    "print(\"Coordinate From Origin :\",dfo)\n",
    "\n"
   ]
  },
  {
   "cell_type": "code",
   "execution_count": 26,
   "id": "a5eb7a2d",
   "metadata": {},
   "outputs": [
    {
     "name": "stdout",
     "output_type": "stream",
     "text": [
      "Line : (1)x + (1)y + (-2) = 0\n",
      "Point : (1,1)\n",
      "Point On Line : Lies on the line\n",
      "Shortest_Distance : Lies on the line means output is 0\n"
     ]
    }
   ],
   "source": [
    "# calling given line\n",
    "l = Line(1,1,-2)\n",
    "print(\"Line :\", l)\n",
    "p = Point(1,1) # Point class object call here\n",
    "print('Point :',p)\n",
    "\n",
    "pol = l.Point_On_Line(p)\n",
    "print('Point On Line :',pol)\n",
    "\n",
    "# distance between a given 2D point and a given line\n",
    "ds = l.Shortest_Distance(p)\n",
    "print('Shortest_Distance :',ds)"
   ]
  },
  {
   "cell_type": "markdown",
   "id": "73fd4693",
   "metadata": {},
   "source": [
    "#### Attribute creation from outside of the class :"
   ]
  },
  {
   "cell_type": "code",
   "execution_count": 11,
   "id": "be80b6c3",
   "metadata": {},
   "outputs": [],
   "source": [
    "class Person:\n",
    "    def __init__(self, name_input, country_input):\n",
    "        self.name = name_input\n",
    "        self.country = country_input\n",
    "        \n",
    "    def greet(self):\n",
    "        if (self.country == \"india\"):\n",
    "            print('Namaste !',self.name)\n",
    "        else:\n",
    "            print('Hello !',self.name)\n",
    "    \n",
    "    # for <__main__.Person object at 0x000001C91F631480>\n",
    "    def __str__(self):\n",
    "        if (self.country == \"india\"):\n",
    "            return \"Namaste ! {}\".format(self.name)\n",
    "        else:\n",
    "            return \"Hello ! {}\".format(self.name)\n",
    "            \n",
    "    \n",
    "        "
   ]
  },
  {
   "cell_type": "code",
   "execution_count": 12,
   "id": "1e610df1",
   "metadata": {},
   "outputs": [
    {
     "name": "stdout",
     "output_type": "stream",
     "text": [
      "Namaste ! Akash\n"
     ]
    }
   ],
   "source": [
    "# Access attributes\n",
    "p = Person('Akash','india')\n",
    "print(p)"
   ]
  },
  {
   "cell_type": "code",
   "execution_count": 13,
   "id": "921b34fd",
   "metadata": {},
   "outputs": [
    {
     "data": {
      "text/plain": [
       "'Akash'"
      ]
     },
     "execution_count": 13,
     "metadata": {},
     "output_type": "execute_result"
    }
   ],
   "source": [
    "p.name \n",
    "# p.country()"
   ]
  },
  {
   "cell_type": "code",
   "execution_count": 14,
   "id": "04d441ee",
   "metadata": {},
   "outputs": [
    {
     "name": "stdout",
     "output_type": "stream",
     "text": [
      "Namaste ! Akash\n"
     ]
    }
   ],
   "source": [
    "# access method\n",
    "p.greet()"
   ]
  },
  {
   "cell_type": "code",
   "execution_count": 15,
   "id": "30f13394",
   "metadata": {},
   "outputs": [
    {
     "ename": "AttributeError",
     "evalue": "'Person' object has no attribute 'gender'",
     "output_type": "error",
     "traceback": [
      "\u001b[1;31m---------------------------------------------------------------------------\u001b[0m",
      "\u001b[1;31mAttributeError\u001b[0m                            Traceback (most recent call last)",
      "Cell \u001b[1;32mIn [15], line 2\u001b[0m\n\u001b[0;32m      1\u001b[0m \u001b[38;5;66;03m# what if we try to access non - existent attributes\u001b[39;00m\n\u001b[1;32m----> 2\u001b[0m p\u001b[38;5;241m.\u001b[39mgender\n",
      "\u001b[1;31mAttributeError\u001b[0m: 'Person' object has no attribute 'gender'"
     ]
    }
   ],
   "source": [
    "# what if we try to access non - existent attributes\n",
    "p.gender\n",
    "# o/p : AttributeError: 'Person' object has no attribute 'gender'"
   ]
  },
  {
   "cell_type": "code",
   "execution_count": 18,
   "id": "4bd6184d",
   "metadata": {},
   "outputs": [
    {
     "data": {
      "text/plain": [
       "'male'"
      ]
     },
     "execution_count": 18,
     "metadata": {},
     "output_type": "execute_result"
    }
   ],
   "source": [
    "# Attribute creation from outside of the class\n",
    "p.gender = 'male'\n",
    "p.gender"
   ]
  },
  {
   "cell_type": "markdown",
   "id": "21f2a0e0",
   "metadata": {},
   "source": [
    "#### Reference Variables :"
   ]
  },
  {
   "cell_type": "raw",
   "id": "550bc8e1",
   "metadata": {},
   "source": [
    "Reference Variables\n",
    "\n",
    "- Reference variables hold the objects\n",
    "- We can create objects without reference variable as well\n",
    "- An object can have multiple reference variables\n",
    "- Assigning a new reference variable to an existing object does not create a new object"
   ]
  },
  {
   "cell_type": "code",
   "execution_count": 24,
   "id": "af9ab0f3",
   "metadata": {},
   "outputs": [
    {
     "name": "stdout",
     "output_type": "stream",
     "text": [
      "p : 2393355858848\n",
      "q : 2393355858848\n"
     ]
    }
   ],
   "source": [
    "# object without a reference :\n",
    "class Person:\n",
    "    def __init__(self):\n",
    "        self.name  = 'Akash'\n",
    "        self.age = '21'\n",
    "        \n",
    "# Here p is not object , p is reference variables contain address of object\n",
    "p = Person()\n",
    "q = p # q & p are both reference variables\n",
    "print(\"p :\",id(p))\n",
    "print(\"q :\",id(q))"
   ]
  },
  {
   "cell_type": "code",
   "execution_count": 25,
   "id": "972a7e72",
   "metadata": {},
   "outputs": [
    {
     "name": "stdout",
     "output_type": "stream",
     "text": [
      "Akash\n",
      "Akash\n",
      "Eren\n",
      "Eren\n"
     ]
    }
   ],
   "source": [
    "# change attributes value with the help of 2nd object\n",
    "print(p.name)\n",
    "print(q.name)\n",
    "q.name = 'Eren'\n",
    "print(p.name)\n",
    "print(q.name)"
   ]
  },
  {
   "cell_type": "markdown",
   "id": "b60a9811",
   "metadata": {},
   "source": [
    "#### Pass by reference :"
   ]
  },
  {
   "cell_type": "code",
   "execution_count": 2,
   "id": "3e7e98e7",
   "metadata": {},
   "outputs": [
    {
     "name": "stdout",
     "output_type": "stream",
     "text": [
      "Hi my name is Akash and I am 21 year old.\n",
      "Eren\n",
      "24\n"
     ]
    }
   ],
   "source": [
    "# When you pass object (class object) as input to fucntion means your actually sending the reference of that object that is called pass by reference.\n",
    "class Person:    \n",
    "    def __init__(self,name,age):\n",
    "        self.name = name\n",
    "        self.age = age\n",
    "\n",
    "# outside the class -> function\n",
    "def greet(person):\n",
    "    print('Hi my name is',person.name,'and I am',person.age,'year old.')\n",
    "    # the function returns the object\n",
    "    p1 = Person('Eren','24')\n",
    "    return p1\n",
    "     \n",
    "p = Person('Akash','21')\n",
    "# Here we give object reference (class object) as input to fucntion vise versa\n",
    "x = greet(p)\n",
    "print(x.name)\n",
    "print(x.age)"
   ]
  },
  {
   "cell_type": "code",
   "execution_count": 1,
   "id": "8afe184a",
   "metadata": {},
   "outputs": [
    {
     "name": "stdout",
     "output_type": "stream",
     "text": [
      "Hi my name is Akash and I am 21 year old.\n"
     ]
    }
   ],
   "source": [
    "class Person:\n",
    "    \n",
    "    def __init__(self,name,age):\n",
    "        self.name = name\n",
    "        self.age = age\n",
    "\n",
    "# outside the class -> function\n",
    "def greet(person):\n",
    "    print('Hi my name is',person.name,'and I am',person.age,'year old.')\n",
    "    \n",
    "p = Person('Akash','21')\n",
    "greet(p)\n"
   ]
  },
  {
   "cell_type": "code",
   "execution_count": 8,
   "id": "219c8c3f",
   "metadata": {},
   "outputs": [
    {
     "name": "stdout",
     "output_type": "stream",
     "text": [
      "1920261316784\n",
      "1920261316784\n",
      "saitama\n",
      "saitama\n"
     ]
    }
   ],
   "source": [
    "class Person:\n",
    "    def __init__(self,name,age):\n",
    "        self.name = name\n",
    "        self.age = age\n",
    "\n",
    "# outside the class -> function\n",
    "def greet(person):\n",
    "    print(id(person))\n",
    "    person.name = 'saitama'\n",
    "    print(person.name)\n",
    "\n",
    "p = Person('eren','21')\n",
    "print(id(p))\n",
    "greet(p)\n",
    "print(p.name)"
   ]
  },
  {
   "cell_type": "markdown",
   "id": "5512df31",
   "metadata": {},
   "source": [
    "#### Mutability of object :"
   ]
  },
  {
   "cell_type": "code",
   "execution_count": 1,
   "id": "fa15262e",
   "metadata": {},
   "outputs": [
    {
     "name": "stdout",
     "output_type": "stream",
     "text": [
      "2569573026496\n",
      "2569573026496\n"
     ]
    }
   ],
   "source": [
    "class Person:\n",
    "    def __init__(self,name,age):\n",
    "        self.name = name\n",
    "        self.age = age\n",
    "\n",
    "# outside the class -> function\n",
    "def greet(person):\n",
    "    person.name = 'saitama'\n",
    "    return person\n",
    "\n",
    "p = Person('eren','21')\n",
    "print(id(p))\n",
    "p1 = greet(p)\n",
    "print(id(p1))"
   ]
  },
  {
   "cell_type": "markdown",
   "id": "f206f28c",
   "metadata": {},
   "source": [
    "#### Instance Variables :"
   ]
  },
  {
   "cell_type": "raw",
   "id": "de8ebc0f",
   "metadata": {},
   "source": [
    "- If the value of a variable varies from object to object, then such variables are called instance variables.\n",
    "\n",
    "- For every object, a separate copy of the instance variable will be created.\n",
    "\n",
    "- Instance variable value is depending on object\n",
    "\n",
    "- Every object has its own copy of the instance attribute. This means that for each object of a class, the instance variable value is different.\n",
    "\n",
    "- In Python, to work with an instance variable and method, we use the self keyword. We use the self keyword as the first parameter to a method. The self refers to the current object."
   ]
  },
  {
   "attachments": {
    "create_declare_instance_variable.png": {
     "image/png": "[encoded data removed]"
    }
   },
   "cell_type": "markdown",
   "id": "68f9e1e4",
   "metadata": {},
   "source": [
    "![create_declare_instance_variable.png](attachment:create_declare_instance_variable.png)"
   ]
  },
  {
   "cell_type": "markdown",
   "id": "e4e66e2b",
   "metadata": {},
   "source": [
    "##### Create Instance Variables :"
   ]
  },
  {
   "cell_type": "raw",
   "id": "25b39eea",
   "metadata": {},
   "source": [
    "Instance variables are declared inside a method using the self keyword. We use a constructor to define and initialize the instance variables. Let’s see the example to declare an instance variable in Python."
   ]
  },
  {
   "cell_type": "code",
   "execution_count": 1,
   "id": "05f57657",
   "metadata": {},
   "outputs": [],
   "source": [
    "# Ex.\n",
    "class Car:\n",
    "    def __init__(self,name,brand):\n",
    "        # Here after self.  > name & brand is instance variable\n",
    "        self.name = name\n",
    "        self.brand = brand\n",
    "# The varible has multiple values for multiple object\n",
    "# here variable is only one but we store multiple values using multiple object\n",
    "c1 = Car('Civic','Honda')\n",
    "c2 = Car('Nissan-GTR','Nissan')"
   ]
  },
  {
   "cell_type": "code",
   "execution_count": 2,
   "id": "5dc1c202",
   "metadata": {},
   "outputs": [
    {
     "name": "stdout",
     "output_type": "stream",
     "text": [
      "Nissan-GTR\n",
      "Honda\n"
     ]
    }
   ],
   "source": [
    "print(c2.name)\n",
    "print(c1.brand)"
   ]
  },
  {
   "cell_type": "markdown",
   "id": "dfd84a92",
   "metadata": {},
   "source": [
    "#### Encapsulation in Python :"
   ]
  },
  {
   "cell_type": "raw",
   "id": "c797025d",
   "metadata": {},
   "source": [
    "- Encapsulation in Python describes the concept of bundling data and methods within a single unit. So, for example, when you create a class, it means you are implementing encapsulation.\n",
    "\n",
    "-A class is an example of encapsulation as it binds all the data members (instance variables) ard methods into a single unit."
   ]
  },
  {
   "attachments": {
    "encapsulation_python_class.jpg": {
     "image/jpeg": "[encoded data removed]"
    }
   },
   "cell_type": "markdown",
   "id": "967b2d50",
   "metadata": {},
   "source": [
    "![encapsulation_python_class.jpg](attachment:encapsulation_python_class.jpg)"
   ]
  },
  {
   "cell_type": "raw",
   "id": "d041b5f8",
   "metadata": {},
   "source": [
    "Example, \n",
    "We create an Employee class by defining employee attributes such as name and salary as an instance variable and implementing behavior using work() and show() instance methods."
   ]
  },
  {
   "cell_type": "code",
   "execution_count": 4,
   "id": "08f53c8e",
   "metadata": {},
   "outputs": [
    {
     "name": "stdout",
     "output_type": "stream",
     "text": [
      "Name : Akash salary : 100000\n",
      "Akash is working on ML project.\n"
     ]
    }
   ],
   "source": [
    "class Employee:\n",
    "    \n",
    "    def __init__(self, name, salary, project):\n",
    "        # data members (instance variables)\n",
    "        self.name = name \n",
    "        self.salary = salary\n",
    "        self.project = project\n",
    "        \n",
    "    # method\n",
    "    def show(self):\n",
    "        print('Name :', self.name , 'salary :', self.salary)\n",
    "    \n",
    "    #method\n",
    "    def work(self):\n",
    "        print(self.name,'is working on',self.project,'project.')\n",
    "        \n",
    "# Creating object for a class\n",
    "emp = Employee('Akash',100000,'ML')\n",
    "emp.show()\n",
    "emp.work()       \n",
    "    "
   ]
  },
  {
   "cell_type": "raw",
   "id": "c932095b",
   "metadata": {},
   "source": [
    "Using encapsulation, we can hide an object’s internal representation from the outside. This is called information hiding.\n",
    "\n",
    "Also, encapsulation allows us to restrict accessing variables and methods directly and prevent accidental data modification by creating private data members and methods within a class.\n",
    "\n",
    "NOTE :\n",
    "'Encapsulation is a way to can restrict access to methods and variables from outside of class.'\n",
    "\n",
    "Whenever we are working with the class and dealing with sensitive data, providing access to all variables used within the class is not a good choice."
   ]
  },
  {
   "cell_type": "markdown",
   "id": "969b6144",
   "metadata": {},
   "source": [
    "#### Access Modifiers in Python :"
   ]
  },
  {
   "cell_type": "raw",
   "id": "bb1a79bc",
   "metadata": {},
   "source": [
    "Encapsulation can be achieved by declaring the data members and methods of a class either as private or protected. But In Python, we don’t have direct access modifiers like public, private, and protected. We can achieve this by using 'single underscore' and 'double underscores'.\n",
    "\n",
    "Access modifiers limit access to the variables and methods of a class. Python provides three types of access modifiers private, public, and protected.\n",
    "-Public Member: Accessible anywhere from otside oclass.\n",
    "-Private Member: Accessible within the class\n",
    "-Protected Member: Accessible within the class and its sub-classes\n"
   ]
  },
  {
   "attachments": {
    "python_data_hiding%20encapsulation.jpg": {
     "image/jpeg": "[encoded data removed]"
    }
   },
   "cell_type": "markdown",
   "id": "aaea1b52",
   "metadata": {},
   "source": [
    "![python_data_hiding%20encapsulation.jpg](attachment:python_data_hiding%20encapsulation.jpg)"
   ]
  },
  {
   "cell_type": "markdown",
   "id": "7f8c9e88",
   "metadata": {},
   "source": [
    "##### Public Member :"
   ]
  },
  {
   "cell_type": "raw",
   "id": "7a632eb0",
   "metadata": {},
   "source": [
    "Public data members are accessible within and outside of a class. All member variables of the class are by default public."
   ]
  },
  {
   "cell_type": "code",
   "execution_count": 6,
   "id": "e0d06a6c",
   "metadata": {},
   "outputs": [
    {
     "name": "stdout",
     "output_type": "stream",
     "text": [
      "Name : Akash salary : 100000\n"
     ]
    }
   ],
   "source": [
    "# Ex.\n",
    "class Employee:\n",
    "    \n",
    "    # constructor\n",
    "    def __init__(self, name, salary):\n",
    "        # data members (instance variables)\n",
    "        self.name = name  #public variables\n",
    "        self.salary = salary #public variables\n",
    "        \n",
    "    # method\n",
    "    def show(self):\n",
    "        print('Name :', self.name , 'salary :', self.salary)\n",
    "        \n",
    "# Creating object for a class\n",
    "emp = Employee('Akash',100000)\n",
    "\n",
    "# accessing public data members\n",
    "print('Name :', self.name , 'salary :', self.salary)\n",
    "\n",
    "# calling public method of the class\n",
    "emp.show()"
   ]
  },
  {
   "cell_type": "markdown",
   "id": "a13b0577",
   "metadata": {},
   "source": [
    "##### Private Member :"
   ]
  },
  {
   "cell_type": "raw",
   "id": "eed10e04",
   "metadata": {},
   "source": [
    "We can protect variables in the class by marking them private. To define a private variable add two underscores as a prefix at the start of a variable name.\n",
    "\n",
    "Private members are accessible only within the class, and we can’t access them directly from the class objects."
   ]
  },
  {
   "cell_type": "code",
   "execution_count": 19,
   "id": "e3f9434c",
   "metadata": {
    "scrolled": true
   },
   "outputs": [
    {
     "ename": "AttributeError",
     "evalue": "'Employee' object has no attribute '__salary'",
     "output_type": "error",
     "traceback": [
      "\u001b[1;31m---------------------------------------------------------------------------\u001b[0m",
      "\u001b[1;31mAttributeError\u001b[0m                            Traceback (most recent call last)",
      "Cell \u001b[1;32mIn [19], line 17\u001b[0m\n\u001b[0;32m     11\u001b[0m emp \u001b[38;5;241m=\u001b[39m Employee(\u001b[38;5;124m'\u001b[39m\u001b[38;5;124mAkash\u001b[39m\u001b[38;5;124m'\u001b[39m,\u001b[38;5;241m100000\u001b[39m)\n\u001b[0;32m     13\u001b[0m \u001b[38;5;66;03m# but we can modify the private data members if user know the that variable\u001b[39;00m\n\u001b[0;32m     14\u001b[0m \u001b[38;5;66;03m# emp.__salary = 120000\u001b[39;00m\n\u001b[0;32m     15\u001b[0m \n\u001b[0;32m     16\u001b[0m \u001b[38;5;66;03m# accessing private data members\u001b[39;00m\n\u001b[1;32m---> 17\u001b[0m \u001b[38;5;28mprint\u001b[39m(\u001b[38;5;124m'\u001b[39m\u001b[38;5;124msalary :\u001b[39m\u001b[38;5;124m'\u001b[39m, emp\u001b[38;5;241m.\u001b[39m__salary)\n",
      "\u001b[1;31mAttributeError\u001b[0m: 'Employee' object has no attribute '__salary'"
     ]
    }
   ],
   "source": [
    "# Ex.\n",
    "class Employee:\n",
    "    \n",
    "    # constructor\n",
    "    def __init__(self, name, salary):\n",
    "        # data members (instance variables)\n",
    "        self.name = name  #public variables\n",
    "        self.__salary = salary #private variables using double underscore\n",
    "        \n",
    "# Creating object for a class\n",
    "emp = Employee('Akash',100000)\n",
    "\n",
    "# accessing private data members\n",
    "print('salary :', emp.__salary)\n"
   ]
  },
  {
   "cell_type": "raw",
   "id": "0621f516",
   "metadata": {},
   "source": [
    "We can access private members from outside of a class using the following two approaches\n",
    "- Create public method to access private members\n",
    "- Use name mangling"
   ]
  },
  {
   "cell_type": "markdown",
   "id": "df92a5dc",
   "metadata": {},
   "source": [
    "###### > Public method to access private members :"
   ]
  },
  {
   "cell_type": "code",
   "execution_count": 21,
   "id": "431c1116",
   "metadata": {},
   "outputs": [
    {
     "name": "stdout",
     "output_type": "stream",
     "text": [
      "Name : Akash salary : 100000\n"
     ]
    }
   ],
   "source": [
    "# Example: Access Private member outside of a class using an instance method\n",
    "class Employee:\n",
    "    \n",
    "    # constructor\n",
    "    def __init__(self, name, salary):\n",
    "        # data members (instance variables)\n",
    "        self.name = name  #public variables\n",
    "        self.__salary = salary #private variables using double underscore\n",
    "        \n",
    "    # Create public method to access private members\n",
    "    # instance method\n",
    "    def show_private_variables(self):\n",
    "         print('Name :', self.name , 'salary :', self.__salary)\n",
    "                \n",
    "# Creating object for a class\n",
    "emp = Employee('Akash',100000)\n",
    "\n",
    "# calling public method of the class\n",
    "emp.show_private_variables()\n"
   ]
  },
  {
   "cell_type": "markdown",
   "id": "24b3f2fc",
   "metadata": {},
   "source": [
    "###### > Name Mangling to access private members :"
   ]
  },
  {
   "cell_type": "raw",
   "id": "b0b34686",
   "metadata": {},
   "source": [
    "We can directly access private and protected variables from outside of a class through name mangling.\n",
    "\n",
    "The name mangling is created on an identifier by adding two leading underscores and one trailing underscore, like this _classname__dataMember, where classname is the current class, and data member is the private variable name."
   ]
  },
  {
   "cell_type": "code",
   "execution_count": 29,
   "id": "0b61a245",
   "metadata": {},
   "outputs": [
    {
     "name": "stdout",
     "output_type": "stream",
     "text": [
      "Name : Goku\n",
      "Salary : 220000\n"
     ]
    }
   ],
   "source": [
    "# Example: Access private member\n",
    "\n",
    "class Employee:\n",
    "    # constructor\n",
    "    def __init__(self, name, salary):\n",
    "        # public data member\n",
    "        self.name = name\n",
    "        # private member\n",
    "        self.__salary = salary\n",
    "\n",
    "# creating object of a class\n",
    "emp = Employee('Goku', 220000)\n",
    "print('Name :',emp.name)\n",
    "\n",
    "# direct access to private member using name mangling\n",
    "print('Salary :',emp._Employee__salary)\n"
   ]
  },
  {
   "cell_type": "markdown",
   "id": "02b3025c",
   "metadata": {},
   "source": [
    "###### Protected Member :"
   ]
  },
  {
   "cell_type": "raw",
   "id": "edf60e57",
   "metadata": {},
   "source": [
    "Protected members are accessible within the class and also available to its sub-classes. To define a protected member, prefix the member name with a single underscore _."
   ]
  },
  {
   "cell_type": "code",
   "execution_count": 37,
   "id": "7b7fd036",
   "metadata": {},
   "outputs": [
    {
     "name": "stdout",
     "output_type": "stream",
     "text": [
      "Name:  Saitama\n",
      "Roll:  234\n"
     ]
    }
   ],
   "source": [
    "# Ex.\n",
    "# data members in a class \n",
    "    \n",
    "# Defining a class\n",
    "class Student: \n",
    "      \n",
    "    # protected data members \n",
    "    def __init__(self,name, roll):\n",
    "        self._name = name  # protected data members \n",
    "        self._roll = roll   # protected data members \n",
    "      \n",
    "    # public member function \n",
    "    def displayNameAndRoll(self): \n",
    "        # accessing protected data members \n",
    "        print(\"Name: \", self._name) \n",
    "        print(\"Roll: \", self._roll) \n",
    "  \n",
    "  \n",
    "# creating objects of the class         \n",
    "s = Student('Saitama',234) \n",
    "  \n",
    "# calling protected data member \n",
    "# functions of the class \n",
    "s.displayNameAndRoll() "
   ]
  },
  {
   "cell_type": "markdown",
   "id": "09ab1614",
   "metadata": {},
   "source": [
    "#### Getters and Setters in Python :"
   ]
  },
  {
   "cell_type": "raw",
   "id": "54d0eca0",
   "metadata": {},
   "source": [
    "To implement proper encapsulation in Python, we need to use setters and getters. \n",
    "\n",
    "The primary purpose of using getters and setters in object-oriented programs is to ensure data encapsulation.\n",
    "\n",
    "Use the getter method to access data members and the setter methods to modify the data members.\n",
    "\n",
    "In Python, private variables are not hidden fields like in other programming languages. The getters and setters methods are often used when:\n",
    "- When we want to avoid direct access to private variables\n",
    "- To add validation logic for setting a value"
   ]
  },
  {
   "cell_type": "code",
   "execution_count": 58,
   "id": "da9bfd10",
   "metadata": {},
   "outputs": [
    {
     "name": "stdout",
     "output_type": "stream",
     "text": [
      "Name : Saitama age : 24\n",
      "Name : Saitama age : 30\n"
     ]
    }
   ],
   "source": [
    "#Ex.When we want to avoid direct access to private variables\n",
    "\n",
    "# Defining a class\n",
    "class Student: \n",
    "      \n",
    "    # protected data members with constructor\n",
    "    def __init__(self,name, age):\n",
    "        self.name = name  # protected data members \n",
    "        self.__age = age   # protected data members \n",
    "        \n",
    "    # getter method  \n",
    "    def get_age(self):\n",
    "        return self.__age\n",
    "    \n",
    "    # setter method\n",
    "    def set_age(self,age):\n",
    "        self.__age = age\n",
    "        \n",
    "    \n",
    "# creating objects of the class         \n",
    "s = Student('Saitama',24) \n",
    "\n",
    "# retrieving age using getter\n",
    "print('Name :',s.name, 'age :',s.get_age())\n",
    "\n",
    "# changing age using setter\n",
    "s.set_age(30)\n",
    "\n",
    "# retrieving age using getter\n",
    "print('Name :',s.name, 'age :',s.get_age())"
   ]
  },
  {
   "cell_type": "code",
   "execution_count": 1,
   "id": "80dc03a3",
   "metadata": {},
   "outputs": [
    {
     "name": "stdout",
     "output_type": "stream",
     "text": [
      "Student Details: Eren 10\n",
      "Invalid roll no. Please set correct roll number\n",
      "Student Details: Eren 25\n"
     ]
    }
   ],
   "source": [
    "class Student:\n",
    "    def __init__(self, name, roll_no, age):\n",
    "        # private member\n",
    "        self.name = name\n",
    "        # private members to restrict access\n",
    "        # avoid direct data modification\n",
    "        self.__roll_no = roll_no\n",
    "        self.__age = age\n",
    "\n",
    "    def show(self):\n",
    "        print('Student Details:', self.name, self.__roll_no)\n",
    "\n",
    "    # getter methods\n",
    "    def get_roll_no(self):\n",
    "        return self.__roll_no\n",
    "\n",
    "    # setter method to modify data member\n",
    "    # condition to allow data modification with rules\n",
    "    def set_roll_no(self, number):\n",
    "        if number > 50:\n",
    "            print('Invalid roll no. Please set correct roll number')\n",
    "        else:\n",
    "            self.__roll_no = number\n",
    "\n",
    "me = Student('Eren', 10, 15)\n",
    "\n",
    "# before Modify\n",
    "me.show()\n",
    "# changing roll number using setter\n",
    "me.set_roll_no(120)\n",
    "\n",
    "\n",
    "me.set_roll_no(25)\n",
    "me.show()"
   ]
  },
  {
   "cell_type": "markdown",
   "id": "1d76baf4",
   "metadata": {},
   "source": [
    "#### Advantages of Encapsulation :"
   ]
  },
  {
   "cell_type": "raw",
   "id": "c7d7b299",
   "metadata": {},
   "source": [
    "1.Security: \n",
    "The main advantage of using encapsulation is the security of the data. Encapsulation protects an object from unauthorized access. It allows private and protected access levels to prevent accidental data modification.\n",
    "\n",
    "2.Data Hiding: \n",
    "The user would not be knowing what is going on behind the scene. They would only be knowing that to modify a data member, call the setter method. To read a data member, call the getter method. What these setter and getter methods are doing is hidden from them.\n",
    "\n",
    "3.Simplicity: \n",
    "It simplifies the maintenance of the application by keeping classes separated and preventing them from tightly coupling with each other.\n",
    "\n",
    "4.Aesthetics: \n",
    "Bundling data and methods within a class makes code more readable and maintainable"
   ]
  },
  {
   "cell_type": "markdown",
   "id": "c5b67dfe",
   "metadata": {},
   "source": [
    "#### Collection of objects :"
   ]
  },
  {
   "cell_type": "code",
   "execution_count": 20,
   "id": "ac86b0aa",
   "metadata": {},
   "outputs": [
    {
     "name": "stdout",
     "output_type": "stream",
     "text": [
      "Levi Male\n",
      "Eren Male\n",
      "Mikasa Female\n",
      "\n",
      "p1 Levi : Male\n",
      "p2 Eren : Male\n",
      "p3 Mikasa : Female\n"
     ]
    }
   ],
   "source": [
    "# We can store muliple object in list, tuple,dictionary etc\n",
    "\n",
    "class Person:\n",
    "    def __init__(self,name,gender):\n",
    "        self.name = name\n",
    "        self.gender = gender\n",
    "        \n",
    "    def __str__(self):\n",
    "        return \"{} : {}\".format(self.name,self.gender)\n",
    "        \n",
    "   \n",
    "        \n",
    "p1 = Person('Levi','Male')\n",
    "p2 = Person('Eren','Male')\n",
    "p3 = Person('Mikasa','Female')\n",
    "\n",
    "L = [p1,p2,p3]\n",
    "for i in L:\n",
    "    #print(i)\n",
    "    print(i.name,i.gender)\n",
    "\n",
    "print()\n",
    "\n",
    "D = {'p1':p1, 'p2':p2, 'p3':p3}\n",
    "for k,v in D.items():\n",
    "    print(k,v)"
   ]
  },
  {
   "cell_type": "markdown",
   "id": "1a632c0d",
   "metadata": {},
   "source": [
    "####  Static/Class variable :"
   ]
  },
  {
   "cell_type": "raw",
   "id": "e4bdf05b",
   "metadata": {},
   "source": [
    "Class Variables: A class variable is a variable that is declared inside of class, but outside of any instance method or __init__() method.\n",
    "\n",
    "or \n",
    "\n",
    "In Python, Class variables are declared when a class is being constructed. They are not defined inside any methods of a class because of this only one copy of the static variable will be created and shared between all objects of the class.\n",
    "\n",
    "or\n",
    "\n",
    "If the value of the variable does not change from object to object and if the variable is declared outside method and inside the class and also the value of variable remains same throughout this type of variable is called as static variable.\n"
   ]
  },
  {
   "attachments": {
    "create_and_access_class_variable.png": {
     "image/png": "[encoded data removed]"
    }
   },
   "cell_type": "markdown",
   "id": "39a98d77",
   "metadata": {},
   "source": [
    "![create_and_access_class_variable.png](attachment:create_and_access_class_variable.png)"
   ]
  },
  {
   "cell_type": "raw",
   "id": "cbac4974",
   "metadata": {},
   "source": [
    "Class varibles are the varibles whose single copy is available to all the instance of the class.\n",
    "\n",
    "If we modify the copy of class varible in an instance, it will effect all the copies in the other instance.\n",
    "\n",
    "We can access static variables either by class name or by object reference, but it is recommended to use the class name."
   ]
  },
  {
   "cell_type": "code",
   "execution_count": 1,
   "id": "a488df62",
   "metadata": {},
   "outputs": [],
   "source": [
    "# Ex.\n",
    "\n",
    "class Atm:\n",
    "    __counter = 1\n",
    "    #constructor\n",
    "    def __init__(self):\n",
    "        self.pin = ''\n",
    "        self.__balance = 0\n",
    "        self.cid = Atm.__counter\n",
    "        Atm.__counter = Atm.__counter + 1\n",
    "        #print('constructor is executed automatically at the time of object creation.')\n",
    "        #self.menu()\n",
    "        \n",
    "    # we direct access this method without creating the object class using class name    \n",
    "    # utility function > do small works\n",
    "    @staticmethod  # decorator  \n",
    "    def get_counter():\n",
    "        return Atm.__counter\n",
    "        \n",
    "    def get_balance(self):\n",
    "        return self.__balance\n",
    "\n",
    "    def set_balance(self,new_value):\n",
    "        if type(new_value) == int:\n",
    "            self.__balance = new_value\n",
    "        else:\n",
    "            print('You can not set the balance')\n",
    "        \n",
    "    # adding functionality :\n",
    "    def menu(self):\n",
    "        user_input = input('''\n",
    "        Hi How can help you ?\n",
    "        1. Press 1 to create pin\n",
    "        2. Press 2 to change pin\n",
    "        3. Press 3 to check balance\n",
    "        4. Press 4 to withdraw\n",
    "        5. Press Anything to exist     \n",
    "        ''')\n",
    "        if user_input == '1':\n",
    "            # create pin\n",
    "            self.create_pin()\n",
    "            \n",
    "        elif user_input == '2':\n",
    "            # change pin\n",
    "            self.change_pin()\n",
    "        \n",
    "        elif user_input == '3':\n",
    "            # check balance\n",
    "            self.check_balance()\n",
    "        \n",
    "        elif user_input == '4':\n",
    "            # withdraw\n",
    "            self.withdraw()\n",
    "        \n",
    "        else:\n",
    "            exit()\n",
    "            \n",
    "    def create_pin(self):\n",
    "        user_pin = int(input('Enter your pin :'))\n",
    "        self.pin = user_pin\n",
    "        user_balance =  int(input('Enter your balance :'))\n",
    "        self.__balance = user_balance    \n",
    "        print('Pin created successfully !')\n",
    "   \n",
    "        \n",
    "    # change pin functionality of atm\n",
    "    def change_pin(self):\n",
    "        old_pin = int(input('Enter your existing pin for changing the pin :'))\n",
    "        \n",
    "        if old_pin == self.pin:\n",
    "            # change the pin\n",
    "            new_pin = int(input('Enter new pin :'))\n",
    "            self.pin = new_pin\n",
    "            print('Atm pin change successfully')\n",
    "        else:\n",
    "            print('Invalid pin ! Plz try again !')\n",
    "                   \n",
    "            \n",
    "    # checking balance functionality of atm\n",
    "    def check_balance(self):\n",
    "        user_pin = int(input('Enter your pin :'))        \n",
    "        if user_pin == self.pin:\n",
    "            print('Your bank balance is', self.__balance)            \n",
    "        else:\n",
    "            print('Invalid pin ! Plz try again !')\n",
    "            \n",
    "            \n",
    "    # Witdraw functionality of atm\n",
    "    def withdraw(self):\n",
    "        user_pin = int(input('Enter your pin :'))      \n",
    "        if user_pin == self.pin:\n",
    "            # allow to withdraw \n",
    "            amount = int(input('Enter the amount :'))\n",
    "            if amount <= self.__balance:\n",
    "                self.__balance = self.__balance - amount\n",
    "                print('Withdrawl successful ! Your remaining Balance is',self.__balance)\n",
    "            else:\n",
    "                print('Something is worng here !')\n",
    "        else:\n",
    "            print('Invalid pin ! Plz try again !')\n",
    "           "
   ]
  },
  {
   "cell_type": "code",
   "execution_count": 2,
   "id": "c5bd5780",
   "metadata": {},
   "outputs": [],
   "source": [
    "c1 = Atm()"
   ]
  },
  {
   "cell_type": "code",
   "execution_count": 3,
   "id": "c7cfe943",
   "metadata": {},
   "outputs": [
    {
     "data": {
      "text/plain": [
       "1"
      ]
     },
     "execution_count": 3,
     "metadata": {},
     "output_type": "execute_result"
    }
   ],
   "source": [
    "c1.cid"
   ]
  },
  {
   "cell_type": "code",
   "execution_count": 4,
   "id": "23758b44",
   "metadata": {},
   "outputs": [],
   "source": [
    "c2 = Atm()"
   ]
  },
  {
   "cell_type": "code",
   "execution_count": 5,
   "id": "69c7321b",
   "metadata": {},
   "outputs": [
    {
     "data": {
      "text/plain": [
       "2"
      ]
     },
     "execution_count": 5,
     "metadata": {},
     "output_type": "execute_result"
    }
   ],
   "source": [
    "c2.cid"
   ]
  },
  {
   "cell_type": "code",
   "execution_count": 6,
   "id": "e259292e",
   "metadata": {},
   "outputs": [],
   "source": [
    "c3 = Atm()"
   ]
  },
  {
   "cell_type": "code",
   "execution_count": 7,
   "id": "ff72efc7",
   "metadata": {},
   "outputs": [
    {
     "data": {
      "text/plain": [
       "3"
      ]
     },
     "execution_count": 7,
     "metadata": {},
     "output_type": "execute_result"
    }
   ],
   "source": [
    "c3.cid"
   ]
  },
  {
   "cell_type": "code",
   "execution_count": 14,
   "id": "62ca7139",
   "metadata": {},
   "outputs": [
    {
     "data": {
      "text/plain": [
       "4"
      ]
     },
     "execution_count": 14,
     "metadata": {},
     "output_type": "execute_result"
    }
   ],
   "source": [
    "# we direct access this method without creating the object class using class name  \n",
    "# 4 because Atm.counter is increament by 1 \n",
    "Atm.get_counter()"
   ]
  },
  {
   "cell_type": "code",
   "execution_count": null,
   "id": "f33030fb",
   "metadata": {},
   "outputs": [],
   "source": []
  },
  {
   "cell_type": "code",
   "execution_count": null,
   "id": "cd0c9946",
   "metadata": {},
   "outputs": [],
   "source": []
  },
  {
   "cell_type": "code",
   "execution_count": null,
   "id": "8ea99b57",
   "metadata": {},
   "outputs": [],
   "source": []
  },
  {
   "cell_type": "code",
   "execution_count": null,
   "id": "2e65ab5c",
   "metadata": {},
   "outputs": [],
   "source": []
  },
  {
   "cell_type": "code",
   "execution_count": null,
   "id": "cb0adb2b",
   "metadata": {},
   "outputs": [],
   "source": []
  }
 ],
 "metadata": {
  "kernelspec": {
   "display_name": "Python 3 (ipykernel)",
   "language": "python",
   "name": "python3"
  },
  "language_info": {
   "codemirror_mode": {
    "name": "ipython",
    "version": 3
   },
   "file_extension": ".py",
   "mimetype": "text/x-python",
   "name": "python",
   "nbconvert_exporter": "python",
   "pygments_lexer": "ipython3",
   "version": "3.10.7"
  }
 },
 "nbformat": 4,
 "nbformat_minor": 5
}
