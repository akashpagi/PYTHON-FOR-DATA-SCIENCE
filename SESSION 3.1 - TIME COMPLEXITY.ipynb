{
 "cells": [
  {
   "cell_type": "code",
   "execution_count": 1,
   "metadata": {
    "id": "pad9C0PIzlhV"
   },
   "outputs": [
    {
     "name": "stdout",
     "output_type": "stream",
     "text": [
      "enter the number1253\n",
      "1253\n"
     ]
    }
   ],
   "source": [
    "number = int(input('enter the number'))\n",
    "\n",
    "digits = '0123456789'\n",
    "result = ''\n",
    "while number != 0:\n",
    "  result = digits[number % 10] + result\n",
    "  number = number//10\n",
    "\n",
    "print(result)\n",
    "\n",
    "# log n"
   ]
  },
  {
   "cell_type": "code",
   "execution_count": null,
   "metadata": {
    "id": "i2SciiMj1UdY"
   },
   "outputs": [],
   "source": [
    "L = [1,2,3,4]\n",
    "\n",
    "sum = 0\n",
    "for i in L:\n",
    "  sum = sum + i\n",
    "\n",
    "product = 1\n",
    "for i in L:\n",
    "  product = product*i\n",
    "\n",
    "print(sum,product)\n",
    "\n",
    "# O(n) \n",
    "# law of addition"
   ]
  },
  {
   "cell_type": "code",
   "execution_count": null,
   "metadata": {
    "id": "8DR6LXFi126j"
   },
   "outputs": [],
   "source": [
    "A = [1,2,3,4]\n",
    "B = [5,6,7,8]\n",
    "for i in A:\n",
    "  for j in B:\n",
    "    print(i,j)\n",
    "    \n",
    "# O(n^2) \n",
    "# law of multiplication"
   ]
  },
  {
   "cell_type": "code",
   "execution_count": null,
   "metadata": {
    "id": "12rGkf232Fla"
   },
   "outputs": [],
   "source": [
    "A = [1,2,3,4]\n",
    "B = [5,6,7,8]\n",
    "\n",
    "for i in A:\n",
    "  for j in B:\n",
    "    for k in range(1000000): # remove the multiple constant\n",
    "      print(i,j)\n",
    "\n",
    "# Both i and j are nested loop\n",
    "# O(n * n) = O(n^2)"
   ]
  },
  {
   "cell_type": "code",
   "execution_count": null,
   "metadata": {
    "colab": {
     "base_uri": "https://localhost:8080/"
    },
    "id": "tuUyS_c92-u2",
    "outputId": "a7738332-0e28-460e-c51f-3e3f400cd394"
   },
   "outputs": [
    {
     "name": "stdout",
     "output_type": "stream",
     "text": [
      "[5, 4, 3, 2, 1]\n"
     ]
    }
   ],
   "source": [
    "L = [1,2,3,4,5]\n",
    "\n",
    "for i in range(0,len(L)//2):\n",
    "  other = len(L) - i -1\n",
    "  temp = L[i]\n",
    "  L[i] = L[other]\n",
    "  L[other] = temp\n",
    "\n",
    "print(L)\n",
    "\n",
    "# O(n)"
   ]
  },
  {
   "cell_type": "code",
   "execution_count": null,
   "metadata": {
    "colab": {
     "base_uri": "https://localhost:8080/"
    },
    "id": "vw0XKpB-7mdy",
    "outputId": "b494c1b4-d5d7-4450-8d49-4e6c94397eb6"
   },
   "outputs": [
    {
     "name": "stdout",
     "output_type": "stream",
     "text": [
      "40.0\n"
     ]
    }
   ],
   "source": [
    "n = 10\n",
    "k = 0;\n",
    "for i in range(n//2,n):\n",
    "  for j in range(2,n,pow(2,j)):\n",
    "        k = k + n / 2;\n",
    " \n",
    "print(k)\n",
    "\n",
    "# n log n"
   ]
  },
  {
   "cell_type": "code",
   "execution_count": null,
   "metadata": {
    "colab": {
     "base_uri": "https://localhost:8080/"
    },
    "id": "BkTcJ7NO3PJF",
    "outputId": "47ea246b-c322-4dbf-d311-3c5d52ddba1a"
   },
   "outputs": [
    {
     "name": "stdout",
     "output_type": "stream",
     "text": [
      "4\n"
     ]
    }
   ],
   "source": [
    "a = 10\n",
    "b = 3\n",
    "\n",
    "if b <= 0:\n",
    "  print(-1)\n",
    "div = a//b\n",
    "\n",
    "print(a-div-b)\n",
    "# constant\n",
    "# O(1)"
   ]
  },
  {
   "cell_type": "code",
   "execution_count": null,
   "metadata": {
    "colab": {
     "base_uri": "https://localhost:8080/"
    },
    "id": "L7SO19UD33hw",
    "outputId": "14c120e1-01c4-47d7-ead4-68b67f5165d0"
   },
   "outputs": [
    {
     "name": "stdout",
     "output_type": "stream",
     "text": [
      "12\n"
     ]
    }
   ],
   "source": [
    "n = 345\n",
    "\n",
    "sum = 0\n",
    "while n>0:\n",
    "  sum = sum + n%10\n",
    "  n = n // 10\n",
    "\n",
    "print(sum)\n",
    "\n",
    "# log n"
   ]
  },
  {
   "cell_type": "code",
   "execution_count": null,
   "metadata": {
    "id": "5y6iC_sC7Cnm"
   },
   "outputs": [],
   "source": [
    "def fib(n):\n",
    "  if n == 1 or n == 0:\n",
    "    return 1\n",
    "  else:\n",
    "    return fib(n-1) + fib(n-2)\n",
    "# O(2^n)"
   ]
  },
  {
   "cell_type": "code",
   "execution_count": null,
   "metadata": {
    "id": "HigXvR954r3F"
   },
   "outputs": [],
   "source": [
    "# Subset Algo"
   ]
  },
  {
   "cell_type": "markdown",
   "metadata": {
    "id": "V59AbfcF5FUm"
   },
   "source": [
    "           {3T(n-1) if n>0\n",
    "    T(n) = {1, otherwise"
   ]
  },
  {
   "cell_type": "markdown",
   "metadata": {
    "id": "fskRhpXk5dSn"
   },
   "source": [
    "           {2T(n-1)-1 if n>0\n",
    "    T(n) = {1, otherwise"
   ]
  },
  {
   "cell_type": "code",
   "execution_count": null,
   "metadata": {
    "id": "b9bV-hl65EGH"
   },
   "outputs": [],
   "source": []
  }
 ],
 "metadata": {
  "colab": {
   "provenance": []
  },
  "kernelspec": {
   "display_name": "Python 3 (ipykernel)",
   "language": "python",
   "name": "python3"
  },
  "language_info": {
   "codemirror_mode": {
    "name": "ipython",
    "version": 3
   },
   "file_extension": ".py",
   "mimetype": "text/x-python",
   "name": "python",
   "nbconvert_exporter": "python",
   "pygments_lexer": "ipython3",
   "version": "3.10.7"
  }
 },
 "nbformat": 4,
 "nbformat_minor": 1
}
