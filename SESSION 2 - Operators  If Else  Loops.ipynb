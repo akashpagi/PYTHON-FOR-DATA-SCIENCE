{
 "cells": [
  {
   "cell_type": "markdown",
   "id": "61dd09af",
   "metadata": {},
   "source": [
    "### OPERATORS IN PYTHON"
   ]
  },
  {
   "cell_type": "code",
   "execution_count": null,
   "id": "4dddb921",
   "metadata": {},
   "outputs": [],
   "source": [
    "# Arthemetic Operators\n",
    "# Relational Operators\n",
    "# Logical Operators\n",
    "# Bitwise Operators\n",
    "# Assignment Operators\n",
    "# Membership Operators"
   ]
  },
  {
   "cell_type": "markdown",
   "id": "d79fe05d",
   "metadata": {},
   "source": [
    "#### ARTHEMETIC OPERATIONS"
   ]
  },
  {
   "cell_type": "code",
   "execution_count": 15,
   "id": "64a94214",
   "metadata": {},
   "outputs": [
    {
     "name": "stdout",
     "output_type": "stream",
     "text": [
      "3\n",
      "-1\n",
      "80\n",
      "2.5\n",
      "2.0\n",
      "1\n",
      "25\n"
     ]
    }
   ],
   "source": [
    "print(1+2) #Addition\n",
    "print(2-3) #Subtraction\n",
    "print(4*20) #Multiplication\n",
    "print(5/2) #division\n",
    "\n",
    "# Here Both numbers are integer then answer is integer number otherwise float number and avoiding number after decimal point  \n",
    "print(5//2.0) #Integer(Truncating) Division or Floor Division\n",
    "print(5%2) #Modulus remender as output\n",
    "\n",
    "print(5**2) # Exponetiation"
   ]
  },
  {
   "cell_type": "markdown",
   "id": "052941d5",
   "metadata": {},
   "source": [
    "#### RELATIONAL(COMPARISION) OPERATORS"
   ]
  },
  {
   "cell_type": "code",
   "execution_count": 17,
   "id": "5b65adb4",
   "metadata": {},
   "outputs": [
    {
     "name": "stdout",
     "output_type": "stream",
     "text": [
      "False\n",
      "True\n",
      "False\n",
      "True\n",
      "True\n",
      "True\n"
     ]
    }
   ],
   "source": [
    "print(4>5)\n",
    "print(4<5)\n",
    "print(4>=5)\n",
    "print(4<=5)\n",
    "print(4==4)\n",
    "print(4!=3)"
   ]
  },
  {
   "cell_type": "markdown",
   "id": "52fb7890",
   "metadata": {},
   "source": [
    "#### LOGICAL OPERATORS"
   ]
  },
  {
   "cell_type": "code",
   "execution_count": 25,
   "id": "b458624c",
   "metadata": {
    "scrolled": true
   },
   "outputs": [
    {
     "name": "stdout",
     "output_type": "stream",
     "text": [
      "1\n",
      "1\n",
      "False\n"
     ]
    }
   ],
   "source": [
    "#1. If both x and y are both 1 then return 1 otherwise o return\n",
    "# (&& and &)\n",
    "print(1 and 1) \n",
    "\n",
    "#2. If x or y are both 1 then return 1 otherwise o return\n",
    "# (||)\n",
    "print(1 or 0)\n",
    "\n",
    "#3.(!)\n",
    "print(not 1)"
   ]
  },
  {
   "cell_type": "markdown",
   "id": "9a376cb9",
   "metadata": {},
   "source": [
    "#### BITWISE OPERATORS"
   ]
  },
  {
   "cell_type": "code",
   "execution_count": 6,
   "id": "1664d7e1",
   "metadata": {},
   "outputs": [
    {
     "name": "stdout",
     "output_type": "stream",
     "text": [
      "2\n",
      "3\n",
      "1\n",
      "-4\n",
      "1\n",
      "20\n"
     ]
    }
   ],
   "source": [
    "# most of the time bitwise operators are use in image processing and computer vision \n",
    "\n",
    "# Bitwise and \n",
    "print(2 & 3)\n",
    "\n",
    "# Bitwise or \n",
    "print(2 | 3 )\n",
    "\n",
    "# Bitwise xor\n",
    "print(2 ^ 3)\n",
    "\n",
    "# Bitwiase NOT(~)\n",
    "print(~3)\n",
    "\n",
    "# Bitwise Right Shift (>>)\n",
    "print(4>>2)\n",
    "\n",
    "# Bitwise Left Shift (<<)\n",
    "print(5<<2)"
   ]
  },
  {
   "cell_type": "markdown",
   "id": "dcc4c48d",
   "metadata": {},
   "source": [
    "#### ASSIGNMENT OPERATORS"
   ]
  },
  {
   "cell_type": "code",
   "execution_count": 28,
   "id": "74a64457",
   "metadata": {},
   "outputs": [
    {
     "name": "stdout",
     "output_type": "stream",
     "text": [
      "x = x + y is 9\n",
      "x = x - y is 4\n",
      "x = x * y is 6\n",
      "x = x % y is 1\n",
      "x = x / y is 0.16666666666666666\n",
      "x = x ** y is 0.0007716049382716048\n"
     ]
    }
   ],
   "source": [
    "#1. = \n",
    "# assign 5 to x \n",
    "x = 5\n",
    "y = 4\n",
    "\n",
    "#2.+=\n",
    "x += y # x = x + y\n",
    "print('x = x + y is',x)\n",
    "\n",
    "#3.-=\n",
    "x -= 6  # x = x - y\n",
    "print('x = x - y is',y)\n",
    "\n",
    "#4.*=\n",
    "x *= 2  # x = x - y\n",
    "print('x = x * y is',x)\n",
    "\n",
    "#5.%=\n",
    "x %= 5  \n",
    "print('x = x % y is',x)\n",
    "\n",
    "#6./=\n",
    "x /= 6 \n",
    "print('x = x / y is',x)\n",
    "\n",
    "#6.**=\n",
    "x **= 4  \n",
    "print('x = x ** y is',x)"
   ]
  },
  {
   "cell_type": "markdown",
   "id": "caefa429",
   "metadata": {},
   "source": [
    "#### MEMBERSHIP OPERATORS"
   ]
  },
  {
   "cell_type": "code",
   "execution_count": 41,
   "id": "ea45d9a0",
   "metadata": {},
   "outputs": [
    {
     "name": "stdout",
     "output_type": "stream",
     "text": [
      "True\n",
      "True\n"
     ]
    }
   ],
   "source": [
    "#In Python, in and not in are the membership operators.\n",
    "#They are used to test whether a value or variable is found in a sequence (string, list, tuple, set and dictionary).\n",
    "\n",
    "#1. in\n",
    "# -> True if value is found in sequence\n",
    "l = 'RangeRover'\n",
    "print('R' in l)\n",
    "\n",
    "#2. not in \n",
    "# ->\n",
    "print(' ' not in l)\n"
   ]
  },
  {
   "cell_type": "markdown",
   "id": "6aa5db7f",
   "metadata": {},
   "source": [
    "#### SPECIAL OPERATORS"
   ]
  },
  {
   "cell_type": "code",
   "execution_count": null,
   "id": "ab0f6c22",
   "metadata": {},
   "outputs": [],
   "source": [
    "# is\n",
    "# is not"
   ]
  },
  {
   "cell_type": "code",
   "execution_count": null,
   "id": "0336489d",
   "metadata": {},
   "outputs": [],
   "source": []
  },
  {
   "cell_type": "markdown",
   "id": "b8053b21",
   "metadata": {},
   "source": [
    "### TASK "
   ]
  },
  {
   "cell_type": "code",
   "execution_count": 60,
   "id": "87874640",
   "metadata": {},
   "outputs": [
    {
     "name": "stdout",
     "output_type": "stream",
     "text": [
      "Enter the number :345\n",
      "Sum of 3 digit number entered by the user : 12\n"
     ]
    }
   ],
   "source": [
    "# program : find the sum of a 3 digit number entered by the user\n",
    "\n",
    "num = int(input('Enter the number :'))\n",
    "\n",
    "# 345%10 -> 5\n",
    "a = num%10 \n",
    "\n",
    "# return a value store in num\n",
    "# value store in num variable is 34\n",
    "num = num//10\n",
    "\n",
    "# 34%10 -> 4\n",
    "b = num%10\n",
    "\n",
    "# value store in num variable is 3\n",
    "num = num//10\n",
    "\n",
    "# 3%10 -> 3\n",
    "c = num % 10\n",
    "\n",
    "print('Sum of 3 digit number entered by the user :',a + b + c)"
   ]
  },
  {
   "cell_type": "code",
   "execution_count": null,
   "id": "7f467ccf",
   "metadata": {},
   "outputs": [],
   "source": []
  },
  {
   "cell_type": "markdown",
   "id": "ab56aac5",
   "metadata": {},
   "source": [
    "### IF-ELSE IN PYTHON"
   ]
  },
  {
   "cell_type": "code",
   "execution_count": null,
   "id": "be3449ef",
   "metadata": {},
   "outputs": [],
   "source": []
  },
  {
   "cell_type": "code",
   "execution_count": 2,
   "id": "13b124f8",
   "metadata": {},
   "outputs": [
    {
     "name": "stdout",
     "output_type": "stream",
     "text": [
      "Enter useremail :aspx@gmail\n",
      "Enter userpassord : 1234\n",
      "Please try again\n"
     ]
    }
   ],
   "source": [
    "user_email = input('Enter useremail :')\n",
    "user_pass = input('Enter userpassord : ')\n",
    "\n",
    "if user_email == 'aspx@gmail.com' and user_pass == '1234': \n",
    "    print(\"Login Successful\")\n",
    "elif user_email == 'aspx@gmail.com' and user_pass != '1234':\n",
    "    print('Plz Enter Correct Userpassword')\n",
    "    user_pass = input('Enter userpassword again :')\n",
    "    if user_pass == '1234':\n",
    "        print('login Successfully !!')\n",
    "    else:\n",
    "        print('Your Account is lock !')\n",
    "else: \n",
    "    print('Please try again')"
   ]
  },
  {
   "cell_type": "code",
   "execution_count": null,
   "id": "204f92be",
   "metadata": {},
   "outputs": [],
   "source": []
  },
  {
   "cell_type": "markdown",
   "id": "280c5282",
   "metadata": {},
   "source": [
    "##### 1.Example of if else & elif :"
   ]
  },
  {
   "cell_type": "code",
   "execution_count": 5,
   "id": "c56871d5",
   "metadata": {},
   "outputs": [
    {
     "name": "stdout",
     "output_type": "stream",
     "text": [
      "Enter 1st number : 90\n",
      "Enter 2nd number : 23\n",
      "Enter 3rd number : 54\n",
      "smallest is 23\n"
     ]
    }
   ],
   "source": [
    "#1.Find the min of 3 givrn numbers\n",
    "#2. Menu Driven Program\n",
    "\n",
    "a = int(input('Enter 1st number : '))\n",
    "b = int(input('Enter 2nd number : '))\n",
    "c = int(input('Enter 3rd number : ')) \n",
    "\n",
    "if a<b and a<c:\n",
    "    print('Smallest is',a)\n",
    "elif b<c :\n",
    "    print('smallest is',b)\n",
    "else:\n",
    "    print('smallest is',c)"
   ]
  },
  {
   "cell_type": "markdown",
   "id": "2d3e6d23",
   "metadata": {},
   "source": [
    "##### 2.Example of If Else & elif :"
   ]
  },
  {
   "cell_type": "code",
   "execution_count": 4,
   "id": "ef1754ef",
   "metadata": {},
   "outputs": [
    {
     "name": "stdout",
     "output_type": "stream",
     "text": [
      "Enter the 1st number :5\n",
      "Enter the 2nd number :6\n",
      "Enter the operation :/\n",
      "Division is 0.8333333333333334\n"
     ]
    }
   ],
   "source": [
    "# Create simple Menu Driven Program to calculate addintion ,subtraction multiplication and Divisioin\n",
    "\n",
    "num1 = int(input('Enter the 1st number :'))\n",
    "num2 = int(input('Enter the 2nd number :'))\n",
    "\n",
    "op = input('Enter the operation :')\n",
    "\n",
    "if op == '+':\n",
    "    print('Addition is ',num1 + num2)\n",
    "elif op == '-':\n",
    "    print('Subtraction is',num1 - num2)\n",
    "elif op == '*':\n",
    "    print('Multiplication is',num1 * num2)\n",
    "elif op == '/':\n",
    "    print('Division is', num1/num2)\n",
    "else:\n",
    "    print('!! Enter valid operation !!')\n"
   ]
  },
  {
   "cell_type": "markdown",
   "id": "0e43d4cb",
   "metadata": {},
   "source": [
    "#####  3.Example of If Else and elif:"
   ]
  },
  {
   "cell_type": "code",
   "execution_count": 10,
   "id": "10cb3f07",
   "metadata": {},
   "outputs": [
    {
     "name": "stdout",
     "output_type": "stream",
     "text": [
      "\n",
      " Hi , How can help you !\n",
      " 1. Enter 1 for pin change \n",
      " 2. Enter 2 for balance check\n",
      " 3. Enter 3 for withdrawl\n",
      " 4. Enter 4 for exist\n",
      "3\n",
      "Enter withdrawl amount :34\n",
      "withdrawl amount is  34\n"
     ]
    }
   ],
   "source": [
    "# simple atm conversion program menu driven program using if else and elif \n",
    "menu = input('''\n",
    " Hi , How can help you !\n",
    " 1. Enter 1 for pin change \n",
    " 2. Enter 2 for balance check\n",
    " 3. Enter 3 for withdrawl\n",
    " 4. Enter 4 for exist\n",
    "''')\n",
    "\n",
    "if menu == '1':\n",
    "    pin = int(input('Enter pin change '))\n",
    "    print('Your pin is ',pin)\n",
    "elif menu == '2':\n",
    "    print('your balace is 10000$')\n",
    "elif menu == '3':\n",
    "    withdrawl_amount = int(input('Enter withdrawl amount :'))\n",
    "    print('withdrawl amount is',withdrawl_amount)\n",
    "elif menu == '4':\n",
    "    print('Existing Successfully')"
   ]
  },
  {
   "cell_type": "code",
   "execution_count": null,
   "id": "61976eca",
   "metadata": {},
   "outputs": [],
   "source": []
  },
  {
   "cell_type": "markdown",
   "id": "541bd765",
   "metadata": {},
   "source": [
    "### MODULES IN PYTHON "
   ]
  },
  {
   "cell_type": "code",
   "execution_count": 6,
   "id": "2ac86c9f",
   "metadata": {},
   "outputs": [],
   "source": [
    "# math\n",
    "# keywords\n",
    "# random"
   ]
  },
  {
   "cell_type": "code",
   "execution_count": 5,
   "id": "6303cbb4",
   "metadata": {},
   "outputs": [
    {
     "name": "stdout",
     "output_type": "stream",
     "text": [
      "120\n",
      "6\n"
     ]
    }
   ],
   "source": [
    "# math\n",
    "import math\n",
    "\n",
    "print(math.factorial(5))\n",
    "print(math.floor(6.8))"
   ]
  },
  {
   "cell_type": "code",
   "execution_count": 16,
   "id": "ffb6522f",
   "metadata": {},
   "outputs": [
    {
     "name": "stdout",
     "output_type": "stream",
     "text": [
      "['False', 'None', 'True', 'and', 'as', 'assert', 'async', 'await', 'break', 'class', 'continue', 'def', 'del', 'elif', 'else', 'except', 'finally', 'for', 'from', 'global', 'if', 'import', 'in', 'is', 'lambda', 'nonlocal', 'not', 'or', 'pass', 'raise', 'return', 'try', 'while', 'with', 'yield']\n"
     ]
    }
   ],
   "source": [
    "# keywords\n",
    "# show the reserved \n",
    "import keyword\n",
    "print(keyword.kwlist)"
   ]
  },
  {
   "cell_type": "code",
   "execution_count": 15,
   "id": "6b3dfe7c",
   "metadata": {},
   "outputs": [
    {
     "name": "stdout",
     "output_type": "stream",
     "text": [
      "74\n"
     ]
    }
   ],
   "source": [
    "# random\n",
    "# generate random number with the help of this module\n",
    "import random\n",
    "print(random.randint(1,100))"
   ]
  },
  {
   "cell_type": "code",
   "execution_count": 18,
   "id": "43c5ee85",
   "metadata": {},
   "outputs": [
    {
     "name": "stdout",
     "output_type": "stream",
     "text": [
      "2022-12-04 11:04:50.288018\n"
     ]
    }
   ],
   "source": [
    "# Datetime module\n",
    "# use in pandas\n",
    "\n",
    "import datetime \n",
    "print(datetime.datetime.now())"
   ]
  },
  {
   "cell_type": "code",
   "execution_count": null,
   "id": "0e2a50ff",
   "metadata": {},
   "outputs": [],
   "source": []
  },
  {
   "cell_type": "code",
   "execution_count": null,
   "id": "6f987a9e",
   "metadata": {},
   "outputs": [],
   "source": []
  }
 ],
 "metadata": {
  "kernelspec": {
   "display_name": "Python 3 (ipykernel)",
   "language": "python",
   "name": "python3"
  },
  "language_info": {
   "codemirror_mode": {
    "name": "ipython",
    "version": 3
   },
   "file_extension": ".py",
   "mimetype": "text/x-python",
   "name": "python",
   "nbconvert_exporter": "python",
   "pygments_lexer": "ipython3",
   "version": "3.10.7"
  }
 },
 "nbformat": 4,
 "nbformat_minor": 5
}
