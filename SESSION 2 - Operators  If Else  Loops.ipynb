{
 "cells": [
  {
   "cell_type": "raw",
   "id": "7df7c19e",
   "metadata": {},
   "source": [
    "### OPERATORS IN PYTHON"
   ]
  },
  {
   "cell_type": "code",
   "execution_count": null,
   "id": "4dddb921",
   "metadata": {},
   "outputs": [],
   "source": [
    "# Arthemetic Operators\n",
    "# Relational Operators\n",
    "# Logical Operators\n",
    "# Bitwise Operators\n",
    "# Assignment Operators\n",
    "# Membership Operators"
   ]
  },
  {
   "cell_type": "markdown",
   "id": "d79fe05d",
   "metadata": {},
   "source": [
    "#### ARTHEMETIC OPERATIONS"
   ]
  },
  {
   "cell_type": "code",
   "execution_count": 15,
   "id": "64a94214",
   "metadata": {},
   "outputs": [
    {
     "name": "stdout",
     "output_type": "stream",
     "text": [
      "3\n",
      "-1\n",
      "80\n",
      "2.5\n",
      "2.0\n",
      "1\n",
      "25\n"
     ]
    }
   ],
   "source": [
    "print(1+2) #Addition\n",
    "print(2-3) #Subtraction\n",
    "print(4*20) #Multiplication\n",
    "print(5/2) #division\n",
    "\n",
    "# Here Both numbers are integer then answer is integer number otherwise float number and avoiding number after decimal point  \n",
    "print(5//2.0) #Integer(Truncating) Division or Floor Division\n",
    "print(5%2) #Modulus remender as output\n",
    "\n",
    "print(5**2) # Exponetiation"
   ]
  },
  {
   "cell_type": "markdown",
   "id": "052941d5",
   "metadata": {},
   "source": [
    "#### RELATIONAL(COMPARISION) OPERATORS"
   ]
  },
  {
   "cell_type": "code",
   "execution_count": 17,
   "id": "5b65adb4",
   "metadata": {},
   "outputs": [
    {
     "name": "stdout",
     "output_type": "stream",
     "text": [
      "False\n",
      "True\n",
      "False\n",
      "True\n",
      "True\n",
      "True\n"
     ]
    }
   ],
   "source": [
    "print(4>5)\n",
    "print(4<5)\n",
    "print(4>=5)\n",
    "print(4<=5)\n",
    "print(4==4)\n",
    "print(4!=3)"
   ]
  },
  {
   "cell_type": "markdown",
   "id": "52fb7890",
   "metadata": {},
   "source": [
    "#### LOGICAL OPERATORS"
   ]
  },
  {
   "cell_type": "code",
   "execution_count": 25,
   "id": "b458624c",
   "metadata": {
    "scrolled": true
   },
   "outputs": [
    {
     "name": "stdout",
     "output_type": "stream",
     "text": [
      "1\n",
      "1\n",
      "False\n"
     ]
    }
   ],
   "source": [
    "#1. If both x and y are both 1 then return 1 otherwise o return\n",
    "# (&& and &)\n",
    "print(1 and 1) \n",
    "\n",
    "#2. If x or y are both 1 then return 1 otherwise o return\n",
    "# (||)\n",
    "print(1 or 0)\n",
    "\n",
    "#3.(!)\n",
    "print(not 1)"
   ]
  },
  {
   "cell_type": "markdown",
   "id": "9a376cb9",
   "metadata": {},
   "source": [
    "#### BITWISE OPERATORS"
   ]
  },
  {
   "cell_type": "code",
   "execution_count": 6,
   "id": "1664d7e1",
   "metadata": {},
   "outputs": [
    {
     "name": "stdout",
     "output_type": "stream",
     "text": [
      "2\n",
      "3\n",
      "1\n",
      "-4\n",
      "1\n",
      "20\n"
     ]
    }
   ],
   "source": [
    "# most of the time bitwise operators are use in image processing and computer vision \n",
    "\n",
    "# Bitwise and \n",
    "print(2 & 3)\n",
    "\n",
    "# Bitwise or \n",
    "print(2 | 3 )\n",
    "\n",
    "# Bitwise xor\n",
    "print(2 ^ 3)\n",
    "\n",
    "# Bitwiase NOT(~)\n",
    "print(~3)\n",
    "\n",
    "# Bitwise Right Shift (>>)\n",
    "print(4>>2)\n",
    "\n",
    "# Bitwise Left Shift (<<)\n",
    "print(5<<2)"
   ]
  },
  {
   "cell_type": "markdown",
   "id": "dcc4c48d",
   "metadata": {},
   "source": [
    "#### ASSIGNMENT OPERATORS"
   ]
  },
  {
   "cell_type": "code",
   "execution_count": 28,
   "id": "74a64457",
   "metadata": {},
   "outputs": [
    {
     "name": "stdout",
     "output_type": "stream",
     "text": [
      "x = x + y is 9\n",
      "x = x - y is 4\n",
      "x = x * y is 6\n",
      "x = x % y is 1\n",
      "x = x / y is 0.16666666666666666\n",
      "x = x ** y is 0.0007716049382716048\n"
     ]
    }
   ],
   "source": [
    "#1. = \n",
    "# assign 5 to x \n",
    "x = 5\n",
    "y = 4\n",
    "\n",
    "#2.+=\n",
    "x += y # x = x + y\n",
    "print('x = x + y is',x)\n",
    "\n",
    "#3.-=\n",
    "x -= 6  # x = x - y\n",
    "print('x = x - y is',y)\n",
    "\n",
    "#4.*=\n",
    "x *= 2  # x = x - y\n",
    "print('x = x * y is',x)\n",
    "\n",
    "#5.%=\n",
    "x %= 5  \n",
    "print('x = x % y is',x)\n",
    "\n",
    "#6./=\n",
    "x /= 6 \n",
    "print('x = x / y is',x)\n",
    "\n",
    "#6.**=\n",
    "x **= 4  \n",
    "print('x = x ** y is',x)"
   ]
  },
  {
   "cell_type": "markdown",
   "id": "caefa429",
   "metadata": {},
   "source": [
    "#### MEMBERSHIP OPERATORS"
   ]
  },
  {
   "cell_type": "code",
   "execution_count": 41,
   "id": "ea45d9a0",
   "metadata": {},
   "outputs": [
    {
     "name": "stdout",
     "output_type": "stream",
     "text": [
      "True\n",
      "True\n"
     ]
    }
   ],
   "source": [
    "#In Python, in and not in are the membership operators.\n",
    "#They are used to test whether a value or variable is found in a sequence (string, list, tuple, set and dictionary).\n",
    "\n",
    "#1. in\n",
    "# -> True if value is found in sequence\n",
    "l = 'RangeRover'\n",
    "print('R' in l)\n",
    "\n",
    "#2. not in \n",
    "# ->\n",
    "print(' ' not in l)\n"
   ]
  },
  {
   "cell_type": "markdown",
   "id": "6aa5db7f",
   "metadata": {},
   "source": [
    "#### SPECIAL OPERATORS"
   ]
  },
  {
   "cell_type": "code",
   "execution_count": null,
   "id": "ab0f6c22",
   "metadata": {},
   "outputs": [],
   "source": [
    "# is\n",
    "# is not"
   ]
  },
  {
   "cell_type": "code",
   "execution_count": null,
   "id": "0336489d",
   "metadata": {},
   "outputs": [],
   "source": []
  },
  {
   "cell_type": "markdown",
   "id": "b8053b21",
   "metadata": {},
   "source": [
    "### TASK "
   ]
  },
  {
   "cell_type": "code",
   "execution_count": 60,
   "id": "87874640",
   "metadata": {},
   "outputs": [
    {
     "name": "stdout",
     "output_type": "stream",
     "text": [
      "Enter the number :345\n",
      "Sum of 3 digit number entered by the user : 12\n"
     ]
    }
   ],
   "source": [
    "# program : find the sum of a 3 digit number entered by the user\n",
    "\n",
    "num = int(input('Enter the number :'))\n",
    "\n",
    "# 345%10 -> 5\n",
    "a = num%10 \n",
    "\n",
    "# return a value store in num\n",
    "# value store in num variable is 34\n",
    "num = num//10\n",
    "\n",
    "# 34%10 -> 4\n",
    "b = num%10\n",
    "\n",
    "# value store in num variable is 3\n",
    "num = num//10\n",
    "\n",
    "# 3%10 -> 3\n",
    "c = num % 10\n",
    "\n",
    "print('Sum of 3 digit number entered by the user :',a + b + c)"
   ]
  },
  {
   "cell_type": "code",
   "execution_count": null,
   "id": "7f467ccf",
   "metadata": {},
   "outputs": [],
   "source": []
  },
  {
   "cell_type": "markdown",
   "id": "ab56aac5",
   "metadata": {},
   "source": [
    "### IF-ELSE IN PYTHON"
   ]
  },
  {
   "cell_type": "code",
   "execution_count": null,
   "id": "be3449ef",
   "metadata": {},
   "outputs": [],
   "source": []
  },
  {
   "cell_type": "code",
   "execution_count": 2,
   "id": "13b124f8",
   "metadata": {},
   "outputs": [
    {
     "name": "stdout",
     "output_type": "stream",
     "text": [
      "Enter useremail :aspx@gmail\n",
      "Enter userpassord : 1234\n",
      "Please try again\n"
     ]
    }
   ],
   "source": [
    "user_email = input('Enter useremail :')\n",
    "user_pass = input('Enter userpassord : ')\n",
    "\n",
    "if user_email == 'aspx@gmail.com' and user_pass == '1234': \n",
    "    print(\"Login Successful\")\n",
    "elif user_email == 'aspx@gmail.com' and user_pass != '1234':\n",
    "    print('Plz Enter Correct Userpassword')\n",
    "    user_pass = input('Enter userpassword again :')\n",
    "    if user_pass == '1234':\n",
    "        print('login Successfully !!')\n",
    "    else:\n",
    "        print('Your Account is lock !')\n",
    "else: \n",
    "    print('Please try again')"
   ]
  },
  {
   "cell_type": "code",
   "execution_count": null,
   "id": "204f92be",
   "metadata": {},
   "outputs": [],
   "source": []
  },
  {
   "cell_type": "markdown",
   "id": "280c5282",
   "metadata": {},
   "source": [
    "##### 1.Example of if else & elif :"
   ]
  },
  {
   "cell_type": "code",
   "execution_count": 5,
   "id": "c56871d5",
   "metadata": {},
   "outputs": [
    {
     "name": "stdout",
     "output_type": "stream",
     "text": [
      "Enter 1st number : 90\n",
      "Enter 2nd number : 23\n",
      "Enter 3rd number : 54\n",
      "smallest is 23\n"
     ]
    }
   ],
   "source": [
    "#1.Find the min of 3 givrn numbers\n",
    "#2. Menu Driven Program\n",
    "\n",
    "a = int(input('Enter 1st number : '))\n",
    "b = int(input('Enter 2nd number : '))\n",
    "c = int(input('Enter 3rd number : ')) \n",
    "\n",
    "if a<b and a<c:\n",
    "    print('Smallest is',a)\n",
    "elif b<c :\n",
    "    print('smallest is',b)\n",
    "else:\n",
    "    print('smallest is',c)"
   ]
  },
  {
   "cell_type": "markdown",
   "id": "44df05b3",
   "metadata": {},
   "source": [
    "##### 2.Example of If Else & elif :"
   ]
  },
  {
   "cell_type": "code",
   "execution_count": 4,
   "id": "ef1754ef",
   "metadata": {},
   "outputs": [
    {
     "name": "stdout",
     "output_type": "stream",
     "text": [
      "Enter the 1st number :5\n",
      "Enter the 2nd number :6\n",
      "Enter the operation :/\n",
      "Division is 0.8333333333333334\n"
     ]
    }
   ],
   "source": [
    "# Create simple Menu Driven Program to calculate addintion ,subtraction multiplication and Divisioin\n",
    "\n",
    "num1 = int(input('Enter the 1st number :'))\n",
    "num2 = int(input('Enter the 2nd number :'))\n",
    "\n",
    "op = input('Enter the operation :')\n",
    "\n",
    "if op == '+':\n",
    "    print('Addition is ',num1 + num2)\n",
    "elif op == '-':\n",
    "    print('Subtraction is',num1 - num2)\n",
    "elif op == '*':\n",
    "    print('Multiplication is',num1 * num2)\n",
    "elif op == '/':\n",
    "    print('Division is', num1/num2)\n",
    "else:\n",
    "    print('!! Enter valid operation !!')\n"
   ]
  },
  {
   "cell_type": "markdown",
   "id": "e146ba7b",
   "metadata": {},
   "source": [
    "#####  3.Example of If Else and elif:"
   ]
  },
  {
   "cell_type": "code",
   "execution_count": 10,
   "id": "10cb3f07",
   "metadata": {},
   "outputs": [
    {
     "name": "stdout",
     "output_type": "stream",
     "text": [
      "\n",
      " Hi , How can help you !\n",
      " 1. Enter 1 for pin change \n",
      " 2. Enter 2 for balance check\n",
      " 3. Enter 3 for withdrawl\n",
      " 4. Enter 4 for exist\n",
      "3\n",
      "Enter withdrawl amount :34\n",
      "withdrawl amount is  34\n"
     ]
    }
   ],
   "source": [
    "# simple atm conversion program menu driven program using if else and elif \n",
    "menu = input('''\n",
    " Hi , How can help you !\n",
    " 1. Enter 1 for pin change \n",
    " 2. Enter 2 for balance check\n",
    " 3. Enter 3 for withdrawl\n",
    " 4. Enter 4 for exist\n",
    "''')\n",
    "\n",
    "if menu == '1':\n",
    "    pin = int(input('Enter pin change '))\n",
    "    print('Your pin is ',pin)\n",
    "elif menu == '2':\n",
    "    print('your balace is 10000$')\n",
    "elif menu == '3':\n",
    "    withdrawl_amount = int(input('Enter withdrawl amount :'))\n",
    "    print('withdrawl amount is',withdrawl_amount)\n",
    "elif menu == '4':\n",
    "    print('Existing Successfully')"
   ]
  },
  {
   "cell_type": "code",
   "execution_count": null,
   "id": "61976eca",
   "metadata": {},
   "outputs": [],
   "source": []
  },
  {
   "cell_type": "markdown",
   "id": "22f9232d",
   "metadata": {},
   "source": [
    "### MODULES IN PYTHON "
   ]
  },
  {
   "cell_type": "code",
   "execution_count": 6,
   "id": "2ac86c9f",
   "metadata": {},
   "outputs": [],
   "source": [
    "# math\n",
    "# keywords\n",
    "# random"
   ]
  },
  {
   "cell_type": "code",
   "execution_count": 5,
   "id": "6303cbb4",
   "metadata": {},
   "outputs": [
    {
     "name": "stdout",
     "output_type": "stream",
     "text": [
      "120\n",
      "6\n"
     ]
    }
   ],
   "source": [
    "# math\n",
    "import math\n",
    "\n",
    "print(math.factorial(5))\n",
    "print(math.floor(6.8))"
   ]
  },
  {
   "cell_type": "code",
   "execution_count": 16,
   "id": "ffb6522f",
   "metadata": {},
   "outputs": [
    {
     "name": "stdout",
     "output_type": "stream",
     "text": [
      "['False', 'None', 'True', 'and', 'as', 'assert', 'async', 'await', 'break', 'class', 'continue', 'def', 'del', 'elif', 'else', 'except', 'finally', 'for', 'from', 'global', 'if', 'import', 'in', 'is', 'lambda', 'nonlocal', 'not', 'or', 'pass', 'raise', 'return', 'try', 'while', 'with', 'yield']\n"
     ]
    }
   ],
   "source": [
    "# keywords\n",
    "# show the reserved \n",
    "import keyword\n",
    "print(keyword.kwlist)"
   ]
  },
  {
   "cell_type": "code",
   "execution_count": 15,
   "id": "6b3dfe7c",
   "metadata": {},
   "outputs": [
    {
     "name": "stdout",
     "output_type": "stream",
     "text": [
      "74\n"
     ]
    }
   ],
   "source": [
    "# random\n",
    "# generate random number with the help of this module\n",
    "import random\n",
    "print(random.randint(1,100))"
   ]
  },
  {
   "cell_type": "code",
   "execution_count": 18,
   "id": "43c5ee85",
   "metadata": {},
   "outputs": [
    {
     "name": "stdout",
     "output_type": "stream",
     "text": [
      "2022-12-04 11:04:50.288018\n"
     ]
    }
   ],
   "source": [
    "# Datetime module\n",
    "# use in pandas\n",
    "\n",
    "import datetime \n",
    "print(datetime.datetime.now())"
   ]
  },
  {
   "cell_type": "code",
   "execution_count": null,
   "id": "0e2a50ff",
   "metadata": {},
   "outputs": [],
   "source": []
  },
  {
   "cell_type": "markdown",
   "id": "38758346",
   "metadata": {},
   "source": [
    "### LOOPS IN PYTHON"
   ]
  },
  {
   "cell_type": "code",
   "execution_count": null,
   "id": "5369ddca",
   "metadata": {},
   "outputs": [],
   "source": [
    "# In computer programming, loops are used to repeat a block of code.\n",
    "# For example, if we want to show a message 100 times, then we can use a loop. \n",
    "#There are 2 types of loops in Python:\n",
    "#1.While loop\n",
    "#2.For loop"
   ]
  },
  {
   "cell_type": "markdown",
   "id": "8ad82fc8",
   "metadata": {},
   "source": [
    "#### WHILE LOOP IN PYTHON"
   ]
  },
  {
   "cell_type": "markdown",
   "id": "e48af13f",
   "metadata": {},
   "source": [
    "##### EXAMPLE OF WHILE LOOP : "
   ]
  },
  {
   "cell_type": "code",
   "execution_count": 7,
   "id": "a4821bbd",
   "metadata": {},
   "outputs": [
    {
     "name": "stdout",
     "output_type": "stream",
     "text": [
      "Enter the number :2\n",
      "2 * 1 = 2\n",
      "2 * 2 = 4\n",
      "2 * 3 = 6\n",
      "2 * 4 = 8\n",
      "2 * 5 = 10\n",
      "2 * 6 = 12\n",
      "2 * 7 = 14\n",
      "2 * 8 = 16\n",
      "2 * 9 = 18\n",
      "2 * 10 = 20\n"
     ]
    }
   ],
   "source": [
    "# Program to print the table using while loop .\\\n",
    "# https://pythontutor.com/python-debugger.html#mode=edit\n",
    "num = int(input('Enter the number :'))\n",
    "i = 1\n",
    "while i<11:\n",
    "    print(num,'*',i ,'=',num * i)\n",
    "    i += 1"
   ]
  },
  {
   "cell_type": "markdown",
   "id": "3b1bf99d",
   "metadata": {},
   "source": [
    "#### EXAMPLE OF WHILE LOOP WITH ELSE : "
   ]
  },
  {
   "cell_type": "code",
   "execution_count": 8,
   "id": "bd91bddf",
   "metadata": {},
   "outputs": [
    {
     "name": "stdout",
     "output_type": "stream",
     "text": [
      "1\n",
      "2\n",
      "limit crossed\n"
     ]
    }
   ],
   "source": [
    "x = 1\n",
    "while x<3:\n",
    "    print(x)\n",
    "    x += 1   \n",
    "else:\n",
    "    print('limit crossed')"
   ]
  },
  {
   "cell_type": "markdown",
   "id": "db2d33b8",
   "metadata": {},
   "source": [
    "#### GUESSING GAME WITH WHILE LOOP AND RANDOM MODULE:"
   ]
  },
  {
   "cell_type": "code",
   "execution_count": 1,
   "id": "400ae4a7",
   "metadata": {},
   "outputs": [
    {
     "name": "stdout",
     "output_type": "stream",
     "text": [
      "Guess the number : 40\n",
      "Guess Lower Number\n",
      "Guess the number : 30\n",
      "Guess Lower Number\n",
      "Guess the number : 20\n",
      "Guess Higher Number\n",
      "Guess the number : 25\n",
      "Guess Lower Number\n",
      "Guess the number : 23\n",
      "Guess Lower Number\n",
      "Guess the number : 22\n",
      "Guess Lower Number\n",
      "Guess the number : 21\n",
      ">>>> Correct Guess <<<<\n",
      "Number of attempt : 7\n"
     ]
    }
   ],
   "source": [
    "import random\n",
    "\n",
    "#generate a random number between 1 to 100\n",
    "jackpot = random.randint(1,100)\n",
    "#print(jackpot)\n",
    "\n",
    "Counter = 1\n",
    "\n",
    "guess = int(input('Guess the number : '))\n",
    "\n",
    "while guess != jackpot:\n",
    "    if guess<jackpot:\n",
    "        print('Guess Higher Number')\n",
    "    else:\n",
    "        print('Guess Lower Number')\n",
    "    \n",
    "    guess = int(input('Guess the number : '))\n",
    "    Counter += 1\n",
    "else:\n",
    "    print('>>>> Correct Guess <<<<')\n",
    "    print('Number of attempt :',Counter)\n",
    "    \n",
    "    "
   ]
  },
  {
   "cell_type": "markdown",
   "id": "90939f6e",
   "metadata": {},
   "source": [
    "### FOR LOOP IN PYTHON"
   ]
  },
  {
   "cell_type": "code",
   "execution_count": null,
   "id": "c6214c92",
   "metadata": {},
   "outputs": [],
   "source": [
    "# In Python, the for loop is used to run a block of code for a certain number of times. \n",
    "# It is used to iterate over any sequences such as list, tuple, string, etc.\n",
    "# for loop uses range() function \n",
    "# The range() function returns a sequence of numbers between the give range.\n",
    "# syntax \n",
    "# -> range(start, stop, step)"
   ]
  },
  {
   "cell_type": "code",
   "execution_count": 25,
   "id": "a990734a",
   "metadata": {},
   "outputs": [
    {
     "name": "stdout",
     "output_type": "stream",
     "text": [
      "O\n",
      "n\n",
      "e\n",
      "P\n",
      "i\n",
      "e\n",
      "c\n",
      "e\n",
      "12\n",
      "3\n",
      "4\n",
      "2\n",
      "64\n",
      "33\n"
     ]
    }
   ],
   "source": [
    "for items in 'OnePiece' :\n",
    "    print(items)\n",
    "\n",
    "l = [12,3,4,2,64,33]\n",
    "for i in l:\n",
    "    print(i)"
   ]
  },
  {
   "cell_type": "code",
   "execution_count": 13,
   "id": "1949b28f",
   "metadata": {},
   "outputs": [
    {
     "name": "stdout",
     "output_type": "stream",
     "text": [
      "1\n",
      "3\n",
      "5\n",
      "7\n",
      "9\n",
      "11\n",
      "13\n",
      "15\n",
      "17\n",
      "19\n"
     ]
    }
   ],
   "source": [
    "# create a sequence of numbers from 0 to 3\n",
    "numbers = range(1,11)\n",
    "num = range(1,20,2)\n",
    "# iterating through the sequence of numbers\n",
    "#for i in numbers:\n",
    "for i in num:\n",
    "    print(i)"
   ]
  },
  {
   "cell_type": "markdown",
   "id": "f79a147a",
   "metadata": {},
   "source": [
    "#### EXAMPLE OF FOR LOOP:\n",
    "##### The current population of a town 10000, The popultion of the town is increasing at the rate of 10% per year. You have to write a program to fin out the population at the end o each of the last 10 years."
   ]
  },
  {
   "cell_type": "code",
   "execution_count": 6,
   "id": "9f9306e3",
   "metadata": {},
   "outputs": [
    {
     "name": "stdout",
     "output_type": "stream",
     "text": [
      "10 : 10000\n",
      "9 : 9090\n",
      "8 : 8264\n",
      "7 : 7513\n",
      "6 : 6830\n",
      "5 : 6209\n",
      "4 : 5644\n",
      "3 : 5131\n",
      "2 : 4665\n",
      "1 : 4240\n"
     ]
    }
   ],
   "source": [
    "curr_pop = 10000\n",
    "for i in range(10,0,-1):\n",
    "    print(i,':',int(curr_pop))\n",
    "    curr_pop = curr_pop/1.1\n",
    "    "
   ]
  },
  {
   "cell_type": "markdown",
   "id": "6a7c87c4",
   "metadata": {},
   "source": [
    "#### EXAMPLE OF FOR LOOP:\n",
    "##### Sequence sum  : 1/1! +2/2! + 3/3! +...."
   ]
  },
  {
   "cell_type": "code",
   "execution_count": 29,
   "id": "8c91f5bd",
   "metadata": {},
   "outputs": [
    {
     "name": "stdout",
     "output_type": "stream",
     "text": [
      "0 : a\n",
      "1 : t\n",
      "2 : t\n",
      "3 : a\n",
      "4 : c\n",
      "5 : k\n",
      "End of the for loop\n"
     ]
    }
   ],
   "source": [
    "st = \"attack\"\n",
    "n = len(st)\n",
    "\n",
    "for i in range(n):\n",
    "    print(i,':',st[i])\n",
    "else:\n",
    "    print('End of the for loop')"
   ]
  },
  {
   "cell_type": "code",
   "execution_count": 13,
   "id": "a218a2ba",
   "metadata": {},
   "outputs": [
    {
     "name": "stdout",
     "output_type": "stream",
     "text": [
      "Enter the number :3\n",
      "2.5\n"
     ]
    }
   ],
   "source": [
    "n = int(input('Enter the number :'))\n",
    "\n",
    "result = 0\n",
    "fact = 1\n",
    "for i in range(1,n+1):\n",
    "    fact = fact * i\n",
    "    result = result + i/fact\n",
    "print(result)\n",
    "\n"
   ]
  },
  {
   "cell_type": "markdown",
   "id": "4e14e726",
   "metadata": {},
   "source": [
    "### NESTED LOOP IN PYTHON :\n"
   ]
  },
  {
   "cell_type": "code",
   "execution_count": 30,
   "id": "22aef797",
   "metadata": {
    "scrolled": true
   },
   "outputs": [
    {
     "name": "stdout",
     "output_type": "stream",
     "text": [
      "Outer loop: 0\n",
      " >Inner loop : 0\n",
      " >Inner loop : 1\n",
      " >Inner loop : 2\n",
      "Outer loop: 1\n",
      " >Inner loop : 0\n",
      " >Inner loop : 1\n",
      " >Inner loop : 2\n",
      "Outer loop: 2\n",
      " >Inner loop : 0\n",
      " >Inner loop : 1\n",
      " >Inner loop : 2\n"
     ]
    }
   ],
   "source": [
    "# printing unique pair\n",
    "\n",
    "#outer for loop\n",
    "for i in range(3):\n",
    "    print(\"Outer loop:\",i)\n",
    "    # inner for loop\n",
    "    for j in range(3):\n",
    "        print(\" >Inner loop :\",j)"
   ]
  },
  {
   "cell_type": "markdown",
   "id": "5b82d92d",
   "metadata": {},
   "source": [
    "#### EXAMPLE OF NESTED FOR LOOP : "
   ]
  },
  {
   "cell_type": "code",
   "execution_count": 2,
   "id": "30f53e7b",
   "metadata": {},
   "outputs": [
    {
     "name": "stdout",
     "output_type": "stream",
     "text": [
      "Enter the rows for pattern : 5\n",
      "*\n",
      "**\n",
      "***\n",
      "****\n",
      "*****\n"
     ]
    }
   ],
   "source": [
    "# [Interview Question]\n",
    "# pattern :\n",
    "#*\n",
    "#**\n",
    "#***\n",
    "#****\n",
    "#*****\n",
    "\n",
    "rows = int(input('Enter the rows for pattern : '))\n",
    "\n",
    "for i in range(1, rows + 1):\n",
    "    for j in range(1,i+1):\n",
    "        print('*',end='')\n",
    "    print()  \n",
    "    "
   ]
  },
  {
   "cell_type": "code",
   "execution_count": 3,
   "id": "8f17bce0",
   "metadata": {},
   "outputs": [
    {
     "name": "stdout",
     "output_type": "stream",
     "text": [
      "Enter the number of rows :5\n",
      "1\n",
      "121\n",
      "12321\n",
      "1234321\n",
      "123454321\n"
     ]
    }
   ],
   "source": [
    "# pattern :\n",
    "#1\n",
    "#121\n",
    "#12321\n",
    "#1234321\n",
    "\n",
    "rows = int(input('Enter the number of rows :'))\n",
    "\n",
    "for i in range(1, rows+1):\n",
    "    for j in range(1,i+1):\n",
    "        print(j,end='')\n",
    "    for k in range(i-1,0,-1):\n",
    "        print(k, end='')\n",
    "    print()\n",
    "    "
   ]
  },
  {
   "cell_type": "markdown",
   "id": "0bfaf007",
   "metadata": {},
   "source": [
    "### LOOP CONTROL STATEMENT IN PYTHON :\n",
    "##### BREAK  STATEMENT:\n",
    "###### Linear search is a example of break , if we want to search something in database and it found at certain number range then we can break means stop the searching name in database and comes out form database without contiune the searching in the database"
   ]
  },
  {
   "cell_type": "code",
   "execution_count": 1,
   "id": "7154cd8d",
   "metadata": {},
   "outputs": [
    {
     "name": "stdout",
     "output_type": "stream",
     "text": [
      "0\n",
      "1\n",
      "2\n",
      "3\n",
      "4\n"
     ]
    }
   ],
   "source": [
    "for i in range(10):\n",
    "    if i == 5:\n",
    "        break\n",
    "    print(i)"
   ]
  },
  {
   "cell_type": "code",
   "execution_count": 1,
   "id": "b2aaf159",
   "metadata": {},
   "outputs": [
    {
     "name": "stdout",
     "output_type": "stream",
     "text": [
      "Enter lower range :10\n",
      "Enter upper range :100\n",
      "11\n",
      "13\n",
      "17\n",
      "19\n",
      "23\n",
      "29\n",
      "31\n",
      "37\n",
      "41\n",
      "43\n",
      "47\n",
      "53\n",
      "59\n",
      "61\n",
      "67\n",
      "71\n",
      "73\n",
      "79\n",
      "83\n",
      "89\n",
      "97\n"
     ]
    }
   ],
   "source": [
    "# user give the range and we have to find the prime number between the that range\n",
    "# 7, 11....\n",
    "lower = int(input('Enter lower range :'))\n",
    "upper = int(input('Enter upper range :'))\n",
    "\n",
    "for i in range(lower , upper+1):\n",
    "    for j in range(2, i):\n",
    "        if i%j == 0:\n",
    "            break\n",
    "    else:\n",
    "        print(i)\n"
   ]
  },
  {
   "cell_type": "markdown",
   "id": "0d1f12dc",
   "metadata": {},
   "source": [
    "##### CONTINUE STATEMENT \n",
    "##### The 'continue' statement is used to skip the current iteration of the loop and the control flow of the program goes to the next iteration."
   ]
  },
  {
   "cell_type": "code",
   "execution_count": 3,
   "id": "54d1134e",
   "metadata": {},
   "outputs": [
    {
     "name": "stdout",
     "output_type": "stream",
     "text": [
      "1\n",
      "2\n",
      "3\n",
      "4\n",
      "6\n",
      "7\n",
      "8\n",
      "9\n"
     ]
    }
   ],
   "source": [
    "# Example : Skip the product in \n",
    "# Continue\n",
    "for i in range(1,10):\n",
    "    if i == 5:\n",
    "        continue\n",
    "    print(i)\n",
    "    "
   ]
  },
  {
   "cell_type": "markdown",
   "id": "9e17f852",
   "metadata": {},
   "source": [
    "##### PASS STATEMENT :\n",
    "###### In Python programming, the pass statement is a null statement which can be used as a placeholder for future code.\n",
    "###### Suppose we have a loop or a function that is not implemented yet, but we want to implement it in the future. In such cases, we can use the pass statement."
   ]
  },
  {
   "cell_type": "code",
   "execution_count": 5,
   "id": "aea697f9",
   "metadata": {},
   "outputs": [],
   "source": [
    "for i in range(1,10):\n",
    "    pass "
   ]
  },
  {
   "cell_type": "markdown",
   "id": "ec54ce5b",
   "metadata": {},
   "source": [
    "#### NOTE : while vs for loop\n",
    "#### While loop has cartetia to stop the loop means it has condition to stop \n",
    "#### V/S\n",
    "#### For loop use for iterate with or without condition "
   ]
  },
  {
   "cell_type": "code",
   "execution_count": null,
   "id": "5f6eda22",
   "metadata": {},
   "outputs": [],
   "source": []
  },
  {
   "cell_type": "code",
   "execution_count": null,
   "id": "36a17f18",
   "metadata": {},
   "outputs": [],
   "source": []
  },
  {
   "cell_type": "code",
   "execution_count": null,
   "id": "11021bb0",
   "metadata": {},
   "outputs": [],
   "source": []
  },
  {
   "cell_type": "code",
   "execution_count": null,
   "id": "a437b229",
   "metadata": {},
   "outputs": [],
   "source": []
  }
 ],
 "metadata": {
  "kernelspec": {
   "display_name": "Python 3 (ipykernel)",
   "language": "python",
   "name": "python3"
  },
  "language_info": {
   "codemirror_mode": {
    "name": "ipython",
    "version": 3
   },
   "file_extension": ".py",
   "mimetype": "text/x-python",
   "name": "python",
   "nbconvert_exporter": "python",
   "pygments_lexer": "ipython3",
   "version": "3.10.7"
  }
 },
 "nbformat": 4,
 "nbformat_minor": 5
}
