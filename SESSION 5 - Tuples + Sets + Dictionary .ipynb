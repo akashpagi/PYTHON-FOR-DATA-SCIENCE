{
 "cells": [
  {
   "cell_type": "markdown",
   "id": "0311e3ee",
   "metadata": {},
   "source": [
    "### TUPLES IN PYTHON :\n",
    "\n",
    "**WHAT IS TUPLE ?**\n",
    "- A tuple in Python is **similar to a list.**\n",
    "\n",
    "- The difference between the two is that **we cannot change the elements of a tuple** once it is assigned whereas we can change the elements of a list.\n",
    "\n",
    "- In short, a **tuple is an immutable list** means a tuple can not be changed in any way once it is created.\n",
    "\n",
    "- It **occupies less memory compare to list.**\n",
    "\n",
    "**CHARACTERSTICS :**\n",
    "- Ordered\n",
    "- Unchangeble\n",
    "- Allows duplicate"
   ]
  },
  {
   "cell_type": "markdown",
   "id": "2b46fa66",
   "metadata": {},
   "source": [
    "#### CREATING TUPLES :\n",
    "- A tuple is created by placing **all the items (elements) inside parentheses (), separated by commas.**\n"
   ]
  },
  {
   "cell_type": "code",
   "execution_count": 39,
   "id": "35a990a7",
   "metadata": {},
   "outputs": [
    {
     "name": "stdout",
     "output_type": "stream",
     "text": [
      "()\n",
      "2 <class 'int'>\n",
      "(2,) <class 'tuple'>\n",
      "(1, 2, 3, 4)\n",
      "(1, 'Hello', [45, 7.9], 3.4, (3+6j))\n",
      "(1, 'Hello', (93, 4, 5, 'ASP', 45.55), 3.4, (3+6j))\n",
      "(1, 2, 3, (4, 5))\n",
      "('h', 'e', 'l', 'l', 'o') <class 'tuple'>\n"
     ]
    }
   ],
   "source": [
    "# empty tuple\n",
    "t = ()\n",
    "print(t)\n",
    "\n",
    "# creating single item tuple\n",
    "t1 = (2)## worng way\n",
    "print(t1, type(t1))\n",
    "t2 = (2,) # right way to create single item tuple\n",
    "print(t2,type(t2))\n",
    "\n",
    "# Homogenous\n",
    "t3 = (1,2,3,4)\n",
    "print(t3)\n",
    "\n",
    "# Heterogenous\n",
    "t4 = (1, \"Hello\",[45,7.9],3.4, 3+6j)\n",
    "print(t4)\n",
    "\n",
    "# nested tuple\n",
    "t5 = (1, \"Hello\",(93,4,5,'ASP',45.55),3.4, 3+6j)\n",
    "print(t5)\n",
    "\n",
    "# 2d tuple\n",
    "t6 = (1,2,3,(4,5))\n",
    "print(t6)\n",
    "\n",
    "# using type convertion\n",
    "t7 = tuple('hello')\n",
    "print(t7,type(t7))"
   ]
  },
  {
   "cell_type": "markdown",
   "id": "fac48165",
   "metadata": {},
   "source": [
    "#### ACCESSING ITEMS :\n",
    "- `NOTE:` It is similar to lists \n",
    "- **Indexing**\n",
    "- **Slicing**"
   ]
  },
  {
   "cell_type": "markdown",
   "id": "1aa12433",
   "metadata": {},
   "source": [
    "**Indexing :**\n",
    "- Indexing (list indexing is similar to string indexing)\n",
    "- Indexing include positive, nagetive , 2D & 3D indexing also."
   ]
  },
  {
   "cell_type": "code",
   "execution_count": 40,
   "id": "779d710d",
   "metadata": {},
   "outputs": [
    {
     "name": "stdout",
     "output_type": "stream",
     "text": [
      "(1, 2, 3, 4)\n",
      "4\n",
      "7 3\n",
      "5\n",
      "4\n",
      "2\n"
     ]
    }
   ],
   "source": [
    "# positive indexing (left to right and start from zero)\n",
    "t = (1,2,3,4)\n",
    "print(t)\n",
    "print(t[3])\n",
    "\n",
    "# nagetive indexing (Righ to left and start from end of list means -1)\n",
    "t = (1,2,3,4,7)\n",
    "print(t[-1],t[-3])\n",
    "\n",
    "# 2d indexing \n",
    "t1 = (1,2,3,(4,5),9)\n",
    "print(t1[3][1])\n",
    "\n",
    "#3d indexing\n",
    "t3 = (((1,2),(3,4)),((5,6),(7,8)))\n",
    "print(t3[0][1][1])\n",
    "print(t3[0][0][1])"
   ]
  },
  {
   "cell_type": "markdown",
   "id": "20743215",
   "metadata": {},
   "source": [
    "**Slicing :**\n",
    "- slicing in tuples I’m the same way as we use in strings and lists.\n",
    "-  we perform tuple slicing using the **slicing operator (:)**. \n",
    "- We can represent the slicing operator in the \n",
    "    - **syntax : [start:stop:step].**"
   ]
  },
  {
   "cell_type": "code",
   "execution_count": 41,
   "id": "5e9772d0",
   "metadata": {},
   "outputs": [
    {
     "name": "stdout",
     "output_type": "stream",
     "text": [
      "(1, 2, 3, (4, 5), 9) : (2, 3, (4, 5))\n",
      "(1, 2, 3, (4, 5), 9) : (9, (4, 5), 3, 2, 1)\n",
      "(1, 2, 3, (4, 5), 9) : (2, 3, (4, 5), 9)\n",
      "(((1, 2), (3, 4)), ((5, 6), (7, 8))) : (((1, 2), (3, 4)),)\n",
      "(((1, 2), (3, 4)), ((5, 6), (7, 8))) : (((5, 6), (7, 8)),)\n"
     ]
    }
   ],
   "source": [
    "# Sclicing\n",
    "t1 = (1,2,3,(4,5),9)\n",
    "print(t1,\":\",t1[1:4])\n",
    "print(t1,\":\",t1[::-1]) # reverse tuple\n",
    "print(t1,\":\",t1[-4::])\n",
    "print(t3,\":\",t3[0:1])\n",
    "print(t3,\":\",t3[-1::])"
   ]
  },
  {
   "cell_type": "markdown",
   "id": "69e09cc2",
   "metadata": {},
   "source": [
    "#### EDITING ITEMS (Try to modify the tuple) :\n",
    "- tuple is an immutable data type unlike a python dictionary or a list. That means, we cannot modify a tuple."
   ]
  },
  {
   "cell_type": "code",
   "execution_count": 42,
   "id": "49b1ff28",
   "metadata": {
    "scrolled": true
   },
   "outputs": [
    {
     "name": "stdout",
     "output_type": "stream",
     "text": [
      "(1, 2, 3, (4, 5), 9)\n"
     ]
    },
    {
     "ename": "TypeError",
     "evalue": "'tuple' object does not support item assignment",
     "output_type": "error",
     "traceback": [
      "\u001b[1;31m----------------------------------------------------------------\u001b[0m",
      "\u001b[1;31mTypeError\u001b[0m                      Traceback (most recent call last)",
      "Cell \u001b[1;32mIn [42], line 3\u001b[0m\n\u001b[0;32m      1\u001b[0m \u001b[38;5;66;03m# tuple is inmutable just like strings\u001b[39;00m\n\u001b[0;32m      2\u001b[0m \u001b[38;5;28mprint\u001b[39m(t1)\n\u001b[1;32m----> 3\u001b[0m t1[\u001b[38;5;241m3\u001b[39m] \u001b[38;5;241m=\u001b[39m \u001b[38;5;241m20\u001b[39m\n\u001b[0;32m      4\u001b[0m \u001b[38;5;28mprint\u001b[39m(t1)\n",
      "\u001b[1;31mTypeError\u001b[0m: 'tuple' object does not support item assignment"
     ]
    }
   ],
   "source": [
    "# tuple is inmutable just like strings\n",
    "print(t1)\n",
    "t1[3] = 20\n",
    "print(t1) "
   ]
  },
  {
   "cell_type": "markdown",
   "id": "5531f540",
   "metadata": {},
   "source": [
    "#### ADDING ITEMS :\n",
    "- tuple is inmutable just like strings\n",
    "- We concatinate new/same tuple \n",
    "-  both tuple has different id"
   ]
  },
  {
   "cell_type": "code",
   "execution_count": 43,
   "id": "259b7043",
   "metadata": {},
   "outputs": [
    {
     "name": "stdout",
     "output_type": "stream",
     "text": [
      "(1, 2, 's', 'ASP', 45, (3+5j))\n"
     ]
    }
   ],
   "source": [
    "a = (1,2,'s')\n",
    "b = ('ASP',45,3+5j)\n",
    "c = a + b\n",
    "print(c)"
   ]
  },
  {
   "cell_type": "markdown",
   "id": "7f85920e",
   "metadata": {},
   "source": [
    "#### DELETING ITEMS :\n",
    "- Removing individual tuple elements is not possible\n",
    "- Tuples are unchangeable, so you cannot remove items from it, but you can delete the tuple completely.\n",
    "- The **del keyword** can delete the tuple completely"
   ]
  },
  {
   "cell_type": "code",
   "execution_count": 44,
   "id": "7e488d58",
   "metadata": {},
   "outputs": [
    {
     "name": "stdout",
     "output_type": "stream",
     "text": [
      "(((1, 2), (3, 4)), ((5, 6), (7, 8)))\n"
     ]
    },
    {
     "ename": "NameError",
     "evalue": "name 't3' is not defined",
     "output_type": "error",
     "traceback": [
      "\u001b[1;31m----------------------------------------------------------------\u001b[0m",
      "\u001b[1;31mNameError\u001b[0m                      Traceback (most recent call last)",
      "Cell \u001b[1;32mIn [44], line 4\u001b[0m\n\u001b[0;32m      2\u001b[0m \u001b[38;5;28mprint\u001b[39m(t3)\n\u001b[0;32m      3\u001b[0m \u001b[38;5;28;01mdel\u001b[39;00m t3\n\u001b[1;32m----> 4\u001b[0m \u001b[38;5;28mprint\u001b[39m(t3)\n",
      "\u001b[1;31mNameError\u001b[0m: name 't3' is not defined"
     ]
    }
   ],
   "source": [
    "#Delete the tuple\n",
    "print(t3)\n",
    "del t3\n",
    "print(t3)  #This will raise an error because the tuple no longer exists"
   ]
  },
  {
   "cell_type": "markdown",
   "id": "46358b2b",
   "metadata": {},
   "source": [
    "#### OPERATIONS ON TUPLES :\n",
    "- **Arithmetic Operations**\n",
    "- **Membership Operations**\n",
    "- **Loops**"
   ]
  },
  {
   "cell_type": "code",
   "execution_count": 45,
   "id": "2b06ab1d",
   "metadata": {},
   "outputs": [
    {
     "name": "stdout",
     "output_type": "stream",
     "text": [
      "(1, 2, 4, 'ASP', 45, (3+5j))\n",
      "(1, 2, 4, 1, 2, 4, 1, 2, 4, 1, 2, 4)\n"
     ]
    },
    {
     "ename": "TypeError",
     "evalue": "can't multiply sequence by non-int of type 'tuple'",
     "output_type": "error",
     "traceback": [
      "\u001b[1;31m----------------------------------------------------------------\u001b[0m",
      "\u001b[1;31mTypeError\u001b[0m                      Traceback (most recent call last)",
      "Cell \u001b[1;32mIn [45], line 8\u001b[0m\n\u001b[0;32m      6\u001b[0m \u001b[38;5;66;03m# multiple \u001b[39;00m\n\u001b[0;32m      7\u001b[0m \u001b[38;5;28mprint\u001b[39m(a\u001b[38;5;241m*\u001b[39m\u001b[38;5;241m4\u001b[39m)\n\u001b[1;32m----> 8\u001b[0m \u001b[38;5;28mprint\u001b[39m(a\u001b[38;5;241m*\u001b[39ma)\n",
      "\u001b[1;31mTypeError\u001b[0m: can't multiply sequence by non-int of type 'tuple'"
     ]
    }
   ],
   "source": [
    "# concatination/ merge\n",
    "a = (1,2,4)\n",
    "b = ('ASP',45,3+5j)\n",
    "print(a + b)\n",
    "\n",
    "# multiple \n",
    "print(a*4)\n",
    "print(a*a)"
   ]
  },
  {
   "cell_type": "code",
   "execution_count": 46,
   "id": "f7492116",
   "metadata": {},
   "outputs": [
    {
     "name": "stdout",
     "output_type": "stream",
     "text": [
      "True\n",
      "False\n",
      "False\n"
     ]
    }
   ],
   "source": [
    "# Membership Operator (in ,not in)\n",
    "a = (1,2,'s')\n",
    "b = ('ASP',34,3,(45,3+5j))\n",
    "\n",
    "print(2 in a)\n",
    "print(7 in a)\n",
    "print((45,3+5j) not in b)"
   ]
  },
  {
   "cell_type": "code",
   "execution_count": 47,
   "id": "43163d96",
   "metadata": {},
   "outputs": [
    {
     "name": "stdout",
     "output_type": "stream",
     "text": [
      "1\n",
      "2\n",
      "s\n"
     ]
    }
   ],
   "source": [
    "# loops\n",
    "a = (1,2,'s')\n",
    "b = ('ASP',34,3,(45,3+5j))\n",
    "\n",
    "#iteration\n",
    "for items in a:\n",
    "    print(items)"
   ]
  },
  {
   "cell_type": "code",
   "execution_count": 48,
   "id": "09561124",
   "metadata": {},
   "outputs": [
    {
     "name": "stdout",
     "output_type": "stream",
     "text": [
      "ASP\n",
      "34\n",
      "3\n",
      "(45, (3+5j))\n"
     ]
    }
   ],
   "source": [
    "# iteration with index\n",
    "n = len(b)\n",
    "for items in range(n):\n",
    "    print(b[items])"
   ]
  },
  {
   "cell_type": "code",
   "execution_count": 49,
   "id": "c7b9b7b2",
   "metadata": {},
   "outputs": [
    {
     "name": "stdout",
     "output_type": "stream",
     "text": [
      "10\n",
      "20\n",
      "30\n",
      "\n",
      "40\n",
      "50\n",
      "60\n",
      "\n"
     ]
    }
   ],
   "source": [
    "# without index\n",
    "x = ((10,20,30),(40,50,60))\n",
    "\n",
    "for i in x:\n",
    "    for j in i:\n",
    "        print(j)\n",
    "    print()"
   ]
  },
  {
   "cell_type": "code",
   "execution_count": 50,
   "id": "8a1a7483",
   "metadata": {},
   "outputs": [
    {
     "name": "stdout",
     "output_type": "stream",
     "text": [
      "b : ('ASP', 34, 3, (45, (3+5j)))\n",
      "1\n",
      "2\n",
      "s\n",
      "45\n",
      "(3+5j)\n"
     ]
    }
   ],
   "source": [
    "# Accessing Nested Tuple using for Loop\n",
    "print('b :',b)\n",
    "for i in range(0, len(b)):\n",
    "    if type(b[i]) is tuple:\n",
    "        if len(b[i])>1:\n",
    "            for j in range(0, len(b[i])):\n",
    "                print(b[i][j])        \n",
    "    else:\n",
    "        print(a[i])"
   ]
  },
  {
   "cell_type": "markdown",
   "id": "3c06e14b",
   "metadata": {},
   "source": [
    "#### TUPLE FUNCTION / METHODS :\n",
    "- **len()** \n",
    "- **min()** \n",
    "- **max()** \n",
    "- **sorted()**\n",
    "- **count()**  \n",
    "- **index()**\n",
    "- **sum()**"
   ]
  },
  {
   "cell_type": "code",
   "execution_count": 51,
   "id": "7bfd5cad",
   "metadata": {},
   "outputs": [
    {
     "name": "stdout",
     "output_type": "stream",
     "text": [
      "5\n",
      "1\n",
      "455\n",
      "Ascending : [1, 3, 34, 67, 455]\n",
      "Decending : [455, 67, 34, 3, 1]\n"
     ]
    }
   ],
   "source": [
    "# len()\n",
    "tt = (1,34,3,455,67)\n",
    "print(len(tt))\n",
    "\n",
    "# min()\n",
    "print(min(tt)) # homogenous datatype\n",
    "\n",
    "# max()\n",
    "print(max(tt))\n",
    "\n",
    "#sorted() \n",
    "# defualt is ascending order\n",
    "# for decending 'reverse =True'\n",
    "print('Ascending :',sorted(tt))\n",
    "print('Decending :',sorted(tt, reverse = True))"
   ]
  },
  {
   "cell_type": "code",
   "execution_count": 52,
   "id": "b9b60563",
   "metadata": {},
   "outputs": [
    {
     "name": "stdout",
     "output_type": "stream",
     "text": [
      "4\n"
     ]
    }
   ],
   "source": [
    "#count():\n",
    "# count() method returns the count of how many times a given object occurs in a tuple.\n",
    "# Syntax:  tuple_name.count(object)\n",
    "t8 = [1,34,3,455,3,4,4,5,6,6,6,6,67]\n",
    "tt = t8.count(6)\n",
    "print(tt)"
   ]
  },
  {
   "cell_type": "code",
   "execution_count": 53,
   "id": "c6cc1880",
   "metadata": {},
   "outputs": [],
   "source": [
    "# index()\n",
    "# Python index() is an inbuilt function in Python, which searches for a given element from the start of the tuple and returns the index of the first occurrence. \n",
    "# Syntax: tuple_name.index(element, start, end)**\n",
    "t9 = (1,34,3,455,67)\n",
    "t10 = (1,34,3,455,67,43,'ASP',67,3+8j)"
   ]
  },
  {
   "cell_type": "code",
   "execution_count": 54,
   "id": "8263ee06",
   "metadata": {},
   "outputs": [
    {
     "data": {
      "text/plain": [
       "560"
      ]
     },
     "execution_count": 54,
     "metadata": {},
     "output_type": "execute_result"
    }
   ],
   "source": [
    "# Note : Apply only on nummerical datatype tuple\n",
    "sum(t9)"
   ]
  },
  {
   "cell_type": "code",
   "execution_count": 55,
   "id": "54799a68",
   "metadata": {},
   "outputs": [
    {
     "data": {
      "text/plain": [
       "True"
      ]
     },
     "execution_count": 55,
     "metadata": {},
     "output_type": "execute_result"
    }
   ],
   "source": [
    "# any() (optional)\n",
    "# If even one item in the tuple has a Boolean value of True, then this function returns True. Otherwise, it returns False.\n",
    "any(('','0',''))"
   ]
  },
  {
   "cell_type": "code",
   "execution_count": 56,
   "id": "ded551f3",
   "metadata": {},
   "outputs": [
    {
     "data": {
      "text/plain": [
       "False"
      ]
     },
     "execution_count": 56,
     "metadata": {},
     "output_type": "execute_result"
    }
   ],
   "source": [
    "# all() (optional)\n",
    "# Unlike any(), all() returns True only if all items have a Boolean value of True. Otherwise, it returns False.\n",
    "all(('1',1,True,''))"
   ]
  },
  {
   "cell_type": "markdown",
   "id": "000386d7",
   "metadata": {},
   "source": [
    "#### DIFFERENCE BETWEEN LISTS AND TUPLES :\n",
    "- Syntax\n",
    "\n",
    "- Mutability\n",
    "\n",
    "- Speed\n",
    "  - tuples are faster because of immutability\n",
    "  \n",
    "- Memory\n",
    "  - tuple takes less memory\n",
    "  \n",
    "- Built in functionality\n",
    "  - less functionality\n",
    "  \n",
    "- Error prone\n",
    "  \n",
    "- Usability"
   ]
  },
  {
   "cell_type": "markdown",
   "id": "4ca8fbdf",
   "metadata": {},
   "source": [
    "#### WHY USE TUPLE ?\n",
    "- For Example,If oyu want only read only application so we can use tuple because we don't want any changes in our application ."
   ]
  },
  {
   "cell_type": "markdown",
   "id": "03f4580b",
   "metadata": {},
   "source": [
    "#### SPECIAL SYNTAX OF TUPLES (Unpack Tuples) :\n",
    "- When we create a tuple, we normally assign values to it. This is called \"packing\" a tuple:\n",
    "- But, in Python, we are also allowed to extract the values back into variables. This is called \"unpacking\""
   ]
  },
  {
   "cell_type": "code",
   "execution_count": 57,
   "id": "a75cd627",
   "metadata": {},
   "outputs": [
    {
     "name": "stdout",
     "output_type": "stream",
     "text": [
      "1 2 3\n"
     ]
    }
   ],
   "source": [
    "# tuple unpacking\n",
    "a,b,c = (1,2,3)\n",
    "print(a,b,c)"
   ]
  },
  {
   "cell_type": "code",
   "execution_count": 58,
   "id": "55b8a84f",
   "metadata": {},
   "outputs": [
    {
     "name": "stdout",
     "output_type": "stream",
     "text": [
      "Before Swapping - a : 1 b : 2\n",
      "After Swapping - a : 2 b : 1\n"
     ]
    }
   ],
   "source": [
    "# swapping the number\n",
    "a = 1\n",
    "b = 2\n",
    "print(\"Before Swapping -\",\"a :\",a, \"b :\",b)\n",
    "a ,b = b, a\n",
    "print(\"After Swapping -\",\"a :\",a, \"b :\",b)"
   ]
  },
  {
   "cell_type": "markdown",
   "id": "37c0dd7d",
   "metadata": {},
   "source": [
    "**Using Asterisk*:**\n",
    "- If the number of variables is less than the number of values, you can add an * to the variable name and the values will be assigned to the variable as a list"
   ]
  },
  {
   "cell_type": "code",
   "execution_count": 59,
   "id": "30594a8b",
   "metadata": {},
   "outputs": [
    {
     "name": "stdout",
     "output_type": "stream",
     "text": [
      "1 2\n",
      "[3, 4, 'True', 'Eren', 34.6, (4+8j)]\n"
     ]
    }
   ],
   "source": [
    "# Using Asterisk*\n",
    "a,b,*Others = (1,2,3,4,'True','Eren',34.6,4+8j)\n",
    "print(a,b)\n",
    "print(Others)"
   ]
  },
  {
   "cell_type": "markdown",
   "id": "0774c47d",
   "metadata": {},
   "source": [
    "#### ZIP() FUNCTION :\n",
    "- Python’s zip() function is defined as zip(*iterables). \n",
    "\n",
    "- The function takes in iterables as arguments and returns an iterator.\n",
    "\n",
    "- This iterator generates a series of tuples containing elements from each iterable.\n",
    "\n",
    "- zip() can accept any type of iterable, such as files, lists, tuples, dictionaries, sets, and so on."
   ]
  },
  {
   "cell_type": "code",
   "execution_count": 7,
   "id": "9c59ec99",
   "metadata": {},
   "outputs": [
    {
     "name": "stdout",
     "output_type": "stream",
     "text": [
      "((1, 80), (2, 50), (3, 76))\n"
     ]
    }
   ],
   "source": [
    "numbers = (1, 2, 3)\n",
    "marks = (80, 50, 76)\n",
    "zipped = zip(numbers, marks)\n",
    "zipped  # Holds an iterator object\n",
    "type(zipped)\n",
    "print(tuple(zipped))"
   ]
  },
  {
   "cell_type": "raw",
   "id": "69034505",
   "metadata": {},
   "source": []
  },
  {
   "cell_type": "code",
   "execution_count": null,
   "id": "099150ff",
   "metadata": {},
   "outputs": [],
   "source": []
  },
  {
   "cell_type": "markdown",
   "id": "df9454de",
   "metadata": {},
   "source": [
    "### SETS IN PYTHON :"
   ]
  },
  {
   "cell_type": "markdown",
   "id": "5a988082",
   "metadata": {},
   "source": [
    "**WHAT IS SET ?**\n",
    "- A set is an unordered collection of items.\n",
    "\n",
    "- Every set element is unique (no duplicates), unindexed and must be immutable (cannot be changed).\n",
    "\n",
    "- However, a set itself is mutable. We can add or remove items from it.\n",
    "\n",
    "- Sets can also be used to perform mathematical set operations like union, intersection, symmetric difference, etc.\n",
    "\n",
    "\n",
    "- **Note:** Sets are unordered, so you cannot be sure in which order the items will appear.\n",
    "\n",
    "**CHARACTERISTICS:**\n",
    "- Unordered\n",
    "- Unindexed\n",
    "- Mutable\n",
    "- No Duplicates\n",
    "- Can't contain mutable data types"
   ]
  },
  {
   "cell_type": "code",
   "execution_count": null,
   "id": "4f61a701",
   "metadata": {},
   "outputs": [],
   "source": [
    " "
   ]
  },
  {
   "cell_type": "markdown",
   "id": "c8586ce9",
   "metadata": {},
   "source": [
    "#### CREATING SETS :"
   ]
  },
  {
   "cell_type": "code",
   "execution_count": 9,
   "id": "c8070e99",
   "metadata": {},
   "outputs": [
    {
     "name": "stdout",
     "output_type": "stream",
     "text": [
      "set() <class 'set'>\n",
      "{True, 34, 'Goku', 'Eren', 56.87, (45+48j)}\n",
      "{'Saitama', 'Goku', 'Eren', 'Grisha'}\n"
     ]
    }
   ],
   "source": [
    "# Sets are denoted using curly brackets \" { } \" .\n",
    "\n",
    "# creating empty set\n",
    "a = set()\n",
    "print(a, type(a))\n",
    "\n",
    "# heterogenous\n",
    "s = { 'Goku' , 'Eren', 34, 56.87, True , 45+48j }\n",
    "print(s)\n",
    "\n",
    "# homogenous\n",
    "s1 = { 'Goku' , 'Eren', 'Saitama', 'Grisha' }\n",
    "print(s1)"
   ]
  },
  {
   "cell_type": "markdown",
   "id": "24a3fdaa",
   "metadata": {},
   "source": [
    "#### ACCESSING ITEMS :"
   ]
  },
  {
   "cell_type": "code",
   "execution_count": 21,
   "id": "2337cc89",
   "metadata": {},
   "outputs": [
    {
     "name": "stdout",
     "output_type": "stream",
     "text": [
      "True 34 goku Eren 56.87 (45+48j) "
     ]
    }
   ],
   "source": [
    "# sets are unordered so we can not access its items using index\n",
    "# slicing also not possible\n",
    "s = { 'Goku' , 'Eren', 34, 56.87, True , 45+48j }\n",
    "# print(s[3]) # indexing not possible in set\n",
    "\n",
    "# Using loops \n",
    "for ele in s:\n",
    "    print(ele,end=' ')"
   ]
  },
  {
   "cell_type": "markdown",
   "id": "4fd1e4fd",
   "metadata": {},
   "source": [
    "#### EDITING ITEMS :"
   ]
  },
  {
   "cell_type": "code",
   "execution_count": 12,
   "id": "b220d3bb",
   "metadata": {},
   "outputs": [
    {
     "ename": "TypeError",
     "evalue": "'set' object does not support item assignment",
     "output_type": "error",
     "traceback": [
      "\u001b[1;31m---------------------------------------------------------------------------\u001b[0m",
      "\u001b[1;31mTypeError\u001b[0m                                 Traceback (most recent call last)",
      "Cell \u001b[1;32mIn [12], line 2\u001b[0m\n\u001b[0;32m      1\u001b[0m s2 \u001b[38;5;241m=\u001b[39m { \u001b[38;5;124m'\u001b[39m\u001b[38;5;124mGoku\u001b[39m\u001b[38;5;124m'\u001b[39m , \u001b[38;5;124m'\u001b[39m\u001b[38;5;124mEren\u001b[39m\u001b[38;5;124m'\u001b[39m, \u001b[38;5;241m34\u001b[39m, \u001b[38;5;241m56.87\u001b[39m, \u001b[38;5;28;01mTrue\u001b[39;00m , \u001b[38;5;241m45\u001b[39m\u001b[38;5;241m+\u001b[39m\u001b[38;5;241m48\u001b[39mj }\n\u001b[1;32m----> 2\u001b[0m s2[\u001b[38;5;241m3\u001b[39m] \u001b[38;5;241m=\u001b[39m \u001b[38;5;241m34.65\u001b[39m\n",
      "\u001b[1;31mTypeError\u001b[0m: 'set' object does not support item assignment"
     ]
    }
   ],
   "source": [
    "s2 = { 'Goku' , 'Eren', 34, 56.87, True , 45+48j }\n",
    "s2[3] = 34.65\n",
    "# we can not modify the itmes of sets"
   ]
  },
  {
   "cell_type": "markdown",
   "id": "82773004",
   "metadata": {},
   "source": [
    "#### ADDING ITEMS :\n",
    "#### add() & update() method "
   ]
  },
  {
   "cell_type": "raw",
   "id": "34ad4373",
   "metadata": {},
   "source": [
    "Though the value of the item in a Set can’t be modified. We can add new items to the set using the following two ways.\n",
    "\n",
    "1.add() method: \n",
    "  The add() method is used to add one item to the set.\n",
    "\n",
    "2.update() Method: \n",
    "  The update() method is used to multiple items to the Set. We need to pass     the list of items to the update() method\n"
   ]
  },
  {
   "cell_type": "code",
   "execution_count": 28,
   "id": "3fd3cfb7",
   "metadata": {},
   "outputs": [
    {
     "name": "stdout",
     "output_type": "stream",
     "text": [
      "{'Python'} : <class 'set'>\n",
      "{False, 'Eren', 4, 36.87, 'Java', (45+48j)} : <class 'set'>\n"
     ]
    }
   ],
   "source": [
    "# add()\n",
    "s5 = set()\n",
    "s5.add('Python')\n",
    "print(s5,':',type(s5))\n",
    "\n",
    "s6 = {'Eren', 4, 36.87, False , 45+48j }\n",
    "s6.add('Java')\n",
    "print(s6,':',type(s6))"
   ]
  },
  {
   "cell_type": "code",
   "execution_count": 37,
   "id": "f98db3c3",
   "metadata": {},
   "outputs": [
    {
     "name": "stdout",
     "output_type": "stream",
     "text": [
      "{False, 2, 3, 'Eren', 5, 'ASP', 4, 36.87, 'Java', (45+48j), 'A'}\n"
     ]
    }
   ],
   "source": [
    "#update()\n",
    "s7 = {2,5,'A'}\n",
    "s7.update({3,'ASP',})\n",
    "s7.update(s6)\n",
    "print(s7)"
   ]
  },
  {
   "cell_type": "code",
   "execution_count": null,
   "id": "072c8e5d",
   "metadata": {},
   "outputs": [],
   "source": []
  },
  {
   "cell_type": "markdown",
   "id": "cf04274c",
   "metadata": {},
   "source": [
    "#### DELETING ITEMS :\n",
    "##### remove() / discard() / pop() / clear() / del methods :"
   ]
  },
  {
   "cell_type": "raw",
   "id": "a2e91f0c",
   "metadata": {},
   "source": [
    "1.remove()\t\n",
    "To remove a single item from a set. This method will take one parameter, which is the item to be removed from the set. Throws a keyerror if an item not present in the original set\n",
    "\n",
    "2.discard()\t\n",
    "To remove a single item that may or may not be present in the set. This method also takes one parameter, which is the item to be removed. If that item is present, it will remove it. It will not throw any error if it is not present.\n",
    "\n",
    "3.pop()\t\n",
    "To remove any random item from a set\n",
    "\n",
    "4.clear()\t\n",
    "To remove all items from the Set. The output will be an empty set\n",
    "\n",
    "5.del set\t\n",
    "Delete the entire set"
   ]
  },
  {
   "cell_type": "code",
   "execution_count": 46,
   "id": "78f3700d",
   "metadata": {},
   "outputs": [
    {
     "name": "stdout",
     "output_type": "stream",
     "text": [
      "original set : {4, 5, 6, 7, 8}\n",
      "After remove : {4, 5, 6, 8}\n"
     ]
    },
    {
     "ename": "KeyError",
     "evalue": "56.56",
     "output_type": "error",
     "traceback": [
      "\u001b[1;31m---------------------------------------------------------------------------\u001b[0m",
      "\u001b[1;31mKeyError\u001b[0m                                  Traceback (most recent call last)",
      "Cell \u001b[1;32mIn [46], line 9\u001b[0m\n\u001b[0;32m      6\u001b[0m \u001b[38;5;28mprint\u001b[39m(\u001b[38;5;124m'\u001b[39m\u001b[38;5;124mAfter remove :\u001b[39m\u001b[38;5;124m'\u001b[39m,s12)\n\u001b[0;32m      8\u001b[0m \u001b[38;5;66;03m#if given item is not exists in given set then print original set as it is,It will throw  error if it is not present.\u001b[39;00m\n\u001b[1;32m----> 9\u001b[0m s12\u001b[38;5;241m.\u001b[39mremove(\u001b[38;5;241m56.56\u001b[39m)\n\u001b[0;32m     10\u001b[0m \u001b[38;5;28mprint\u001b[39m(\u001b[38;5;124m'\u001b[39m\u001b[38;5;124mError :\u001b[39m\u001b[38;5;124m'\u001b[39m,s12)\n",
      "\u001b[1;31mKeyError\u001b[0m: 56.56"
     ]
    }
   ],
   "source": [
    "#remove()\n",
    "# if the given items is present then remove it \n",
    "s12 = {4,5,6,7,8}\n",
    "print('original set :',s12)\n",
    "s12.remove(7)\n",
    "print('After remove :',s12)\n",
    "\n",
    "#Throws a keyerror if an item not present in the original set\n",
    "s12.remove(56.56)\n",
    "print('Error :',s12)"
   ]
  },
  {
   "cell_type": "code",
   "execution_count": 44,
   "id": "5f88369c",
   "metadata": {},
   "outputs": [
    {
     "name": "stdout",
     "output_type": "stream",
     "text": [
      "original set : {4, 5, 6, 7, 8}\n",
      "After discard : {4, 5, 6, 8}\n",
      "Not discard : {4, 5, 6, 8}\n"
     ]
    }
   ],
   "source": [
    "# discard()\n",
    "# if the given items is present then remove it \n",
    "s10 = {4,5,6,7,8}\n",
    "print('original set :',s10)\n",
    "s10.discard(7)\n",
    "print('After discard :',s10)\n",
    "\n",
    "#Not throws a keyerror if an item not present in the original set\n",
    "s10.discard(56.56) \n",
    "print('Not discard :',s10)\n"
   ]
  },
  {
   "cell_type": "code",
   "execution_count": 50,
   "id": "cdcde412",
   "metadata": {},
   "outputs": [
    {
     "name": "stdout",
     "output_type": "stream",
     "text": [
      "original set : {4, 5, 6, 7, 8}\n",
      "After applying pop : {5, 6, 7, 8}\n"
     ]
    }
   ],
   "source": [
    "#pop()\n",
    "# To remove any random item from a set\n",
    "s13 = {4,5,6,7,8}\n",
    "print('original set :',s13)\n",
    "s13.pop()\n",
    "print('After applying pop :',s13)"
   ]
  },
  {
   "cell_type": "code",
   "execution_count": 52,
   "id": "0ea47e2c",
   "metadata": {},
   "outputs": [
    {
     "name": "stdout",
     "output_type": "stream",
     "text": [
      "original set : {4, 5, 6, 7, 8}\n",
      "After applying clear : set()\n"
     ]
    }
   ],
   "source": [
    "#clear()\n",
    "#To remove all items from the Set. The output will be an empty set.\n",
    "s14 = {4,5,6,7,8}\n",
    "print('original set :',s14)\n",
    "s14.clear()\n",
    "print('After applying clear :',s14)"
   ]
  },
  {
   "cell_type": "code",
   "execution_count": 49,
   "id": "b7312f4f",
   "metadata": {},
   "outputs": [
    {
     "ename": "NameError",
     "evalue": "name 's' is not defined",
     "output_type": "error",
     "traceback": [
      "\u001b[1;31m---------------------------------------------------------------------------\u001b[0m",
      "\u001b[1;31mNameError\u001b[0m                                 Traceback (most recent call last)",
      "Cell \u001b[1;32mIn [49], line 5\u001b[0m\n\u001b[0;32m      3\u001b[0m s \u001b[38;5;241m=\u001b[39m {\u001b[38;5;241m1\u001b[39m,\u001b[38;5;241m2\u001b[39m,\u001b[38;5;241m3\u001b[39m,\u001b[38;5;241m4\u001b[39m}\n\u001b[0;32m      4\u001b[0m \u001b[38;5;28;01mdel\u001b[39;00m s\n\u001b[1;32m----> 5\u001b[0m \u001b[38;5;28mprint\u001b[39m(s)\n",
      "\u001b[1;31mNameError\u001b[0m: name 's' is not defined"
     ]
    }
   ],
   "source": [
    "# del \n",
    "# Delete the entire set\n",
    "s = {1,2,3,4}\n",
    "del s\n",
    "print(s)"
   ]
  },
  {
   "cell_type": "markdown",
   "id": "1d2a6f96",
   "metadata": {},
   "source": [
    "#### OPERATIONS ON SETS :"
   ]
  },
  {
   "attachments": {
    "operation%20on%20sets.png": {
     "image/png": "[encoded data removed]"
    }
   },
   "cell_type": "markdown",
   "id": "7388eff4",
   "metadata": {},
   "source": [
    "![operation%20on%20sets.png](attachment:operation%20on%20sets.png)"
   ]
  },
  {
   "cell_type": "code",
   "execution_count": 53,
   "id": "38aabce1",
   "metadata": {},
   "outputs": [
    {
     "name": "stdout",
     "output_type": "stream",
     "text": [
      "{1, 2, 3, 4, 5, 6, 7, 8}\n"
     ]
    }
   ],
   "source": [
    "# union (|)\n",
    "# return only unique values of both sets\n",
    "\n",
    "s1 = {1,2,3,4,5}\n",
    "s2 = {4,5,6,7,8}\n",
    "\n",
    "print(s1 | s2)"
   ]
  },
  {
   "cell_type": "code",
   "execution_count": 54,
   "id": "ccc49898",
   "metadata": {},
   "outputs": [
    {
     "name": "stdout",
     "output_type": "stream",
     "text": [
      "{4, 5}\n"
     ]
    }
   ],
   "source": [
    "# intersection (&)\n",
    "# return only common values of both sets\n",
    "print(s1 & s2)"
   ]
  },
  {
   "cell_type": "code",
   "execution_count": 58,
   "id": "00bf2ccc",
   "metadata": {},
   "outputs": [
    {
     "name": "stdout",
     "output_type": "stream",
     "text": [
      "s1 : {1, 2, 3, 4, 5}\n",
      "s2 : {4, 5, 6, 7, 8}\n",
      "{1, 2, 3}\n",
      "{8, 6, 7}\n"
     ]
    }
   ],
   "source": [
    "# Difference (-)\n",
    "# return the unique items of 1st set that are not present in 2nd set\n",
    "print('s1 :',s1)\n",
    "print('s2 :',s2)\n",
    "print(s1-s2) # or vice versa\n",
    "print(s2-s1)"
   ]
  },
  {
   "cell_type": "code",
   "execution_count": 62,
   "id": "fe5a37f3",
   "metadata": {},
   "outputs": [
    {
     "name": "stdout",
     "output_type": "stream",
     "text": [
      "s1 : {1, 2, 3, 4, 5}\n",
      "s2 : {4, 5, 6, 7, 8}\n",
      "Result : {1, 2, 3, 6, 7, 8}\n"
     ]
    }
   ],
   "source": [
    "# Symmentric Difference (^)\n",
    "# return all items that are not common in both sets\n",
    "print('s1 :',s1)\n",
    "print('s2 :',s2)\n",
    "print('Result :',s1^s2)"
   ]
  },
  {
   "cell_type": "code",
   "execution_count": 65,
   "id": "bbaa0643",
   "metadata": {},
   "outputs": [
    {
     "name": "stdout",
     "output_type": "stream",
     "text": [
      "True\n",
      "True\n"
     ]
    }
   ],
   "source": [
    "# membership operator (in, not in)\n",
    "print(5 in s1)\n",
    "print(10 not in s2)"
   ]
  },
  {
   "cell_type": "code",
   "execution_count": 63,
   "id": "bb75c186",
   "metadata": {},
   "outputs": [
    {
     "name": "stdout",
     "output_type": "stream",
     "text": [
      "1 2 3 4 5 "
     ]
    }
   ],
   "source": [
    "# Iteration\n",
    "# loops\n",
    "for items in s1:\n",
    "    print(items, end=' ')"
   ]
  },
  {
   "cell_type": "markdown",
   "id": "7698fd2d",
   "metadata": {},
   "source": [
    "#### MATHEMATICAL OPERATIONS ON SETS in PYTHON :\n",
    "##### common methods : len() / max() / min() /sum() / sorted() \n",
    "##### union / update \n",
    "##### intersection / intersection_update\n",
    "##### difference  / difference_update\n",
    "##### symmetric_diffrence / symmetric_diffrence_update\n",
    "##### isdisjoint() / issubset() / issuperset() / copy()"
   ]
  },
  {
   "attachments": {
    "python-sets-methods.jpg": {
     "image/jpeg": "[encoded data removed]"
    }
   },
   "cell_type": "markdown",
   "id": "cb6c0952",
   "metadata": {},
   "source": [
    "![python-sets-methods.jpg](attachment:python-sets-methods.jpg)"
   ]
  },
  {
   "cell_type": "code",
   "execution_count": 10,
   "id": "1c00e47d",
   "metadata": {},
   "outputs": [
    {
     "name": "stdout",
     "output_type": "stream",
     "text": [
      "4\n",
      "max : z\n",
      "min : B\n",
      "sum : 33\n",
      "['B', 'C', 'K', 'z']\n",
      "['z', 'K', 'C', 'B']\n"
     ]
    }
   ],
   "source": [
    "# len() / max() / min() /sum() / sorted()\n",
    "s = {'K','B','C','z'}\n",
    "s1 = {4,3,5,6,7,8}\n",
    "print(len(s)) \n",
    "print('max :',max(s))\n",
    "print('min :',min(s))\n",
    "print('sum :',sum(s1)) # apply on numeric data\n",
    "print(sorted(s))\n",
    "print(sorted(s,reverse=True))"
   ]
  },
  {
   "cell_type": "code",
   "execution_count": 17,
   "id": "ff8d2f61",
   "metadata": {},
   "outputs": [
    {
     "name": "stdout",
     "output_type": "stream",
     "text": [
      "{1, 2, 3, 4, 5, 6, 7, 8}\n",
      "----------------------------------------\n",
      "{1, 2, 3, 4, 5, 6, 7, 8}\n",
      "{4, 5, 6, 7, 8}\n"
     ]
    }
   ],
   "source": [
    "# union() / update()\n",
    "x ={1,2,3,4,5}\n",
    "y ={4,5,6,7,8}\n",
    "\n",
    "#union()\n",
    "#This method return all elements present in both sets. \n",
    "#Syntax: x.union(y) or x|y\n",
    "#x | y\n",
    "print(x.union(y))\n",
    "\n",
    "print('-'*40)\n",
    "\n",
    "#update()\n",
    "#The update method is slightly different because it does not return a new set. Instead, it adds the items from one set to another target set.\n",
    "x.update(y)\n",
    "print(x)\n",
    "print(y)"
   ]
  },
  {
   "cell_type": "code",
   "execution_count": 21,
   "id": "e27ebb9c",
   "metadata": {},
   "outputs": [
    {
     "name": "stdout",
     "output_type": "stream",
     "text": [
      "intersection :\n",
      "{4, 5}\n",
      "----------------------------------------\n",
      "intersection_update :\n",
      "{4, 5}\n",
      "{4, 5, 6, 7, 8}\n"
     ]
    }
   ],
   "source": [
    "# intersection() / intersection_update()\n",
    "x ={1,2,3,4,5}\n",
    "y ={4,5,6,7,8}\n",
    "\n",
    "# intersection()\n",
    "#This method returns common elements present in both x and y\n",
    "# Syntax: x.intersection(y) or x&y\n",
    "print('intersection :')\n",
    "print(x.intersection(y))\n",
    "\n",
    "print('-'*40)\n",
    "\n",
    "#intersection_update()\n",
    "\n",
    "print('intersection_update :')\n",
    "x.intersection_update(y)\n",
    "print(x)\n",
    "print(y)\n",
    "\n"
   ]
  },
  {
   "cell_type": "code",
   "execution_count": 22,
   "id": "7384ce59",
   "metadata": {},
   "outputs": [
    {
     "name": "stdout",
     "output_type": "stream",
     "text": [
      "difference :\n",
      "{1, 2, 3}\n",
      "----------------------------------------\n",
      "difference_update :\n",
      "{1, 2, 3}\n",
      "{4, 5, 6, 7, 8}\n"
     ]
    }
   ],
   "source": [
    "# difference() / difference_updates()\n",
    "x ={1,2,3,4,5}\n",
    "y ={4,5,6,7,8}\n",
    "\n",
    "# difference()\n",
    "# Syntax: x.difference(y) or x-y\n",
    "print('difference :')\n",
    "print(x.difference(y))\n",
    "\n",
    "print('-'*40)\n",
    "\n",
    "#difference_update()\n",
    "\n",
    "print('difference_update :')\n",
    "x.difference_update(y)\n",
    "print(x)\n",
    "print(y)"
   ]
  },
  {
   "cell_type": "code",
   "execution_count": 25,
   "id": "912e5556",
   "metadata": {},
   "outputs": [
    {
     "name": "stdout",
     "output_type": "stream",
     "text": [
      "symmetric_difference :\n",
      "{1, 2, 3, 6, 7, 8}\n",
      "----------------------------------------\n",
      "symmetric_difference_update :\n",
      "{1, 2, 3, 6, 7, 8}\n",
      "{4, 5, 6, 7, 8}\n"
     ]
    }
   ],
   "source": [
    "# symmetric_difference() / symmetric_difference_update()\n",
    "x ={1,2,3,4,5}\n",
    "y ={4,5,6,7,8}\n",
    "\n",
    "# symmetric_difference()\n",
    "# Syntax: x.symmetric_difference(y) or x^y\n",
    "print('symmetric_difference :')\n",
    "print(x.symmetric_difference(y))\n",
    "\n",
    "print('-'*40)\n",
    "\n",
    "#symmetric_difference_update()\n",
    "\n",
    "print('symmetric_difference_update :')\n",
    "x.symmetric_difference_update(y)\n",
    "print(x)\n",
    "print(y)"
   ]
  },
  {
   "cell_type": "code",
   "execution_count": 48,
   "id": "a5bfa6a8",
   "metadata": {
    "scrolled": true
   },
   "outputs": [
    {
     "name": "stdout",
     "output_type": "stream",
     "text": [
      "isdisjoint : False\n",
      "isdisjoint : True\n"
     ]
    }
   ],
   "source": [
    "#isdisjoint()\n",
    "# if items are common in both sets the False otherwise True\n",
    "x1 = {10,20,30,40}\n",
    "y1 = {30,40,50,60}\n",
    "\n",
    "x2 = {10,20,30,40}\n",
    "y2 = {50,60,80,90}\n",
    "\n",
    "print('isdisjoint :',x1.isdisjoint(y1))\n",
    "print('isdisjoint :',x2.isdisjoint(y2))"
   ]
  },
  {
   "cell_type": "code",
   "execution_count": 41,
   "id": "5acc7a3c",
   "metadata": {
    "scrolled": true
   },
   "outputs": [
    {
     "name": "stdout",
     "output_type": "stream",
     "text": [
      "True\n",
      "False\n"
     ]
    }
   ],
   "source": [
    "# issubset() :\n",
    "x1 = {10,20,30,40}\n",
    "y1 = {30,40}\n",
    "\n",
    "print(y1.issubset(x1))\n",
    "print(x1.issubset(y1))"
   ]
  },
  {
   "cell_type": "code",
   "execution_count": 46,
   "id": "f2313266",
   "metadata": {},
   "outputs": [
    {
     "name": "stdout",
     "output_type": "stream",
     "text": [
      "False\n",
      "True\n"
     ]
    }
   ],
   "source": [
    "#issuperset()\n",
    "x1 = {10,20,30,40}\n",
    "y1 = {30,40}\n",
    "\n",
    "print(y1.issuperset(x1))\n",
    "print(x1.issuperset(y1))"
   ]
  },
  {
   "cell_type": "code",
   "execution_count": 47,
   "id": "f96a8c48",
   "metadata": {
    "scrolled": false
   },
   "outputs": [
    {
     "name": "stdout",
     "output_type": "stream",
     "text": [
      "x1 : {1, 2, 3} id : 2572364835840\n",
      "x2 : {1, 2, 3} id : 2572364836960\n"
     ]
    }
   ],
   "source": [
    "# copy()\n",
    "# creating shallow copy \n",
    "x1 = {1,2,3}\n",
    "x2 = x1.copy()\n",
    "print('x1 :',x1, 'id :',id(x1))\n",
    "print('x2 :',x2, 'id :',id(x2))\n"
   ]
  },
  {
   "cell_type": "markdown",
   "id": "437eebc0",
   "metadata": {},
   "source": [
    "#### FROZENSET :"
   ]
  },
  {
   "cell_type": "raw",
   "id": "9935a811",
   "metadata": {},
   "source": [
    "1.Frozenset set is just an immutable version of a python set object.\n",
    "\n",
    "2.The Python frozenset() function is a built-in function that returns a new frozenset object containing elements of the given iterable.\n",
    "\n",
    "3. So frozensets are just like sets but they can’t be changed. That is, frozensets are the immutable version of Python sets\n",
    "\n",
    "4.Syntax: frozenset([iterable])\n",
    "  iterable : An iterable object, like list, set, tuple etc"
   ]
  },
  {
   "cell_type": "code",
   "execution_count": 51,
   "id": "e46b7d40",
   "metadata": {},
   "outputs": [
    {
     "name": "stdout",
     "output_type": "stream",
     "text": [
      "Empty frozenset : frozenset()\n",
      "frozenset : frozenset({1, 2, 3, 4}) <class 'frozenset'>\n"
     ]
    }
   ],
   "source": [
    "# creating empty frozenset\n",
    "fs = frozenset()\n",
    "print('Empty frozenset :',fs)\n",
    "\n",
    "# creating frozenset with iterables\n",
    "fs = frozenset([1,2,3,4])\n",
    "print('frozenset :',fs,type(fs))"
   ]
  },
  {
   "cell_type": "code",
   "execution_count": null,
   "id": "894be4c2",
   "metadata": {},
   "outputs": [],
   "source": [
    "# what works and what does not\n",
    "# works -> all read functions (like union ,intersection etc ...)\n",
    "# does't work -> write operations (like add() / update() / pop())\n",
    "fs1 = frozenset([1,2,3,4])\n",
    "fs2 = frozenset([3,4,5,6])"
   ]
  },
  {
   "cell_type": "code",
   "execution_count": 54,
   "id": "f424b1e7",
   "metadata": {},
   "outputs": [
    {
     "name": "stdout",
     "output_type": "stream",
     "text": [
      "frozenset({frozenset({3, 4}), 1, 2})\n"
     ]
    }
   ],
   "source": [
    "# When to use : read only applications\n",
    "# 2D sets\n",
    "fs = frozenset([1,2,frozenset([3,4])])\n",
    "print(fs)"
   ]
  },
  {
   "cell_type": "markdown",
   "id": "beac1fe5",
   "metadata": {},
   "source": [
    "#### Difference between frozenset() and set() in Python :"
   ]
  },
  {
   "cell_type": "raw",
   "id": "cc2f0d20",
   "metadata": {},
   "source": [
    "The difference between set() and frozenset()  in Python is in their mutablity only. \n",
    "frozenset() is immutable and set() is mutable containing immutable objects."
   ]
  },
  {
   "cell_type": "markdown",
   "id": "b5b1c8a3",
   "metadata": {},
   "source": [
    "#### SET COMPREHENSION :"
   ]
  },
  {
   "cell_type": "code",
   "execution_count": 70,
   "id": "6a84ce52",
   "metadata": {},
   "outputs": [
    {
     "name": "stdout",
     "output_type": "stream",
     "text": [
      "{1, 2, 3, 4, 5, 6, 7, 8, 9, 10}\n",
      "{2, 4, 6, 8, 10, 12, 14, 16, 18, 20}\n",
      "{(7, 4), (6, 5), (6, 4), (7, 6), (6, 6), (7, 5)}\n"
     ]
    }
   ],
   "source": [
    "# We can create a set using a comprehension in the same way as we do in list; just we need to use braces instead of square brackets.Python removes any duplicates\n",
    "\n",
    "# creating set using set comprehension :\n",
    "s = {i for i in range(1,11)}\n",
    "print(s)\n",
    "\n",
    "s1 = {i*2 for i in range(1,11)}\n",
    "print(s1)\n",
    "\n",
    "s2 = {(i,j) for j in range(4,7) for i in range(6,8)}\n",
    "print(s2)\n",
    "\n"
   ]
  },
  {
   "cell_type": "code",
   "execution_count": null,
   "id": "36783756",
   "metadata": {},
   "outputs": [],
   "source": []
  },
  {
   "cell_type": "markdown",
   "id": "22528ae8",
   "metadata": {},
   "source": [
    "### DICTIONARY IN PYTHON :"
   ]
  },
  {
   "cell_type": "raw",
   "id": "632e5070",
   "metadata": {},
   "source": [
    "1.Dictionary in Python is a collection of keys values, used to store data values like a map, which, unlike other data types which hold only a single value as an element.\n",
    "\n",
    "2.In some languages it is known as map or assosiative arrays.\n",
    "\n",
    "3.Represented using culry bracket ' {} '\n",
    "  Ex.dict = { 'name' : 'akash' , 'age' : 21 , 'gender' : 'male' }\n",
    "  \n",
    "4.While writing key we must follow the following rules:\n",
    " - Dictionary are accessed using key.\n",
    " - Key should be unique\n",
    " - If we mwntion same key again ,the old key will be overwrriten with      new key\n",
    " - Key should be immutable type ex. integer,string ,tuple etc ..\n",
    " - We can't use list or dictionary as key\n",
    " \n",
    "Characterstics:\n",
    "-Mutable\n",
    "-unordered\n",
    "-Indexing has no meaning\n",
    "-keys can't be duplicated\n",
    "-keys can't be mutable items"
   ]
  },
  {
   "cell_type": "markdown",
   "id": "e71b6cd6",
   "metadata": {},
   "source": [
    "#### CREATING DICTIONARY :"
   ]
  },
  {
   "cell_type": "code",
   "execution_count": 23,
   "id": "8ccdb408",
   "metadata": {},
   "outputs": [
    {
     "name": "stdout",
     "output_type": "stream",
     "text": [
      "Empty dictionary : {}\n",
      "\n",
      "1D dictionary : {'A': 'AOT', 'B': 'BLEACH', 'C': 'CORRIDOR'}\n",
      "\n",
      "Mixed Dictionary : {1: 'AOT', 'b': 'BLEACH', 'C': True, (34, 56): [7, 8]}\n",
      "\n",
      "2D dictionary : {'Name': 'Akash', 'College': 'A.V.College', 'Deprt': 'CS', 'Sem': 3, 'Subject': {'Python': 96, 'Java': 80, 'Dsa': 85, 'Stqa': 80, 'Netwoking': 90}}\n",
      "\n",
      "D4 : {'name': 'akash', 'age': 21, 3: 5}\n",
      "\n",
      "D5 : {'name': 'goku'}\n",
      "\n",
      "D6 : {'name': 'akash', (1, 2, 3): 'goku'}\n"
     ]
    }
   ],
   "source": [
    "# crating empty dictionary\n",
    "d = {}\n",
    "print('Empty dictionary :',d)\n",
    "print()\n",
    "\n",
    "# 1D dictionary (Homogenous)\n",
    "d1 = { 'A':'AOT','B':'BLEACH','C':'CORRIDOR'}\n",
    "print('1D dictionary :',d1)\n",
    "print()\n",
    "\n",
    "# with mixed type key\n",
    "d2= { 1:'AOT', 'b':'BLEACH','C':True, (34,56):[7,8]}\n",
    "print('Mixed Dictionary :',d2)\n",
    "print()\n",
    "\n",
    "# 2D dictionary (Nested Dictionary) -> JSON Structure\n",
    "d3 = { \n",
    "    'Name':'Akash',\n",
    "    'College':'A.V.College',\n",
    "    'Deprt':'CS',\n",
    "    'Sem':3,\n",
    "    'Subject':\n",
    "       {\n",
    "        'Python':96,\n",
    "        'Java':80,\n",
    "        'Dsa':85,\n",
    "        'Stqa':80,\n",
    "        'Netwoking':90\n",
    "       }\n",
    "    }\n",
    "print('2D dictionary :',d3)\n",
    "print()\n",
    "\n",
    "# using sequence & dict() function\n",
    "\n",
    "d4 = dict([('name','akash'),('age',21),(3,5)])\n",
    "print('D4 :',d4)\n",
    "\n",
    "print()\n",
    "\n",
    "# Duplicate key ( Overwrite old key)\n",
    "d5 = { 'name':'akash' , 'name':'goku'}\n",
    "print('D5 :', d5)\n",
    "\n",
    "print()\n",
    "\n",
    "# Mutable items as keys not allowed you must be use immutable\n",
    "d6 = { 'name':'akash' , (1,2,3):'goku'}\n",
    "print('D6 :', d6)"
   ]
  },
  {
   "cell_type": "markdown",
   "id": "a680dd87",
   "metadata": {},
   "source": [
    "#### ACCESSING ITEMS :"
   ]
  },
  {
   "cell_type": "code",
   "execution_count": 43,
   "id": "cb717687",
   "metadata": {},
   "outputs": [
    {
     "name": "stdout",
     "output_type": "stream",
     "text": [
      "Eren\n",
      "Vegeta\n",
      "23\n",
      "Rock\n",
      "27\n",
      "\n",
      "Light\n",
      "{1: 32, 3: 23}\n",
      "Saitama\n"
     ]
    }
   ],
   "source": [
    "# we can access the value of a dictionary by referering to it's ket name inside square bracket [],\n",
    "stu = { 1:'Eren', 2:'Light', 3:'Vegeta','D':{1:32,3:23}}\n",
    "people = {1: {'Name': 'John Cena', 'Age': '27'},\n",
    "          2: {'Name': 'Rock', 'Age': '22'}}\n",
    "\n",
    "\n",
    "# using key name in []\n",
    "print(stu[1])\n",
    "print(stu[3])\n",
    "print(stu['D'][3])\n",
    "\n",
    "# 2d accessing \n",
    "print(people[2]['Name'])\n",
    "print(people[1]['Age'])\n",
    "\n",
    "print()\n",
    "\n",
    "#get() method\n",
    "# return the value of the specified key\n",
    "# syntax : dict_name.get(key_defalut_value)\n",
    "print(stu.get(2))\n",
    "print(stu.get('D'))\n"
   ]
  },
  {
   "cell_type": "markdown",
   "id": "307f54df",
   "metadata": {},
   "source": [
    "##### ADDING KEY & VALUES PAIRS :"
   ]
  },
  {
   "cell_type": "code",
   "execution_count": 16,
   "id": "f3f9c243",
   "metadata": {},
   "outputs": [
    {
     "name": "stdout",
     "output_type": "stream",
     "text": [
      "{2: 'A', 3: 'C', 4: {'E': 5}, 5: 'D', 'H': 123}\n",
      "After updating : {2: 'A', 3: 'C', 4: {'E': 5, 5: 'D'}, 5: 'D', 'H': 123}\n"
     ]
    }
   ],
   "source": [
    "# We can add elements to a dictionary using the name of the dictionary with [].\n",
    "s = { 2:'A' , 3:'B' , 3:'C',4 :{'E':5}}\n",
    "# adding key with thier value\n",
    "s[5] = 'D'\n",
    "s['H'] = 123\n",
    "print(s)\n",
    "\n",
    "# updating \n",
    "s[4][5]='D'\n",
    "print('After updating :',s)"
   ]
  },
  {
   "cell_type": "markdown",
   "id": "92f92b18",
   "metadata": {},
   "source": [
    "##### REMOVING/ DELETING KEY & VALUES PAIRS USING SOME METHODS :"
   ]
  },
  {
   "cell_type": "code",
   "execution_count": 7,
   "id": "0a219dda",
   "metadata": {},
   "outputs": [
    {
     "name": "stdout",
     "output_type": "stream",
     "text": [
      "{2: 'A', 5: 'C'}\n"
     ]
    }
   ],
   "source": [
    "# pop()\n",
    "# Use to remove the item with specified key\n",
    "# return removed item's value\n",
    "# If the key is not found then return value as None\n",
    "# syntax : dict_name.pop(key, default_value)\n",
    "d6 = { 2:'A' , 3:'B' , 5:'C' }\n",
    "d6.pop(3)\n",
    "print(d6)"
   ]
  },
  {
   "cell_type": "code",
   "execution_count": 8,
   "id": "4c64c198",
   "metadata": {},
   "outputs": [
    {
     "name": "stdout",
     "output_type": "stream",
     "text": [
      "Before popitem : {'A': 'Akash', 'B': 'Bala', 'C': 123, 'J': (3+8j), 'D': False}\n",
      "After popitem : {'A': 'Akash', 'B': 'Bala', 'C': 123, 'J': (3+8j)}\n"
     ]
    }
   ],
   "source": [
    "# popitem()\n",
    "# remove the item which was last inserted into the dictonary\n",
    "# it returns the removed item in the form of tuple, pairs are returned in LIFO order\n",
    "# syntax : dict_name.popitem()\n",
    "d7 = { 'A':'Akash' , 'B':'Bala' , 'C':123, 'J':3+8j , 'D':False }\n",
    "print('Before popitem :',d7)\n",
    "d7.popitem()\n",
    "print('After popitem :',d7)"
   ]
  },
  {
   "cell_type": "code",
   "execution_count": 11,
   "id": "09e68c54",
   "metadata": {},
   "outputs": [
    {
     "name": "stdout",
     "output_type": "stream",
     "text": [
      "Before del : {'A': 'Akash', 'C': 123, 'J': (3+8j), 'D': False}\n",
      "After del : {'C': 123, 'J': (3+8j), 'D': False}\n"
     ]
    }
   ],
   "source": [
    "# del \n",
    "# The del keyword method uses the keyword from the dictionary to remove an item.\n",
    "d8 = { 'A':'Akash', 'C':123, 'J':3+8j , 'D':False }\n",
    "print('Before del :',d8)\n",
    "del d8['A']\n",
    "print('After del :',d8)\n"
   ]
  },
  {
   "cell_type": "code",
   "execution_count": 12,
   "id": "50392ad8",
   "metadata": {},
   "outputs": [
    {
     "name": "stdout",
     "output_type": "stream",
     "text": [
      "Before clear : {'A': 'Akash', 'C': 123, 'J': (3+8j), 'D': False}\n",
      "After clear: {}\n"
     ]
    }
   ],
   "source": [
    "# clear()\n",
    "# The clear() method clears all the items in the dictionary.\n",
    "d9 = { 'A':'Akash', 'C':123, 'J':3+8j , 'D':False }\n",
    "print('Before clear :',d9)\n",
    "d9.clear()\n",
    "print('After clear:',d9)\n"
   ]
  },
  {
   "cell_type": "code",
   "execution_count": 32,
   "id": "468212a6",
   "metadata": {},
   "outputs": [
    {
     "name": "stdout",
     "output_type": "stream",
     "text": [
      "dict_items([('brand', 'Ford'), ('model', 'Mustang'), ('year', 1964)])\n"
     ]
    }
   ],
   "source": []
  },
  {
   "cell_type": "code",
   "execution_count": null,
   "id": "5fa5f07e",
   "metadata": {},
   "outputs": [],
   "source": []
  },
  {
   "cell_type": "markdown",
   "id": "bcdf92e6",
   "metadata": {},
   "source": [
    "#####  EDITING KEY VALUES :"
   ]
  },
  {
   "cell_type": "code",
   "execution_count": 23,
   "id": "618ba8f7",
   "metadata": {},
   "outputs": [
    {
     "name": "stdout",
     "output_type": "stream",
     "text": [
      "Before Update : {'A': 'Akash', 'C': 123, 'J': (3+8j), 'D': False}\n",
      "After Update : {'A': 'Akash', 'C': 123, 'J': (3+8j), 'D': True}\n",
      "\n",
      "Before Update : {2: 'A', 3: 'C', 4: {'E': 5}}\n",
      "After Update : {2: 'A', 3: (4+5j), 4: {'E': 'ABC'}}\n"
     ]
    }
   ],
   "source": [
    "d10 = { 'A':'Akash', 'C':123, 'J':3+8j , 'D':False }\n",
    "print('Before Update :',d10)\n",
    "d10['D'] = True\n",
    "print('After Update :',d10)\n",
    "print()\n",
    "s1 = { 2:'A' , 3:'B' , 3:'C',4 :{'E':5}}\n",
    "print('Before Update :',s1)\n",
    "s1[3] =4+5j\n",
    "s1[4]['E'] = 'ABC'\n",
    "print('After Update :',s1)"
   ]
  },
  {
   "cell_type": "markdown",
   "id": "c3d2d461",
   "metadata": {},
   "source": [
    "##### DICTIONARY OPERATIONS :\n",
    "##### Membership operation (in, not in)\n",
    "##### Interation (for & while loops)"
   ]
  },
  {
   "cell_type": "code",
   "execution_count": 25,
   "id": "e1cec1c1",
   "metadata": {},
   "outputs": [
    {
     "name": "stdout",
     "output_type": "stream",
     "text": [
      "True\n"
     ]
    }
   ],
   "source": [
    "# Membership operation (in, not in)\n",
    "# Checking dictionary key exists or not\n",
    "# work on dictionary key only\n",
    "d11 = { 'A':'Akash','D':False }\n",
    "print('D' in d11)"
   ]
  },
  {
   "cell_type": "code",
   "execution_count": null,
   "id": "6fadb95e",
   "metadata": {},
   "outputs": [],
   "source": [
    "# Interation (for & while loops)\n",
    "d12 = { 2:'A' , 3:'B' , 3:'C',4 :{'E':5}}\n",
    "for keys in d12:\n",
    "    print(keys,\":\",d12[keys])\n",
    "    \n",
    "print()\n",
    "\n",
    "car = {\n",
    "  \"brand\": \"Ford\",\n",
    "  \"model\": \"Mustang\",\n",
    "  \"year\": 1964\n",
    "}\n",
    "\n",
    "# using items() method\n",
    "for k,v in car.items():\n",
    "    print(k,':',v)\n"
   ]
  },
  {
   "cell_type": "markdown",
   "id": "0479d5aa",
   "metadata": {},
   "source": [
    "##### DICTIONARY FUNTIONS :\n",
    "###### len() / min() / max() / sorted()\n",
    "###### items() / keys() / values() \n",
    "###### update()"
   ]
  },
  {
   "cell_type": "code",
   "execution_count": 49,
   "id": "1201c46d",
   "metadata": {},
   "outputs": [
    {
     "name": "stdout",
     "output_type": "stream",
     "text": [
      "di : {2: 'A', 10: 'B', 3: 'C', 4: {'E': 5}}\n",
      "length of dictionary is 4\n",
      "\n",
      "min : 2\n",
      "max : 10\n",
      "\n",
      "sorted dictionary (acending) : [2, 3, 4, 10]\n",
      "sorted dictionary (desending): [10, 4, 3, 2]\n",
      "sorted dictionary (acending) : ['brand', 'model', 'year']\n",
      "sorted dictionary (desending): ['year', 'model', 'brand']\n"
     ]
    }
   ],
   "source": [
    "di = { 2:'A' , 10:'B' , 3:'C',4 :{'E':5}}\n",
    "print('di :',di)\n",
    "\n",
    "# len()\n",
    "print('length of dictionary is',len(di))\n",
    "\n",
    "print()\n",
    "\n",
    "# min()\n",
    "print('min :',min(di))\n",
    "\n",
    "# max()\n",
    "print('max :',max(di))\n",
    "print()\n",
    "\n",
    "# sorted()\n",
    "c = { \"year\": 1964,\"brand\": \"Ford\",\"model\": \"Mustang\",}\n",
    "print('sorted dictionary (acending) :',sorted(di))\n",
    "print('sorted dictionary (desending):',sorted(di,reverse=True))\n",
    "print('sorted dictionary (acending) :',sorted(c))\n",
    "print('sorted dictionary (desending):',sorted(c,reverse=True))"
   ]
  },
  {
   "cell_type": "code",
   "execution_count": 55,
   "id": "36bf2a00",
   "metadata": {},
   "outputs": [
    {
     "name": "stdout",
     "output_type": "stream",
     "text": [
      "dict_items([('brand', 'Ford'), ('model', 'Mustang'), ('year', 1964)])\n",
      "dict_keys(['brand', 'model', 'year'])\n",
      "dict_values(['Ford', 'Mustang', 1964])\n"
     ]
    }
   ],
   "source": [
    "# items()\n",
    "# The items() method returns a view object. The view object contains t.he key-value pairs of the dictionary, as tuples in a list.\n",
    "#The view object will reflect any changes done to the dictionary\n",
    "#Syntax :dictionary_name.items()\n",
    "car = {\n",
    "  \"brand\": \"Ford\",\n",
    "  \"model\": \"Mustang\",\n",
    "  \"year\": 1964\n",
    "}\n",
    "\n",
    "key = car.items()\n",
    "print(key)\n",
    "\n",
    "# keys() \n",
    "# print all the keys from given dictionary\n",
    "print(car.keys())\n",
    "\n",
    "\n",
    "# values()\n",
    "# print all the values from given dictionary\n",
    "print(car.values())"
   ]
  },
  {
   "cell_type": "code",
   "execution_count": 64,
   "id": "88610a5b",
   "metadata": {},
   "outputs": [
    {
     "name": "stdout",
     "output_type": "stream",
     "text": [
      "Before : {'brand': 'Ford', 'model': 'Mustang', 'KM/H': 200}\n",
      "After : {'brand': 'Ford', 'model': 'MustangGT', 'KM/H': 250}\n"
     ]
    }
   ],
   "source": [
    "# update()\n",
    "#The update() method inserts the specified items to the dictionary.\n",
    "#The specified items can be a dictionary, or an iterable object with key value pairs.\n",
    "#Syntax : dictionary.update(iterable)\n",
    "car1 = {\n",
    "  \"brand\": \"Ford\",\n",
    "  \"model\": \"Mustang\",\n",
    "  \"KM/H\" : 200 \n",
    "}\n",
    "\n",
    "car2 = {\n",
    "  \"brand\": \"Ford\",\n",
    "  \"model\": \"MustangGT\",\n",
    "  \"KM/H\" : 250 \n",
    "}\n",
    "print('Before :',car1)\n",
    "car1.update(car2)\n",
    "print('After :',car1)\n"
   ]
  },
  {
   "cell_type": "markdown",
   "id": "d1e5316b",
   "metadata": {},
   "source": [
    "##### DICTIONARY COMPREHENSIONS :"
   ]
  },
  {
   "attachments": {
    "image.png": {
     "image/png": "[encoded data removed]"
    }
   },
   "cell_type": "markdown",
   "id": "82e26652",
   "metadata": {},
   "source": [
    "![image.png](attachment:image.png)"
   ]
  },
  {
   "cell_type": "code",
   "execution_count": 66,
   "id": "3db54ca3",
   "metadata": {},
   "outputs": [
    {
     "data": {
      "text/plain": [
       "{1: 1, 2: 4, 3: 9, 4: 16, 5: 25, 6: 36, 7: 49, 8: 64, 9: 81, 10: 100}"
      ]
     },
     "execution_count": 66,
     "metadata": {},
     "output_type": "execute_result"
    }
   ],
   "source": [
    "# print 1st 10 numbers and their squares\n",
    "{i:i**2 for i in range(1,11)}"
   ]
  },
  {
   "cell_type": "code",
   "execution_count": 68,
   "id": "3626c688",
   "metadata": {},
   "outputs": [
    {
     "data": {
      "text/plain": [
       "{'delhi': 620.0, 'mumbai': 1240.0, 'bangalore': 1860.0}"
      ]
     },
     "execution_count": 68,
     "metadata": {},
     "output_type": "execute_result"
    }
   ],
   "source": [
    "# using existing dictionary\n",
    "distances = {'delhi':1000,'mumbai':2000,'bangalore':3000}\n",
    "{k:v*0.62 for k,v in distances.items()}"
   ]
  },
  {
   "cell_type": "code",
   "execution_count": 69,
   "id": "a9c033d0",
   "metadata": {},
   "outputs": [
    {
     "data": {
      "text/plain": [
       "{'Sunday': 30.5,\n",
       " 'Monday': 32.6,\n",
       " 'Tuesday': 31.8,\n",
       " 'Wednesday': 33.4,\n",
       " 'Thursday': 29.8,\n",
       " 'Friday': 30.2,\n",
       " 'Saturday': 29.9}"
      ]
     },
     "execution_count": 69,
     "metadata": {},
     "output_type": "execute_result"
    }
   ],
   "source": [
    "# using zip()\n",
    "days = [\"Sunday\", \"Monday\",\"Tuesday\",\"Wednesday\",\"Thursday\",\"Friday\",\"Saturday\"]\n",
    "temp_C = [30.5,32.6,31.8,33.4,29.8,30.2,29.9]\n",
    "{ keys:values for keys,values in zip(days,temp_C)}\n"
   ]
  },
  {
   "cell_type": "code",
   "execution_count": 71,
   "id": "d3a85739",
   "metadata": {},
   "outputs": [
    {
     "data": {
      "text/plain": [
       "{'phone': 10, 'charger': 32}"
      ]
     },
     "execution_count": 71,
     "metadata": {},
     "output_type": "execute_result"
    }
   ],
   "source": [
    "# using if condition\n",
    "products = {'phone':10,'laptop':0,'charger':32,'tablet':0}\n",
    "\n",
    "{ k:v for k,v in products.items() if v>0}"
   ]
  },
  {
   "cell_type": "code",
   "execution_count": 81,
   "id": "349ea003",
   "metadata": {
    "collapsed": true
   },
   "outputs": [
    {
     "data": {
      "text/plain": [
       "{2: {2, 4, 6, 8, 10, 12, 14, 16, 18, 20},\n",
       " 3: {3, 6, 9, 12, 15, 18, 21, 24, 27, 30},\n",
       " 4: {4, 8, 12, 16, 20, 24, 28, 32, 36, 40},\n",
       " 5: {5, 10, 15, 20, 25, 30, 35, 40, 45, 50},\n",
       " 6: {6, 12, 18, 24, 30, 36, 42, 48, 54, 60},\n",
       " 7: {7, 14, 21, 28, 35, 42, 49, 56, 63, 70},\n",
       " 8: {8, 16, 24, 32, 40, 48, 56, 64, 72, 80},\n",
       " 9: {9, 18, 27, 36, 45, 54, 63, 72, 81, 90},\n",
       " 10: {10, 20, 30, 40, 50, 60, 70, 80, 90, 100}}"
      ]
     },
     "execution_count": 81,
     "metadata": {},
     "output_type": "execute_result"
    }
   ],
   "source": [
    "# Nested Comprehension\n",
    "# print tables of number from 2 to 4\n",
    "{ i:{i*j for j in range(1,11) } for i in range(2,11)}\n",
    "#{ i:{j:i*j for j in range(1,11) } for i in range(2,5)}"
   ]
  },
  {
   "cell_type": "code",
   "execution_count": null,
   "id": "18122a67",
   "metadata": {},
   "outputs": [],
   "source": []
  }
 ],
 "metadata": {
  "kernelspec": {
   "display_name": "Python 3 (ipykernel)",
   "language": "python",
   "name": "python3"
  },
  "language_info": {
   "codemirror_mode": {
    "name": "ipython",
    "version": 3
   },
   "file_extension": ".py",
   "mimetype": "text/x-python",
   "name": "python",
   "nbconvert_exporter": "python",
   "pygments_lexer": "ipython3",
   "version": "3.10.7"
  }
 },
 "nbformat": 4,
 "nbformat_minor": 5
}
