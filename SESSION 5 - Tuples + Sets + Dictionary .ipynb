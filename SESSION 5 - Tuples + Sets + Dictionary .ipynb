{
 "cells": [
  {
   "cell_type": "markdown",
   "id": "0311e3ee",
   "metadata": {},
   "source": [
    "### TUPLES IN PYTHON :"
   ]
  },
  {
   "cell_type": "raw",
   "id": "a7194b87",
   "metadata": {},
   "source": [
    "1.A tuple in Python is similar to a list.\n",
    "\n",
    "2.The difference between the two is that we cannot change the elements of a tuple once it is assigned whereas we can change the elements of a list.\n",
    "\n",
    "3.In short, a tuple is an immutable list. A tuple can not be changed in any way once it is created.\n",
    "\n",
    "#Characterstics\n",
    " 1.Ordered\n",
    " 2.Unchangeble\n",
    " 3.Allows duplicate"
   ]
  },
  {
   "cell_type": "code",
   "execution_count": null,
   "id": "e1c912a9",
   "metadata": {},
   "outputs": [],
   "source": []
  },
  {
   "cell_type": "markdown",
   "id": "2b46fa66",
   "metadata": {},
   "source": [
    "#### CREATING TUPLES :"
   ]
  },
  {
   "cell_type": "code",
   "execution_count": 15,
   "id": "35a990a7",
   "metadata": {},
   "outputs": [
    {
     "name": "stdout",
     "output_type": "stream",
     "text": [
      "()\n",
      "2 <class 'int'>\n",
      "(2,) <class 'tuple'>\n",
      "(1, 2, 3, 4)\n",
      "(1, 'Hello', [45, 7.9], 3.4, (3+6j))\n",
      "(1, 'Hello', (93, 4, 5, 'ASP', 45.55), 3.4, (3+6j))\n",
      "(1, 2, 3, (4, 5))\n",
      "('h', 'e', 'l', 'l', 'o') <class 'tuple'>\n"
     ]
    }
   ],
   "source": [
    "# A tuple is created by placing all the items (elements) inside parentheses (), separated by commas. The parentheses are optional, however, it is a good practice to use them.\n",
    "\n",
    "# empty tuple\n",
    "t = ()\n",
    "print(t)\n",
    "\n",
    "# creating single item tuple\n",
    "t1 = (2)## worng way\n",
    "print(t1, type(t1))\n",
    "t2 = (2,) # right way to create single item tuple\n",
    "print(t2,type(t2))\n",
    "\n",
    "# Homogenous\n",
    "t3 = (1,2,3,4)\n",
    "print(t3)\n",
    "\n",
    "# Heterogenous\n",
    "t4 = (1, \"Hello\",[45,7.9],3.4, 3+6j)\n",
    "print(t4)\n",
    "\n",
    "# nested tuple\n",
    "t5 = (1, \"Hello\",(93,4,5,'ASP',45.55),3.4, 3+6j)\n",
    "print(t5)\n",
    "\n",
    "# 2d tuple\n",
    "t6 = (1,2,3,(4,5))\n",
    "print(t6)\n",
    "\n",
    "# using type convertion\n",
    "t7 = tuple('hello')\n",
    "print(t7,type(t7))"
   ]
  },
  {
   "cell_type": "markdown",
   "id": "fac48165",
   "metadata": {},
   "source": [
    "#### ACCESSING ITEMS :"
   ]
  },
  {
   "cell_type": "code",
   "execution_count": null,
   "id": "779d710d",
   "metadata": {},
   "outputs": [],
   "source": []
  },
  {
   "cell_type": "markdown",
   "id": "69e09cc2",
   "metadata": {},
   "source": [
    "##### EDITING ITEMS :"
   ]
  },
  {
   "cell_type": "code",
   "execution_count": null,
   "id": "49b1ff28",
   "metadata": {},
   "outputs": [],
   "source": []
  },
  {
   "cell_type": "markdown",
   "id": "5531f540",
   "metadata": {},
   "source": [
    "##### ADDING ITEMS :"
   ]
  },
  {
   "cell_type": "code",
   "execution_count": null,
   "id": "259b7043",
   "metadata": {},
   "outputs": [],
   "source": []
  },
  {
   "cell_type": "markdown",
   "id": "7f85920e",
   "metadata": {},
   "source": [
    "##### DELETING ITEMS :"
   ]
  },
  {
   "cell_type": "code",
   "execution_count": null,
   "id": "7e488d58",
   "metadata": {},
   "outputs": [],
   "source": []
  },
  {
   "cell_type": "markdown",
   "id": "46358b2b",
   "metadata": {},
   "source": [
    "##### OPERATIONS ON TUPLES :"
   ]
  },
  {
   "cell_type": "code",
   "execution_count": null,
   "id": "2b06ab1d",
   "metadata": {},
   "outputs": [],
   "source": []
  },
  {
   "cell_type": "markdown",
   "id": "3c06e14b",
   "metadata": {},
   "source": [
    "##### TUPLE FUNCTION / METHODS :"
   ]
  },
  {
   "cell_type": "code",
   "execution_count": null,
   "id": "7bfd5cad",
   "metadata": {},
   "outputs": [],
   "source": []
  },
  {
   "cell_type": "markdown",
   "id": "000386d7",
   "metadata": {},
   "source": [
    "##### DIFFERENCE BETWEEN LISTS AND TUPLES :"
   ]
  },
  {
   "cell_type": "raw",
   "id": "6df0a874",
   "metadata": {},
   "source": [
    "- Syntax\n",
    "- Mutability\n",
    "- Speed\n",
    "- Memory\n",
    "- Built in functionality\n",
    "- Error prone\n",
    "- Usability"
   ]
  },
  {
   "cell_type": "code",
   "execution_count": null,
   "id": "e222ddb1",
   "metadata": {},
   "outputs": [],
   "source": []
  },
  {
   "cell_type": "markdown",
   "id": "4ca8fbdf",
   "metadata": {},
   "source": [
    "##### WHY USE TUPLE ?"
   ]
  },
  {
   "cell_type": "code",
   "execution_count": null,
   "id": "86784a11",
   "metadata": {},
   "outputs": [],
   "source": []
  },
  {
   "cell_type": "markdown",
   "id": "03f4580b",
   "metadata": {},
   "source": [
    "##### SPECIAL SYNTAX OF TUPLES :"
   ]
  },
  {
   "cell_type": "code",
   "execution_count": null,
   "id": "a75cd627",
   "metadata": {},
   "outputs": [],
   "source": []
  },
  {
   "cell_type": "code",
   "execution_count": null,
   "id": "55b8a84f",
   "metadata": {},
   "outputs": [],
   "source": []
  },
  {
   "cell_type": "code",
   "execution_count": null,
   "id": "30594a8b",
   "metadata": {},
   "outputs": [],
   "source": []
  },
  {
   "cell_type": "code",
   "execution_count": null,
   "id": "2c4bd315",
   "metadata": {},
   "outputs": [],
   "source": []
  },
  {
   "cell_type": "code",
   "execution_count": null,
   "id": "9ad518e2",
   "metadata": {},
   "outputs": [],
   "source": []
  },
  {
   "cell_type": "code",
   "execution_count": null,
   "id": "099150ff",
   "metadata": {},
   "outputs": [],
   "source": []
  },
  {
   "cell_type": "code",
   "execution_count": null,
   "id": "fe852ed9",
   "metadata": {},
   "outputs": [],
   "source": []
  },
  {
   "cell_type": "code",
   "execution_count": null,
   "id": "e0555158",
   "metadata": {},
   "outputs": [],
   "source": []
  },
  {
   "cell_type": "code",
   "execution_count": null,
   "id": "35247bee",
   "metadata": {},
   "outputs": [],
   "source": []
  },
  {
   "cell_type": "code",
   "execution_count": null,
   "id": "4f61a701",
   "metadata": {},
   "outputs": [],
   "source": []
  },
  {
   "cell_type": "code",
   "execution_count": null,
   "id": "20189153",
   "metadata": {},
   "outputs": [],
   "source": []
  },
  {
   "cell_type": "code",
   "execution_count": null,
   "id": "c8070e99",
   "metadata": {},
   "outputs": [],
   "source": []
  },
  {
   "cell_type": "code",
   "execution_count": null,
   "id": "03d79ebe",
   "metadata": {},
   "outputs": [],
   "source": []
  },
  {
   "cell_type": "code",
   "execution_count": null,
   "id": "2337cc89",
   "metadata": {},
   "outputs": [],
   "source": []
  },
  {
   "cell_type": "code",
   "execution_count": null,
   "id": "73051f7e",
   "metadata": {},
   "outputs": [],
   "source": []
  },
  {
   "cell_type": "code",
   "execution_count": null,
   "id": "b220d3bb",
   "metadata": {},
   "outputs": [],
   "source": []
  },
  {
   "cell_type": "code",
   "execution_count": null,
   "id": "0ebde97b",
   "metadata": {},
   "outputs": [],
   "source": []
  },
  {
   "cell_type": "code",
   "execution_count": null,
   "id": "fdf900cf",
   "metadata": {},
   "outputs": [],
   "source": []
  },
  {
   "cell_type": "code",
   "execution_count": null,
   "id": "533d19b7",
   "metadata": {},
   "outputs": [],
   "source": []
  },
  {
   "cell_type": "code",
   "execution_count": null,
   "id": "f4e00ed5",
   "metadata": {},
   "outputs": [],
   "source": []
  },
  {
   "cell_type": "code",
   "execution_count": null,
   "id": "7289a15e",
   "metadata": {},
   "outputs": [],
   "source": []
  },
  {
   "cell_type": "code",
   "execution_count": null,
   "id": "cd40dc17",
   "metadata": {},
   "outputs": [],
   "source": []
  },
  {
   "cell_type": "code",
   "execution_count": null,
   "id": "0633766c",
   "metadata": {},
   "outputs": [],
   "source": []
  },
  {
   "cell_type": "code",
   "execution_count": null,
   "id": "fcbfd7b5",
   "metadata": {},
   "outputs": [],
   "source": []
  },
  {
   "cell_type": "code",
   "execution_count": null,
   "id": "f876eee5",
   "metadata": {},
   "outputs": [],
   "source": []
  },
  {
   "cell_type": "code",
   "execution_count": null,
   "id": "4af6105a",
   "metadata": {},
   "outputs": [],
   "source": []
  },
  {
   "cell_type": "code",
   "execution_count": null,
   "id": "f3cd1ad7",
   "metadata": {},
   "outputs": [],
   "source": []
  },
  {
   "cell_type": "code",
   "execution_count": null,
   "id": "6a84ce52",
   "metadata": {},
   "outputs": [],
   "source": []
  },
  {
   "cell_type": "code",
   "execution_count": null,
   "id": "36783756",
   "metadata": {},
   "outputs": [],
   "source": []
  },
  {
   "cell_type": "code",
   "execution_count": null,
   "id": "8b7b1578",
   "metadata": {},
   "outputs": [],
   "source": []
  },
  {
   "cell_type": "code",
   "execution_count": null,
   "id": "43420250",
   "metadata": {},
   "outputs": [],
   "source": []
  },
  {
   "cell_type": "code",
   "execution_count": null,
   "id": "0304a185",
   "metadata": {},
   "outputs": [],
   "source": []
  },
  {
   "cell_type": "code",
   "execution_count": null,
   "id": "8ccdb408",
   "metadata": {},
   "outputs": [],
   "source": []
  },
  {
   "cell_type": "code",
   "execution_count": null,
   "id": "349ea003",
   "metadata": {},
   "outputs": [],
   "source": []
  }
 ],
 "metadata": {
  "kernelspec": {
   "display_name": "Python 3 (ipykernel)",
   "language": "python",
   "name": "python3"
  },
  "language_info": {
   "codemirror_mode": {
    "name": "ipython",
    "version": 3
   },
   "file_extension": ".py",
   "mimetype": "text/x-python",
   "name": "python",
   "nbconvert_exporter": "python",
   "pygments_lexer": "ipython3",
   "version": "3.10.7"
  }
 },
 "nbformat": 4,
 "nbformat_minor": 5
}
