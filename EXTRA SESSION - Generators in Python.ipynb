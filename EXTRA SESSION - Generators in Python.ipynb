{
 "cells": [
  {
   "cell_type": "markdown",
   "id": "efbc9195",
   "metadata": {},
   "source": [
    "### EXTRA SESSION - Generators in Python"
   ]
  },
  {
   "cell_type": "markdown",
   "id": "94339936",
   "metadata": {},
   "source": [
    "#### **GENERATORS:**\n",
    "- In python generators are a simple way of creating iterators.\n",
    "- A generator is somewhat of a function that returns an iterator object with a succession of values rather than a single item. \n",
    "- A **yield statement**, rather than a return statement, is used in a generator function.\n",
    "- Generators are useful when we want to produce a large sequence of values, but we don't want to store all of them in memory at once.\n",
    "- **Generator-Object :**\n",
    "    - Generator functions return a generator object. \n",
    "    - Generator objects are used either by calling the next method on the generator object or using the generator object in a “for in” loop.\n",
    "- **yield statement:**\n",
    "    - The yield keyword is used to produce a value from the generator.\n",
    "    - When a function contains at least one yield statement, it’s a generator function."
   ]
  },
  {
   "cell_type": "code",
   "execution_count": 8,
   "id": "37483aeb",
   "metadata": {},
   "outputs": [
    {
     "name": "stdout",
     "output_type": "stream",
     "text": [
      "First Statement\n",
      "Second Statement\n",
      "Third Statement\n"
     ]
    }
   ],
   "source": [
    "# 1.Example of simple generator\n",
    "def Gene_demo():\n",
    "    yield 'First Statement'\n",
    "    yield 'Second Statement'\n",
    "    yield 'Third Statement'  \n",
    "Gen_obj = Gene_demo()\n",
    "for items in Gen_obj:\n",
    "    print(items)"
   ]
  },
  {
   "cell_type": "markdown",
   "id": "5aa34b6a",
   "metadata": {},
   "source": [
    "### Yield Vs Return In Python :\n",
    "- **Return:** \n",
    "    - A function that returns a value is called once. \n",
    "    - The return statement returns a value and exits the function altogether.\n",
    "- **Yield:**\n",
    "    - A function that yields values, is called repeatedly. \n",
    "    - The yield statement pauses the execution of a function and returns a value.     \n",
    "    - When called again, the function continues execution from the previous yield. \n",
    "    - A function that yields values is known as a generator."
   ]
  },
  {
   "cell_type": "code",
   "execution_count": 9,
   "id": "1360d85e",
   "metadata": {},
   "outputs": [
    {
     "name": "stdout",
     "output_type": "stream",
     "text": [
      "1\n",
      "4\n",
      "9\n",
      "16\n",
      "25\n",
      "36\n"
     ]
    }
   ],
   "source": [
    "# 2.Example of generator\n",
    "def Square(num):\n",
    "    for i in range(1,num+1):\n",
    "        yield i**2     \n",
    "gen = Square(6)\n",
    "print(next(gen))\n",
    "print(next(gen))\n",
    "# Even if use the loop in between , then function continues execution from the previous yield.\n",
    "# means yield statement remember the last position in loop\n",
    "for i in gen:\n",
    "    print(i)"
   ]
  },
  {
   "cell_type": "markdown",
   "id": "147b2288",
   "metadata": {},
   "source": [
    "### Own range() function using generator :"
   ]
  },
  {
   "cell_type": "code",
   "execution_count": 2,
   "id": "7a5bb9a7",
   "metadata": {},
   "outputs": [
    {
     "name": "stdout",
     "output_type": "stream",
     "text": [
      "100\n",
      "101\n",
      "102\n",
      "103\n",
      "104\n",
      "105\n"
     ]
    }
   ],
   "source": [
    "def Own_range(start, end):\n",
    "    for items in range(start, end):\n",
    "        yield items\n",
    "for i in Own_range(100, 106):\n",
    "    print(i)\n",
    "    "
   ]
  },
  {
   "cell_type": "markdown",
   "id": "ea0e0566",
   "metadata": {},
   "source": [
    "### Generator expression comprehenssion :\n",
    "- The syntax **`(expression for var in iterable [if condition])`** specifies the general form for a generator comprehension. \n",
    "- This produces a generator, whose instructions for generating its members are provided within the parenthetical statement."
   ]
  },
  {
   "cell_type": "code",
   "execution_count": 3,
   "id": "195c7485",
   "metadata": {},
   "outputs": [
    {
     "name": "stdout",
     "output_type": "stream",
     "text": [
      "1\n",
      "4\n",
      "9\n",
      "16\n",
      "25\n"
     ]
    }
   ],
   "source": [
    "gen = (i**2 for i in range(1,6)) # if condition is inculde yield statement\n",
    "for i in gen:\n",
    "    print(i)"
   ]
  },
  {
   "cell_type": "code",
   "execution_count": null,
   "id": "86d3ce81",
   "metadata": {},
   "outputs": [],
   "source": []
  },
  {
   "cell_type": "code",
   "execution_count": null,
   "id": "ccba9b76",
   "metadata": {},
   "outputs": [],
   "source": []
  },
  {
   "cell_type": "code",
   "execution_count": null,
   "id": "950bd4d2",
   "metadata": {},
   "outputs": [],
   "source": []
  },
  {
   "cell_type": "code",
   "execution_count": null,
   "id": "9da4f5f1",
   "metadata": {},
   "outputs": [],
   "source": []
  },
  {
   "cell_type": "code",
   "execution_count": null,
   "id": "33cf143b",
   "metadata": {},
   "outputs": [],
   "source": []
  },
  {
   "cell_type": "code",
   "execution_count": null,
   "id": "437e0bb8",
   "metadata": {},
   "outputs": [],
   "source": []
  }
 ],
 "metadata": {
  "kernelspec": {
   "display_name": "Python 3 (ipykernel)",
   "language": "python",
   "name": "python3"
  },
  "language_info": {
   "codemirror_mode": {
    "name": "ipython",
    "version": 3
   },
   "file_extension": ".py",
   "mimetype": "text/x-python",
   "name": "python",
   "nbconvert_exporter": "python",
   "pygments_lexer": "ipython3",
   "version": "3.10.7"
  }
 },
 "nbformat": 4,
 "nbformat_minor": 5
}
