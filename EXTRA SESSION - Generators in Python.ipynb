{
 "cells": [
  {
   "cell_type": "markdown",
   "id": "efbc9195",
   "metadata": {},
   "source": [
    "### EXTRA SESSION - Generators in Python"
   ]
  },
  {
   "cell_type": "markdown",
   "id": "6a4cc314",
   "metadata": {},
   "source": [
    "#### **GENERATORS:**\n",
    "- In python generators are a simple way of creating iterators.\n",
    "- A generator is somewhat of a function that returns an iterator object with a succession of values rather than a single item. \n",
    "- A **yield statement**, rather than a return statement, is used in a generator function.\n",
    "- Generators are useful when we want to produce a large sequence of values, but we don't want to store all of them in memory at once.\n",
    "- **Generator-Object :**\n",
    "    - Generator functions return a generator object. \n",
    "    - Generator objects are used either by calling the next method on the generator object or using the generator object in a “for in” loop (as shown in the above program). \n",
    "\n",
    "#### yield statement :\n",
    "- The yield keyword is used to produce a value from the generator.\n",
    "- When a function contains at least one yield statement, it’s a generator function."
   ]
  },
  {
   "cell_type": "code",
   "execution_count": 8,
   "id": "37483aeb",
   "metadata": {},
   "outputs": [
    {
     "name": "stdout",
     "output_type": "stream",
     "text": [
      "First Statement\n",
      "Second Statement\n",
      "Third Statement\n"
     ]
    }
   ],
   "source": [
    "# Example of simple generator\n",
    "def Gene_demo():\n",
    "    yield 'First Statement'\n",
    "    yield 'Second Statement'\n",
    "    yield 'Third Statement'  \n",
    "Gen_obj = Gene_demo()\n",
    "for items in Gen_obj:\n",
    "    print(items)"
   ]
  },
  {
   "cell_type": "code",
   "execution_count": null,
   "id": "590b8adb",
   "metadata": {},
   "outputs": [],
   "source": []
  },
  {
   "cell_type": "code",
   "execution_count": null,
   "id": "1360d85e",
   "metadata": {},
   "outputs": [],
   "source": []
  },
  {
   "cell_type": "code",
   "execution_count": null,
   "id": "f644190a",
   "metadata": {},
   "outputs": [],
   "source": []
  },
  {
   "cell_type": "code",
   "execution_count": null,
   "id": "7a5bb9a7",
   "metadata": {},
   "outputs": [],
   "source": []
  },
  {
   "cell_type": "code",
   "execution_count": null,
   "id": "e0d39f03",
   "metadata": {},
   "outputs": [],
   "source": []
  },
  {
   "cell_type": "code",
   "execution_count": null,
   "id": "195c7485",
   "metadata": {},
   "outputs": [],
   "source": []
  },
  {
   "cell_type": "code",
   "execution_count": null,
   "id": "86d3ce81",
   "metadata": {},
   "outputs": [],
   "source": []
  },
  {
   "cell_type": "code",
   "execution_count": null,
   "id": "ccba9b76",
   "metadata": {},
   "outputs": [],
   "source": []
  },
  {
   "cell_type": "code",
   "execution_count": null,
   "id": "950bd4d2",
   "metadata": {},
   "outputs": [],
   "source": []
  },
  {
   "cell_type": "code",
   "execution_count": null,
   "id": "9da4f5f1",
   "metadata": {},
   "outputs": [],
   "source": []
  },
  {
   "cell_type": "code",
   "execution_count": null,
   "id": "33cf143b",
   "metadata": {},
   "outputs": [],
   "source": []
  },
  {
   "cell_type": "code",
   "execution_count": null,
   "id": "437e0bb8",
   "metadata": {},
   "outputs": [],
   "source": []
  }
 ],
 "metadata": {
  "kernelspec": {
   "display_name": "Python 3 (ipykernel)",
   "language": "python",
   "name": "python3"
  },
  "language_info": {
   "codemirror_mode": {
    "name": "ipython",
    "version": 3
   },
   "file_extension": ".py",
   "mimetype": "text/x-python",
   "name": "python",
   "nbconvert_exporter": "python",
   "pygments_lexer": "ipython3",
   "version": "3.10.7"
  }
 },
 "nbformat": 4,
 "nbformat_minor": 5
}
