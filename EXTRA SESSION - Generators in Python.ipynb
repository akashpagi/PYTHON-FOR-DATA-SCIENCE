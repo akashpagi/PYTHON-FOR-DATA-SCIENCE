{
 "cells": [
  {
   "cell_type": "markdown",
   "id": "efbc9195",
   "metadata": {},
   "source": [
    "### EXTRA SESSION - Generators in Python"
   ]
  },
  {
   "cell_type": "markdown",
   "id": "94339936",
   "metadata": {},
   "source": [
    "#### **GENERATORS:**\n",
    "- In python generators are a simple way of creating iterators.\n",
    "- A generator is somewhat of a function that returns an iterator object with a succession of values rather than a single item. \n",
    "- A **yield statement**, rather than a return statement, is used in a generator function.\n",
    "- Generators are useful when we want to produce a large sequence of values, but we don't want to store all of them in memory at once.\n",
    "- **Generator-Object :**\n",
    "    - Generator functions return a generator object. \n",
    "    - Generator objects are used either by calling the next method on the generator object or using the generator object in a “for in” loop.\n",
    "- **yield statement:**\n",
    "    - The yield keyword is used to produce a value from the generator.\n",
    "    - When a function contains at least one yield statement, it’s a generator function."
   ]
  },
  {
   "cell_type": "code",
   "execution_count": 8,
   "id": "37483aeb",
   "metadata": {},
   "outputs": [
    {
     "name": "stdout",
     "output_type": "stream",
     "text": [
      "First Statement\n",
      "Second Statement\n",
      "Third Statement\n"
     ]
    }
   ],
   "source": [
    "# 1.Example of simple generator\n",
    "def Gene_demo():\n",
    "    yield 'First Statement'\n",
    "    yield 'Second Statement'\n",
    "    yield 'Third Statement'  \n",
    "Gen_obj = Gene_demo()\n",
    "for items in Gen_obj:\n",
    "    print(items)"
   ]
  },
  {
   "cell_type": "markdown",
   "id": "5aa34b6a",
   "metadata": {},
   "source": [
    "#### Yield Vs Return In Python :\n",
    "- **Return:** \n",
    "    - A function that returns a value is called once. \n",
    "    - The return statement returns a value and exits the function altogether.\n",
    "- **Yield:**\n",
    "    - A function that yields values, is called repeatedly. \n",
    "    - The yield statement pauses the execution of a function and returns a value.     \n",
    "    - When called again, the function continues execution from the previous yield. \n",
    "    - A function that yields values is known as a generator."
   ]
  },
  {
   "cell_type": "code",
   "execution_count": 9,
   "id": "1360d85e",
   "metadata": {},
   "outputs": [
    {
     "name": "stdout",
     "output_type": "stream",
     "text": [
      "1\n",
      "4\n",
      "9\n",
      "16\n",
      "25\n",
      "36\n"
     ]
    }
   ],
   "source": [
    "# 2.Example of generator\n",
    "def Square(num):\n",
    "    for i in range(1,num+1):\n",
    "        yield i**2     \n",
    "gen = Square(6)\n",
    "print(next(gen))\n",
    "print(next(gen))\n",
    "# Even if use the loop in between , then function continues execution from the previous yield.\n",
    "# means yield statement remember the last position in loop\n",
    "for i in gen:\n",
    "    print(i)"
   ]
  },
  {
   "cell_type": "markdown",
   "id": "841e0cf2",
   "metadata": {},
   "source": [
    "### Own range() function using generator :"
   ]
  },
  {
   "cell_type": "code",
   "execution_count": 14,
   "id": "7a5bb9a7",
   "metadata": {},
   "outputs": [
    {
     "name": "stdout",
     "output_type": "stream",
     "text": [
      "100\n",
      "101\n",
      "102\n",
      "103\n",
      "104\n",
      "105\n"
     ]
    }
   ],
   "source": [
    "def Own_range(start, end):\n",
    "    for items in range(start, end):\n",
    "        yield items\n",
    "for i in Own_range(100, 106):\n",
    "    print(i)\n",
    "    "
   ]
  },
  {
   "cell_type": "markdown",
   "id": "61ffd33a",
   "metadata": {},
   "source": [
    "### Generator expression comprehenssion :\n",
    "- The syntax **`(expression for var in iterable [if condition])`** specifies the general form for a generator comprehension. \n",
    "- This produces a generator, whose instructions for generating its members are provided within the parenthetical statement."
   ]
  },
  {
   "cell_type": "code",
   "execution_count": 3,
   "id": "195c7485",
   "metadata": {},
   "outputs": [
    {
     "name": "stdout",
     "output_type": "stream",
     "text": [
      "1\n",
      "4\n",
      "9\n",
      "16\n",
      "25\n"
     ]
    }
   ],
   "source": [
    "gen = (i**2 for i in range(1,6)) # if condition is include yield statement\n",
    "for i in gen:\n",
    "    print(i)"
   ]
  },
  {
   "cell_type": "markdown",
   "id": "6991fa64",
   "metadata": {},
   "source": [
    "### Benefits of python generators :\n",
    "- **Easy to Implement :**\n",
    "    - Generators can be implemented in a clear and concise way as compared to their iterator class counterpart.\n",
    "    - **For example,**We can take above Own_range() function using generator.\n"
   ]
  },
  {
   "cell_type": "markdown",
   "id": "2296e5a6",
   "metadata": {},
   "source": [
    "- **Memory Efficient:**\n",
    "    - A normal function to return a sequence will create the entire sequence in memory before returning the result. This is an overkill, if the number of items in the sequence is very large.\n",
    "    - Generator implementation of such sequences is memory friendly and is preferred since it only produces one item at a time."
   ]
  },
  {
   "cell_type": "code",
   "execution_count": 5,
   "id": "950bd4d2",
   "metadata": {},
   "outputs": [
    {
     "name": "stdout",
     "output_type": "stream",
     "text": [
      "Size of L in memory : 85176\n",
      "Size of gen in memory : 104\n"
     ]
    }
   ],
   "source": [
    "# Ex. for memory efficient\n",
    "import sys\n",
    "L = [x for x in range(1,10000)]\n",
    "gen = (x for x in range(1,10000))\n",
    "print('Size of L in memory :',sys.getsizeof(L))\n",
    "print('Size of gen in memory :',sys.getsizeof(gen))"
   ]
  },
  {
   "cell_type": "markdown",
   "id": "6d602a57",
   "metadata": {},
   "source": [
    "- **Represent Infinite Stream:**\n",
    "  - Generators are excellent mediums to represent an infinite stream of data.\n",
    "  - Infinite streams cannot be stored in memory, and since generators produce only one item at a time, they can represent an infinite stream of data."
   ]
  },
  {
   "cell_type": "code",
   "execution_count": 13,
   "id": "33cf143b",
   "metadata": {},
   "outputs": [
    {
     "name": "stdout",
     "output_type": "stream",
     "text": [
      "0\n",
      "2\n",
      "4\n"
     ]
    }
   ],
   "source": [
    "# Ex.generate all the even numbers \n",
    "def All_even():\n",
    "    n = 0\n",
    "    while True:\n",
    "        yield n\n",
    "        n += 2\n",
    "even_gen = All_even()\n",
    "print(next(even_gen))\n",
    "print(next(even_gen))\n",
    "print(next(even_gen))"
   ]
  },
  {
   "cell_type": "code",
   "execution_count": null,
   "id": "437e0bb8",
   "metadata": {},
   "outputs": [],
   "source": []
  }
 ],
 "metadata": {
  "kernelspec": {
   "display_name": "Python 3 (ipykernel)",
   "language": "python",
   "name": "python3"
  },
  "language_info": {
   "codemirror_mode": {
    "name": "ipython",
    "version": 3
   },
   "file_extension": ".py",
   "mimetype": "text/x-python",
   "name": "python",
   "nbconvert_exporter": "python",
   "pygments_lexer": "ipython3",
   "version": "3.10.7"
  }
 },
 "nbformat": 4,
 "nbformat_minor": 5
}
