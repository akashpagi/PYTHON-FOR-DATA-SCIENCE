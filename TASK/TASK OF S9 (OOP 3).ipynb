{
 "cells": [
  {
   "cell_type": "markdown",
   "metadata": {
    "id": "BCleRtX43caS"
   },
   "source": [
    "### `Problem-1:` Class inheritence\n",
    "\n",
    "Create a **Bus** child class that inherits from the Vehicle class. The default fare charge of any vehicle is seating capacity * 100. If Vehicle is Bus instance, we need to add an extra 10% on full fare as a maintenance charge. So total fare for bus instance will become the final amount = total fare + 10% of the total fare.\n",
    "\n",
    "Note: The bus seating capacity is 50. so the final fare amount should be 5500. You need to override the fare() method of a Vehicle class in Bus class."
   ]
  },
  {
   "cell_type": "code",
   "execution_count": 12,
   "metadata": {
    "colab": {
     "base_uri": "https://localhost:8080/"
    },
    "id": "6jVFCXKz3YZI",
    "outputId": "a8649209-08e2-4f60-a914-74a914dd697e"
   },
   "outputs": [
    {
     "name": "stdout",
     "output_type": "stream",
     "text": [
      "Final fare amount is 5500\n"
     ]
    }
   ],
   "source": [
    "# parent class\n",
    "class Vechicle:\n",
    "    \n",
    "    def __init__(self, capacity):\n",
    "        self.capacity = capacity\n",
    "    \n",
    "    def fare(self):\n",
    "        return self.capacity * 100\n",
    "\n",
    "# child class\n",
    "class Bus(Vechicle):\n",
    "            \n",
    "    def fare(self):\n",
    "        base_fare = super().fare()\n",
    "        # 10 %\n",
    "        final_amount = base_fare + (0.1 * base_fare)\n",
    "        return int(final_amount)\n",
    "    \n",
    "b = Bus(50)\n",
    "print('Final fare amount is {}'.format(b.fare()))\n"
   ]
  },
  {
   "cell_type": "markdown",
   "metadata": {
    "id": "KBbGNTtQ47mJ"
   },
   "source": [
    "### `Problem-2:` Class Inheritence\n",
    "\n",
    "Create a Bus class that inherits from the Vehicle class. Give the capacity argument of *Bus.seating_capacity()* a default value of 50.\n",
    "\n",
    "Use the following code for your parent Vehicle class."
   ]
  },
  {
   "cell_type": "code",
   "execution_count": null,
   "metadata": {
    "id": "MwOnYE_14M-r"
   },
   "outputs": [],
   "source": [
    "# Ignore Problem 2 question"
   ]
  },
  {
   "cell_type": "markdown",
   "metadata": {
    "id": "ExIxsv4y-oEd"
   },
   "source": [
    "### `Problem-3:` Write a program that has a class Point. Define another class Location which has two objects (Location & Destination) of class Point. Also define a function in Location that prints the reflection of Destination on the x axis."
   ]
  },
  {
   "cell_type": "code",
   "execution_count": 10,
   "metadata": {
    "id": "yT2QtzQp5VAB"
   },
   "outputs": [
    {
     "name": "stdout",
     "output_type": "stream",
     "text": [
      "Location is 0,0\n",
      "Destination is 1,1\n",
      "Reflextion : 1,-1\n"
     ]
    }
   ],
   "source": [
    "class Point:\n",
    "    def __init__(self, x, y):\n",
    "        self.x = x\n",
    "        self.y = y\n",
    "        \n",
    "    def show_point(self):\n",
    "        return '{},{}'.format(self.x, self.y)\n",
    "        \n",
    "class Location:\n",
    "    def __init__(self, x1, y1, x2, y2):\n",
    "        self.location = Point(x1, y1)\n",
    "        self.destination = Point(x2, y2)\n",
    "        \n",
    "    def show(self):\n",
    "        print('Location is', self.location.show_point())\n",
    "        print('Destination is', self.destination.show_point())\n",
    "        \n",
    "    def reflextion(self):\n",
    "        self.destination.y = -self.destination.y\n",
    "        print('Reflextion :', self.destination.show_point())\n",
    "        \n",
    "l = Location(0,0,1,1)\n",
    "l.show()\n",
    "l.reflextion()"
   ]
  },
  {
   "cell_type": "markdown",
   "metadata": {
    "id": "OcQhJvXVALgp"
   },
   "source": [
    "### `Problem-4:` Write a program that has an abstract class Polygon. Derive two classes Rectangle and Triangle from Polygon and write methods to get the details of their dimensions and hence calculate the area."
   ]
  },
  {
   "cell_type": "code",
   "execution_count": 20,
   "metadata": {
    "id": "9IMrtdUH__eA"
   },
   "outputs": [
    {
     "name": "stdout",
     "output_type": "stream",
     "text": [
      "Area of reactangle :20\n",
      "Area of triangle :10.0\n"
     ]
    }
   ],
   "source": [
    "from abc import ABC, abstractmethod\n",
    "class Polygon(ABC):\n",
    "    \n",
    "    @abstractmethod\n",
    "    def details(self):\n",
    "        pass\n",
    "    \n",
    "    @abstractmethod\n",
    "    def area(self):\n",
    "        pass\n",
    "    \n",
    "# child class (dervie class)\n",
    "class Reactangle(Polygon):\n",
    "    \n",
    "    def details(self, l, b):\n",
    "        self.length = l\n",
    "        self.breadth = b\n",
    "        \n",
    "    def area(self):\n",
    "        return 'Area of reactangle :{}'.format(self.length*self.breadth)\n",
    "\n",
    "# child class\n",
    "class Triangle(Polygon):\n",
    "    \n",
    "    def details(self, b, h):\n",
    "        self.base = b\n",
    "        self.height = h\n",
    "        \n",
    "    def area(self):\n",
    "        # A = 1/2 × b × h.\n",
    "        return 'Area of triangle :{}'.format(0.5*self.base*self.height)\n",
    "    \n",
    "r = Reactangle()\n",
    "r.details(4, 5)\n",
    "print(r.area())\n",
    "\n",
    "t = Triangle()\n",
    "t.details(4, 5)\n",
    "print(t.area())"
   ]
  },
  {
   "cell_type": "markdown",
   "metadata": {
    "id": "sEsGEqOHCSWG"
   },
   "source": [
    "### `Problem-5:` Write a program with class Bill. The users have the option to pay the bill either by cheque or by cash. Use the inheritance to model this situation."
   ]
  },
  {
   "cell_type": "code",
   "execution_count": 10,
   "metadata": {
    "id": "l0WFyP2PB3nf",
    "scrolled": true
   },
   "outputs": [],
   "source": [
    "class Bill:\n",
    "    \n",
    "    def __init__(self, items, price):\n",
    "        self.total = 0\n",
    "        self.items = items\n",
    "        self.price =  price\n",
    "        \n",
    "        for i in self.price:\n",
    "            self.total += i\n",
    "        \n",
    "    def display(self):\n",
    "        print('Items \\t\\t\\t Price')\n",
    "        for i in range(len(self.items)):\n",
    "            print(self.items[i], '\\t', self.price[i])\n",
    "        print('-'*30)    \n",
    "        print('Total :\\t\\t', self.total)\n",
    "        \n",
    "class CashPayment(Bill):\n",
    "    \n",
    "    def __init__(self, items, price, deno, value):\n",
    "        super().__init__(items, price)\n",
    "        self.deno = deno\n",
    "        self.value = value\n",
    "        \n",
    "    def show_cash_payment(self):\n",
    "        super().display() \n",
    "        for i in range(len(self.deno)):\n",
    "            print(self.deno[i], '*', self.value[i], '=', self.deno[i]*self.value[i])\n",
    "\n",
    "class ChequePayment(Bill):\n",
    "    \n",
    "    def __init__(self, items, price, cno, name):\n",
    "        super().__init__(items, price)\n",
    "        self.cno = cno\n",
    "        self.bank = name\n",
    "        \n",
    "    def show_cheque_payment(self):\n",
    "        super().display()\n",
    "        print('Cheque No :', self.cno)\n",
    "        print('Bank Name :',self.bank)\n",
    "           "
   ]
  },
  {
   "cell_type": "code",
   "execution_count": 11,
   "metadata": {},
   "outputs": [
    {
     "name": "stdout",
     "output_type": "stream",
     "text": [
      "Pay buy CHEQUE or CASH (1 or 2) :1\n",
      "Enter the bank name: ds\n",
      "Enter the cheque number: 3333343\n",
      "Items \t\t\t Price\n",
      "External Hard Disk \t 5000\n",
      "RAM \t 2000\n",
      "Printer \t 6000\n",
      "Pen Drive \t 800\n",
      "------------------------------\n",
      "Total :\t\t 13800\n",
      "Cheque No : 3333343\n",
      "Bank Name : ds\n"
     ]
    }
   ],
   "source": [
    "items = [\"External Hard Disk\", \"RAM\", \"Printer\", \"Pen Drive\"]\n",
    "price = [5000, 2000, 6000, 800]\n",
    "option = int(input('Pay buy CHEQUE or CASH (1 or 2) :'))\n",
    "if option == 1:\n",
    "    name = input(\"Enter the bank name: \")\n",
    "    cno = input(\"Enter the cheque number: \")\n",
    "    cheque = ChequePayment(items, price, cno, name)\n",
    "    cheque.show_cheque_payment()\n",
    "else:\n",
    "    deno = [10, 20, 50, 100, 500, 2000]\n",
    "    value = [1, 1, 1, 20, 4, 5]\n",
    "    cash = CashPayment(items, price, deno, value)\n",
    "    cash.show_cash_payment()"
   ]
  },
  {
   "cell_type": "markdown",
   "metadata": {
    "id": "v1M5Yh9ZZO0z"
   },
   "source": [
    "### `Q-6:` FlexibleDict\n",
    "As of now we are accessing values from dictionary with exact keys. Now we want to amend accessing values functionality. if a dict have key `1` (int) the even if we try to access values by giving `'1'` (1 as str) as key, we should get the same result and vice versa.\n",
    "\n",
    "Write a class `FlexibleDict` upon builtin `dict` class with above required functionality.\n",
    "\n",
    "Hint- `dict[key] => dict.__getitem__(key)` "
   ]
  },
  {
   "cell_type": "markdown",
   "metadata": {
    "id": "uajGeWegbfda"
   },
   "source": [
    "Ex.\n",
    "```\n",
    "fd = FlexibleDict()\n",
    "fd['a'] = 100\n",
    "print(fd['a']) # Like regular dict\n",
    "\n",
    "fd[5] = 500\n",
    "print(fd[5]) # Like regular dict\n",
    "\n",
    "fd[1] = 100\n",
    "print(fd['1']) # actual Key is int but still trying to access through str key.\n",
    "fd['1'] = 100\n",
    "print(fd[1])\n",
    "\n",
    "```\n",
    "`Output:`\n",
    "```\n",
    "100\n",
    "500\n",
    "100\n",
    "100\n",
    "\n",
    "```"
   ]
  },
  {
   "cell_type": "code",
   "execution_count": 5,
   "metadata": {
    "id": "OHLbOtCxZ2nw"
   },
   "outputs": [],
   "source": [
    "# implemention of code in future"
   ]
  },
  {
   "cell_type": "code",
   "execution_count": null,
   "metadata": {
    "id": "7NM8r__dmeMf"
   },
   "outputs": [],
   "source": []
  },
  {
   "cell_type": "code",
   "execution_count": null,
   "metadata": {
    "id": "waHSud8Ymkz-"
   },
   "outputs": [],
   "source": []
  }
 ],
 "metadata": {
  "colab": {
   "collapsed_sections": [
    "BCleRtX43caS",
    "KBbGNTtQ47mJ",
    "ExIxsv4y-oEd",
    "OcQhJvXVALgp",
    "sEsGEqOHCSWG",
    "v1M5Yh9ZZO0z"
   ],
   "provenance": []
  },
  "kernelspec": {
   "display_name": "Python 3 (ipykernel)",
   "language": "python",
   "name": "python3"
  },
  "language_info": {
   "codemirror_mode": {
    "name": "ipython",
    "version": 3
   },
   "file_extension": ".py",
   "mimetype": "text/x-python",
   "name": "python",
   "nbconvert_exporter": "python",
   "pygments_lexer": "ipython3",
   "version": "3.10.7"
  }
 },
 "nbformat": 4,
 "nbformat_minor": 1
}
