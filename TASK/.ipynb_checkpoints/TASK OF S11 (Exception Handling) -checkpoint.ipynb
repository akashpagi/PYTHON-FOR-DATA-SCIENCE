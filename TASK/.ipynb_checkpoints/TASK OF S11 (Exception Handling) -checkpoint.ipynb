{
 "cells": [
  {
   "cell_type": "markdown",
   "metadata": {
    "id": "ajVfqio_GinI"
   },
   "source": [
    "## Exception Handling\n"
   ]
  },
  {
   "cell_type": "markdown",
   "metadata": {
    "id": "0qnQkJtnGozz"
   },
   "source": [
    "### `Q-1`: You are given a function definition. There might be several issues on execution of this function. You are asked to do exception handling for diffrent errors that this function goes in to `without altering this function`. And print error text.\n",
    "\n"
   ]
  },
  {
   "cell_type": "markdown",
   "metadata": {
    "id": "2no_EB2fGyGq"
   },
   "source": [
    "Function parameters `l -> list, s -> could be anything`\n",
    "\n",
    "```\n",
    "def function(l: list, s, **args):\n",
    "    last_element = l[-1]\n",
    "    \n",
    "    l[int(s)]=10\n",
    "    any_element = l[int(s)+10]\n",
    "    l[s]=10\n",
    "    \n",
    "    res = sum(l)\n",
    "    \n",
    "    p = args['p']\n",
    "    # print(p)\n",
    "    return res/last_element * p + any_element\n",
    "\n",
    "```\n",
    "Check for different function calls:-\n",
    "\n",
    "```\n",
    "function([1,2,1], 12)\n",
    "function([1,2,1]*9, '1-2')\n",
    "function([1,'2',1]*9, 12)\n",
    "function([1,'2',1]*9, 12)\n",
    "function([1,2,0]*9, 12  )\n",
    "function([1,2,1]*9, 12, p=None)\n",
    "function([1,2,0]*9, 12, p=10)\n",
    "```"
   ]
  },
  {
   "cell_type": "code",
   "execution_count": 25,
   "metadata": {
    "id": "VoaL4_9eGjFU"
   },
   "outputs": [
    {
     "name": "stdout",
     "output_type": "stream",
     "text": [
      "Result :  452.0\n"
     ]
    }
   ],
   "source": [
    "def function(l: list, s, **args):\n",
    "    last_element = l[-1]\n",
    "\n",
    "    l[int(s)]=10\n",
    "    any_element = l[int(s)+10]\n",
    "    l[s]=10\n",
    "\n",
    "    res = sum(l)\n",
    "\n",
    "    p = args['p']\n",
    "    # print(p)\n",
    "    return res/last_element * p + any_element\n",
    "\n",
    "try : \n",
    "    res = function([1,2,1]*9, 12, p=10)\n",
    "except IndexError as i:\n",
    "    print('{} : {}'.format(type(i), i))\n",
    "except ValueError as v:\n",
    "    print('{} : {}'.format(type(v), v))\n",
    "except TypeError as t:\n",
    "    print('{} : {}'.format(type(t), t))\n",
    "except KeyError as k:\n",
    "    print('{} : {}'.format(type(k), k))\n",
    "except ZeroDivisionError as z:\n",
    "    print('{} : {}'.format(type(z), z))\n",
    "else:\n",
    "    print('Result : ', res)"
   ]
  },
  {
   "cell_type": "markdown",
   "metadata": {
    "id": "HuLMy2fVG9sL"
   },
   "source": [
    "### `Q-2:` You are given a code snippet. There might be several issues on execution of this code. You are asked to do exception handling for diffrent errors, condition is what ever happens we need to execute last line printing correct result of `sum of elements`.\n",
    "\n",
    "List have elemnts as any no of  `key-pair dict with key as list index and value as any integer`, `integers` and `numeric-strings`. There is always only one element in the dict.\n",
    "\n",
    "\n",
    "```\n",
    "l = [{0:2},2,3,4,'5', {5:10}]\n",
    "# For calculating sum of above list\n",
    "s=0\n",
    "for i in range(len(l)):\n",
    "    #You can Edit code from here\n",
    "    s += l[i].get(i)\n",
    "    s += l[i]\n",
    "    s += int(l[i])\n",
    "\n",
    "\n",
    "print(s)\n",
    "```"
   ]
  },
  {
   "cell_type": "code",
   "execution_count": 34,
   "metadata": {
    "id": "pEP8JU0qHAf8"
   },
   "outputs": [
    {
     "name": "stdout",
     "output_type": "stream",
     "text": [
      "26\n"
     ]
    }
   ],
   "source": [
    "l = [{0:2},2,3,4,'5', {5:10}]\n",
    "# For calculating sum of above list\n",
    "s=0\n",
    "for i in range(len(l)):\n",
    "    try :\n",
    "        s += l[i]\n",
    "    except TypeError:   \n",
    "        try:\n",
    "            s += l[i].get(i)\n",
    "        except AttributeError:\n",
    "            s += int(l[i])\n",
    "print(s)\n"
   ]
  },
  {
   "cell_type": "markdown",
   "metadata": {
    "id": "ohE2fDTXHIan"
   },
   "source": [
    "### `Q-3:`: File Handling with Exception handling\n",
    "\n",
    "Write a program that opens a text file and write data to it as \"Hello, Good Morning!!!\". Handle exceptions that can be generated during the I/O operations. Do not show the success message on the main exception handling block (write inside the else block)."
   ]
  },
  {
   "cell_type": "code",
   "execution_count": 40,
   "metadata": {
    "id": "iOeiWrcIHPlY"
   },
   "outputs": [
    {
     "name": "stdout",
     "output_type": "stream",
     "text": [
      "File Written successfully\n"
     ]
    }
   ],
   "source": [
    "\n",
    "def fileWithException(filename, data):\n",
    "    try:\n",
    "        with open(filename, 'w') as f:\n",
    "            f.write(data)\n",
    "    except IOError as io:\n",
    "        print('{} : {}'.format(type(io), io))\n",
    "    except Exception as e:\n",
    "        print('{} : {}'.format(type(e), e))\n",
    "    else:\n",
    "        return 'File Written successfully'\n",
    "\n",
    "filename = 'testfiles/Task11_Q3.txt'\n",
    "data = 'Hello, Good Morning!!!'\n",
    "\n",
    "res = fileWithException(filename, data)\n",
    "print(res)\n"
   ]
  },
  {
   "cell_type": "markdown",
   "metadata": {
    "id": "ru8g8-_bHTUf"
   },
   "source": [
    "### `Q-4`: Number game program.\n",
    "\n",
    "Write a number game program. Ask the user to enter a number. If the number is greater than number to be guessed, raise a **ValueTooLarge** exception. If the value is smaller the number to be guessed the, raise a **ValueTooSmall** exception and prompt the user to enter again. Quit the program only when the user enters the correct number. Also raise **GuessError** if user guess a number less than 1."
   ]
  },
  {
   "cell_type": "code",
   "execution_count": 1,
   "metadata": {
    "id": "QftlN5LJHZSX"
   },
   "outputs": [
    {
     "name": "stdout",
     "output_type": "stream",
     "text": [
      "Wining Number :  62\n",
      "Enter the guess number between 1 to 100 :61\n",
      "Input value is too samll !\n",
      "Enter the guess number between 1 to 100 :-1\n",
      "Guess the number between 1 and 100 only !\n",
      "Enter the guess number between 1 to 100 :1\n",
      "Input value is too samll !\n",
      "Enter the guess number between 1 to 100 :06\n",
      "Input value is too samll !\n",
      "Enter the guess number between 1 to 100 :65\n",
      "Input value is too large !\n",
      "Enter the guess number between 1 to 100 :63\n",
      "Input value is too large !\n",
      "Enter the guess number between 1 to 100 :62\n",
      "Congrats ! Your guessed the coorect number.\n"
     ]
    }
   ],
   "source": [
    "import random\n",
    "\n",
    "class ValueTooLarge(Exception):\n",
    "    def display(self):\n",
    "        print('Input value is too large !')\n",
    "\n",
    "class ValueTooSmall(Exception):\n",
    "    def display(self):\n",
    "        print('Input value is too samll !')\n",
    "\n",
    "class GuessError(Exception):\n",
    "    def display(self):\n",
    "        print('Guess the number between 1 and 100 only !')\n",
    "\n",
    "nums = random.randint(1, 100)\n",
    "print('Wining Number : ',nums)\n",
    "\n",
    "while True:\n",
    "    try:\n",
    "        user_guess = int(input('Enter the guess number between 1 to 100 :'))\n",
    "        \n",
    "        if user_guess < 1 or user_guess > 100:\n",
    "            raise GuessError()\n",
    "        elif user_guess > nums:\n",
    "            raise ValueTooLarge()\n",
    "        elif user_guess < nums:\n",
    "            raise ValueTooSmall()\n",
    "        else:\n",
    "            print('Congrats ! Your guessed the coorect number.')\n",
    "            break\n",
    "        \n",
    "    except GuessError as ge:\n",
    "        ge.display()\n",
    "    except ValueTooLarge as l:\n",
    "        l.display()\n",
    "    except ValueTooSmall as s:\n",
    "        s.display()\n",
    "    except Exception as e:\n",
    "        print('{} : {}'.format(type(e), e))"
   ]
  },
  {
   "cell_type": "markdown",
   "metadata": {
    "id": "ZsGI_40fHcsd"
   },
   "source": [
    "### `Q-5:` Cast vote\n",
    "\n",
    "Write a program that validate name and age as entered by the user to determine whether the person can cast vote or not. To handle the age, create **InvalidAge** exception and for name, create **InvalidName** exception. The name will be invalid when the string will be empty or name has only one word.\n",
    "\n",
    "Example 1:\n",
    "\n",
    "Input:\n",
    "\n",
    "```bash\n",
    "Enter the name:               goransh singh\n",
    "Enter the age: 25\n",
    "```\n",
    "\n",
    "Output:\n",
    "\n",
    "```bash\n",
    "Goransh Singh  Congratulation !!! You can vote.\n",
    "```"
   ]
  },
  {
   "cell_type": "code",
   "execution_count": null,
   "metadata": {
    "id": "OHL3UiS4Hi3U"
   },
   "outputs": [],
   "source": [
    "# Write code here"
   ]
  },
  {
   "cell_type": "markdown",
   "metadata": {
    "id": "SCvs0QjgHlOG"
   },
   "source": [
    "### `Q-6`: Write a python function which infinitely prints natural numbers in a single line. Raise the **StopIteration** exception after displaying first 20 numnbers to exit from the program."
   ]
  },
  {
   "cell_type": "code",
   "execution_count": null,
   "metadata": {
    "id": "Lc5ilNgNHoSx"
   },
   "outputs": [],
   "source": [
    "# Write code here"
   ]
  }
 ],
 "metadata": {
  "colab": {
   "provenance": []
  },
  "kernelspec": {
   "display_name": "Python 3 (ipykernel)",
   "language": "python",
   "name": "python3"
  },
  "language_info": {
   "codemirror_mode": {
    "name": "ipython",
    "version": 3
   },
   "file_extension": ".py",
   "mimetype": "text/x-python",
   "name": "python",
   "nbconvert_exporter": "python",
   "pygments_lexer": "ipython3",
   "version": "3.10.7"
  }
 },
 "nbformat": 4,
 "nbformat_minor": 1
}
