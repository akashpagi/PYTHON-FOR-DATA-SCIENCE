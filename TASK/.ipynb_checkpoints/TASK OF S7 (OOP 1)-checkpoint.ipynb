{
 "cells": [
  {
   "cell_type": "markdown",
   "metadata": {
    "id": "FyUJ3PRAsPr4"
   },
   "source": [
    "## `Q-1:` Rectangle Class\n",
    "1. Write a Rectangle class in Python language, allowing you to build a rectangle with length and width attributes.\n",
    "\n",
    "2. Create a Perimeter() method to calculate the perimeter of the rectangle and a Area() method to calculate the area of ​​the rectangle.\n",
    "\n",
    "3. Create a method display() that display the length, width, perimeter and area of an object created using an instantiation on rectangle class."
   ]
  },
  {
   "cell_type": "markdown",
   "metadata": {
    "id": "GxUtOqJfssFK"
   },
   "source": [
    "Eg.\n",
    "After making above classes and methods, on executing below code:-\n",
    "```\n",
    "my_rectangle = Rectangle(3 , 4)\n",
    "my_rectangle.display()\n",
    "```\n",
    "\n",
    "`Output:`\n",
    "```\n",
    "The length of rectangle is:  3\n",
    "The width of rectangle is:  4\n",
    "The perimeter of rectangle is:  14\n",
    "The area of rectangle is:  12\n",
    "```\n"
   ]
  },
  {
   "cell_type": "code",
   "execution_count": 7,
   "metadata": {
    "id": "92_QT-Uj6NBg"
   },
   "outputs": [
    {
     "name": "stdout",
     "output_type": "stream",
     "text": [
      "The length of rectangle is: 3\n",
      "The width of rectangle is:  4\n",
      "The perimeter of rectangle is:  14\n",
      "The area of rectangle is:  12\n"
     ]
    }
   ],
   "source": [
    "class Rectangle:\n",
    "    \n",
    "    def __init__(self, length, width):\n",
    "        self.length = length\n",
    "        self.width = width\n",
    "        \n",
    "    def Perimeter(self):\n",
    "        return 2*(self.length+self.width)\n",
    "    \n",
    "    def Area(self):\n",
    "        return self.length*self.width\n",
    "    \n",
    "    def display(self):\n",
    "        print('The length of rectangle is:',self.length)\n",
    "        print('The width of rectangle is: ',self.width)\n",
    "        print('The perimeter of rectangle is: ',self.Perimeter())\n",
    "        print('The area of rectangle is: ',self.Area())\n",
    "        \n",
    "my_rectangle = Rectangle(3, 4)\n",
    "my_rectangle.display()       \n",
    "    "
   ]
  },
  {
   "cell_type": "markdown",
   "metadata": {
    "id": "r_GxrS0Vrdom"
   },
   "source": [
    "## `Q-2: Bank Class`\n",
    "\n",
    "1. Create a Python class called `BankAccount` which represents a bank account, having as attributes: `accountNumber` (numeric type), `name` (name of the account owner as string type), `balance`.\n",
    "2. Create a constructor with parameters: `accountNumber, name, balance`.\n",
    "3. Create a `Deposit()` method which manages the deposit actions.\n",
    "4. Create a `Withdrawal()` method  which manages withdrawals actions.\n",
    "5. Create an `bankFees()` method to apply the bank fees with a percentage of 5% of the balance account.\n",
    "6. Create a `display()` method to display account details.\n",
    "Give the complete code for the  BankAccount class."
   ]
  },
  {
   "cell_type": "markdown",
   "metadata": {
    "id": "qvVkOUJgvTV_"
   },
   "source": [
    "Eg.\n",
    "After making above classes and methods, on executing below code:-\n",
    "```\n",
    "newAccount = BankAccount(2178514584, \"Mandy\" , 2800)\n",
    "\n",
    "newAccount.Withdrawal(700)\n",
    "\n",
    "newAccount.Deposit(1000)\n",
    "\n",
    "newAccount.display()\n",
    "```\n",
    "\n",
    "`Output:`\n",
    "```\n",
    "Account Number :  2178514584\n",
    "Account Name :  Mandy\n",
    "Account Balance :  3100 ₹\n",
    "```"
   ]
  },
  {
   "cell_type": "code",
   "execution_count": 15,
   "metadata": {
    "id": "fUQOmQyA6YDR"
   },
   "outputs": [],
   "source": [
    "class BankAccount:\n",
    "    \n",
    "    def __init__(self, accountNumber, name, balance):\n",
    "        self.accountNumber = accountNumber\n",
    "        self.name = name\n",
    "        self.balance = balance\n",
    "        \n",
    "    def Deposit(self, amount):\n",
    "        self.balance = self.balance + amount\n",
    "    \n",
    "    def Withdrawal(self, amount):\n",
    "        if amount>self.balance:\n",
    "            print('Insufficient balance')\n",
    "        else:\n",
    "            self.balance -= amount\n",
    "            debit = self.bankFees()      \n",
    "        \n",
    "    def bankFees(self):\n",
    "        bank_fees = 0.05*self.balance\n",
    "        self.balance -= bank_fees\n",
    "    \n",
    "    def display(self):\n",
    "        print('Account Number :',self.accountNumber)\n",
    "        print('Account Name :', self.name)\n",
    "        print('Account Balance :',self.balance,'₹')\n",
    "        "
   ]
  },
  {
   "cell_type": "code",
   "execution_count": 16,
   "metadata": {},
   "outputs": [
    {
     "name": "stdout",
     "output_type": "stream",
     "text": [
      "Account Number : 2178514584\n",
      "Account Name : Mandy\n",
      "Account Balance : 2995.0 ₹\n"
     ]
    }
   ],
   "source": [
    "newAccount = BankAccount(2178514584, \"Mandy\" , 2800)\n",
    "newAccount.Withdrawal(700)\n",
    "newAccount.Deposit(1000)\n",
    "newAccount.display()"
   ]
  },
  {
   "cell_type": "markdown",
   "metadata": {
    "id": "QovcQAZTrgGU"
   },
   "source": [
    "## `Q-3:Computation class`\n",
    "\n",
    "1. Create a `Computation` class with a default constructor (without parameters) allowing to perform various calculations on integers numbers.\n",
    "2. Create a method called `Factorial()` which allows to calculate the factorial of an integer n. Integer n as parameter for this method\n",
    "\n",
    "3. Create a method called `naturalSum()` allowing to calculate the sum of the first n integers 1 + 2 + 3 + .. + n. Integer n as parameter for this method.\n",
    "\n",
    "4. Create a method called `testPrime()` in  the Calculation class to test the primality of a given integer n, n is Prime or Not? Integer n as parameter for this method.\n",
    "\n",
    "5. Create  a method called `testPrims()` allowing to test if two numbers are prime between them. Two integers are prime to one another if they have only `1` as their common divisor. Eg. 4 and 9 are prime to each other.\n",
    "\n",
    "5. Create a `tableMult()` method which creates and displays the multiplication table of a given integer. Then create an `allTablesMult()` method to display all the integer multiplication tables 1, 2, 3, ..., 9.\n",
    "\n",
    "6. Create a static `listDiv()` method that gets all the divisors of a given integer on new list called  Ldiv. Create another `listDivPrim()` method that gets all the prime divisors of a given integer."
   ]
  },
  {
   "cell_type": "code",
   "execution_count": 29,
   "metadata": {
    "id": "YEkPH70l6Z-o"
   },
   "outputs": [
    {
     "name": "stdout",
     "output_type": "stream",
     "text": [
      "Factorial of 5 is 120\n",
      "sum of the first 10 integers :55\n",
      "5 is Prime !\n",
      "Numbers 3 & 5 are co-primes\n",
      "[1, 3, 9]\n"
     ]
    }
   ],
   "source": [
    "class Computation:\n",
    "    def __init__(self):\n",
    "        pass\n",
    "    \n",
    "    # Factorial calculation\n",
    "    def factorial(self, n):\n",
    "        x = 1\n",
    "        for i in range(1, n+1):\n",
    "            x *= i\n",
    "        return 'Factorial of {} is {}'.format(n, x)\n",
    "    \n",
    "    # Calculate the sum of the first n integers\n",
    "    def naturalSum(self, n):\n",
    "        x = 0\n",
    "        for i in range(1, n+1):\n",
    "            x += i\n",
    "        return 'sum of the first {} integers :{}'.format(n, x)\n",
    "    \n",
    "    # checking given n integer is prime of not\n",
    "    def testPrime(self, n):\n",
    "        x = 0\n",
    "        for i in range(1, n+1):\n",
    "            if n%i == 0:\n",
    "                x += 1\n",
    "        if x == 2:\n",
    "            return '{} is Prime !'.format(n)\n",
    "        else:\n",
    "            return '{} is Not Prime !'.format(n)\n",
    "    \n",
    "    # Prims test for two numbers\n",
    "    def testPrims(self, n, m):\n",
    "        comDiv = 0\n",
    "        for i in range(1, n+1):\n",
    "            if n%i == 0 and m%i == 0:\n",
    "                comDiv += 1\n",
    "        if comDiv == 1:\n",
    "            print('Numbers {} & {} are co-primes'.format(n, m))\n",
    "        else:\n",
    "            print('Numbers {} & {} are not co-primes'.format(n, m))  \n",
    "        \n",
    "    # Multiplacation of entered number\n",
    "    def tableMult(self, a):\n",
    "        print('Multiplacation of table')\n",
    "        for i in range(1, 11):\n",
    "            print('{} * {} = {}'.format(a, i, (i*a)))\n",
    "            \n",
    "    # All multiplication tables 1, 2, 3, ..., 9.\n",
    "    def allTablesMult(self):\n",
    "        for i in range(1,10):\n",
    "            print('Multiplacation of table {} is'.format(i))\n",
    "            for j in range(1, 11):\n",
    "                print('{} * {} = {}'.format(i, j, (j*i)))\n",
    "                \n",
    "    # Find all the divisors of a given integer\n",
    "    def listDiv(self, x):\n",
    "        div_list = []\n",
    "        for i in range(1, x+1):\n",
    "            if x%i == 0 :\n",
    "                div_list.append(i)\n",
    "        return div_list\n",
    "        \n",
    "     \n",
    "c = Computation()\n",
    "print(c.factorial(5))\n",
    "print(c.naturalSum(10))\n",
    "print(c.testPrime(5))\n",
    "c.testPrims(3, 5)\n",
    "#c.tableMult(3)\n",
    "#c.allTablesMult()\n",
    "print(c.listDiv(9))"
   ]
  },
  {
   "cell_type": "code",
   "execution_count": null,
   "metadata": {},
   "outputs": [],
   "source": []
  },
  {
   "cell_type": "code",
   "execution_count": null,
   "metadata": {},
   "outputs": [],
   "source": []
  },
  {
   "cell_type": "code",
   "execution_count": null,
   "metadata": {},
   "outputs": [],
   "source": []
  },
  {
   "cell_type": "markdown",
   "metadata": {
    "id": "0yn23_oEriXa"
   },
   "source": [
    "## `Q-4`: Build flashcard using class in Python.\n",
    "\n",
    "Build a flashcard using class in python. A flashcard is a card having information on both sides, which can be used as an aid in memorization. Flashcards usually have a question on one side and an answer on the other.\n",
    "\n",
    "**Example 1:**\n",
    "\n",
    "Approach:\n",
    "\n",
    "- Create a class named FlashCard.\n",
    "- Initialize dictionary fruits using __init__() method. Here you have to define fruit name as key and it's color as value. E.g., {\"Banana\": \"yellow\", \"Strawberries\": \"pink\"}\n",
    "- Now randomly choose a pair from fruits by using _random_ module and store the key in variable _fruit_ and _value_ in variable color.\n",
    "- Now prompt the user to answer the color of the randomly chosen fruit.\n",
    "- If correct print correct else print wrong.\n",
    "\n",
    "Output:\n",
    "```bash\n",
    "welcome to fruit quiz\n",
    "What is the color of Strawberries\n",
    "pink\n",
    "Correct answer\n",
    "Enter 0, if you want to play again: 0\n",
    "What is the color of watermelon\n",
    "green\n",
    "Correct answer\n",
    "Enter 0, if you want to play again: 1\n",
    "```"
   ]
  },
  {
   "cell_type": "code",
   "execution_count": 5,
   "metadata": {
    "id": "vCrUF6VU6l6w",
    "scrolled": true
   },
   "outputs": [
    {
     "name": "stdout",
     "output_type": "stream",
     "text": [
      "welcome to fruit quiz\n",
      "What is the color of Guava\n",
      "green\n",
      "Correct anwer\n",
      "Enter 0, if you want to play again: 1\n"
     ]
    }
   ],
   "source": [
    "import random\n",
    "\n",
    "class flashCard:    \n",
    "    def __init__(self):\n",
    "        self.fruits = {\n",
    "            'Pipeapple':'yellow',\n",
    "            'Apple':'red',\n",
    "            'Strawberries':'pink',\n",
    "            'Balnana':'yellow',\n",
    "            'Guava':'green',\n",
    "            'Watermelon':'green'          \n",
    "        }\n",
    "        \n",
    "    def Quiz(self):    \n",
    "        while True:\n",
    "            fruit, color = random.choices(list(self.fruits.items()))[0]\n",
    "            print('What is the color of {}'.format(fruit))\n",
    "            \n",
    "            user_ans = input()\n",
    "            if user_ans.lower() == color:\n",
    "                print('Correct anwer')\n",
    "            else:\n",
    "                print('Wrong answer')\n",
    "                \n",
    "            option = int(input('Enter 0, if you want to play again: '))\n",
    "            if option:\n",
    "                break\n",
    "                print('Exit')\n",
    "                \n",
    "print('welcome to fruit quiz')\n",
    "fc = flashCard()\n",
    "fc.Quiz()         \n",
    "            "
   ]
  },
  {
   "cell_type": "markdown",
   "metadata": {
    "id": "GN2r0jbRewYr"
   },
   "source": [
    "## `Q-5:` Problem 5 based on OOP Python.\n",
    "\n",
    "TechWorld, a technology training center, wants to allocate courses for instructors. An instructor is identified by name, technology skills, experience and average feedback. An instructor is allocated a course, if he/she satisfies the below two conditions:\n",
    "- eligibility criteria:\n",
    "    - if experience is more than 3 years, average feedback should be 4.5 or more\n",
    "    - if experience is 3 years or less, average feedback should be 4 or more\n",
    "- he/she should posses the technology skill for the course\n",
    "\n",
    "Identify the class name and attributes to represent instructors. Write a Python program to implement the class chosen with its attributes and methods.\n",
    "\n",
    "**Note:**\n",
    "- Consider all instance variables to be private and methods to be public.\n",
    "- An instructor may have multiple technology skills, so consider instance variable, technology_skill to be a list.\n",
    "- *check_eligibility()*: Return true if eligibility criteria is satisfied by the instructor. Else, return false\n",
    "- *allocate_course(technology)*: Return true if the course which requires the given technology can be allocated to the instructor. Else, return false.\n",
    "\n",
    "Represent a few objects of the class, initialize instance variables using setter methods, invoke\n",
    "appropriate methods and test your program."
   ]
  },
  {
   "cell_type": "code",
   "execution_count": 1,
   "metadata": {
    "id": "pdMFuVFnlvKL"
   },
   "outputs": [
    {
     "data": {
      "text/plain": [
       "True"
      ]
     },
     "execution_count": 1,
     "metadata": {},
     "output_type": "execute_result"
    }
   ],
   "source": [
    "class Instructor:\n",
    "    \n",
    "    def __init__(self, name, technology, experience, feedback):\n",
    "        self.__name = name\n",
    "        self.__technology = technology\n",
    "        self.__experience = experience\n",
    "        self.__feedback = feedback\n",
    "        \n",
    "    def check_eligibility(self): \n",
    "        if self.__experience > 3 and self.__feedback >= 4.5:\n",
    "            return True\n",
    "        elif self.__experience <= 3 and self.__feedback >= 4:\n",
    "            return True\n",
    "        else:\n",
    "            return False\n",
    "    \n",
    "    def allocate_course(self, technology):\n",
    "        eligibility = self.check_eligibility()\n",
    "        \n",
    "        if eligibility:\n",
    "            if technology in self.__technology:\n",
    "                return True \n",
    "            else:\n",
    "                return \"No idea about technology !\"\n",
    "        else:\n",
    "            return False\n",
    "        \n",
    "\n",
    "i = Instructor('Akash',['Python','AWS','Stats','flask'], 3, 4.5)\n",
    "i.allocate_course('flask')\n",
    "         "
   ]
  },
  {
   "cell_type": "code",
   "execution_count": null,
   "metadata": {},
   "outputs": [],
   "source": []
  },
  {
   "cell_type": "code",
   "execution_count": null,
   "metadata": {},
   "outputs": [],
   "source": []
  },
  {
   "cell_type": "code",
   "execution_count": null,
   "metadata": {},
   "outputs": [],
   "source": []
  }
 ],
 "metadata": {
  "colab": {
   "provenance": []
  },
  "kernelspec": {
   "display_name": "Python 3 (ipykernel)",
   "language": "python",
   "name": "python3"
  },
  "language_info": {
   "codemirror_mode": {
    "name": "ipython",
    "version": 3
   },
   "file_extension": ".py",
   "mimetype": "text/x-python",
   "name": "python",
   "nbconvert_exporter": "python",
   "pygments_lexer": "ipython3",
   "version": "3.10.7"
  }
 },
 "nbformat": 4,
 "nbformat_minor": 1
}
