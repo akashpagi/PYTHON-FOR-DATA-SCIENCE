{
 "cells": [
  {
   "cell_type": "code",
   "execution_count": null,
   "id": "128d1ca8",
   "metadata": {
    "scrolled": true
   },
   "outputs": [],
   "source": [
    "# Q1.Solution :\n",
    "print(\"Data\",'Science','Membership','Program', sep='-',end='-Started-')\n",
    "print('By','CampusX',sep='-')\n"
   ]
  },
  {
   "cell_type": "code",
   "execution_count": null,
   "id": "19298a25",
   "metadata": {},
   "outputs": [],
   "source": [
    "# Q2. Solution :\n",
    "# formula : f = ((c * 1.8) + 32)\n",
    "c = float(input('Enter the temperature (C°):'))\n",
    "f = ( (c * 1.8 )+32)\n",
    "print(c,'C° conveted into',f,'F°')\n",
    "\n",
    "\n",
    "\n",
    "#extra\n",
    "# formula : c = ((f - 32) / 1.8)\n",
    "f = float(input('Enter the temperature (F°):'))\n",
    "c = (((f - 32) / 1.8))\n",
    "print(f,'F° conveted into',c,'C°')\n"
   ]
  },
  {
   "cell_type": "code",
   "execution_count": null,
   "id": "320e6aa1",
   "metadata": {},
   "outputs": [],
   "source": [
    "# Q3. Solution :\n",
    "\n",
    "num1 = int(input('Enter the num1 :'))\n",
    "num2 = int(input('Enter the num2 :'))\n",
    "print()\n",
    "print('Before : num1=',num1, 'num2=',num2)\n",
    "print()\n",
    "temp = num1\n",
    "num1 = num2\n",
    "num2 = temp\n",
    "\n",
    "print('After : num1=',num1, 'num2=',num2)"
   ]
  },
  {
   "cell_type": "code",
   "execution_count": 3,
   "id": "5258fce3",
   "metadata": {},
   "outputs": [
    {
     "name": "stdout",
     "output_type": "stream",
     "text": [
      "Enter the X1 co-ordinates :0\n",
      "Enter the Y2 co-ordinates :0\n",
      "Enter the X2 co-ordinates :2\n",
      "Enter the Y2 co-ordinates :2\n",
      "Eudlidean diatance of given co-ordinates is 2.83\n"
     ]
    }
   ],
   "source": [
    "# Q4. Solution :\n",
    "\n",
    "# euclidean distance :\n",
    "x1 = int(input('Enter the X1 co-ordinates :'))\n",
    "y1 = int(input('Enter the Y2 co-ordinates :'))\n",
    "\n",
    "x2 = int(input('Enter the X2 co-ordinates :'))\n",
    "y2 = int(input('Enter the Y2 co-ordinates :'))\n",
    "\n",
    "d = ((x2-x1)**2 + (y2-y1)**2)**0.5\n",
    "\n",
    "print('Eudlidean diatance of given co-ordinates is',round(d,2))\n"
   ]
  },
  {
   "cell_type": "code",
   "execution_count": null,
   "id": "3aba9045",
   "metadata": {},
   "outputs": [],
   "source": [
    "# Q5. Solution :\n",
    "# formula : si = (p*r*t)/100\n",
    "\n",
    "p = int(input('Enter principle amount :'))\n",
    "r = float(input('Enter rate of interest :'))\n",
    "t = int(input('Enter time period (in year) :'))\n",
    "\n",
    "SI = (p * r * t)/100\n",
    "\n",
    "# extra\n",
    "a = p + SI\n",
    "\n",
    "print('simple interest is',(int(SI)),'& total amount is',int(a),'.')\n"
   ]
  },
  {
   "cell_type": "code",
   "execution_count": null,
   "id": "2fc2ccc2",
   "metadata": {},
   "outputs": [],
   "source": [
    "# Q6. Solution :\n",
    "'''\n",
    "chicken + dog = heads ....(1)\n",
    "2chicken + 4dog = legs ...(2)\n",
    "\n",
    "# calculating total no. of dogs\n",
    "# using eqution(1) \n",
    "dog = heads - chicken\n",
    "\n",
    "# calculating total no. of chicken\n",
    "# so eqution (2) becomes\n",
    "2chicken + 4(heads-chicken) = legs\n",
    " \n",
    "chicken = 2heads-(legs/2)\n",
    "\n",
    "\n",
    "'''\n",
    "\n",
    "heads = int(input('Enter total number of heads :'))\n",
    "legs = int(input('Enter total number of legs :'))\n",
    "\n",
    "if heads <= legs :\n",
    "    chicken = 2 * heads - (legs/2)\n",
    "    print('Number of chickens :',int(chicken))\n",
    "    dog = heads - chicken \n",
    "    print('Number of dogs :',int(dog))\n",
    "else:\n",
    "    print('Not possible')\n"
   ]
  },
  {
   "cell_type": "code",
   "execution_count": null,
   "id": "dfdc3138",
   "metadata": {},
   "outputs": [],
   "source": []
  },
  {
   "cell_type": "code",
   "execution_count": 3,
   "id": "7065c684",
   "metadata": {},
   "outputs": [
    {
     "name": "stdout",
     "output_type": "stream",
     "text": [
      "Enter the number :10\n",
      "385\n"
     ]
    }
   ],
   "source": [
    "# Q7. Solution : sum of squares of first n natural number\n",
    "\n",
    "n = int(input('Enter the number :'))\n",
    "sum = 0\n",
    "for i in range(1, n+1):\n",
    "    sum += (i*i)  \n",
    "print(sum)"
   ]
  },
  {
   "cell_type": "code",
   "execution_count": null,
   "id": "686b837d",
   "metadata": {},
   "outputs": [],
   "source": []
  },
  {
   "cell_type": "code",
   "execution_count": null,
   "id": "07195882",
   "metadata": {},
   "outputs": [],
   "source": [
    "# Q8 Solution :\n",
    "'''Arithmetic Progression series is like = 2, 5, 8, 11, 14 ….\n",
    "In this series 2 is the stating term of the series . \n",
    "Common difference = 5 – 2 = 3 (Difference common in the series(2nd_term - 1st term)). \n",
    "so we can write the series as :\n",
    "t1 = a1 \n",
    "t2 = a1 + (2-1) * d \n",
    "t3 = a1 + (3-1) * d \n",
    "# formula : n = a + (n-1) * d\n",
    "'''\n",
    "first_term = int(input('Enter the 1st term of series :'))\n",
    "second_term = int(input('Enter the 2nd term of series :'))\n",
    "\n",
    "common_difference = second_term - first_term \n",
    "\n",
    "N = int(input('Enter Nth term :'))\n",
    "\n",
    "result  = first_term + (N-1) * common_difference\n",
    "print('The',N,'th term of the series is',result)"
   ]
  },
  {
   "cell_type": "code",
   "execution_count": null,
   "id": "2480f8a1",
   "metadata": {},
   "outputs": [],
   "source": []
  },
  {
   "cell_type": "code",
   "execution_count": 3,
   "id": "dd117d8f",
   "metadata": {},
   "outputs": [
    {
     "name": "stdout",
     "output_type": "stream",
     "text": [
      "Formula : (AD + CB)/ BD\n",
      "A :3\n",
      "B :7\n",
      "C :2\n",
      "D :11\n",
      "47/77\n"
     ]
    }
   ],
   "source": [
    "# Q9 Solution :\n",
    "# additon of 2 fractions\n",
    "print('Formula : (AD + CB)/ BD')\n",
    "A = int(input('A :')) \n",
    "B = int(input('B :'))\n",
    "C = int(input('C :'))\n",
    "D = int(input('D :'))\n",
    "\n",
    "F1 = (A*D) + (C*B)\n",
    "F2 = (B*D)\n",
    "\n",
    "print('{}/{}'.format(F1,F2))"
   ]
  },
  {
   "cell_type": "code",
   "execution_count": null,
   "id": "223042fc",
   "metadata": {},
   "outputs": [],
   "source": []
  },
  {
   "cell_type": "code",
   "execution_count": 4,
   "id": "694649de",
   "metadata": {},
   "outputs": [
    {
     "name": "stdout",
     "output_type": "stream",
     "text": [
      "Enter the height of the tank :10\n",
      "Enter the breath of the tank :19\n",
      "Enter the length of the tank :10\n",
      "Enter the height of the glass :5\n",
      "Enter the breath of the glass :2\n",
      "30 Milk of glass is obtained\n"
     ]
    }
   ],
   "source": [
    "# Q10 Solution :\n",
    "import math\n",
    "# Dimensions of the milk tank\n",
    "#H = 20cm, L = 20cm, B = 20cm\n",
    "\n",
    "Height_tank = float(input('Enter the height of the tank :'))\n",
    "Breath_tank = float(input('Enter the breath of the tank :'))\n",
    "Length_tank = float(input('Enter the length of the tank :'))\n",
    "\n",
    "#Dimensions of the glass\n",
    "#h = 3cm, r = 1cm\n",
    "Heigth_glass = float(input('Enter the height of the glass :'))\n",
    "Radius_glass = float(input('Enter the breath of the glass :'))\n",
    "\n",
    "# Formulas:\n",
    "\n",
    "Volume_of_tank = Height_tank * Breath_tank * Length_tank\n",
    "Volume_of_glass = 3.14 * Radius_glass * Radius_glass * Heigth_glass\n",
    "\n",
    "print(math.floor(Volume_of_tank/Volume_of_glass),'Milk of glass is obtained')"
   ]
  },
  {
   "cell_type": "code",
   "execution_count": null,
   "id": "1900bb2d",
   "metadata": {},
   "outputs": [],
   "source": []
  },
  {
   "cell_type": "code",
   "execution_count": null,
   "id": "bbfa52ae",
   "metadata": {},
   "outputs": [],
   "source": []
  },
  {
   "cell_type": "code",
   "execution_count": null,
   "id": "23ddbdcd",
   "metadata": {},
   "outputs": [],
   "source": []
  },
  {
   "cell_type": "code",
   "execution_count": null,
   "id": "ca205d2e",
   "metadata": {},
   "outputs": [],
   "source": []
  },
  {
   "cell_type": "code",
   "execution_count": null,
   "id": "8aa37901",
   "metadata": {},
   "outputs": [],
   "source": []
  },
  {
   "cell_type": "code",
   "execution_count": null,
   "id": "e7239fc6",
   "metadata": {},
   "outputs": [],
   "source": []
  },
  {
   "cell_type": "code",
   "execution_count": null,
   "id": "ca23dd30",
   "metadata": {},
   "outputs": [],
   "source": []
  },
  {
   "cell_type": "code",
   "execution_count": null,
   "id": "022046f4",
   "metadata": {},
   "outputs": [],
   "source": []
  },
  {
   "cell_type": "code",
   "execution_count": null,
   "id": "e8213958",
   "metadata": {},
   "outputs": [],
   "source": []
  },
  {
   "cell_type": "code",
   "execution_count": null,
   "id": "42439f1e",
   "metadata": {},
   "outputs": [],
   "source": []
  },
  {
   "cell_type": "code",
   "execution_count": null,
   "id": "fa703042",
   "metadata": {},
   "outputs": [],
   "source": []
  },
  {
   "cell_type": "code",
   "execution_count": null,
   "id": "c4e84bd9",
   "metadata": {},
   "outputs": [],
   "source": []
  },
  {
   "cell_type": "code",
   "execution_count": null,
   "id": "26ddd6af",
   "metadata": {},
   "outputs": [],
   "source": []
  },
  {
   "cell_type": "code",
   "execution_count": null,
   "id": "58b5c6ef",
   "metadata": {},
   "outputs": [],
   "source": []
  },
  {
   "cell_type": "code",
   "execution_count": null,
   "id": "a2daa4d2",
   "metadata": {},
   "outputs": [],
   "source": []
  },
  {
   "cell_type": "code",
   "execution_count": null,
   "id": "07087633",
   "metadata": {},
   "outputs": [],
   "source": []
  },
  {
   "cell_type": "code",
   "execution_count": null,
   "id": "3b173a65",
   "metadata": {},
   "outputs": [],
   "source": []
  },
  {
   "cell_type": "code",
   "execution_count": null,
   "id": "efed1620",
   "metadata": {},
   "outputs": [],
   "source": []
  },
  {
   "cell_type": "code",
   "execution_count": null,
   "id": "f1dd34dd",
   "metadata": {},
   "outputs": [],
   "source": []
  },
  {
   "cell_type": "code",
   "execution_count": null,
   "id": "6767f91c",
   "metadata": {},
   "outputs": [],
   "source": []
  }
 ],
 "metadata": {
  "kernelspec": {
   "display_name": "Python 3 (ipykernel)",
   "language": "python",
   "name": "python3"
  },
  "language_info": {
   "codemirror_mode": {
    "name": "ipython",
    "version": 3
   },
   "file_extension": ".py",
   "mimetype": "text/x-python",
   "name": "python",
   "nbconvert_exporter": "python",
   "pygments_lexer": "ipython3",
   "version": "3.10.7"
  }
 },
 "nbformat": 4,
 "nbformat_minor": 5
}
