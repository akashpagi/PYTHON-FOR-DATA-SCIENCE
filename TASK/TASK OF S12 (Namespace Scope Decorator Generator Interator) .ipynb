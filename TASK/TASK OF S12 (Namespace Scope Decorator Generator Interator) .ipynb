{
 "cells": [
  {
   "cell_type": "markdown",
   "metadata": {
    "id": "hM8V4LxHKV6x"
   },
   "source": [
    "## Namespace and Scope"
   ]
  },
  {
   "cell_type": "markdown",
   "metadata": {
    "id": "Kl3s2TonKYgY"
   },
   "source": [
    "### `Q1:` Write `Person` Class as given below and then display it's namespace.\n",
    "\n"
   ]
  },
  {
   "cell_type": "markdown",
   "metadata": {
    "id": "grudG97hL83C"
   },
   "source": [
    "```\n",
    "Class Name - Person\n",
    "\n",
    "Attributes:\n",
    "name - public\n",
    "state - public\n",
    "city - private\n",
    "age - private\n",
    "\n",
    "Methods:\n",
    "address - public\n",
    "It give address of the person as \"<name>, <city>, <state>\"\n",
    "```"
   ]
  },
  {
   "cell_type": "code",
   "execution_count": 9,
   "metadata": {
    "id": "BRq-I4jmKX0U"
   },
   "outputs": [
    {
     "name": "stdout",
     "output_type": "stream",
     "text": [
      "__module__\n",
      "__init__\n",
      "setValues\n",
      "getValues\n",
      "address\n",
      "__dict__\n",
      "__weakref__\n",
      "__doc__\n"
     ]
    }
   ],
   "source": [
    "class Person:\n",
    "    \n",
    "    def __init__(self, name, state):\n",
    "        self.name = name\n",
    "        self.state = state\n",
    "        self.__city = None\n",
    "        self.__age = None\n",
    "     \n",
    "    def setValues(self, city, state):\n",
    "        self.__city = city\n",
    "        self.__state = state\n",
    "        \n",
    "    def getValues(self):\n",
    "        return self.__city, self.__state\n",
    "        \n",
    "    def address(self):\n",
    "        return '{}, {}, {}'.format(self.name, self.__city, self.__state)\n",
    "\n",
    "for i in Person.__dict__:\n",
    "    print(i)\n",
    "    \n",
    "'''\n",
    "p = Person('Akash', 'Maharashatra')\n",
    "p.setValues('Mumbai',22)\n",
    "print('Address :', p.address())\n",
    "'''"
   ]
  },
  {
   "cell_type": "markdown",
   "metadata": {
    "id": "NLtOPOXDL_zB"
   },
   "source": [
    "### `Q2:` Write a program to show namespace of object/instance of above(Person) class."
   ]
  },
  {
   "cell_type": "code",
   "execution_count": 11,
   "metadata": {
    "id": "w3fj9tf0MJ3Z"
   },
   "outputs": [
    {
     "name": "stdout",
     "output_type": "stream",
     "text": [
      "Address : Akash, Mumbai, 22\n",
      "__module__\n",
      "__init__\n",
      "setValues\n",
      "getValues\n",
      "address\n",
      "__dict__\n",
      "__weakref__\n",
      "__doc__\n"
     ]
    }
   ],
   "source": [
    "p = Person('Akash', 'Maharashatra')\n",
    "p.setValues('Mumbai',22)\n",
    "print('Address :', p.address())\n",
    "for i in Person.__dict__:\n",
    "    print(i)"
   ]
  },
  {
   "cell_type": "code",
   "execution_count": null,
   "metadata": {
    "id": "J2C13ZiuNGP3"
   },
   "outputs": [],
   "source": []
  },
  {
   "cell_type": "markdown",
   "metadata": {
    "id": "rRnCZmlUY8sn"
   },
   "source": [
    "### `Q3:` Write a recursive program to to calculate `gcd` and print no. of function calls taken to find the solution.\n",
    "```\n",
    "gcd(5,10) -> result in 5 as gcd and function call 4\n",
    "```"
   ]
  },
  {
   "cell_type": "code",
   "execution_count": 18,
   "metadata": {
    "id": "jYiVzxhUZRln"
   },
   "outputs": [
    {
     "name": "stdout",
     "output_type": "stream",
     "text": [
      "GCD(10,5) is 5\n",
      "Number of function calls: 2\n"
     ]
    }
   ],
   "source": [
    "def gcd(a, b, calls=1):\n",
    "    if b == 0:\n",
    "        return a, calls\n",
    "    else:\n",
    "        return gcd(b, a % b, calls + 1)\n",
    "\n",
    "result, num_calls = gcd(10, 5)\n",
    "print(\"GCD({},{}) is {}\".format(num1, num2, result))\n",
    "print(\"Number of function calls: {}\".format(num_calls))\n"
   ]
  },
  {
   "cell_type": "markdown",
   "metadata": {
    "id": "FbDepR9QNGnh"
   },
   "source": [
    "## Itterator And Generator"
   ]
  },
  {
   "cell_type": "markdown",
   "metadata": {
    "id": "Nj5WaR_4NJTu"
   },
   "source": [
    "### `Q4:` Create MyEnumerate class,\n",
    "Create your own `MyEnumerate` class such that someone can use it instead of enumerate. It will need to return a `tuple` with each iteration, with the first element in the tuple being the `index` (starting with 0) and the second element being the `current element` from the underlying data structure. Trying to use `MyEnumerate` with a noniterable argument will result in an error.\n",
    "\n",
    "```\n",
    "for index, letter in MyEnumerate('abc'):\n",
    "    print(f'{index} : {letter}')\n",
    "```\n",
    "\n",
    "Output:\n",
    "```\n",
    "0 : a\n",
    "1 : b\n",
    "2 : c\n",
    "```"
   ]
  },
  {
   "cell_type": "code",
   "execution_count": 4,
   "metadata": {
    "id": "6zjcm2gxNbfJ"
   },
   "outputs": [
    {
     "name": "stdout",
     "output_type": "stream",
     "text": [
      "0 : a\n",
      "1 : b\n",
      "2 : c\n"
     ]
    }
   ],
   "source": [
    "class MyEnumerate:\n",
    "    def __init__(self, iterable):\n",
    "        self.iterable = iter(iterable)\n",
    "        self.index = 0\n",
    "\n",
    "    def __iter__(self):\n",
    "        return self\n",
    "\n",
    "    def __next__(self):\n",
    "        try:\n",
    "            value = next(self.iterable)\n",
    "            result = (self.index, value)\n",
    "            self.index += 1\n",
    "            return result\n",
    "        except StopIteration:\n",
    "            raise StopIteration\n",
    "\n",
    "for index, letter in MyEnumerate('abc'):\n",
    "    print('{} : {}'.format(index, letter))\n"
   ]
  },
  {
   "cell_type": "markdown",
   "metadata": {
    "id": "U2Ai7rVDOLBw"
   },
   "source": [
    "### `Q5:` Iterate in circle\n",
    "Define a class, `Circle`, that takes two arguments when defined: a sequence and a number. The idea is that the object will then return elements the defined number of times. If the number is greater than the number of elements, then the sequence  repeats as necessary. You can define an another class used as a helper (like I call `CircleIterator`).\n",
    "\n",
    "```\n",
    "c = Circle('abc', 5)\n",
    "d = Circle('abc', 7)\n",
    "print(list(c))\n",
    "print(list(d))\n",
    "```\n",
    "\n",
    "Output\n",
    "```\n",
    "[a, b, c, a, b]\n",
    "[a, b, c, a, b, c, a]\n",
    "```"
   ]
  },
  {
   "cell_type": "code",
   "execution_count": 1,
   "metadata": {},
   "outputs": [
    {
     "name": "stdout",
     "output_type": "stream",
     "text": [
      "['a', 'b', 'c', 'a', 'b']\n",
      "['a', 'b', 'c', 'a', 'b', 'c', 'a']\n"
     ]
    }
   ],
   "source": [
    "def CircleIterator(sequence, max_iterations):\n",
    "    current_iteration = 0\n",
    "    index = 0\n",
    "\n",
    "    while current_iteration < max_iterations:\n",
    "        value = sequence[index]\n",
    "        index = (index + 1) % len(sequence)\n",
    "        current_iteration += 1\n",
    "        yield value\n",
    "\n",
    "def Circle(sequence, number):\n",
    "    return circleIterator(sequence, number)\n",
    "\n",
    "c = circle('abc', 5)\n",
    "d = circle('abc', 7)\n",
    "print(list(c))\n",
    "print(list(d))"
   ]
  },
  {
   "cell_type": "markdown",
   "metadata": {
    "id": "17KyhciKQnAE"
   },
   "source": [
    "### `Q6:` Generator time elapsed\n",
    "Write a generator function whose argument must be iterable. With each iteration, the generator will return a two-element tuple. The first element in the tuple will be an integer indicating how many seconds have passed since the previous iteration. The tuple’s second element will be the next item from the passed argument.\n",
    "\n",
    "Note that the timing should be relative to the previous iteration, not when the\n",
    "generator was first created or invoked. Thus the timing number in the first iteration\n",
    "will be 0\n",
    "\n",
    "```\n",
    "for t in elapsed_since('abcd'):\n",
    "    print(t)\n",
    "    time.sleep(2)\n",
    "```\n",
    "\n",
    "Output:\n",
    "```\n",
    "(0.0, 'a')\n",
    "(2.005651817999933, 'b')\n",
    "(2.0023095009998997, 'c')\n",
    "(2.001949742000079, 'd')\n",
    "```\n",
    "Note: Your output may differ because of diffrent system has different processing configuration."
   ]
  },
  {
   "cell_type": "code",
   "execution_count": 7,
   "metadata": {
    "id": "UkH1tj9zQ-gc"
   },
   "outputs": [
    {
     "name": "stdout",
     "output_type": "stream",
     "text": [
      "(0.0, 'a')\n",
      "(2.0116946697235107, 'b')\n",
      "(2.0112054347991943, 'c')\n",
      "(2.00095272064209, 'd')\n"
     ]
    }
   ],
   "source": [
    "import time\n",
    "\n",
    "def elapsed_since(data):\n",
    "    last_time = time.time()\n",
    "    \n",
    "    for item in data:\n",
    "        current_time = time.time()\n",
    "        delta = current_time - last_time\n",
    "        last_time = current_time\n",
    "        yield (delta, item)\n",
    "\n",
    "for t in elapsed_since('abcd'):\n",
    "    print(t)\n",
    "    time.sleep(2)"
   ]
  },
  {
   "cell_type": "markdown",
   "metadata": {
    "id": "fXr3OJxJSC1j"
   },
   "source": [
    "## Decorators"
   ]
  },
  {
   "cell_type": "markdown",
   "metadata": {
    "id": "xSjvwAt-SFhi"
   },
   "source": [
    "### `Q7:` Write a Python program to make a chain of function decorators (bold, italic, underline etc.) on a given function which prints \"hello world\"\n",
    "\n",
    "```\n",
    "def hello():\n",
    "    return \"hello world\"\n",
    "```\n",
    "\n",
    "```\n",
    "bold - wrap string with <b> tag. <b>Str</b>\n",
    "italic - wrap string with <i> tag. <i>Str</i>\n",
    "underline- wrap string with <u> tag. <u>Str</u>\n",
    "```"
   ]
  },
  {
   "cell_type": "code",
   "execution_count": 9,
   "metadata": {
    "id": "prVeZGYlSorr"
   },
   "outputs": [
    {
     "name": "stdout",
     "output_type": "stream",
     "text": [
      "<b><i><u>hello world</u></i></b>\n"
     ]
    }
   ],
   "source": [
    "def bold(func):\n",
    "    def wrapper():\n",
    "        return '<b>{}</b>'.format(func())\n",
    "    return wrapper\n",
    "\n",
    "def italic(func):\n",
    "    def wrapper():\n",
    "        return '<i>{}</i>'.format(func())\n",
    "    return wrapper\n",
    "\n",
    "def underline(func):\n",
    "    def wrapper():\n",
    "        return '<u>{}</u>'.format(func())\n",
    "    return wrapper\n",
    "\n",
    "@bold\n",
    "@italic\n",
    "@underline\n",
    "def hello():\n",
    "    return \"hello world\"\n",
    "\n",
    "print(hello())"
   ]
  },
  {
   "cell_type": "markdown",
   "metadata": {
    "id": "miKBwPy4TQWa"
   },
   "source": [
    "### `Q8:` Write a decorator called `printer` which causes any decorated function to print their return values. If the return value of a given function is `None`, printer should do nothing.\n",
    "\n"
   ]
  },
  {
   "cell_type": "code",
   "execution_count": 29,
   "metadata": {
    "id": "05s0poRoT9II"
   },
   "outputs": [
    {
     "name": "stdout",
     "output_type": "stream",
     "text": [
      "None\n"
     ]
    }
   ],
   "source": [
    "from functools import wraps\n",
    "\n",
    "def printer(func):\n",
    "    @wraps(func)\n",
    "    def wrapper(*args, **kwargs):\n",
    "        value = func(*args, **kwargs)\n",
    "        if value is not None:\n",
    "            print(value)\n",
    "        return value\n",
    "    return wrapper\n",
    "\n",
    "@printer\n",
    "def hello(string):\n",
    "    return string\n",
    "\n",
    "print(hello(None))"
   ]
  },
  {
   "cell_type": "markdown",
   "metadata": {
    "id": "DWJLjPOnURua"
   },
   "source": [
    "### `Q9:` Make a decorator which calls a given function twice. You can assume the functions don't return anything important, but they may take arguments.\n",
    "```\n",
    "#Lets say given function\n",
    "def hello(string):\n",
    "    print(string)\n",
    "\n",
    "#on calling after specified decorator is inplaced\n",
    "hello('hello')\n",
    "```\n",
    "\n",
    "Output:\n",
    "```\n",
    "hello\n",
    "hello\n",
    "```"
   ]
  },
  {
   "cell_type": "code",
   "execution_count": 33,
   "metadata": {
    "id": "e38y0cz7UTdD"
   },
   "outputs": [
    {
     "name": "stdout",
     "output_type": "stream",
     "text": [
      "HEHE\n",
      "HEHE\n"
     ]
    }
   ],
   "source": [
    "from functools import wraps\n",
    "\n",
    "def twice_function(func):\n",
    "    @wraps(func)\n",
    "    def wrapper(*args, **kwargs):\n",
    "        func(*args, **kwargs)\n",
    "        func(*args, **kwargs)\n",
    "    return wrapper\n",
    "\n",
    "@twice_function\n",
    "def hello(string):\n",
    "    print(string)\n",
    "\n",
    "hello('HEHE')\n",
    "        "
   ]
  },
  {
   "cell_type": "markdown",
   "metadata": {
    "id": "8btcQI9pWi2w"
   },
   "source": [
    "### `Q10:` Write a decorator which doubles the return value of any function. And test that decoratos is working correctly or not using `assert`.\n",
    "\n",
    "```\n",
    "add(2,3) -> result in 10. Without decorator it should be 5.\n",
    "```"
   ]
  },
  {
   "cell_type": "code",
   "execution_count": 40,
   "metadata": {
    "id": "nG6S_zQ9XFb3"
   },
   "outputs": [
    {
     "ename": "AssertionError",
     "evalue": "",
     "output_type": "error",
     "traceback": [
      "\u001b[1;31m---------------------------------------------------------------------------\u001b[0m",
      "\u001b[1;31mAssertionError\u001b[0m                            Traceback (most recent call last)",
      "Cell \u001b[1;32mIn [40], line 20\u001b[0m\n\u001b[0;32m     17\u001b[0m a, b \u001b[38;5;241m=\u001b[39m \u001b[38;5;241m2\u001b[39m, \u001b[38;5;241m3\u001b[39m\n\u001b[0;32m     19\u001b[0m \u001b[38;5;66;03m#  test that decoratos is working correctly or not using assert.\u001b[39;00m\n\u001b[1;32m---> 20\u001b[0m \u001b[38;5;28;01massert\u001b[39;00m addWithDecorator(a, b) \u001b[38;5;241m==\u001b[39m addWithoutDecorator(a, b)\n",
      "\u001b[1;31mAssertionError\u001b[0m: "
     ]
    }
   ],
   "source": [
    "from functools import wraps\n",
    "\n",
    "def double(func):\n",
    "    @wraps(func)\n",
    "    def wrapper(*args, **kwargs):\n",
    "        return func(*args, **kwargs) * 2\n",
    "    return wrapper\n",
    "\n",
    "@double\n",
    "def addWithDecorator(a, b):\n",
    "    return a + b\n",
    "\n",
    "# add function without decorator\n",
    "def addWithoutDecorator(a, b):\n",
    "    return a + b\n",
    "\n",
    "a, b = 2, 3\n",
    "\n",
    "#  test that decoratos is working correctly or not using assert.\n",
    "assert addWithDecorator(a, b) == addWithoutDecorator(a, b) # False condition\n",
    "\n",
    "# ture condition\n",
    "#assert addWithDecorator(a, b) == addWithoutDecorator(a, b) * 2 \n"
   ]
  },
  {
   "cell_type": "code",
   "execution_count": null,
   "metadata": {
    "id": "s16-A_RpXp2K"
   },
   "outputs": [],
   "source": []
  }
 ],
 "metadata": {
  "colab": {
   "provenance": []
  },
  "kernelspec": {
   "display_name": "Python 3 (ipykernel)",
   "language": "python",
   "name": "python3"
  },
  "language_info": {
   "codemirror_mode": {
    "name": "ipython",
    "version": 3
   },
   "file_extension": ".py",
   "mimetype": "text/x-python",
   "name": "python",
   "nbconvert_exporter": "python",
   "pygments_lexer": "ipython3",
   "version": "3.10.7"
  }
 },
 "nbformat": 4,
 "nbformat_minor": 1
}
