{
 "cells": [
  {
   "cell_type": "markdown",
   "id": "bf4a0fb3",
   "metadata": {},
   "source": [
    "### LISTS IN PYTHON"
   ]
  },
  {
   "cell_type": "markdown",
   "id": "16252d2b",
   "metadata": {},
   "source": [
    "#### WHAT IS LISTS IN PYTHON ?"
   ]
  },
  {
   "cell_type": "code",
   "execution_count": 1,
   "id": "6172b496",
   "metadata": {},
   "outputs": [
    {
     "name": "stdout",
     "output_type": "stream",
     "text": [
      "['Python', 'Java', 34, 54.78, [34, 65, 79]]\n"
     ]
    }
   ],
   "source": [
    "# A list is a collection of similar or different types of data.\n",
    "\n",
    "# More technically ,lists act like dynamic arrays which means you can add more items on the it.\n",
    "\n",
    "# A list is dynamic; it means we can add multiple elements to it and update or delete elements. Also, we don’t need to predefine the size of the list. You can insert any number of items in the list, and it can dynamically increase its size internally.\n",
    "\n",
    "# Lists are Heterogenous :A list can contain elements of different data types. For example, in a single list object, you can keep integers, floats, strings, tuples, lists, and other things too.\n",
    "\n",
    "# A list is created in Python by placing items inside [], separated by commas.\n",
    "\n",
    "# A list can have any number of items and they may be of different types (integer, float, string, etc.)\n",
    "\n",
    "L = ['Python', 'Java', 34 , 54.78, [34,65,79]]\n",
    "print(L)"
   ]
  },
  {
   "cell_type": "markdown",
   "id": "7ccf69a4",
   "metadata": {},
   "source": [
    "#### NOTE :\n",
    "##### List items are ordered, changeable, and allow duplicate values.\n",
    "##### Ordered : When we say that lists are ordered, it means that the items have a defined                               order, and that order will not change.\n",
    "##### If you add new items to a list, the new items will be placed at the end of the list.\n",
    "##### There are some list methods that will change the order, but in general: the order of the items will not change.\n",
    "##### Changeable (Mutable): The list is changeable, meaning that we can change, add, and remove items in a list after it has been created.\n",
    "##### Duplicates : Since lists are indexed, lists can have items with the same value\n",
    "##### List items are indexed, the first item has index [0], the second item has index [1] etc.\n"
   ]
  },
  {
   "cell_type": "code",
   "execution_count": 2,
   "id": "9df3c1d4",
   "metadata": {},
   "outputs": [],
   "source": [
    "# Some of the use-cases where we generally use lists are,\n",
    "#List of active players in the game.\n",
    "#List of items in the shopping cart.\n",
    "#List of the running processes in the system.\n",
    "#List of messages received by the server.\n",
    "#etc."
   ]
  },
  {
   "cell_type": "markdown",
   "id": "16c8914e",
   "metadata": {},
   "source": [
    "#### Array Vs Lists :"
   ]
  },
  {
   "cell_type": "code",
   "execution_count": null,
   "id": "48c5b5d4",
   "metadata": {},
   "outputs": [],
   "source": [
    "# Fixed Vs Dynamic Size\n",
    "# Convencnience(homogenuous : same datatype) -> Hetrogenous( use referantial array)\n",
    "# Array is fast - List execution speed is slow\n",
    "# list take more Memory"
   ]
  },
  {
   "cell_type": "markdown",
   "id": "c144a406",
   "metadata": {},
   "source": [
    "#### HOW LISTS ARE STORED IN MEMORY :"
   ]
  },
  {
   "cell_type": "code",
   "execution_count": 10,
   "id": "c1e85b98",
   "metadata": {
    "scrolled": true
   },
   "outputs": [
    {
     "name": "stdout",
     "output_type": "stream",
     "text": [
      "L: [1, 2, 3]\n",
      "1709037250624\n",
      "1708928729328 : 1708928729328\n",
      "1708928729360 : 1708928729360\n",
      "1708928729392 : 1708928729392\n"
     ]
    }
   ],
   "source": [
    "# list uses referntial array means it act like item reference/pointer address\n",
    "\n",
    "L = [1 ,2, 3]\n",
    "print('L:',L)\n",
    "print(id(L))\n",
    "print(id(L[0]),':',id(1))\n",
    "print(id(L[1]),':',id(2))\n",
    "print(id(L[2]),':',id(3))\n"
   ]
  },
  {
   "cell_type": "markdown",
   "id": "c94804aa",
   "metadata": {},
   "source": [
    "#### CHARACTERSTICS OF A LIST :"
   ]
  },
  {
   "cell_type": "code",
   "execution_count": 13,
   "id": "15928568",
   "metadata": {},
   "outputs": [
    {
     "name": "stdout",
     "output_type": "stream",
     "text": [
      "False\n"
     ]
    }
   ],
   "source": [
    "# Ordered\n",
    "l1 = [1,2,3]\n",
    "l2 = [3,2,1]\n",
    "print(l1 == l2)\n",
    "\n",
    "# Changeble/ Mutable\n",
    "\n",
    "# Hetrogeneous\n",
    "\n",
    "# Allow Dulplicates\n",
    "\n",
    "# dynamic\n",
    "\n",
    "# list can be nested : list within the list\n",
    "\n",
    "# items can be accessed\n",
    "\n",
    "# can contain any kind of objects in python"
   ]
  },
  {
   "cell_type": "markdown",
   "id": "b99e76e7",
   "metadata": {},
   "source": [
    "#### CREATING A LIST :"
   ]
  },
  {
   "cell_type": "code",
   "execution_count": 20,
   "id": "a298bcfb",
   "metadata": {},
   "outputs": [
    {
     "name": "stdout",
     "output_type": "stream",
     "text": [
      "[]\n",
      "[1, 2, 3, 4]\n",
      "[1, 2, 3, 4, [1, 2, 3, 4]]\n",
      "[[[1, 2], [3, 4]], [[5, 6], [7, 8]]]\n",
      "[True, 'String', 56, 87, 23, (9+7j)]\n",
      "['s', 'a', 'i', 't', 'a', 'm', 'a']\n"
     ]
    }
   ],
   "source": [
    "# Empty list\n",
    "l = []\n",
    "print(l)\n",
    "\n",
    "#1D list -> Homogenous list\n",
    "l1 = [1,2,3,4]\n",
    "print(l1)\n",
    "\n",
    "#2D list -> Hetrogenous list\n",
    "l2 = [1,2,3,4,[1,2,3,4]]\n",
    "print(l2)\n",
    "\n",
    "#3D\n",
    "# nested 2d list\n",
    "l3 = [[[1,2],[3,4]],[[5,6],[7,8]]]\n",
    "print(l3)\n",
    "\n",
    "#list -> Hetrogenous list\n",
    "print([True,'String',56,87,23,9+7j])\n",
    "\n",
    "# Using type conversion\n",
    "print(list('saitama'))"
   ]
  },
  {
   "cell_type": "markdown",
   "id": "c05292f3",
   "metadata": {},
   "source": [
    "#### ACCESSING ITEMS FROM A LIST :"
   ]
  },
  {
   "cell_type": "code",
   "execution_count": 21,
   "id": "4e57f8f0",
   "metadata": {},
   "outputs": [
    {
     "name": "stdout",
     "output_type": "stream",
     "text": [
      "1\n",
      "4\n",
      "4\n",
      "4\n",
      "2\n"
     ]
    }
   ],
   "source": [
    "# In Python, each item in a list is associated with a number. The number is known as a list index.\n",
    "# We can access elements of an array using the index number (0, 1, 2 …).\n",
    "\n",
    "# indexing (list indexing is similar to string indexing)\n",
    "# > positive indexing (left to right and start from zero)\n",
    "l = [1,2,3,4]\n",
    "print(l[0])\n",
    "\n",
    "# > nagetive indexing (Righ to left and start from end of list means -1)\n",
    "l = [1,2,3,4]\n",
    "print(l[-1])\n",
    "\n",
    "# 2d indexing \n",
    "l1 = [1,2,3,[4,5]]\n",
    "print(l1[3][0])\n",
    "\n",
    "#3d indexing\n",
    "l3 = [[[1,2],[3,4]],[[5,6],[7,8]]]\n",
    "print(l3[0][1][1])\n",
    "print(l3[0][0][1])\n",
    "\n"
   ]
  },
  {
   "cell_type": "markdown",
   "id": "99649dab",
   "metadata": {},
   "source": [
    "#### SLICING IN LIST :\n"
   ]
  },
  {
   "cell_type": "code",
   "execution_count": 28,
   "id": "7e463e33",
   "metadata": {},
   "outputs": [
    {
     "name": "stdout",
     "output_type": "stream",
     "text": [
      "[1, 3, 5]\n",
      "[3, 2, 1]\n",
      "[6, 5, 4]\n",
      "[6, 5, 4, 3, 2, 1]\n"
     ]
    }
   ],
   "source": [
    "# Slicing in list\n",
    "# In Python it is possible to access a section of items from the list using the slicing operator :, not just a single item\n",
    "l4 = [1,2,3,4,5,6]\n",
    "print(l4[0::2])\n",
    "print(l4[-4::-1])\n",
    "print(l4[-1:2:-1])\n",
    "print(l4[::-1])"
   ]
  },
  {
   "cell_type": "markdown",
   "id": "99763499",
   "metadata": {},
   "source": [
    "#### ADDING ITEMS OF A LISTS (Using methods of list):\n",
    "##### append() / extend() / insert()"
   ]
  },
  {
   "cell_type": "code",
   "execution_count": 30,
   "id": "db2173c8",
   "metadata": {},
   "outputs": [
    {
     "name": "stdout",
     "output_type": "stream",
     "text": [
      "Before Append : [1, 2, 3, 4, 5]\n",
      "After Append : [1, 2, 3, 4, 5, 'String']\n"
     ]
    }
   ],
   "source": [
    "# append() :\n",
    "# The append() method adds an single item at the end of the list.\n",
    "L = [1,2,3,4,5]\n",
    "print('Before Append :',L)\n",
    "L.append('String')\n",
    "print('After Append :',L)"
   ]
  },
  {
   "cell_type": "code",
   "execution_count": 32,
   "id": "0607b8c0",
   "metadata": {},
   "outputs": [
    {
     "name": "stdout",
     "output_type": "stream",
     "text": [
      "Before Extend : [1, 2, 3, 4, 5]\n",
      "After Extend : [1, 2, 3, 4, 5, 'S', 't', 'r', 'i', 'n', 'g', 0, 9, 8, 8]\n"
     ]
    }
   ],
   "source": [
    "# extend()\n",
    "# We use the extend() method to add all items of one list to another. \n",
    "# add the multiple item\n",
    "L = [1,2,3,4,5]\n",
    "print('Before Extend :',L)\n",
    "# extend() method try to extend multiple items\n",
    "L.extend('String') \n",
    "L.extend([0,9,8,8])\n",
    "print('After Extend :',L)\n"
   ]
  },
  {
   "cell_type": "code",
   "execution_count": 34,
   "id": "733fbb5a",
   "metadata": {
    "scrolled": false
   },
   "outputs": [
    {
     "name": "stdout",
     "output_type": "stream",
     "text": [
      "Before insert : [1, 2, 3, 4, 5]\n",
      "After insert : [1, 2, 3, 4, 'String', 5]\n"
     ]
    }
   ],
   "source": [
    "# insert()\n",
    "# inserts an item at the specified index\n",
    "# syntax : list.insert(pos, elmnt)\n",
    "L = [1,2,3,4,5]\n",
    "print('Before insert :',L)\n",
    "L.insert(4,'String')\n",
    "print('After insert :',L)"
   ]
  },
  {
   "cell_type": "markdown",
   "id": "fd7225d9",
   "metadata": {},
   "source": [
    "#### EDITING ITEMS IN A LISTS :"
   ]
  },
  {
   "cell_type": "code",
   "execution_count": 39,
   "id": "6ed47c6c",
   "metadata": {
    "scrolled": true
   },
   "outputs": [
    {
     "name": "stdout",
     "output_type": "stream",
     "text": [
      "[1, 2, 3, 'EREN', 5]\n",
      "[1, 2, (1+6j), 'EREN', 5]\n",
      "[1, 2, 45.65, False, 76, 5]\n"
     ]
    }
   ],
   "source": [
    "# List in python is mutable types which means it can be changed after assigning some value. The list is similar to arrays in other programming languages. In this article, we are going to see how to change list items in python. \n",
    "L = [1,2,3,4,5]\n",
    "\n",
    "# editing with indexing\n",
    "L[3] = 'EREN'\n",
    "print(L)\n",
    "L[-3] = 1+6j\n",
    "print(L)\n",
    "\n",
    "# editing with slicing\n",
    "L[2:4] = [45.65,False,76]\n",
    "print(L)"
   ]
  },
  {
   "cell_type": "markdown",
   "id": "e5154786",
   "metadata": {},
   "source": [
    "##### DELETING ITEMS FROM A LIST :\n",
    "\n",
    "###### del / remove() / pop() / clear() :"
   ]
  },
  {
   "cell_type": "code",
   "execution_count": 3,
   "id": "8a633e72",
   "metadata": {},
   "outputs": [
    {
     "name": "stdout",
     "output_type": "stream",
     "text": [
      "[1, 2, 3, 4, 5]\n"
     ]
    },
    {
     "ename": "NameError",
     "evalue": "name 'L' is not defined",
     "output_type": "error",
     "traceback": [
      "\u001b[1;31m---------------------------------------------------------------------------\u001b[0m",
      "\u001b[1;31mNameError\u001b[0m                                 Traceback (most recent call last)",
      "Cell \u001b[1;32mIn [3], line 5\u001b[0m\n\u001b[0;32m      3\u001b[0m \u001b[38;5;28mprint\u001b[39m(L)\n\u001b[0;32m      4\u001b[0m \u001b[38;5;28;01mdel\u001b[39;00m L\n\u001b[1;32m----> 5\u001b[0m \u001b[38;5;28mprint\u001b[39m(L)\n",
      "\u001b[1;31mNameError\u001b[0m: name 'L' is not defined"
     ]
    }
   ],
   "source": [
    "# del \n",
    "# In Python we can use the del statement to remove one or more items from a list. \n",
    "L = [1,2,3,4,5]\n",
    "print(L)\n",
    "# del L\n",
    "# print(L) # list is deleted thats why showing error"
   ]
  },
  {
   "cell_type": "code",
   "execution_count": 10,
   "id": "581ffab0",
   "metadata": {},
   "outputs": [
    {
     "name": "stdout",
     "output_type": "stream",
     "text": [
      "[1, 5, 6, 7, 8]\n"
     ]
    }
   ],
   "source": [
    "# delete protion of list means using slicing\n",
    "L1 = [1,2,3,4,5,6,7,8]\n",
    "del L1[1:4] \n",
    "print(L1)"
   ]
  },
  {
   "cell_type": "code",
   "execution_count": 15,
   "id": "302ae2f5",
   "metadata": {},
   "outputs": [
    {
     "name": "stdout",
     "output_type": "stream",
     "text": [
      "['dog', 'guinea pig']\n",
      "['Eren', 'Goku', 'Saitama', 'Goku']\n"
     ]
    }
   ],
   "source": [
    "# remove()\n",
    "# The remove() method removes the first occurrence of the element with the specified value.\n",
    "# use to remove in dynamic \n",
    "animals = ['dog', 'guinea pig', 'cat']\n",
    "animals.remove('cat')\n",
    "print(animals)\n",
    "\n",
    "char = ['Eren', 'Goku', 'Goku', 'Saitama', 'Goku']\n",
    "char.remove('Goku')\n",
    "print(char)"
   ]
  },
  {
   "cell_type": "code",
   "execution_count": 18,
   "id": "2a949a23",
   "metadata": {},
   "outputs": [
    {
     "name": "stdout",
     "output_type": "stream",
     "text": [
      "[1, 2, 3, 4, 5, 6, 7]\n",
      "[1, 2, 3, 4, 6, 7]\n"
     ]
    }
   ],
   "source": [
    "# pop()\n",
    "# The pop() method removes the element at the specified position.\n",
    "# default without position delete the last element\n",
    "L1 = [1,2,3,4,5,6,7,8]\n",
    "L1.pop() # default last element pop\n",
    "print(L1)\n",
    "L1.pop(4)\n",
    "print(L1)"
   ]
  },
  {
   "cell_type": "code",
   "execution_count": 20,
   "id": "7d5fc743",
   "metadata": {},
   "outputs": [
    {
     "name": "stdout",
     "output_type": "stream",
     "text": [
      "[]\n"
     ]
    }
   ],
   "source": [
    "# clear()\n",
    "# The clear() method removes all the elements from a list.\n",
    "L1 = [1,2,3,4,5,6,7,8]\n",
    "L1.clear() \n",
    "print(L1)"
   ]
  },
  {
   "cell_type": "markdown",
   "id": "05242e6e",
   "metadata": {},
   "source": [
    "#### OPERATIONS ON LISTS :\n",
    "##### Arithmetic Operations\n",
    "##### Membership Operations\n",
    "##### Loops"
   ]
  },
  {
   "cell_type": "code",
   "execution_count": 24,
   "id": "6989ef09",
   "metadata": {},
   "outputs": [
    {
     "name": "stdout",
     "output_type": "stream",
     "text": [
      "[1, 2, 3, 4, 5, 6]\n",
      "[1, 2, 3, 1, 2, 3, 1, 2, 3, 1, 2, 3]\n"
     ]
    }
   ],
   "source": [
    "# Arthmetic Operations (+ , *)\n",
    "\n",
    "# concatination/ merge\n",
    "L1 = [1,2,3]\n",
    "L2 = [4,5,6]\n",
    "print(L1 + L2)\n",
    "\n",
    "print(L1*4)"
   ]
  },
  {
   "cell_type": "code",
   "execution_count": 28,
   "id": "f0e99ed1",
   "metadata": {},
   "outputs": [
    {
     "name": "stdout",
     "output_type": "stream",
     "text": [
      "True\n",
      "True\n",
      "False\n"
     ]
    }
   ],
   "source": [
    "# Membership Operator (in ,not in)\n",
    "L1 = [1,2,3]\n",
    "L2 = [4,5,6,[7,8]]\n",
    "\n",
    "print(2 in L1)\n",
    "print(7 in L2[3])\n",
    "print([7,8] not in L2)"
   ]
  },
  {
   "cell_type": "code",
   "execution_count": 37,
   "id": "f505d0f6",
   "metadata": {},
   "outputs": [
    {
     "name": "stdout",
     "output_type": "stream",
     "text": [
      "1\n",
      "2\n",
      "3\n",
      "4\n",
      "5\n",
      "6\n",
      "[7, 8]\n"
     ]
    }
   ],
   "source": [
    "# Loops\n",
    "L1 = [1,2,3]\n",
    "L2 = [4,5,6,[7,8]]\n",
    "\n",
    "for i in L1:\n",
    "    print(i)\n",
    "    \n",
    "for i in L2:\n",
    "    print(i)\n"
   ]
  },
  {
   "cell_type": "markdown",
   "id": "6b4944a7",
   "metadata": {},
   "source": [
    "#### LIST FUNCTIONS/METHODS :\n",
    "##### len() / min() / max() / sorted()\n",
    "##### count() / index() / reverse() / sort()"
   ]
  },
  {
   "cell_type": "code",
   "execution_count": 47,
   "id": "e7f383a2",
   "metadata": {},
   "outputs": [
    {
     "name": "stdout",
     "output_type": "stream",
     "text": [
      "5\n",
      "1\n",
      "455\n",
      "Ascending : [1, 3, 34, 67, 455]\n",
      "Decending : [455, 67, 34, 3, 1]\n"
     ]
    }
   ],
   "source": [
    "# len()\n",
    "L = [1,34,3,455,67]\n",
    "print(len(L))\n",
    "\n",
    "# min()\n",
    "print(min(L)) # homogenous datatype\n",
    "\n",
    "# max()\n",
    "print(max(L))\n",
    "\n",
    "#sorted() \n",
    "# defualt is ascending order\n",
    "# for decending 'reverse =True'\n",
    "print('Ascending :',sorted(L))\n",
    "print('Decending :',sorted(L, reverse = True))"
   ]
  },
  {
   "cell_type": "code",
   "execution_count": 49,
   "id": "4fb165b3",
   "metadata": {},
   "outputs": [
    {
     "name": "stdout",
     "output_type": "stream",
     "text": [
      "4\n"
     ]
    }
   ],
   "source": [
    "# count()\n",
    "# Python List count() method returns the count of how many times a given object occurs in a List.\n",
    "# Syntax:  list_name.count(object)\n",
    "L = [1,34,3,455,3,4,4,5,6,6,6,6,67]\n",
    "print(L.count(6))"
   ]
  },
  {
   "cell_type": "code",
   "execution_count": 51,
   "id": "4707c4da",
   "metadata": {},
   "outputs": [
    {
     "name": "stdout",
     "output_type": "stream",
     "text": [
      "2\n"
     ]
    }
   ],
   "source": [
    "# index()\n",
    "# Python index() is an inbuilt function in Python, which searches for a given element from the start of the list and returns the index of the first occurrence. \n",
    "# Syntax: list_name.index(element, start, end) \n",
    "L = [1,34,3,455,67]\n",
    "print(L.index(3))"
   ]
  },
  {
   "cell_type": "code",
   "execution_count": 4,
   "id": "ff7216ef",
   "metadata": {},
   "outputs": [
    {
     "name": "stdout",
     "output_type": "stream",
     "text": [
      "[67, 455, 3, 34, 1]\n"
     ]
    }
   ],
   "source": [
    "#reverse()\n",
    "L = [1,34,3,455,67]\n",
    "# it permanently reverses the list\n",
    "L.reverse()\n",
    "print(L)"
   ]
  },
  {
   "cell_type": "code",
   "execution_count": 19,
   "id": "9ab0e4fc",
   "metadata": {
    "scrolled": true
   },
   "outputs": [
    {
     "name": "stdout",
     "output_type": "stream",
     "text": [
      "[3, 6, 4, 3, 8]\n",
      "[3, 3, 4, 6, 8]\n",
      "[3, 6, 4, 3, 8]\n",
      "None\n",
      "[3, 3, 4, 6, 8]\n"
     ]
    }
   ],
   "source": [
    "# sort() (Vs Sorted())\n",
    "# Python list sort() function can be used to sort a List in ascending, descending, or user-defined order.\n",
    "# sort is permanent \n",
    "L1 = [3,6,4,3,8]\n",
    "print(L1)\n",
    "\n",
    "print(sorted(L1))\n",
    "print(L1)\n",
    "print(L1.sort()) # It sorts the object in-place, so it returns None.\n",
    "print(L1)"
   ]
  },
  {
   "cell_type": "code",
   "execution_count": 23,
   "id": "ac48430d",
   "metadata": {},
   "outputs": [
    {
     "name": "stdout",
     "output_type": "stream",
     "text": [
      "l : [1, 2, 3, 4, 5]\n",
      "[1, 2, 3, 4, 5] : 2536396791808\n",
      "l1 : [1, 2, 3, 4, 5]\n",
      "[1, 2, 3, 4, 5] : 2536397098112\n"
     ]
    }
   ],
   "source": [
    "# copy()\n",
    "# If you need a shallow copy of a list, the built-in copy() function can be used.\n",
    "l = [1,2,3,4,5]\n",
    "print('l :',l)\n",
    "print(l,':',id(l))\n",
    "l1 = l.copy()\n",
    "print('l1 :',l1)\n",
    "print(l1,':',id(l1))"
   ]
  },
  {
   "attachments": {
    "list-comprehension-1-2.png": {
     "image/png": "[encoded data removed]"
    }
   },
   "cell_type": "markdown",
   "id": "dda89472",
   "metadata": {},
   "source": [
    "#### LIST COMPREHENSION :\n",
    "![list-comprehension-1-2.png](attachment:list-comprehension-1-2.png)\n"
   ]
  },
  {
   "cell_type": "raw",
   "id": "ceaeb727",
   "metadata": {},
   "source": [
    "List comprehension provides a concise way of creating lists\n",
    "List comprehensions are a shorter way to create a list from existing containers like lists, strings, etc\n",
    "\n",
    "syntax : newlist = [ (expression) for item in iterable if (condition == True)] \n",
    "\n",
    "List comprehension with single and nested if conditions\n",
    "List comprehension with single and multiple if and else conditions\n",
    "List comprehension with nested for loops\n",
    "\n",
    "Advantages of list comprehension :\n",
    "More time-efficient and space-efficient than loop\n",
    "Require fewer lines of code.\n",
    "Transforms iterative statement into a formula."
   ]
  },
  {
   "cell_type": "code",
   "execution_count": 8,
   "id": "5b794b5b",
   "metadata": {},
   "outputs": [
    {
     "name": "stdout",
     "output_type": "stream",
     "text": [
      "[2, 4, 6, 8, 10, 12, 14, 16, 18, 20]\n",
      "[2, 4, 6, 8, 10, 12, 14, 16, 18, 20]\n"
     ]
    }
   ],
   "source": [
    "# Simple list comprehension :\n",
    "\n",
    "# normal for loop\n",
    "l = []\n",
    "for i in range(1,11):\n",
    "    l.append(i*2)\n",
    "print(l)\n",
    "\n",
    "# for loop using  list comprehension\n",
    "l1 = [i*2 for i in range(1,11)]\n",
    "print(l1)\n"
   ]
  },
  {
   "cell_type": "code",
   "execution_count": 14,
   "id": "68608c1c",
   "metadata": {},
   "outputs": [
    {
     "name": "stdout",
     "output_type": "stream",
     "text": [
      "re : [-6, -9, -12]\n",
      "\n",
      "result : [-6, -9, -12]\n"
     ]
    }
   ],
   "source": [
    "# scalar multiplication on a vector\n",
    "\n",
    "v = [2,3,4]\n",
    "s = -3\n",
    "re = []\n",
    "for i in v:\n",
    "    re.append(i*s)\n",
    "print('re :',re)\n",
    "\n",
    "print()\n",
    "\n",
    "result = [i*s for i in v]\n",
    "print('result :',result)\n"
   ]
  },
  {
   "cell_type": "code",
   "execution_count": 16,
   "id": "0dc8136a",
   "metadata": {},
   "outputs": [
    {
     "name": "stdout",
     "output_type": "stream",
     "text": [
      "[1, 4, 9, 16, 25]\n"
     ]
    }
   ],
   "source": [
    "# squares\n",
    "\n",
    "L = [1,2,3,4,5]\n",
    "\n",
    "re = [i**2 for i in L]\n",
    "print(re)"
   ]
  },
  {
   "cell_type": "code",
   "execution_count": 18,
   "id": "c99d5cf3",
   "metadata": {},
   "outputs": [
    {
     "name": "stdout",
     "output_type": "stream",
     "text": [
      "[5, 10, 15, 20, 25, 30, 35, 40, 45]\n"
     ]
    }
   ],
   "source": [
    "# print all numbers divisible by 5 in the range of 1 to 50\n",
    "\n",
    "n = [i for i in range(1,50) if i%5 ==0]\n",
    "print(n)"
   ]
  },
  {
   "cell_type": "code",
   "execution_count": 21,
   "id": "a7c035dc",
   "metadata": {},
   "outputs": [
    {
     "name": "stdout",
     "output_type": "stream",
     "text": [
      "['python', 'php']\n"
     ]
    }
   ],
   "source": [
    "# find lanuages which start with letter p\n",
    "languages = ['java','python','c++','php','javascript']\n",
    "ans = [lang for lang in languages if lang.startswith('p')]\n",
    "print(ans)"
   ]
  },
  {
   "cell_type": "code",
   "execution_count": 29,
   "id": "c428aa54",
   "metadata": {},
   "outputs": [
    {
     "name": "stdout",
     "output_type": "stream",
     "text": [
      "['apple']\n"
     ]
    }
   ],
   "source": [
    "# Nested if with list comprehension\n",
    "basket = ['apple','guava','cherry','bannana']\n",
    "my_fruits = ['apple','kiwi','grapes','bannana']\n",
    "\n",
    "# add new lists form my_fruits and items if the fruit exists in basket and also starts with 'a',\n",
    "show = [fruit for fruit in my_fruits if fruit in basket if fruit.startswith('a')]\n",
    "print(show)"
   ]
  },
  {
   "cell_type": "code",
   "execution_count": 30,
   "id": "5767dcbb",
   "metadata": {},
   "outputs": [
    {
     "data": {
      "text/plain": [
       "[[1, 2, 3], [2, 4, 6], [3, 6, 9]]"
      ]
     },
     "execution_count": 30,
     "metadata": {},
     "output_type": "execute_result"
    }
   ],
   "source": [
    "# print a (3,3) matrix using list  comprehension ->  Nested list comprehension\n",
    "[[i*j for i in range(1,4)] for j in range(1,4)]"
   ]
  },
  {
   "cell_type": "code",
   "execution_count": 37,
   "id": "f1f1c06d",
   "metadata": {},
   "outputs": [
    {
     "data": {
      "text/plain": [
       "[5, 6, 7, 8, 10, 12, 14, 16, 15, 18, 21, 24, 20, 24, 28, 32]"
      ]
     },
     "execution_count": 37,
     "metadata": {},
     "output_type": "execute_result"
    }
   ],
   "source": [
    "# cartesion products -> List Comprehension on 2 lists together\n",
    "L1 = [1,2,3,4]\n",
    "L2 = [5,6,7,8]\n",
    "\n",
    "[i*j for i in L1 for j in L2]"
   ]
  },
  {
   "cell_type": "markdown",
   "id": "3c0d2617",
   "metadata": {},
   "source": [
    "#### 2 WAYS TO TRAVERSE A LIST :\n",
    "##### Itemwise\n",
    "##### Indexwise"
   ]
  },
  {
   "cell_type": "code",
   "execution_count": 38,
   "id": "2819ea70",
   "metadata": {},
   "outputs": [
    {
     "name": "stdout",
     "output_type": "stream",
     "text": [
      "3\n",
      "Eren\n",
      "UI\n",
      "56.7\n"
     ]
    }
   ],
   "source": [
    "# Itemwise\n",
    "L = [3,'Eren','UI',56.7]\n",
    "for i in L:\n",
    "    print(i)"
   ]
  },
  {
   "cell_type": "code",
   "execution_count": 43,
   "id": "00fc7958",
   "metadata": {},
   "outputs": [
    {
     "name": "stdout",
     "output_type": "stream",
     "text": [
      "3\n",
      "Eren\n",
      "UI\n",
      "56.7\n"
     ]
    }
   ],
   "source": [
    "#Indexwise\n",
    "L = [3,'Eren','UI',56.7]\n",
    "for i in range(0, len(L)):\n",
    "    print(L[i]) # access items with index positions\n"
   ]
  },
  {
   "cell_type": "code",
   "execution_count": null,
   "id": "beacfee3",
   "metadata": {},
   "outputs": [],
   "source": []
  },
  {
   "cell_type": "code",
   "execution_count": null,
   "id": "d4b7ffbb",
   "metadata": {},
   "outputs": [],
   "source": []
  },
  {
   "cell_type": "code",
   "execution_count": null,
   "id": "39672964",
   "metadata": {},
   "outputs": [],
   "source": []
  },
  {
   "cell_type": "code",
   "execution_count": null,
   "id": "9f01c7e2",
   "metadata": {},
   "outputs": [],
   "source": []
  },
  {
   "cell_type": "code",
   "execution_count": null,
   "id": "9063233a",
   "metadata": {},
   "outputs": [],
   "source": []
  }
 ],
 "metadata": {
  "kernelspec": {
   "display_name": "Python 3 (ipykernel)",
   "language": "python",
   "name": "python3"
  },
  "language_info": {
   "codemirror_mode": {
    "name": "ipython",
    "version": 3
   },
   "file_extension": ".py",
   "mimetype": "text/x-python",
   "name": "python",
   "nbconvert_exporter": "python",
   "pygments_lexer": "ipython3",
   "version": "3.10.7"
  }
 },
 "nbformat": 4,
 "nbformat_minor": 5
}
