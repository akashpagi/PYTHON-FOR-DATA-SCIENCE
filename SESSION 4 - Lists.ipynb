{
 "cells": [
  {
   "cell_type": "markdown",
   "id": "3bdc80a6",
   "metadata": {},
   "source": [
    "### LISTS IN PYTHON"
   ]
  },
  {
   "cell_type": "markdown",
   "id": "8c751500",
   "metadata": {},
   "source": [
    "#### WHAT IS LISTS IN PYTHON ?"
   ]
  },
  {
   "cell_type": "code",
   "execution_count": 1,
   "id": "2ed79a45",
   "metadata": {},
   "outputs": [
    {
     "name": "stdout",
     "output_type": "stream",
     "text": [
      "['Python', 'Java', 34, 54.78, [34, 65, 79]]\n"
     ]
    }
   ],
   "source": [
    "# A list is a collection of similar or different types of data.\n",
    "\n",
    "# More technically ,lists act like dynamic arrays which means you can add more items on the it.\n",
    "\n",
    "# A list is dynamic; it means we can add multiple elements to it and update or delete elements. Also, we don’t need to predefine the size of the list. You can insert any number of items in the list, and it can dynamically increase its size internally.\n",
    "\n",
    "# Lists are Heterogenous :A list can contain elements of different data types. For example, in a single list object, you can keep integers, floats, strings, tuples, lists, and other things too.\n",
    "\n",
    "# A list is created in Python by placing items inside [], separated by commas.\n",
    "\n",
    "# A list can have any number of items and they may be of different types (integer, float, string, etc.)\n",
    "\n",
    "L = ['Python', 'Java', 34 , 54.78, [34,65,79]]\n",
    "print(L)"
   ]
  },
  {
   "cell_type": "markdown",
   "id": "fda97291",
   "metadata": {},
   "source": [
    "#### NOTE :\n",
    "##### List items are ordered, changeable, and allow duplicate values.\n",
    "##### Ordered : When we say that lists are ordered, it means that the items have a defined                               order, and that order will not change.\n",
    "##### If you add new items to a list, the new items will be placed at the end of the list.\n",
    "##### There are some list methods that will change the order, but in general: the order of the items will not change.\n",
    "##### Changeable (Mutable): The list is changeable, meaning that we can change, add, and remove items in a list after it has been created.\n",
    "##### Duplicates : Since lists are indexed, lists can have items with the same value\n",
    "##### List items are indexed, the first item has index [0], the second item has index [1] etc.\n"
   ]
  },
  {
   "cell_type": "code",
   "execution_count": 2,
   "id": "0bcf2171",
   "metadata": {},
   "outputs": [],
   "source": [
    "# Some of the use-cases where we generally use lists are,\n",
    "#List of active players in the game.\n",
    "#List of items in the shopping cart.\n",
    "#List of the running processes in the system.\n",
    "#List of messages received by the server.\n",
    "#etc."
   ]
  },
  {
   "cell_type": "markdown",
   "id": "2ffa9454",
   "metadata": {},
   "source": [
    "#### Array Vs Lists :"
   ]
  },
  {
   "cell_type": "code",
   "execution_count": null,
   "id": "a13c151a",
   "metadata": {},
   "outputs": [],
   "source": [
    "# Fixed Vs Dynamic Size\n",
    "# Convencnience(homogenuous : same datatype) -> Hetrogenous( use referantial array)\n",
    "# Array is fast - List execution speed is slow\n",
    "# list take more Memory"
   ]
  },
  {
   "cell_type": "markdown",
   "id": "746620d2",
   "metadata": {},
   "source": [
    "#### HOW LISTS ARE STORED IN MEMORY :"
   ]
  },
  {
   "cell_type": "code",
   "execution_count": 10,
   "id": "fe1f03ef",
   "metadata": {
    "scrolled": true
   },
   "outputs": [
    {
     "name": "stdout",
     "output_type": "stream",
     "text": [
      "L: [1, 2, 3]\n",
      "1709037250624\n",
      "1708928729328 : 1708928729328\n",
      "1708928729360 : 1708928729360\n",
      "1708928729392 : 1708928729392\n"
     ]
    }
   ],
   "source": [
    "# list uses referntial array means it act like item reference/pointer address\n",
    "\n",
    "L = [1 ,2, 3]\n",
    "print('L:',L)\n",
    "print(id(L))\n",
    "print(id(L[0]),':',id(1))\n",
    "print(id(L[1]),':',id(2))\n",
    "print(id(L[2]),':',id(3))\n"
   ]
  },
  {
   "cell_type": "markdown",
   "id": "1caa9263",
   "metadata": {},
   "source": [
    "#### CHARACTERSTICS OF A LIST :"
   ]
  },
  {
   "cell_type": "code",
   "execution_count": 13,
   "id": "676e5fb7",
   "metadata": {},
   "outputs": [
    {
     "name": "stdout",
     "output_type": "stream",
     "text": [
      "False\n"
     ]
    }
   ],
   "source": [
    "# Ordered\n",
    "l1 = [1,2,3]\n",
    "l2 = [3,2,1]\n",
    "print(l1 == l2)\n",
    "\n",
    "# Changeble/ Mutable\n",
    "\n",
    "# Hetrogeneous\n",
    "\n",
    "# Allow Dulplicates\n",
    "\n",
    "# dynamic\n",
    "\n",
    "# list can be nested : list within the list\n",
    "\n",
    "# items can be accessed\n",
    "\n",
    "# can contain any kind of objects in python"
   ]
  },
  {
   "cell_type": "code",
   "execution_count": null,
   "id": "db9249af",
   "metadata": {},
   "outputs": [],
   "source": []
  },
  {
   "cell_type": "code",
   "execution_count": null,
   "id": "43cc2960",
   "metadata": {},
   "outputs": [],
   "source": []
  },
  {
   "cell_type": "code",
   "execution_count": null,
   "id": "c73e4ecf",
   "metadata": {},
   "outputs": [],
   "source": []
  },
  {
   "cell_type": "code",
   "execution_count": null,
   "id": "4d838aeb",
   "metadata": {},
   "outputs": [],
   "source": []
  }
 ],
 "metadata": {
  "kernelspec": {
   "display_name": "Python 3 (ipykernel)",
   "language": "python",
   "name": "python3"
  },
  "language_info": {
   "codemirror_mode": {
    "name": "ipython",
    "version": 3
   },
   "file_extension": ".py",
   "mimetype": "text/x-python",
   "name": "python",
   "nbconvert_exporter": "python",
   "pygments_lexer": "ipython3",
   "version": "3.10.7"
  }
 },
 "nbformat": 4,
 "nbformat_minor": 5
}
