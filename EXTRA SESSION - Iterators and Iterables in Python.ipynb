{
 "cells": [
  {
   "cell_type": "markdown",
   "id": "000ae855",
   "metadata": {},
   "source": [
    "### EXTRA SESSION - Iterators and Iterables in Python"
   ]
  },
  {
   "cell_type": "markdown",
   "id": "7b5e209e",
   "metadata": {},
   "source": [
    "### What is an Iteration :\n",
    "- Iteration is a general term for **taking each item of something, one after another.**\n",
    "- Any time you **use a loop, explicit or implicit, to go over a group of items, that is iteration.**"
   ]
  },
  {
   "cell_type": "code",
   "execution_count": 2,
   "id": "f7c3ed4a",
   "metadata": {},
   "outputs": [
    {
     "name": "stdout",
     "output_type": "stream",
     "text": [
      "1\n",
      "2\n",
      "3\n"
     ]
    }
   ],
   "source": [
    "# Ex.\n",
    "num = [1,2,3]\n",
    "for i in num:\n",
    "    print(i)"
   ]
  },
  {
   "cell_type": "markdown",
   "id": "cc5a845e",
   "metadata": {},
   "source": [
    "### What is Iterator\n",
    "- An Iterator is **an object that allows the programmer to traverse through a sequence of data without having to store the entire data in the memory.\n",
    "\n"
   ]
  },
  {
   "cell_type": "code",
   "execution_count": null,
   "id": "d1779f03",
   "metadata": {},
   "outputs": [],
   "source": []
  },
  {
   "cell_type": "code",
   "execution_count": null,
   "id": "159fd569",
   "metadata": {},
   "outputs": [],
   "source": []
  },
  {
   "cell_type": "code",
   "execution_count": null,
   "id": "600f1441",
   "metadata": {},
   "outputs": [],
   "source": []
  }
 ],
 "metadata": {
  "kernelspec": {
   "display_name": "Python 3 (ipykernel)",
   "language": "python",
   "name": "python3"
  },
  "language_info": {
   "codemirror_mode": {
    "name": "ipython",
    "version": 3
   },
   "file_extension": ".py",
   "mimetype": "text/x-python",
   "name": "python",
   "nbconvert_exporter": "python",
   "pygments_lexer": "ipython3",
   "version": "3.10.7"
  }
 },
 "nbformat": 4,
 "nbformat_minor": 5
}
