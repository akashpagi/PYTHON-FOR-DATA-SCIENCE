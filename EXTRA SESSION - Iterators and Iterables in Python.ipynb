{
 "cells": [
  {
   "cell_type": "markdown",
   "id": "ab5e528e",
   "metadata": {},
   "source": [
    "### EXTRA SESSION - Iterators and Iterables in Python"
   ]
  },
  {
   "cell_type": "markdown",
   "id": "23eb884d",
   "metadata": {},
   "source": [
    "### What is an Iteration :\n",
    "- Iteration is a general term for **taking each item of something, one after another.**\n",
    "- Any time you **use a loop, explicit or implicit, to go over a group of items, that is iteration.**"
   ]
  },
  {
   "cell_type": "markdown",
   "id": "0dea8d8c",
   "metadata": {},
   "source": [
    "### What is Iterator\n",
    "- An Iterator is **an object that allows the programmer to traverse through a sequence of data without having to store the entire data in the memory."
   ]
  },
  {
   "cell_type": "markdown",
   "id": "5c255fe5",
   "metadata": {},
   "source": [
    "### What is Iterable\n",
    "- Iterable is an object, which one can iterate over\n",
    "- It generates an Iterator when passed to iter() method."
   ]
  },
  {
   "cell_type": "code",
   "execution_count": null,
   "id": "ca89750f",
   "metadata": {},
   "outputs": [],
   "source": []
  },
  {
   "cell_type": "code",
   "execution_count": null,
   "id": "eb3e97ac",
   "metadata": {},
   "outputs": [],
   "source": []
  }
 ],
 "metadata": {
  "kernelspec": {
   "display_name": "Python 3 (ipykernel)",
   "language": "python",
   "name": "python3"
  },
  "language_info": {
   "codemirror_mode": {
    "name": "ipython",
    "version": 3
   },
   "file_extension": ".py",
   "mimetype": "text/x-python",
   "name": "python",
   "nbconvert_exporter": "python",
   "pygments_lexer": "ipython3",
   "version": "3.10.7"
  }
 },
 "nbformat": 4,
 "nbformat_minor": 5
}
