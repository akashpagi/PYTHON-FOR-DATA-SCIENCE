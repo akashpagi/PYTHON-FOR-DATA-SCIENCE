{
 "cells": [
  {
   "cell_type": "markdown",
   "id": "b9ff98b8",
   "metadata": {},
   "source": [
    "### EXTRA SESSION - Iterators and Iterables in Python"
   ]
  },
  {
   "cell_type": "markdown",
   "id": "22cd22e6",
   "metadata": {},
   "source": [
    "### What is an Iteration :\n",
    "- Iteration is a general term for **taking each item of something, one after another.**\n",
    "- Any time you **use a loop, explicit or implicit, to go over a group of items, that is iteration.**"
   ]
  },
  {
   "cell_type": "code",
   "execution_count": 1,
   "id": "95550fa9",
   "metadata": {},
   "outputs": [
    {
     "name": "stdout",
     "output_type": "stream",
     "text": [
      "1\n",
      "2\n",
      "3\n"
     ]
    }
   ],
   "source": [
    "# Ex.\n",
    "num = [1,2,3]\n",
    "for i in num:\n",
    "    print(i)"
   ]
  },
  {
   "cell_type": "markdown",
   "id": "b01c78ee",
   "metadata": {},
   "source": [
    "### What is Iterator ?\n",
    "- An Iterator is **an object that allows the programmer to traverse through a sequence of data without having to store the entire data in the memory.**\n",
    "- Becasue iteration happens due to iterator.\n",
    "- Iterator not load entire data in memory for traverse, it take one data at a time and load in to memory ,also perform operation that time and then remove that data form memory and repeat the process for other data in sequence.\n",
    "- Becasue of this process we save more memory.\n",
    "\n",
    "### getsizeof() :\n",
    "- Using getsizeof () built-in function we can **calculate memory used by an object.** \n",
    "- The standard library’s **sys module provides the getsizeof () function.**\n",
    "- The sys.getsizeof () function **return the size of an object in bytes.**\n",
    "\n",
    "- **Syntax : sys.getsizeof(object[, default])**\n"
   ]
  },
  {
   "cell_type": "code",
   "execution_count": null,
   "id": "54c11040",
   "metadata": {},
   "outputs": [],
   "source": []
  },
  {
   "cell_type": "code",
   "execution_count": 23,
   "id": "2e8c20ba",
   "metadata": {},
   "outputs": [
    {
     "name": "stdout",
     "output_type": "stream",
     "text": [
      "782.2109375\n",
      "0.046875\n"
     ]
    }
   ],
   "source": [
    "# Ex.let's see If we consider a range of numbers from 1 to 100,000 (i.e. 1 to 100,000), and we multiply each number in this range by 2, what would be the resulting set of numbers?\n",
    "import sys\n",
    "L = [x for x in range(1,100000)]\n",
    "#for i in L:\n",
    "    #print(i*2)\n",
    "# give the size in bytes, converting to megabytes\n",
    "print(sys.getsizeof(L) / 1024 )\n",
    "\n",
    "\n",
    "x = range(1,1000000)\n",
    "#for i in x:\n",
    "    #print(i*2)\n",
    "print(sys.getsizeof(x) / 1024 )   "
   ]
  },
  {
   "cell_type": "markdown",
   "id": "c49bf7d6",
   "metadata": {},
   "source": [
    "### What is Iterable ?\n",
    "- Iterable is an object, which one can iterate over like loop\n",
    "- It generates an Iterator when passed to **iter() method.**\n",
    "- **iter() method:**\n",
    "  - The iter() method **returns an iterator for the given argument.**"
   ]
  },
  {
   "cell_type": "code",
   "execution_count": 27,
   "id": "217aa579",
   "metadata": {},
   "outputs": [
    {
     "data": {
      "text/plain": [
       "list_iterator"
      ]
     },
     "execution_count": 27,
     "metadata": {},
     "output_type": "execute_result"
    }
   ],
   "source": [
    "# Ex. \n",
    "L = [3,4,5]\n",
    "type(L)\n",
    "# l is an iterable\n",
    "type(iter(L))\n",
    "\n",
    "# iter(l) --> iterator"
   ]
  },
  {
   "cell_type": "code",
   "execution_count": null,
   "id": "02479d94",
   "metadata": {},
   "outputs": [],
   "source": []
  }
 ],
 "metadata": {
  "kernelspec": {
   "display_name": "Python 3 (ipykernel)",
   "language": "python",
   "name": "python3"
  },
  "language_info": {
   "codemirror_mode": {
    "name": "ipython",
    "version": 3
   },
   "file_extension": ".py",
   "mimetype": "text/x-python",
   "name": "python",
   "nbconvert_exporter": "python",
   "pygments_lexer": "ipython3",
   "version": "3.10.7"
  }
 },
 "nbformat": 4,
 "nbformat_minor": 5
}
