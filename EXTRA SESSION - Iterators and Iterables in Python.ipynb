{
 "cells": [
  {
   "cell_type": "markdown",
   "id": "b9ff98b8",
   "metadata": {},
   "source": [
    "### EXTRA SESSION - Iterators and Iterables in Python"
   ]
  },
  {
   "cell_type": "markdown",
   "id": "22cd22e6",
   "metadata": {},
   "source": [
    "### What is an Iteration :\n",
    "- Iteration is a general term for **taking each item of something, one after another.**\n",
    "- Any time you **use a loop, explicit or implicit, to go over a group of items, that is iteration.**"
   ]
  },
  {
   "cell_type": "code",
   "execution_count": 1,
   "id": "95550fa9",
   "metadata": {},
   "outputs": [
    {
     "name": "stdout",
     "output_type": "stream",
     "text": [
      "1\n",
      "2\n",
      "3\n"
     ]
    }
   ],
   "source": [
    "# Ex.\n",
    "num = [1,2,3]\n",
    "for i in num:\n",
    "    print(i)"
   ]
  },
  {
   "cell_type": "markdown",
   "id": "b01c78ee",
   "metadata": {},
   "source": [
    "### What is Iterator ?\n",
    "- An Iterator is **an object that allows the programmer to traverse through a sequence of data without having to store the entire data in the memory.**\n",
    "- Becasue iteration happens due to iterator.\n",
    "- Iterator not load entire data in memory for traverse, it take one data at a time and load in to memory ,also perform operation that time and then remove that data form memory and repeat the process for other data in sequence.\n",
    "- Becasue of this process we save more memory.\n",
    "\n",
    "### getsizeof() :\n",
    "- Using getsizeof () built-in function we can **calculate memory used by an object.** \n",
    "- The standard library’s **sys module provides the getsizeof () function.**\n",
    "- The sys.getsizeof () function **return the size of an object in bytes.**\n",
    "\n",
    "- **Syntax : sys.getsizeof(object[, default])**\n"
   ]
  },
  {
   "cell_type": "code",
   "execution_count": 8,
   "id": "2e8c20ba",
   "metadata": {},
   "outputs": [
    {
     "name": "stdout",
     "output_type": "stream",
     "text": [
      "782.2109375\n",
      "0.046875\n"
     ]
    }
   ],
   "source": [
    "# Ex.let's see If we consider a range of numbers from 1 to 100,000 (i.e. 1 to 100,000), and we multiply each number in this range by 2, what would be the resulting set of numbers?\n",
    "import sys\n",
    "# Here list occupy the space\n",
    "L = [x for x in range(1,100000)]\n",
    "#for i in L:\n",
    "    #print(i*2)\n",
    "# give the size in bytes, converting to megabytes\n",
    "print(sys.getsizeof(L) / 1024 )\n",
    "\n",
    "# range function provide iteration and perform operation 1 by 1\n",
    "x = range(1,1000000)\n",
    "#for i in x:\n",
    "    #print(i*2)\n",
    "print(sys.getsizeof(x)/1024)   "
   ]
  },
  {
   "cell_type": "markdown",
   "id": "c49bf7d6",
   "metadata": {},
   "source": [
    "### What is Iterable ?\n",
    "- Iterable is an object, which one can iterate over like loop or we can access items in sequence.\n",
    "- It generates an Iterator when passed to **iter() method.**\n",
    "- **iter() method:**\n",
    "  - The iter() method **returns an iterator for the given argument.**"
   ]
  },
  {
   "cell_type": "code",
   "execution_count": 27,
   "id": "217aa579",
   "metadata": {},
   "outputs": [
    {
     "data": {
      "text/plain": [
       "list_iterator"
      ]
     },
     "execution_count": 27,
     "metadata": {},
     "output_type": "execute_result"
    }
   ],
   "source": [
    "# Ex. iter90 method example\n",
    "L = [3,4,5]\n",
    "type(L)\n",
    "# l is an iterable\n",
    "type(iter(L))\n",
    "\n",
    "# iter(l) --> iterator"
   ]
  },
  {
   "cell_type": "markdown",
   "id": "18e5d94d",
   "metadata": {},
   "source": [
    "### Point to remember :\n",
    "- Every iterator is also an **iterable**.\n",
    "- Not all **iterables** are **iterators**.\n",
    "    - Here we can take example of list ,it will store entire data in memory but it is not act like iterators.\n",
    "    \n",
    "### Tricks to identify the iterators & iterables :\n",
    "- Every iterable has an **iter function**.\n",
    "    - apply **loops concept**\n",
    "    - use **dir() function** ,if you find **__iter__** method in that then it is iteratble.\n",
    "     \n",
    "- Every iterator has both **iter function** as well as **next function**.\n",
    "    - If we found both iter and next function use dir() function then it is iterator.\n",
    "\n",
    "### dir() function :\n",
    "- The dir() function in Python is widely used **to get the list of names of the attributes of the passed object in an alphabetically sorted manner**. \n",
    "- **syntax : dir ([object])** \n",
    "    - **object:** It takes an optional parameter."
   ]
  },
  {
   "cell_type": "code",
   "execution_count": 4,
   "id": "c40b3a68",
   "metadata": {},
   "outputs": [],
   "source": [
    "# Ex. Every iterable has an iter function using dir() function\n",
    "t = (1,3,4,5)\n",
    "dir(t)"
   ]
  },
  {
   "cell_type": "code",
   "execution_count": 10,
   "id": "96eb8dde",
   "metadata": {},
   "outputs": [
    {
     "name": "stdout",
     "output_type": "stream",
     "text": [
      "['__class__', '__delattr__', '__dir__', '__doc__', '__eq__', '__format__', '__ge__', '__getattribute__', '__gt__', '__hash__', '__init__', '__init_subclass__', '__iter__', '__le__', '__length_hint__', '__lt__', '__ne__', '__new__', '__next__', '__reduce__', '__reduce_ex__', '__repr__', '__setattr__', '__setstate__', '__sizeof__', '__str__', '__subclasshook__']\n"
     ]
    }
   ],
   "source": [
    "#Every iterator has both iter function as well as next function.\n",
    "#>If we found both iter and next function use dir() function then it is iterator\n",
    "L = [6,7,8]\n",
    "#dir(L) # L is not iterator\n",
    "\n",
    "#using iter() function and it include __iter__ & __next__ function\n",
    "# now iter_l is iterator\n",
    "iter_l = iter(L)\n",
    "print(dir(iter_l))"
   ]
  },
  {
   "cell_type": "markdown",
   "id": "c4be6d5a",
   "metadata": {},
   "source": [
    "### Understanding how for loop works :\n",
    "- **next() function :**\n",
    "    - it will **helps to reach next element of sequence.**\n",
    "    - also, **shows the iterator element .**"
   ]
  },
  {
   "cell_type": "code",
   "execution_count": 1,
   "id": "337db825",
   "metadata": {},
   "outputs": [
    {
     "name": "stdout",
     "output_type": "stream",
     "text": [
      "1\n",
      "2\n",
      "3\n"
     ]
    }
   ],
   "source": [
    "num = [1,2,3]\n",
    "for i in num:\n",
    "    print(i)"
   ]
  },
  {
   "cell_type": "code",
   "execution_count": 5,
   "id": "aef5b53e",
   "metadata": {},
   "outputs": [
    {
     "name": "stdout",
     "output_type": "stream",
     "text": [
      "1\n",
      "2\n",
      "3\n"
     ]
    }
   ],
   "source": [
    "#1.fetch the iterator using the iter() function\n",
    "iter_num = iter(num)\n",
    "\n",
    "#2.using next() function access the element in sequence\n",
    "print(next(iter_num))\n",
    "print(next(iter_num))\n",
    "print(next(iter_num))"
   ]
  },
  {
   "cell_type": "markdown",
   "id": "adddebbc",
   "metadata": {},
   "source": [
    "### Making our own for loop :"
   ]
  },
  {
   "cell_type": "code",
   "execution_count": 22,
   "id": "01771380",
   "metadata": {},
   "outputs": [
    {
     "name": "stdout",
     "output_type": "stream",
     "text": [
      "11\n",
      "22\n",
      "33\n"
     ]
    }
   ],
   "source": [
    "def My_for_loop(iterable):\n",
    "    iterator = iter(iterable)\n",
    "    while True:\n",
    "        try:\n",
    "            print(next(iterator))\n",
    "        except StopIteration:\n",
    "            break\n",
    "l = [1,2,3]\n",
    "t = (4,5,6)\n",
    "s = {7,8,9}\n",
    "d = {11:'eren',22:'zeke',33:'grisha'}\n",
    "My_for_loop(d)"
   ]
  },
  {
   "cell_type": "markdown",
   "id": "6677db26",
   "metadata": {},
   "source": [
    "### A confusing point :"
   ]
  },
  {
   "cell_type": "code",
   "execution_count": 7,
   "id": "ff0971d1",
   "metadata": {},
   "outputs": [
    {
     "name": "stdout",
     "output_type": "stream",
     "text": [
      "2021733561296 : Address of iterator 1\n",
      "2021733561296 : Address of iterator 2\n"
     ]
    }
   ],
   "source": [
    "# perform iterator on iterator\n",
    "num = [1,2,3]\n",
    "iter_obj = iter(num)\n",
    "print(id(iter_obj),': Address of iterator 1')\n",
    "# take iter_obj and then return perform iterator \n",
    "iter_obj1 = iter(iter_obj)\n",
    "print(id(iter_obj1),': Address of iterator 2')\n",
    "# o/p : give the same iterator (memory address)"
   ]
  },
  {
   "cell_type": "code",
   "execution_count": null,
   "id": "f0d5c940",
   "metadata": {},
   "outputs": [],
   "source": []
  },
  {
   "cell_type": "code",
   "execution_count": null,
   "id": "7f309356",
   "metadata": {},
   "outputs": [],
   "source": []
  }
 ],
 "metadata": {
  "kernelspec": {
   "display_name": "Python 3 (ipykernel)",
   "language": "python",
   "name": "python3"
  },
  "language_info": {
   "codemirror_mode": {
    "name": "ipython",
    "version": 3
   },
   "file_extension": ".py",
   "mimetype": "text/x-python",
   "name": "python",
   "nbconvert_exporter": "python",
   "pygments_lexer": "ipython3",
   "version": "3.10.7"
  }
 },
 "nbformat": 4,
 "nbformat_minor": 5
}
