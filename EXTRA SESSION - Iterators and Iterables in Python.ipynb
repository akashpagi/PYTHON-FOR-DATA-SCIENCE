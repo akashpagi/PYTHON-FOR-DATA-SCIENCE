{
 "cells": [
  {
   "cell_type": "markdown",
   "id": "b9ff98b8",
   "metadata": {},
   "source": [
    "### EXTRA SESSION - Iterators and Iterables in Python"
   ]
  },
  {
   "cell_type": "markdown",
   "id": "22cd22e6",
   "metadata": {},
   "source": [
    "### What is an Iteration :\n",
    "- Iteration is a general term for **taking each item of something, one after another.**\n",
    "- Any time you **use a loop, explicit or implicit, to go over a group of items, that is iteration.**"
   ]
  },
  {
   "cell_type": "code",
   "execution_count": 1,
   "id": "95550fa9",
   "metadata": {},
   "outputs": [
    {
     "name": "stdout",
     "output_type": "stream",
     "text": [
      "1\n",
      "2\n",
      "3\n"
     ]
    }
   ],
   "source": [
    "# Ex.\n",
    "num = [1,2,3]\n",
    "for i in num:\n",
    "    print(i)"
   ]
  },
  {
   "cell_type": "markdown",
   "id": "b01c78ee",
   "metadata": {},
   "source": [
    "### What is Iterator ?\n",
    "- An Iterator is **an object that allows the programmer to traverse through a sequence of data without having to store the entire data in the memory.**\n",
    "\n",
    "- Becasue iteration happens due to iterator.\n",
    "\n",
    "- Iterator not load entire data in memory for traverse, it take one data at a time and load in to memory ,also perform operation that time and then remove that data form memory and repeat the process for other data in sequence.\n",
    "\n",
    "- Becasue of this process we save more memory.\n",
    "\n",
    "\n",
    "**`getsizeof()` function :**\n",
    "- Using getsizeof () built-in function we can **calculate memory used by an object.** \n",
    "\n",
    "- The standard library’s **sys module provides the getsizeof () function.**\n",
    "\n",
    "- The sys.getsizeof () function **return the size of an object in bytes.**\n",
    "\n",
    "\n",
    "- **Syntax : sys.getsizeof(object[, default])**\n"
   ]
  },
  {
   "cell_type": "code",
   "execution_count": 8,
   "id": "2e8c20ba",
   "metadata": {},
   "outputs": [
    {
     "name": "stdout",
     "output_type": "stream",
     "text": [
      "782.2109375\n",
      "0.046875\n"
     ]
    }
   ],
   "source": [
    "# Ex.let's see If we consider a range of numbers from 1 to 100,000 (i.e. 1 to 100,000), and we multiply each number in this range by 2, what would be the resulting set of numbers?\n",
    "import sys\n",
    "\n",
    "# Here list occupy the space\n",
    "L = [x for x in range(1,100000)]\n",
    "\n",
    "#for i in L:\n",
    "    #print(i*2)\n",
    "    \n",
    "# give the size in bytes, converting to megabytes\n",
    "print(sys.getsizeof(L) / 1024 )\n",
    "\n",
    "# range function provide iteration and perform operation 1 by 1\n",
    "x = range(1,1000000)\n",
    "\n",
    "#for i in x:\n",
    "    #print(i*2)\n",
    "    \n",
    "print(sys.getsizeof(x)/1024)   "
   ]
  },
  {
   "cell_type": "markdown",
   "id": "c49bf7d6",
   "metadata": {},
   "source": [
    "### What is Iterable ?\n",
    "\n",
    "- Iterable is an object, which one can iterate over like loop or we can access items in sequence.\n",
    "\n",
    "- It generates an Iterator when passed to **iter() method.**\n",
    "\n",
    "\n",
    "**`iter()` method:**\n",
    "  - The iter() method **returns an iterator for the given argument.**"
   ]
  },
  {
   "cell_type": "code",
   "execution_count": 27,
   "id": "217aa579",
   "metadata": {},
   "outputs": [
    {
     "data": {
      "text/plain": [
       "list_iterator"
      ]
     },
     "execution_count": 27,
     "metadata": {},
     "output_type": "execute_result"
    }
   ],
   "source": [
    "# Ex. iter() method example\n",
    "L = [3,4,5]\n",
    "type(L)\n",
    "\n",
    "# l is an iterable but iter of L is iterator\n",
    "type(iter(L))\n",
    "\n",
    "# iter(l) --> iterator"
   ]
  },
  {
   "cell_type": "markdown",
   "id": "18e5d94d",
   "metadata": {},
   "source": [
    "### Point to remember :\n",
    "- Every iterator is also an **iterable**.\n",
    "\n",
    "- Not all **iterables** are **iterators**.\n",
    "\n",
    "    - Here we can take example of list ,it will store entire data in memory but it is not act like iterators.\n",
    "    \n",
    "    - List is iterable but not iterator.\n",
    "    \n",
    "    \n",
    "### Tricks to identify the iterables :\n",
    "\n",
    "- Every iterable has an **iter function**.\n",
    "    - apply **loops concept**\n",
    "    - use **dir() function** ,if you find **__iter__** method in that then it is iteratble.\n",
    " \n",
    " \n",
    "- **`dir()` function :**\n",
    "\n",
    "    - The dir() function in Python is widely used **to get the list of names of the attributes of the passed object in an alphabetically sorted manner**. \n",
    "\n",
    "    - **syntax : dir ([object])** \n",
    "        - **object:** It takes an optional parameter."
   ]
  },
  {
   "cell_type": "code",
   "execution_count": 15,
   "id": "c40b3a68",
   "metadata": {},
   "outputs": [
    {
     "name": "stdout",
     "output_type": "stream",
     "text": [
      "['__add__', '__class__', '__class_getitem__', '__contains__', '__delattr__', '__dir__', '__doc__', '__eq__', '__format__', '__ge__', '__getattribute__', '__getitem__', '__getnewargs__', '__gt__', '__hash__', '__init__', '__init_subclass__', '__iter__', '__le__', '__len__', '__lt__', '__mul__', '__ne__', '__new__', '__reduce__', '__reduce_ex__', '__repr__', '__rmul__', '__setattr__', '__sizeof__', '__str__', '__subclasshook__', 'count', 'index']\n"
     ]
    }
   ],
   "source": [
    "# Ex. Every iterable has an iter function using dir() function\n",
    "t = (1,3,4,5)\n",
    "print(dir(t))"
   ]
  },
  {
   "cell_type": "markdown",
   "id": "21bc8e3d",
   "metadata": {},
   "source": [
    "### Tricks to identify the iterators :\n",
    "\n",
    "- Every iterator has both **iter function** as well as **next function**.\n",
    "    - If we found both **`__iter__`** and **`__next__`** method use dir() function then it is iterator."
   ]
  },
  {
   "cell_type": "code",
   "execution_count": 10,
   "id": "96eb8dde",
   "metadata": {},
   "outputs": [
    {
     "name": "stdout",
     "output_type": "stream",
     "text": [
      "['__class__', '__delattr__', '__dir__', '__doc__', '__eq__', '__format__', '__ge__', '__getattribute__', '__gt__', '__hash__', '__init__', '__init_subclass__', '__iter__', '__le__', '__length_hint__', '__lt__', '__ne__', '__new__', '__next__', '__reduce__', '__reduce_ex__', '__repr__', '__setattr__', '__setstate__', '__sizeof__', '__str__', '__subclasshook__']\n"
     ]
    }
   ],
   "source": [
    "#Every iterator has both iter function as well as next function.\n",
    "#>If we found both iter and next function use dir() function then it is iterator\n",
    "L = [6,7,8]\n",
    "#dir(L) # L is not iterator\n",
    "\n",
    "#using iter() function and it include __iter__ & __next__ function\n",
    "# now iter_l is iterator\n",
    "iter_l = iter(L)\n",
    "print(dir(iter_l))"
   ]
  },
  {
   "cell_type": "markdown",
   "id": "47dc93cc",
   "metadata": {},
   "source": [
    "### In Short :\n",
    "\n",
    "**Iteration :** \n",
    "- accessing the item one by one use loop over the any sequence or implicit or explicit\n",
    "\n",
    "\n",
    "**Iterables :**\n",
    "-  object, it can iterate over like loop or we can access items in sequence.\n",
    "\n",
    "- Every iterable has an iter function\n",
    "\n",
    "- apply any loop\n",
    "\n",
    "- use dir() function ,if you find iter method in that then it is iteratble.\n",
    "\n",
    "**Iterators :**\n",
    "- it's object that's traverse through a sequence of data without having to store the entire data in the memory.\n",
    "\n",
    "- If it contain **`__iter__`** and **`__next__`** method then it is iterator.(using dir() function)\n",
    "\n",
    "- Use iter() function to convert in iterable to iteration.\n",
    "\n",
    "- Every iterator is also an iterable."
   ]
  },
  {
   "cell_type": "markdown",
   "id": "c4be6d5a",
   "metadata": {},
   "source": [
    "### Understanding how for loop works :\n",
    "\n",
    "**`next()` function :**\n",
    "\n",
    "- it will **helps to reach next element of sequence.**\n",
    "\n",
    "- also, **shows the iterator element .**"
   ]
  },
  {
   "cell_type": "code",
   "execution_count": 21,
   "id": "337db825",
   "metadata": {},
   "outputs": [
    {
     "name": "stdout",
     "output_type": "stream",
     "text": [
      "1\n",
      "2\n",
      "3\n"
     ]
    }
   ],
   "source": [
    "num = [1,2,3]\n",
    "for i in num:\n",
    "    print(i)"
   ]
  },
  {
   "cell_type": "code",
   "execution_count": 27,
   "id": "aef5b53e",
   "metadata": {},
   "outputs": [
    {
     "name": "stdout",
     "output_type": "stream",
     "text": [
      "1 2 3 "
     ]
    }
   ],
   "source": [
    "# 1.fetch the iterator using the iter() function\n",
    "iter_num = iter(num)\n",
    "\n",
    "# 2.using next() function access the element in sequence\n",
    "print(next(iter_num), end = ' ')\n",
    "print(next(iter_num), end = ' ')\n",
    "print(next(iter_num), end = ' ') \n",
    "# print(next(iter_num), end = ' ') # StopIteration"
   ]
  },
  {
   "cell_type": "markdown",
   "id": "adddebbc",
   "metadata": {},
   "source": [
    "### Making our own for loop :"
   ]
  },
  {
   "cell_type": "code",
   "execution_count": 29,
   "id": "01771380",
   "metadata": {},
   "outputs": [
    {
     "name": "stdout",
     "output_type": "stream",
     "text": [
      "8\n",
      "9\n",
      "7\n"
     ]
    }
   ],
   "source": [
    "def My_for_loop(iterable):\n",
    "    iterator = iter(iterable)\n",
    "    while True:\n",
    "        try:\n",
    "            print(next(iterator))\n",
    "        except StopIteration:\n",
    "            break\n",
    "l = [1,2,3]\n",
    "t = (4,5,6)\n",
    "s = {7,8,9}\n",
    "d = {11:'eren',22:'zeke',33:'grisha'}\n",
    "My_for_loop(s)"
   ]
  },
  {
   "cell_type": "markdown",
   "id": "6677db26",
   "metadata": {},
   "source": [
    "### A confusing point :"
   ]
  },
  {
   "cell_type": "code",
   "execution_count": 7,
   "id": "ff0971d1",
   "metadata": {},
   "outputs": [
    {
     "name": "stdout",
     "output_type": "stream",
     "text": [
      "2021733561296 : Address of iterator 1\n",
      "2021733561296 : Address of iterator 2\n"
     ]
    }
   ],
   "source": [
    "# perform iterator on iterator\n",
    "\n",
    "num = [1,2,3]\n",
    "\n",
    "iter_obj = iter(num)\n",
    "print(id(iter_obj),': Address of iterator 1')\n",
    "\n",
    "# apply iter() funtion on iterator 'iter_obj'\n",
    "iter_obj1 = iter(iter_obj)\n",
    "print(id(iter_obj1),': Address of iterator 2')\n",
    "\n",
    "# o/p : give the same iterator (memory address)"
   ]
  },
  {
   "cell_type": "code",
   "execution_count": null,
   "id": "a2b3423d",
   "metadata": {},
   "outputs": [],
   "source": []
  },
  {
   "cell_type": "code",
   "execution_count": null,
   "id": "6a1442e5",
   "metadata": {},
   "outputs": [],
   "source": []
  }
 ],
 "metadata": {
  "kernelspec": {
   "display_name": "Python 3 (ipykernel)",
   "language": "python",
   "name": "python3"
  },
  "language_info": {
   "codemirror_mode": {
    "name": "ipython",
    "version": 3
   },
   "file_extension": ".py",
   "mimetype": "text/x-python",
   "name": "python",
   "nbconvert_exporter": "python",
   "pygments_lexer": "ipython3",
   "version": "3.10.7"
  }
 },
 "nbformat": 4,
 "nbformat_minor": 5
}
