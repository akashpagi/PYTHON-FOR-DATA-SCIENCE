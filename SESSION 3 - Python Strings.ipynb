{
 "cells": [
  {
   "cell_type": "markdown",
   "id": "2740cd2b",
   "metadata": {},
   "source": [
    "### STRINGS IN PYTHON :\n",
    "- String is a sequence of characters\n",
    "- In python specifically, strings are a sequence of Unicode Characters.\n",
    "- Diff ASCII(based on 8 bits) Vs Unicode(based on 16 bits : Store more characters)\n"
   ]
  },
  {
   "cell_type": "markdown",
   "id": "3c6dc322",
   "metadata": {},
   "source": [
    "#### CREATING STRINGS :"
   ]
  },
  {
   "cell_type": "code",
   "execution_count": 4,
   "id": "a1798da7",
   "metadata": {},
   "outputs": [
    {
     "name": "stdout",
     "output_type": "stream",
     "text": [
      "7\n",
      "allows embedded \"double\" quotes\n",
      "allows embedded 'single' quotes\n",
      "Three single quotes  \"\"\"Three double quotes\"\"\"\n"
     ]
    }
   ],
   "source": [
    "# Empty string\n",
    "S = ''\n",
    "Single_quotes = 'allows embedded \"double\" quotes'\n",
    "\n",
    "Double_quotes = \"allows embedded 'single' quotes\"\n",
    "\n",
    "Triple_quoted = '''Three single quotes  \"\"\"Three double quotes\"\"\"'''\n",
    "\n",
    "s = str(7)\n",
    "print(s)\n",
    "print(Single_quotes)\n",
    "print(Double_quotes)\n",
    "print(Triple_quoted)"
   ]
  },
  {
   "cell_type": "markdown",
   "id": "bcbd2128",
   "metadata": {},
   "source": [
    "#### ACCESSING STRINGS USING INDEXING:"
   ]
  },
  {
   "cell_type": "code",
   "execution_count": 4,
   "id": "8aa9c727",
   "metadata": {},
   "outputs": [
    {
     "name": "stdout",
     "output_type": "stream",
     "text": [
      "String :  ATTACK_ON_TITAN\n",
      "Positive indexing\n",
      "K\n",
      "C\n",
      "N\n",
      "Negative indexing\n",
      "N\n",
      "I\n",
      "N\n"
     ]
    }
   ],
   "source": [
    "#Positive Indexing (Left to right access the index of string)\n",
    "# Stat form 0 to n\n",
    "s = 'ATTACK_ON_TITAN'\n",
    "print('String : ',s)\n",
    "print('Positive indexing')\n",
    "print(s[5])\n",
    "print(s[4])\n",
    "print(s[8])\n",
    "\n",
    "#Negative Indexing (right to left access the index of string)\n",
    "# negative index start from -1 and Stat form end of the string \n",
    "print('Negative indexing')\n",
    "print(s[-1])\n",
    "print(s[-4])\n",
    "print(s[-7])"
   ]
  },
  {
   "cell_type": "raw",
   "id": "6ae0ff19",
   "metadata": {},
   "source": [
    "#### SLICING :\n",
    "- Slicing is done in a string to obtain sub-strings of the original string. Python allows us to specify where to start slicing, and where to end. Also, we can specify the step value as shown in the below syntax.\n",
    "- **Syntax:** string_object[start : stop : steps]\n",
    "    - Here, slicing starts from the index 'start' and ends at the index 'stop' in the step of 'steps'. The default value for\n",
    "    - start - 0\n",
    "    - stop - the last index of the string \n",
    "    - step - 1"
   ]
  },
  {
   "cell_type": "code",
   "execution_count": 1,
   "id": "ca76c75a",
   "metadata": {},
   "outputs": [
    {
     "name": "stdout",
     "output_type": "stream",
     "text": [
      "TTACK\n",
      "ATTACK_ON\n",
      "TAK\n",
      "NO_KCATTA\n",
      "TITAN\n",
      "NATIT\n",
      "NATIT_NO_KCATTA\n"
     ]
    }
   ],
   "source": [
    "s = 'ATTACK_ON_TITAN'\n",
    "# positive \n",
    "print(s[1:6])\n",
    "print(s[:9])\n",
    "print(s[1:6:2])\n",
    "\n",
    "#  negative\n",
    "print(s[8::-1])\n",
    "print(s[-5:])\n",
    "print(s[-1:-6:-1])\n",
    "print(s[::-1])"
   ]
  },
  {
   "cell_type": "markdown",
   "id": "f9d9771c",
   "metadata": {},
   "source": [
    "#### EDITING A STRINGS:\n"
   ]
  },
  {
   "cell_type": "code",
   "execution_count": 2,
   "id": "5b5c9a5b",
   "metadata": {},
   "outputs": [
    {
     "ename": "TypeError",
     "evalue": "'str' object does not support item assignment",
     "output_type": "error",
     "traceback": [
      "\u001b[1;31m------------------------------------------------------------\u001b[0m",
      "\u001b[1;31mTypeError\u001b[0m                  Traceback (most recent call last)",
      "Cell \u001b[1;32mIn [2], line 3\u001b[0m\n\u001b[0;32m      1\u001b[0m \u001b[38;5;66;03m# string is a immutable(not changeble)\u001b[39;00m\n\u001b[0;32m      2\u001b[0m s  \u001b[38;5;241m=\u001b[39m \u001b[38;5;124m'\u001b[39m\u001b[38;5;124mHello world\u001b[39m\u001b[38;5;124m'\u001b[39m\n\u001b[1;32m----> 3\u001b[0m s[\u001b[38;5;241m0\u001b[39m] \u001b[38;5;241m=\u001b[39m \u001b[38;5;124m'\u001b[39m\u001b[38;5;124mh\u001b[39m\u001b[38;5;124m'\u001b[39m\n",
      "\u001b[1;31mTypeError\u001b[0m: 'str' object does not support item assignment"
     ]
    }
   ],
   "source": [
    "# string is a immutable(not changeble)\n",
    "s  = 'Hello world'\n",
    "s[0] = 'h'"
   ]
  },
  {
   "cell_type": "code",
   "execution_count": 3,
   "id": "2cee816e",
   "metadata": {},
   "outputs": [
    {
     "name": "stdout",
     "output_type": "stream",
     "text": [
      "Enter the number :0\n",
      "1\n",
      "0\n"
     ]
    }
   ],
   "source": [
    "s = str(input('Enter the number :'))\n",
    "l = len(s)\n",
    "print(l)\n",
    "for a in range(-1,(-l-1),-1):\n",
    "    print(s[a])\n"
   ]
  },
  {
   "cell_type": "markdown",
   "id": "a2d6cf09",
   "metadata": {},
   "source": [
    "#### DELETING A STRINGS:"
   ]
  },
  {
   "cell_type": "code",
   "execution_count": 3,
   "id": "75c02d80",
   "metadata": {},
   "outputs": [],
   "source": [
    "s = 'hello wolrld'\n",
    "del s\n",
    "#print(s)"
   ]
  },
  {
   "cell_type": "markdown",
   "id": "8431baf8",
   "metadata": {},
   "source": [
    "#### OPERATIONS ON STRINGS :\n",
    "- Arithemetic Operations : + ,*\n",
    "- Relational Operations : all work on strings\n",
    "- Logical Operations :\n",
    "- Loops on strings :\n",
    "- Membership operations: \n",
    "    "
   ]
  },
  {
   "cell_type": "code",
   "execution_count": 4,
   "id": "b8840a37",
   "metadata": {},
   "outputs": [
    {
     "name": "stdout",
     "output_type": "stream",
     "text": [
      "ATTACK ON TITAN\n",
      "TATAKAETATAKAETATAKAETATAKAETATAKAETATAKAETATAKAETATAKAETATAKAETATAKAE\n",
      "\n",
      "True\n",
      "False\n",
      "False\n",
      "hello\n",
      "\n",
      "pune\n",
      "pune\n",
      "pune\n",
      "pune\n",
      "pune\n",
      "\n",
      "True\n",
      "False\n"
     ]
    }
   ],
   "source": [
    "#Arithemetic Operation : + ,* \n",
    "\n",
    "#string concatination\n",
    "print('ATTACK' + ' ' + 'ON' + ' ' + 'TITAN')\n",
    "print('TATAKAE' *10)\n",
    "print()\n",
    "\n",
    "#Relational Operations : all work on strings\n",
    "print('delhi'=='delhi')\n",
    "\n",
    "\n",
    "print('mumbai' > 'pune')\n",
    "print('Pune' > 'pune')\n",
    "\n",
    "#Logical Operations :\n",
    "\" \" or 'Hello'\n",
    "print(\" \" and 'hello')\n",
    "print()\n",
    "\n",
    "#Loops on strings :\n",
    "for i in 'delhi':\n",
    "    print('pune')\n",
    "    \n",
    "print()\n",
    "#Membership operations: in ,not in\n",
    "print('D' in 'Delhi')\n",
    "print('D' not in 'Delhi')\n",
    "    "
   ]
  },
  {
   "cell_type": "code",
   "execution_count": null,
   "id": "0b518467",
   "metadata": {},
   "outputs": [],
   "source": []
  },
  {
   "cell_type": "markdown",
   "id": "7a807572",
   "metadata": {},
   "source": [
    "#### STRING FUNCTIONS :\n",
    "- **common functions :** it's works on other datatypes like tuple, set ,dictionary ,list"
   ]
  },
  {
   "cell_type": "markdown",
   "id": "25935d12",
   "metadata": {},
   "source": [
    "##### len() , max() , max() ,sorted() "
   ]
  },
  {
   "cell_type": "code",
   "execution_count": 12,
   "id": "051f183e",
   "metadata": {},
   "outputs": [
    {
     "name": "stdout",
     "output_type": "stream",
     "text": [
      "Here, the length of the 'ATTACK' is  6 .\n"
     ]
    }
   ],
   "source": [
    "# len() \n",
    "# ->  len() function returns the length of a string\n",
    "# -> Count space also\n",
    "s  = \"ATTACK\"\n",
    "print(\"Here, the length of the 'ATTACK' is \",len(s),'.')"
   ]
  },
  {
   "cell_type": "code",
   "execution_count": 9,
   "id": "8f33e376",
   "metadata": {},
   "outputs": [
    {
     "name": "stdout",
     "output_type": "stream",
     "text": [
      "t\n"
     ]
    }
   ],
   "source": [
    "# max()\n",
    "# max character in string\n",
    "s = 'Attack On TiTan'\n",
    "print(max(s))"
   ]
  },
  {
   "cell_type": "code",
   "execution_count": 7,
   "id": "0e8531f6",
   "metadata": {},
   "outputs": [
    {
     "data": {
      "text/plain": [
       "' '"
      ]
     },
     "execution_count": 7,
     "metadata": {},
     "output_type": "execute_result"
    }
   ],
   "source": [
    "# min()\n",
    "# min character in string based on ascii values\n",
    "s1 = 'Attack On TiTan'\n",
    "min(s1)"
   ]
  },
  {
   "cell_type": "code",
   "execution_count": 10,
   "id": "633dbe0e",
   "metadata": {},
   "outputs": [
    {
     "name": "stdout",
     "output_type": "stream",
     "text": [
      "[' ', ' ', 'A', 'O', 'T', 'T', 'a', 'a', 'c', 'i', 'k', 'n', 'n', 't', 't']\n",
      "\n",
      "['t', 't', 't', 'n', 'n', 'k', 'i', 'c', 'a', 'a', 'T', 'O', 'A', ' ', ' ']\n"
     ]
    }
   ],
   "source": [
    "# sorted()\n",
    "# -> sorted() function returns a sorted list of the specified iterable object.\n",
    "# You can specify ascending or descending order. Strings are sorted alphabetically, and numbers are sorted numerically.\n",
    "Vs = 'Attack On Titan'\n",
    "print(sorted(s))\n",
    "print()\n",
    "s = 'Attack On Titan'\n",
    "print(sorted(s, reverse = True))"
   ]
  },
  {
   "cell_type": "markdown",
   "id": "35b3486b",
   "metadata": {},
   "source": [
    "#### Capitalize() / Title() / Upper() / lower() / Swapcase() :"
   ]
  },
  {
   "cell_type": "code",
   "execution_count": 9,
   "id": "e4b87442",
   "metadata": {},
   "outputs": [
    {
     "data": {
      "text/plain": [
       "'Eren'"
      ]
     },
     "execution_count": 9,
     "metadata": {},
     "output_type": "execute_result"
    }
   ],
   "source": [
    "# capitalize() :\n",
    "# first character of string is in Upper case\n",
    "s = 'eren'\n",
    "s.capitalize()"
   ]
  },
  {
   "cell_type": "code",
   "execution_count": 10,
   "id": "c80202b0",
   "metadata": {},
   "outputs": [
    {
     "data": {
      "text/plain": [
       "'Attack On Titan'"
      ]
     },
     "execution_count": 10,
     "metadata": {},
     "output_type": "execute_result"
    }
   ],
   "source": [
    "# Title() :\n",
    "# Every world of string first character is in Upper case\n",
    "s = 'attack on titan'\n",
    "s.title()"
   ]
  },
  {
   "cell_type": "code",
   "execution_count": 11,
   "id": "07f530d2",
   "metadata": {},
   "outputs": [
    {
     "data": {
      "text/plain": [
       "'EREN'"
      ]
     },
     "execution_count": 11,
     "metadata": {},
     "output_type": "execute_result"
    }
   ],
   "source": [
    "# Upper() :\n",
    "# convert the lowercase string into the Uppercase string\n",
    "s = 'eren'\n",
    "s.upper()"
   ]
  },
  {
   "cell_type": "code",
   "execution_count": 12,
   "id": "558fa5ac",
   "metadata": {},
   "outputs": [
    {
     "data": {
      "text/plain": [
       "'eren'"
      ]
     },
     "execution_count": 12,
     "metadata": {},
     "output_type": "execute_result"
    }
   ],
   "source": [
    "# lower() :\n",
    "# convert the uppercase string into the loercase string\n",
    "s = 'EReN'\n",
    "s.lower()"
   ]
  },
  {
   "cell_type": "code",
   "execution_count": 13,
   "id": "62f08bbd",
   "metadata": {},
   "outputs": [
    {
     "data": {
      "text/plain": [
       "'erEn'"
      ]
     },
     "execution_count": 13,
     "metadata": {},
     "output_type": "execute_result"
    }
   ],
   "source": [
    "# swapcase()\n",
    "# lowercaser coverted into uppercase and vis versa\n",
    "s = 'EReN'\n",
    "s.swapcase()"
   ]
  },
  {
   "cell_type": "markdown",
   "id": "5ef36e52",
   "metadata": {},
   "source": [
    "#### count() / find() / index() :"
   ]
  },
  {
   "cell_type": "markdown",
   "id": "46a0af97",
   "metadata": {},
   "source": [
    "**count():**\n",
    "- count() Returns the number of times a specified value occurs in a string"
   ]
  },
  {
   "cell_type": "code",
   "execution_count": 14,
   "id": "88da741c",
   "metadata": {},
   "outputs": [
    {
     "name": "stdout",
     "output_type": "stream",
     "text": [
      "5\n",
      "11\n"
     ]
    }
   ],
   "source": [
    "#count()\n",
    "s = 'Returns the number of times a specified value occurs in a string'\n",
    "print(s.count('i'))\n",
    "print(s.count(' '))"
   ]
  },
  {
   "cell_type": "markdown",
   "id": "5c129361",
   "metadata": {},
   "source": [
    "**find():**\n",
    "- Searches the string for a specified value and returns the position of where it was found.\n",
    "- The find() method finds the first occurrence of the specified value.\n",
    "- The find() method returns -1 if the value is not found.\n",
    "- The find() method is almost the same as the index() method, the only difference is that the index() method raises an exception if the value is not found. (See example below)\n",
    "- **syntax : string.find(value, start, end)**\n"
   ]
  },
  {
   "cell_type": "code",
   "execution_count": 15,
   "id": "1659cd57",
   "metadata": {},
   "outputs": [
    {
     "name": "stdout",
     "output_type": "stream",
     "text": [
      "20\n",
      "9\n",
      "-1\n"
     ]
    }
   ],
   "source": [
    "#find()\n",
    "s = 'Searches the string for a specified value'\n",
    "print(s.find('for'))\n",
    "print(s.find('the',5,20))\n",
    "print(s.find('z')) # -1"
   ]
  },
  {
   "cell_type": "markdown",
   "id": "09397f08",
   "metadata": {},
   "source": [
    "**index():**\n",
    "- The index() method finds the first occurrence of the specified value.\n",
    "- The index() method raises an exception if the value is not found.\n",
    "- The index() method is almost the same as the find() method, the only difference is that the find() method returns -1 if the value is not found. (See example below)\n"
   ]
  },
  {
   "cell_type": "code",
   "execution_count": 1,
   "id": "15c97152",
   "metadata": {},
   "outputs": [
    {
     "name": "stdout",
     "output_type": "stream",
     "text": [
      "1\n",
      "9\n"
     ]
    },
    {
     "ename": "ValueError",
     "evalue": "substring not found",
     "output_type": "error",
     "traceback": [
      "\u001b[1;31m---------------------------------------------------------------------------\u001b[0m",
      "\u001b[1;31mValueError\u001b[0m                                Traceback (most recent call last)",
      "Cell \u001b[1;32mIn [1], line 5\u001b[0m\n\u001b[0;32m      3\u001b[0m \u001b[38;5;28mprint\u001b[39m(s\u001b[38;5;241m.\u001b[39mindex(\u001b[38;5;124m'\u001b[39m\u001b[38;5;124me\u001b[39m\u001b[38;5;124m'\u001b[39m))\n\u001b[0;32m      4\u001b[0m \u001b[38;5;28mprint\u001b[39m(s\u001b[38;5;241m.\u001b[39mindex(\u001b[38;5;124m'\u001b[39m\u001b[38;5;124mthe\u001b[39m\u001b[38;5;124m'\u001b[39m,\u001b[38;5;241m5\u001b[39m,\u001b[38;5;241m20\u001b[39m))\n\u001b[1;32m----> 5\u001b[0m \u001b[38;5;28mprint\u001b[39m(s\u001b[38;5;241m.\u001b[39mindex(\u001b[38;5;124m'\u001b[39m\u001b[38;5;124mz\u001b[39m\u001b[38;5;124m'\u001b[39m))\n",
      "\u001b[1;31mValueError\u001b[0m: substring not found"
     ]
    }
   ],
   "source": [
    "# index()\n",
    "s = 'Searches the string for a specified value'\n",
    "print(s.index('e'))\n",
    "print(s.index('the',5,20))\n",
    "print(s.index('z')) # error"
   ]
  },
  {
   "cell_type": "markdown",
   "id": "e6a89d59",
   "metadata": {},
   "source": [
    "##### Endswith() \n",
    "- The endswith() method returns True if the string ends with the specified value, otherwise False.\n",
    "- **syntax :  string.endswith(value, start, end)**"
   ]
  },
  {
   "cell_type": "code",
   "execution_count": 17,
   "id": "1dc9f46c",
   "metadata": {},
   "outputs": [
    {
     "name": "stdout",
     "output_type": "stream",
     "text": [
      "False\n",
      "True\n",
      "False\n"
     ]
    }
   ],
   "source": [
    "# endswith() :\n",
    "s = 'The endswith() method returns True if the string ends with'\n",
    "print(s.endswith('so'))\n",
    "print(s.endswith('with'))\n",
    "x = s.endswith('returns', 0 ,19)\n",
    "print(x)\n"
   ]
  },
  {
   "cell_type": "markdown",
   "id": "d67c325f",
   "metadata": {},
   "source": [
    "##### Startswith() :\n",
    "- The startswith() method returns True if the string starts with the specified value, otherwise False.\n",
    "- **syntax : string.startswith(value, start, end)**"
   ]
  },
  {
   "cell_type": "code",
   "execution_count": 13,
   "id": "f45488f1",
   "metadata": {},
   "outputs": [
    {
     "name": "stdout",
     "output_type": "stream",
     "text": [
      "True\n",
      "True\n"
     ]
    }
   ],
   "source": [
    "# startswith():\n",
    "s = 'The startswith() method returns True if the string starts with'\n",
    "print(s.startswith('T'))\n",
    "x = s.startswith('The', 0 ,20) \n",
    "print(x)"
   ]
  },
  {
   "cell_type": "markdown",
   "id": "1d4cf73d",
   "metadata": {},
   "source": [
    "#### String formatting\n",
    "- **format() method :**\n",
    "    - The format() method formats the specified value(s) and insert them inside the string's placeholder.\n",
    "    - The placeholder is defined using curly brackets: {}. Read more about the placeholders in the Placeholder section below.\n",
    "    - The format() method returns the formatted string.\n",
    "    - **syntax : string.format(value1, value2...)**\n"
   ]
  },
  {
   "cell_type": "code",
   "execution_count": 18,
   "id": "47d7f6ab",
   "metadata": {},
   "outputs": [
    {
     "name": "stdout",
     "output_type": "stream",
     "text": [
      "Enter the first name : asp\n",
      "Enter the age :21\n",
      "My name is asp and i'm 21 years old.\n",
      "0 1\n",
      "20 90\n"
     ]
    }
   ],
   "source": [
    "first_name = input('Enter the first name : ')\n",
    "age = int(input('Enter the age :'))\n",
    "\n",
    "x = \"My name is {} and i'm {} years old.\"\n",
    "print(x.format(first_name,age))\n",
    "\n",
    "print('{0} {1}'.format(0,1))\n",
    "\n",
    "print('{n1} {n2}'.format(n1=20,n2=90))"
   ]
  },
  {
   "cell_type": "markdown",
   "id": "de237556",
   "metadata": {},
   "source": [
    "#### String Methods / Functions :\n",
    "- **replace()**\n",
    "- **split()** \n",
    "- **join()**"
   ]
  },
  {
   "cell_type": "markdown",
   "id": "c46fe237",
   "metadata": {},
   "source": [
    "**replace():**\n",
    "- The replace() method replaces a specified phrase with another specified phrase.\n",
    "- **Note:** All occurrences of the specified phrase will be replaced, if nothing else is specified.\n",
    "- **syntax :string.replace(oldvalue, newvalue, count)**"
   ]
  },
  {
   "cell_type": "code",
   "execution_count": 20,
   "id": "d8203a84",
   "metadata": {
    "scrolled": true
   },
   "outputs": [
    {
     "name": "stdout",
     "output_type": "stream",
     "text": [
      "HTML is a markup language\n",
      "\n",
      "one one was a race horse, two two was one too.\n",
      "three three was a race horse, two two was one too.\n"
     ]
    }
   ],
   "source": [
    "txt = 'HTML is a programming language'\n",
    "x = txt.replace('programming','markup')\n",
    "print(x)\n",
    "print()\n",
    "txt1 = \"one one was a race horse, two two was one too.\"\n",
    "print(txt1)\n",
    "\n",
    "x1 = txt1.replace(\"one\", \"three\", 2)\n",
    "\n",
    "print(x1)"
   ]
  },
  {
   "cell_type": "markdown",
   "id": "44b89030",
   "metadata": {},
   "source": [
    "**split():**\n",
    "- The split() method splits a string into a list.\n",
    "- You can specify the separator, default separator is any whitespace.\n",
    "- Note: When maxsplit is specified, the list will contain the specified number of elements plus one.\n",
    "- **syntax : string.split(separator, maxsplit)**"
   ]
  },
  {
   "cell_type": "code",
   "execution_count": 21,
   "id": "f816e60f",
   "metadata": {},
   "outputs": [
    {
     "name": "stdout",
     "output_type": "stream",
     "text": [
      "['Hello', 'everyone', ',', 'My', 'name', 'is', 'Akash,', 'I', 'am', '21', 'years', 'old']\n",
      "['H', 'llo ', 'v', 'ryon', ' , My nam', ' is Akash, I am 21 y', 'ars old']\n"
     ]
    }
   ],
   "source": [
    "# split()\n",
    "txt = \"Hello everyone , My name is Akash, I am 21 years old\"\n",
    "x = txt.split()\n",
    "x1 = txt.split('e')\n",
    "print(x)\n",
    "print(x1)"
   ]
  },
  {
   "cell_type": "markdown",
   "id": "484de546",
   "metadata": {},
   "source": [
    "**join():**\n",
    "- The join() method takes all items in an iterable and joins them into one string.\n",
    "- A string must be specified as the separator.\n",
    "- **syntax : string.join(iterable)**"
   ]
  },
  {
   "cell_type": "code",
   "execution_count": 22,
   "id": "4355a623",
   "metadata": {},
   "outputs": [
    {
     "name": "stdout",
     "output_type": "stream",
     "text": [
      "['H', 'llo ', 'v', 'ryon', ' , My nam', ' is Akash, I am 21 y', 'ars old']\n"
     ]
    },
    {
     "data": {
      "text/plain": [
       "'Hello everyone , My name is Akash, I am 21 years old'"
      ]
     },
     "execution_count": 22,
     "metadata": {},
     "output_type": "execute_result"
    }
   ],
   "source": [
    "txt = \"Hello everyone , My name is Akash, I am 21 years old\"\n",
    "x = txt.split('e')\n",
    "print(x)\n",
    "'e'.join(x)"
   ]
  },
  {
   "cell_type": "markdown",
   "id": "00d2ad1c",
   "metadata": {},
   "source": [
    "**strip():**\n",
    "- The strip() method removes any leading (spaces at the beginning) and trailing (spaces at the end) characters (space is the default leading character to remove)\n",
    "- **syntax :string.strip(characters)**"
   ]
  },
  {
   "cell_type": "code",
   "execution_count": 23,
   "id": "b8587ed4",
   "metadata": {},
   "outputs": [
    {
     "name": "stdout",
     "output_type": "stream",
     "text": [
      "eren\n"
     ]
    }
   ],
   "source": [
    "txt = '    eren     '\n",
    "x = txt.strip()\n",
    "print(x)"
   ]
  },
  {
   "cell_type": "markdown",
   "id": "0d038bf5",
   "metadata": {},
   "source": [
    "#### isalnum()/ isalpha() / isdigit() / isidentifier()"
   ]
  },
  {
   "cell_type": "code",
   "execution_count": 24,
   "id": "212f95a4",
   "metadata": {},
   "outputs": [
    {
     "data": {
      "text/plain": [
       "False"
      ]
     },
     "execution_count": 24,
     "metadata": {},
     "output_type": "execute_result"
    }
   ],
   "source": [
    "# isalnum() :\n",
    "# The isalnum() method returns True if all the characters are alphanumeric, meaning alphabet letter (a-z) and numbers (0-9).\n",
    "# Example of characters that are not alphanumeric: (space)!#%&? etc.\n",
    "# syntax : string.isalnum()\n",
    "\n",
    "#s = 'Akash07' # True\n",
    "#s = 'Akash' # True\n",
    "s = 'Akash$3' # False\n",
    "s.isalnum()"
   ]
  },
  {
   "cell_type": "code",
   "execution_count": 25,
   "id": "441f9456",
   "metadata": {},
   "outputs": [
    {
     "data": {
      "text/plain": [
       "False"
      ]
     },
     "execution_count": 25,
     "metadata": {},
     "output_type": "execute_result"
    }
   ],
   "source": [
    "# isalpha():\n",
    "# The isalpha() method returns True if all the characters are alphabet letters (a-z).\n",
    "#Example of characters that are not alphabet letters: (space)!#%&? etc.\n",
    "#Syntax : string.isalpha()\n",
    "\n",
    "#s = 'Akash07' # False\n",
    "# s = 'Akash$3' # False\n",
    "# s = 'Akash' # True\n",
    "s.isalpha()"
   ]
  },
  {
   "cell_type": "code",
   "execution_count": 26,
   "id": "638f27e2",
   "metadata": {},
   "outputs": [
    {
     "name": "stdout",
     "output_type": "stream",
     "text": [
      "True\n",
      "True\n",
      "True\n"
     ]
    }
   ],
   "source": [
    "# isdigit()\n",
    "# The isdigit() method returns True if all the characters are digits, otherwise False.\n",
    "# Exponents, like ², are also considered to be a digit.\n",
    "# Syntax : string.isdigit()\n",
    "\n",
    "# s = '07' # Ture\n",
    "# s = 'Akash$03' # False\n",
    "s = 'Akash' # True\n",
    "a = \"\\u0030\" #unicode for 0\n",
    "b = \"\\u00B2\" #unicode for ²\n",
    "print(s.isalpha())\n",
    "print(a.isdigit())\n",
    "print(b.isdigit())"
   ]
  },
  {
   "cell_type": "code",
   "execution_count": 27,
   "id": "ec9768c3",
   "metadata": {},
   "outputs": [
    {
     "name": "stdout",
     "output_type": "stream",
     "text": [
      "True\n",
      "True\n",
      "False\n",
      "False\n",
      "True\n"
     ]
    }
   ],
   "source": [
    "# isidentifier()\n",
    "# The isidentifier() method returns True if the string is a valid identifier, otherwise False.\n",
    "# A string is considered a valid identifier if it only contains alphanumeric letters (a-z) and (0-9), or underscores (_). A valid identifier cannot start with a number, or contain any spaces.\n",
    "# Syntax : string.isidentifier()\n",
    "\n",
    "a = \"MyFolder\"\n",
    "b = \"Demo002\"\n",
    "c = \"2bring\"\n",
    "d = \"my demo\"\n",
    "e = \"_My_\"\n",
    "\n",
    "print(a.isidentifier())\n",
    "print(b.isidentifier())\n",
    "print(c.isidentifier())\n",
    "print(d.isidentifier())\n",
    "print(e.isidentifier())"
   ]
  },
  {
   "cell_type": "markdown",
   "id": "fea9108e",
   "metadata": {},
   "source": [
    "### STRINGS EXAMPLES :\n"
   ]
  },
  {
   "cell_type": "markdown",
   "id": "8037cdab",
   "metadata": {},
   "source": [
    "**1. Find the length of a given string without using the len() function.**"
   ]
  },
  {
   "cell_type": "code",
   "execution_count": 4,
   "id": "dd90c949",
   "metadata": {},
   "outputs": [
    {
     "name": "stdout",
     "output_type": "stream",
     "text": [
      "Enter the string : \n",
      "Length of string is 0\n"
     ]
    }
   ],
   "source": [
    "txt = input('Enter the string : ')\n",
    "counter = 0\n",
    "for i in txt:\n",
    "    counter += 1\n",
    "print('Length of string is', counter)"
   ]
  },
  {
   "cell_type": "markdown",
   "id": "281a9e96",
   "metadata": {},
   "source": [
    "**2. Extract username from a given email.** \n",
    "\n",
    "``` Eg if the email is akashpagi26@gmail.com then the username should be akashpagi26```"
   ]
  },
  {
   "cell_type": "code",
   "execution_count": 5,
   "id": "2e338cf2",
   "metadata": {},
   "outputs": [
    {
     "name": "stdout",
     "output_type": "stream",
     "text": [
      "Enter the email : \n"
     ]
    },
    {
     "ename": "ValueError",
     "evalue": "substring not found",
     "output_type": "error",
     "traceback": [
      "\u001b[1;31m---------------------------------------------------------------------------\u001b[0m",
      "\u001b[1;31mValueError\u001b[0m                                Traceback (most recent call last)",
      "Cell \u001b[1;32mIn [5], line 2\u001b[0m\n\u001b[0;32m      1\u001b[0m s \u001b[38;5;241m=\u001b[39m \u001b[38;5;28minput\u001b[39m(\u001b[38;5;124m\"\u001b[39m\u001b[38;5;124mEnter the email : \u001b[39m\u001b[38;5;124m\"\u001b[39m)\n\u001b[1;32m----> 2\u001b[0m position \u001b[38;5;241m=\u001b[39m s\u001b[38;5;241m.\u001b[39mindex(\u001b[38;5;124m'\u001b[39m\u001b[38;5;124m@\u001b[39m\u001b[38;5;124m'\u001b[39m)\n\u001b[0;32m      3\u001b[0m \u001b[38;5;28mprint\u001b[39m(s[\u001b[38;5;241m0\u001b[39m:position])\n",
      "\u001b[1;31mValueError\u001b[0m: substring not found"
     ]
    }
   ],
   "source": [
    "s = input(\"Enter the email : \")\n",
    "position = s.index('@')\n",
    "print(s[0:position])"
   ]
  },
  {
   "cell_type": "markdown",
   "id": "04d7b71c",
   "metadata": {},
   "source": [
    "**3.Count the frequency of a particular character in a provided string.** \n",
    "```\n",
    "Eg 'hello how are you' is the string, the frequency of h in this string is 2.```"
   ]
  },
  {
   "cell_type": "code",
   "execution_count": 6,
   "id": "b0a21a6c",
   "metadata": {},
   "outputs": [
    {
     "name": "stdout",
     "output_type": "stream",
     "text": [
      "enter the string :hello how are you\n",
      "Enter the character that you like most in entered string :h\n",
      "frequency : 2\n"
     ]
    }
   ],
   "source": [
    "s = input('enter the string :')\n",
    "search_fre = input('Enter the character that you like most in entered string :')\n",
    "\n",
    "count = 0 \n",
    "for i in s:\n",
    "    if i == search_fre :\n",
    "        count += 1\n",
    "print('frequency :', count)"
   ]
  },
  {
   "cell_type": "markdown",
   "id": "eb9001d6",
   "metadata": {},
   "source": [
    "**4. Write a program which can remove a particular character from a string.**"
   ]
  },
  {
   "cell_type": "code",
   "execution_count": 7,
   "id": "defda9e3",
   "metadata": {},
   "outputs": [
    {
     "name": "stdout",
     "output_type": "stream",
     "text": [
      "enter the string :asp\n",
      "Enter the character that you have to remove :s\n",
      "ap\n"
     ]
    }
   ],
   "source": [
    "s = input('enter the string :')\n",
    "re_term = input('Enter the character that you have to remove :')\n",
    "\n",
    "result = ''\n",
    "for i in s:\n",
    "    if i != re_term:\n",
    "        result += i \n",
    "print(result)"
   ]
  },
  {
   "cell_type": "markdown",
   "id": "e556236c",
   "metadata": {},
   "source": [
    "**5. Write a program that can check whether a given string is palindrome or not.**\n",
    "```abba\n",
    "malayalam```"
   ]
  },
  {
   "cell_type": "code",
   "execution_count": 8,
   "id": "e5fd1255",
   "metadata": {},
   "outputs": [
    {
     "name": "stdout",
     "output_type": "stream",
     "text": [
      "enter the string :malayalam\n",
      "String is Palindrome !\n"
     ]
    }
   ],
   "source": [
    "s = input('enter the string :')\n",
    "re_str = s[-1::-1]\n",
    "if s == re_str:\n",
    "    print('String is Palindrome !')\n",
    "else:\n",
    "     print('String is not Palindrome !')"
   ]
  },
  {
   "cell_type": "markdown",
   "id": "2e2ea05a",
   "metadata": {},
   "source": [
    "**6. Write a program to count the number of words in a string without split().**"
   ]
  },
  {
   "cell_type": "code",
   "execution_count": 10,
   "id": "8706dc7b",
   "metadata": {},
   "outputs": [
    {
     "name": "stdout",
     "output_type": "stream",
     "text": [
      "Enter the string :Akash is vey good boi !\n",
      "[' Akash', 'is', 'vey', 'good', 'boi', '!']\n"
     ]
    }
   ],
   "source": [
    "s = input('Enter the string :')\n",
    "l = []\n",
    "temp_str = ' '\n",
    "\n",
    "for i in s :\n",
    "    if i != ' ':\n",
    "        temp_str = temp_str + i\n",
    "    else:\n",
    "        l.append(temp_str)\n",
    "        temp_str = ''\n",
    "l.append(temp_str)\n",
    "print(l)   \n"
   ]
  },
  {
   "cell_type": "markdown",
   "id": "c367f754",
   "metadata": {},
   "source": [
    "**7. Write a python program to convert a string to title case without using the title()**"
   ]
  },
  {
   "cell_type": "code",
   "execution_count": 12,
   "id": "aaaf03ce",
   "metadata": {},
   "outputs": [
    {
     "name": "stdout",
     "output_type": "stream",
     "text": [
      "Enter the string :attack\n",
      "Attack\n"
     ]
    }
   ],
   "source": [
    "s = input('Enter the string :')\n",
    "new_s = []\n",
    "for i in s.split():\n",
    "    new_s.append(i[0].upper() + i[1:].lower())\n",
    "print(' '.join(new_s))\n",
    "    "
   ]
  },
  {
   "cell_type": "markdown",
   "id": "79b9a633",
   "metadata": {},
   "source": [
    "**8. Write a program that can convert an integer to string.**"
   ]
  },
  {
   "cell_type": "code",
   "execution_count": 35,
   "id": "2f9b2c0f",
   "metadata": {},
   "outputs": [
    {
     "name": "stdout",
     "output_type": "stream",
     "text": [
      "Enter the number :\n"
     ]
    },
    {
     "ename": "ValueError",
     "evalue": "invalid literal for int() with base 10: ''",
     "output_type": "error",
     "traceback": [
      "\u001b[1;31m-------------------------------------------------------------\u001b[0m",
      "\u001b[1;31mValueError\u001b[0m                  Traceback (most recent call last)",
      "Cell \u001b[1;32mIn [35], line 2\u001b[0m\n\u001b[0;32m      1\u001b[0m \u001b[38;5;66;03m# Write a program that can convert an integer to string.\u001b[39;00m\n\u001b[1;32m----> 2\u001b[0m num \u001b[38;5;241m=\u001b[39m \u001b[38;5;28mint\u001b[39m(\u001b[38;5;28minput\u001b[39m(\u001b[38;5;124m'\u001b[39m\u001b[38;5;124mEnter the number :\u001b[39m\u001b[38;5;124m'\u001b[39m))\n\u001b[0;32m      4\u001b[0m digits \u001b[38;5;241m=\u001b[39m \u001b[38;5;124m\"\u001b[39m\u001b[38;5;124m0123456789\u001b[39m\u001b[38;5;124m\"\u001b[39m \n\u001b[0;32m      5\u001b[0m result \u001b[38;5;241m=\u001b[39m \u001b[38;5;124m'\u001b[39m\u001b[38;5;124m'\u001b[39m\n",
      "\u001b[1;31mValueError\u001b[0m: invalid literal for int() with base 10: ''"
     ]
    }
   ],
   "source": [
    "num = int(input('Enter the number :'))\n",
    "\n",
    "digits = \"0123456789\" \n",
    "result = ''\n",
    "\n",
    "while num !=0:\n",
    "    result = digits [num % 10] + result\n",
    "    num = num//10\n",
    "print(result)\n",
    "print(type(result))\n"
   ]
  },
  {
   "cell_type": "code",
   "execution_count": null,
   "id": "06a53607",
   "metadata": {},
   "outputs": [],
   "source": []
  }
 ],
 "metadata": {
  "kernelspec": {
   "display_name": "Python 3 (ipykernel)",
   "language": "python",
   "name": "python3"
  },
  "language_info": {
   "codemirror_mode": {
    "name": "ipython",
    "version": 3
   },
   "file_extension": ".py",
   "mimetype": "text/x-python",
   "name": "python",
   "nbconvert_exporter": "python",
   "pygments_lexer": "ipython3",
   "version": "3.10.7"
  }
 },
 "nbformat": 4,
 "nbformat_minor": 5
}
