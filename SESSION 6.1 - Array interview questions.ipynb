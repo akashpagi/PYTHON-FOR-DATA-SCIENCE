{
 "cells": [
  {
   "cell_type": "markdown",
   "id": "283a14b3",
   "metadata": {},
   "source": [
    "### ARRAY INTERVIEW QUESTIONS :\n",
    "\n",
    "#### Points to remember :\n",
    "\n",
    "- Codes asked are relatively easier in comparison to SDE roles\n",
    "- Pythonic syntax is preferred in most companies\n",
    "- Focus is on optimized code\n",
    "- Start with the simplest solution and then improve\n",
    "- A lot of questions are repeated so mugging up the approaches help"
   ]
  },
  {
   "cell_type": "code",
   "execution_count": null,
   "id": "66e0ff3d",
   "metadata": {},
   "outputs": [],
   "source": [
    "# 1. Find the kth largest/smallest item from a list\n",
    "\n",
    "L = [12,23,1,4,56,34,22,3]"
   ]
  },
  {
   "cell_type": "code",
   "execution_count": null,
   "id": "e43e6564",
   "metadata": {},
   "outputs": [],
   "source": [
    "# 2. Check if an array is sorted\n",
    "L = [1,2,3,4,5]"
   ]
  },
  {
   "cell_type": "code",
   "execution_count": null,
   "id": "84514af1",
   "metadata": {},
   "outputs": [],
   "source": [
    "# 3. Find Min/Max in a given array\n",
    "\n",
    "L = [21,1,34,23,54,11,10]"
   ]
  },
  {
   "cell_type": "code",
   "execution_count": null,
   "id": "c3e53caa",
   "metadata": {},
   "outputs": [],
   "source": [
    "# 4. Find the first element to occur k times in an array\n",
    "\n",
    "L = [1,1,2,3,4,4,5,5]"
   ]
  },
  {
   "cell_type": "code",
   "execution_count": null,
   "id": "1476be06",
   "metadata": {},
   "outputs": [],
   "source": [
    "# 5. Find duplicates in an array\n",
    "L = [1,1,2,3,4,4,5,5]"
   ]
  },
  {
   "cell_type": "code",
   "execution_count": null,
   "id": "13b46946",
   "metadata": {},
   "outputs": [],
   "source": [
    "# 6. Rotate array to left d items\n",
    "\n",
    "L = [1,2,3,4,5]"
   ]
  },
  {
   "cell_type": "code",
   "execution_count": null,
   "id": "6dcec4d0",
   "metadata": {},
   "outputs": [],
   "source": [
    "# 7. Find intersection of 2 sorted arrays\n",
    "\n",
    "a = [1,2,3,4,5,8]\n",
    "b = [3,6,7,8]"
   ]
  },
  {
   "cell_type": "code",
   "execution_count": null,
   "id": "cefaba4c",
   "metadata": {},
   "outputs": [],
   "source": []
  },
  {
   "cell_type": "code",
   "execution_count": null,
   "id": "3fe37c2e",
   "metadata": {},
   "outputs": [],
   "source": []
  },
  {
   "cell_type": "code",
   "execution_count": null,
   "id": "4e3ce0e4",
   "metadata": {},
   "outputs": [],
   "source": []
  },
  {
   "cell_type": "code",
   "execution_count": null,
   "id": "41ca8bc3",
   "metadata": {},
   "outputs": [],
   "source": []
  },
  {
   "cell_type": "code",
   "execution_count": null,
   "id": "34845603",
   "metadata": {},
   "outputs": [],
   "source": []
  },
  {
   "cell_type": "code",
   "execution_count": null,
   "id": "ffdaf663",
   "metadata": {},
   "outputs": [],
   "source": []
  },
  {
   "cell_type": "code",
   "execution_count": null,
   "id": "ccfc6f60",
   "metadata": {},
   "outputs": [],
   "source": []
  },
  {
   "cell_type": "code",
   "execution_count": null,
   "id": "5bb3c6cd",
   "metadata": {},
   "outputs": [],
   "source": []
  },
  {
   "cell_type": "code",
   "execution_count": null,
   "id": "60b09545",
   "metadata": {},
   "outputs": [],
   "source": []
  },
  {
   "cell_type": "code",
   "execution_count": null,
   "id": "2178354d",
   "metadata": {},
   "outputs": [],
   "source": []
  },
  {
   "cell_type": "code",
   "execution_count": null,
   "id": "544c326b",
   "metadata": {},
   "outputs": [],
   "source": []
  },
  {
   "cell_type": "code",
   "execution_count": null,
   "id": "b405064a",
   "metadata": {},
   "outputs": [],
   "source": []
  },
  {
   "cell_type": "code",
   "execution_count": null,
   "id": "8846d0a7",
   "metadata": {},
   "outputs": [],
   "source": []
  },
  {
   "cell_type": "code",
   "execution_count": null,
   "id": "fa0e78cb",
   "metadata": {},
   "outputs": [],
   "source": []
  },
  {
   "cell_type": "code",
   "execution_count": null,
   "id": "4e600b92",
   "metadata": {},
   "outputs": [],
   "source": []
  },
  {
   "cell_type": "code",
   "execution_count": null,
   "id": "a3ae21e4",
   "metadata": {},
   "outputs": [],
   "source": []
  },
  {
   "cell_type": "code",
   "execution_count": null,
   "id": "7e3a7874",
   "metadata": {},
   "outputs": [],
   "source": []
  }
 ],
 "metadata": {
  "kernelspec": {
   "display_name": "Python 3 (ipykernel)",
   "language": "python",
   "name": "python3"
  },
  "language_info": {
   "codemirror_mode": {
    "name": "ipython",
    "version": 3
   },
   "file_extension": ".py",
   "mimetype": "text/x-python",
   "name": "python",
   "nbconvert_exporter": "python",
   "pygments_lexer": "ipython3",
   "version": "3.10.7"
  }
 },
 "nbformat": 4,
 "nbformat_minor": 5
}
