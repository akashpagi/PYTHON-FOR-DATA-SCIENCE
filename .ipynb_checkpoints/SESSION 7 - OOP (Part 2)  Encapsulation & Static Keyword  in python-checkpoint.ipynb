{
 "cells": [
  {
   "cell_type": "markdown",
   "id": "5a7e31ed",
   "metadata": {},
   "source": [
    "#### Write OOP classes to handle the following scenarios:"
   ]
  },
  {
   "cell_type": "raw",
   "id": "de2df72c",
   "metadata": {},
   "source": [
    "Questions based on coordinate geometry :\n",
    "A user can create and view 2D coordinates\n",
    "A user can find out the distance between 2 coordinates\n",
    "A user can find find the distance of a coordinate from origin\n",
    "A user can check if a point lies on a given line\n",
    "A user can find the distance between a given 2D point and a given line"
   ]
  },
  {
   "cell_type": "code",
   "execution_count": 25,
   "id": "fbf7bfb0",
   "metadata": {},
   "outputs": [
    {
     "name": "stdout",
     "output_type": "stream",
     "text": [
      "\n"
     ]
    }
   ],
   "source": [
    "# A user can create and view 2D coordinates\n",
    "class Point:\n",
    "    def __init__(self,x,y):\n",
    "        self.x_cod = x\n",
    "        self.y_cod = y\n",
    "    \n",
    "    def __str__(self):\n",
    "        return \"({},{})\".format(self.x_cod,self.y_cod)\n",
    "    \n",
    "    #A user can find out the distance between 2 coordinates\n",
    "    def euclidean_distance(self,other):\n",
    "        return ((self.x_cod - other.x_cod)**2 + (self.y_cod - other.y_cod)**2)**0.5\n",
    "    \n",
    "    #A user can find the distance of a coordinate from origin\n",
    "    def distance_from_origin(self):\n",
    "        #return (self.x_cod**2 + self.y_cod**2)**0.5\n",
    "        return self.euclidean_distance(Point(0,0))\n",
    "\n",
    "print()\n",
    "\n",
    "#A user can check if a point lies on a given line\n",
    "class Line:\n",
    "    def __init__(self, A, B, C):\n",
    "        self.A = A\n",
    "        self.B = B\n",
    "        self.C = C\n",
    "    \n",
    "    def __str__(self):\n",
    "        return \"({})x + ({})y + ({}) = 0\".format(self.A,self.B,self.C)\n",
    "    \n",
    "    def Point_On_Line(line,point):\n",
    "        if (line.A*point.x_cod) + (line.B*point.y_cod) + (line.C) == 0:\n",
    "            return \"Lies on the line\"\n",
    "        else:\n",
    "            return 'Does not lie on the line'\n",
    "    \n",
    "    #A user can find the distance between a given 2D point and a given line\n",
    "    def Shortest_Distance(line,point):\n",
    "        if abs(line.A*point.x_cod + line.B*point.y_cod + line.C)/ (line.A**2 + line.B**2)**0.5 == 0:\n",
    "            return \"Lies on the line means output is 0\"\n",
    "        else:\n",
    "            return 'Does not lie on the line'\n",
    "    \n",
    "        \n",
    "        "
   ]
  },
  {
   "cell_type": "code",
   "execution_count": 23,
   "id": "9cf77d95",
   "metadata": {},
   "outputs": [
    {
     "name": "stdout",
     "output_type": "stream",
     "text": [
      "P1 : (0,0)\n",
      "P2 : (10,10)\n",
      "Euclidean Distance : 14.142135623730951\n",
      "Coordinate From Origin : 0.0\n"
     ]
    }
   ],
   "source": [
    "# points\n",
    "p1 = Point(0,0)\n",
    "print(\"P1 :\",p1)\n",
    "p2 =Point(10,10)\n",
    "print(\"P2 :\",p2)\n",
    "\n",
    "# calling eucliden distance method\n",
    "ed = p1.euclidean_distance(p2)\n",
    "print(\"Euclidean Distance :\", ed)\n",
    "\n",
    "# coordinate from origin\n",
    "dfo = p1.distance_from_origin()\n",
    "print(\"Coordinate From Origin :\",dfo)\n",
    "\n"
   ]
  },
  {
   "cell_type": "code",
   "execution_count": 26,
   "id": "a5eb7a2d",
   "metadata": {},
   "outputs": [
    {
     "name": "stdout",
     "output_type": "stream",
     "text": [
      "Line : (1)x + (1)y + (-2) = 0\n",
      "Point : (1,1)\n",
      "Point On Line : Lies on the line\n",
      "Shortest_Distance : Lies on the line means output is 0\n"
     ]
    }
   ],
   "source": [
    "# calling given line\n",
    "l = Line(1,1,-2)\n",
    "print(\"Line :\", l)\n",
    "p = Point(1,1) # Point class object call here\n",
    "print('Point :',p)\n",
    "\n",
    "pol = l.Point_On_Line(p)\n",
    "print('Point On Line :',pol)\n",
    "\n",
    "# distance between a given 2D point and a given line\n",
    "ds = l.Shortest_Distance(p)\n",
    "print('Shortest_Distance :',ds)"
   ]
  },
  {
   "cell_type": "markdown",
   "id": "73fd4693",
   "metadata": {},
   "source": [
    "#### Attribute creation from outside of the class :"
   ]
  },
  {
   "cell_type": "code",
   "execution_count": 11,
   "id": "be80b6c3",
   "metadata": {},
   "outputs": [],
   "source": [
    "class Person:\n",
    "    def __init__(self, name_input, country_input):\n",
    "        self.name = name_input\n",
    "        self.country = country_input\n",
    "        \n",
    "    def greet(self):\n",
    "        if (self.country == \"india\"):\n",
    "            print('Namaste !',self.name)\n",
    "        else:\n",
    "            print('Hello !',self.name)\n",
    "    \n",
    "    # for <__main__.Person object at 0x000001C91F631480>\n",
    "    def __str__(self):\n",
    "        if (self.country == \"india\"):\n",
    "            return \"Namaste ! {}\".format(self.name)\n",
    "        else:\n",
    "            return \"Hello ! {}\".format(self.name)\n",
    "            \n",
    "    \n",
    "        "
   ]
  },
  {
   "cell_type": "code",
   "execution_count": 12,
   "id": "1e610df1",
   "metadata": {},
   "outputs": [
    {
     "name": "stdout",
     "output_type": "stream",
     "text": [
      "Namaste ! Akash\n"
     ]
    }
   ],
   "source": [
    "# Access attributes\n",
    "p = Person('Akash','india')\n",
    "print(p)"
   ]
  },
  {
   "cell_type": "code",
   "execution_count": 13,
   "id": "921b34fd",
   "metadata": {},
   "outputs": [
    {
     "data": {
      "text/plain": [
       "'Akash'"
      ]
     },
     "execution_count": 13,
     "metadata": {},
     "output_type": "execute_result"
    }
   ],
   "source": [
    "p.name \n",
    "# p.country()"
   ]
  },
  {
   "cell_type": "code",
   "execution_count": 14,
   "id": "04d441ee",
   "metadata": {},
   "outputs": [
    {
     "name": "stdout",
     "output_type": "stream",
     "text": [
      "Namaste ! Akash\n"
     ]
    }
   ],
   "source": [
    "# access method\n",
    "p.greet()"
   ]
  },
  {
   "cell_type": "code",
   "execution_count": 15,
   "id": "30f13394",
   "metadata": {},
   "outputs": [
    {
     "ename": "AttributeError",
     "evalue": "'Person' object has no attribute 'gender'",
     "output_type": "error",
     "traceback": [
      "\u001b[1;31m---------------------------------------------------------------------------\u001b[0m",
      "\u001b[1;31mAttributeError\u001b[0m                            Traceback (most recent call last)",
      "Cell \u001b[1;32mIn [15], line 2\u001b[0m\n\u001b[0;32m      1\u001b[0m \u001b[38;5;66;03m# what if we try to access non - existent attributes\u001b[39;00m\n\u001b[1;32m----> 2\u001b[0m p\u001b[38;5;241m.\u001b[39mgender\n",
      "\u001b[1;31mAttributeError\u001b[0m: 'Person' object has no attribute 'gender'"
     ]
    }
   ],
   "source": [
    "# what if we try to access non - existent attributes\n",
    "p.gender\n",
    "# o/p : AttributeError: 'Person' object has no attribute 'gender'"
   ]
  },
  {
   "cell_type": "code",
   "execution_count": 18,
   "id": "4bd6184d",
   "metadata": {},
   "outputs": [
    {
     "data": {
      "text/plain": [
       "'male'"
      ]
     },
     "execution_count": 18,
     "metadata": {},
     "output_type": "execute_result"
    }
   ],
   "source": [
    "# Attribute creation from outside of the class\n",
    "p.gender = 'male'\n",
    "p.gender"
   ]
  },
  {
   "cell_type": "markdown",
   "id": "21f2a0e0",
   "metadata": {},
   "source": [
    "#### Reference Variables :"
   ]
  },
  {
   "cell_type": "raw",
   "id": "550bc8e1",
   "metadata": {},
   "source": [
    "Reference Variables\n",
    "\n",
    "- Reference variables hold the objects\n",
    "- We can create objects without reference variable as well\n",
    "- An object can have multiple reference variables\n",
    "- Assigning a new reference variable to an existing object does not create a new object"
   ]
  },
  {
   "cell_type": "code",
   "execution_count": 24,
   "id": "af9ab0f3",
   "metadata": {},
   "outputs": [
    {
     "name": "stdout",
     "output_type": "stream",
     "text": [
      "p : 2393355858848\n",
      "q : 2393355858848\n"
     ]
    }
   ],
   "source": [
    "# object without a reference :\n",
    "class Person:\n",
    "    def __init__(self):\n",
    "        self.name  = 'Akash'\n",
    "        self.age = '21'\n",
    "        \n",
    "# Here p is not object , p is reference variables contain address of object\n",
    "p = Person()\n",
    "q = p # q & p are both reference variables\n",
    "print(\"p :\",id(p))\n",
    "print(\"q :\",id(q))"
   ]
  },
  {
   "cell_type": "code",
   "execution_count": 25,
   "id": "972a7e72",
   "metadata": {},
   "outputs": [
    {
     "name": "stdout",
     "output_type": "stream",
     "text": [
      "Akash\n",
      "Akash\n",
      "Eren\n",
      "Eren\n"
     ]
    }
   ],
   "source": [
    "# change attributes value with the help of 2nd object\n",
    "print(p.name)\n",
    "print(q.name)\n",
    "q.name = 'Eren'\n",
    "print(p.name)\n",
    "print(q.name)"
   ]
  },
  {
   "cell_type": "markdown",
   "id": "b60a9811",
   "metadata": {},
   "source": [
    "#### Pass by reference :"
   ]
  },
  {
   "cell_type": "code",
   "execution_count": 2,
   "id": "3e7e98e7",
   "metadata": {},
   "outputs": [
    {
     "name": "stdout",
     "output_type": "stream",
     "text": [
      "Hi my name is Akash and I am 21 year old.\n",
      "Eren\n",
      "24\n"
     ]
    }
   ],
   "source": [
    "# When you pass object (class object) as input to fucntion means your actually sending the reference of that object that is called pass by reference.\n",
    "class Person:    \n",
    "    def __init__(self,name,age):\n",
    "        self.name = name\n",
    "        self.age = age\n",
    "\n",
    "# outside the class -> function\n",
    "def greet(person):\n",
    "    print('Hi my name is',person.name,'and I am',person.age,'year old.')\n",
    "    # the function returns the object\n",
    "    p1 = Person('Eren','24')\n",
    "    return p1\n",
    "     \n",
    "p = Person('Akash','21')\n",
    "# Here we give object reference (class object) as input to fucntion vise versa\n",
    "x = greet(p)\n",
    "print(x.name)\n",
    "print(x.age)"
   ]
  },
  {
   "cell_type": "code",
   "execution_count": 1,
   "id": "8afe184a",
   "metadata": {},
   "outputs": [
    {
     "name": "stdout",
     "output_type": "stream",
     "text": [
      "Hi my name is Akash and I am 21 year old.\n"
     ]
    }
   ],
   "source": [
    "class Person:\n",
    "    \n",
    "    def __init__(self,name,age):\n",
    "        self.name = name\n",
    "        self.age = age\n",
    "\n",
    "# outside the class -> function\n",
    "def greet(person):\n",
    "    print('Hi my name is',person.name,'and I am',person.age,'year old.')\n",
    "    \n",
    "p = Person('Akash','21')\n",
    "greet(p)\n"
   ]
  },
  {
   "cell_type": "code",
   "execution_count": 8,
   "id": "219c8c3f",
   "metadata": {},
   "outputs": [
    {
     "name": "stdout",
     "output_type": "stream",
     "text": [
      "1920261316784\n",
      "1920261316784\n",
      "saitama\n",
      "saitama\n"
     ]
    }
   ],
   "source": [
    "class Person:\n",
    "    def __init__(self,name,age):\n",
    "        self.name = name\n",
    "        self.age = age\n",
    "\n",
    "# outside the class -> function\n",
    "def greet(person):\n",
    "    print(id(person))\n",
    "    person.name = 'saitama'\n",
    "    print(person.name)\n",
    "\n",
    "p = Person('eren','21')\n",
    "print(id(p))\n",
    "greet(p)\n",
    "print(p.name)"
   ]
  },
  {
   "cell_type": "markdown",
   "id": "5512df31",
   "metadata": {},
   "source": [
    "#### Mutability of object :"
   ]
  },
  {
   "cell_type": "code",
   "execution_count": 1,
   "id": "fa15262e",
   "metadata": {},
   "outputs": [
    {
     "name": "stdout",
     "output_type": "stream",
     "text": [
      "2569573026496\n",
      "2569573026496\n"
     ]
    }
   ],
   "source": [
    "class Person:\n",
    "    def __init__(self,name,age):\n",
    "        self.name = name\n",
    "        self.age = age\n",
    "\n",
    "# outside the class -> function\n",
    "def greet(person):\n",
    "    person.name = 'saitama'\n",
    "    return person\n",
    "\n",
    "p = Person('eren','21')\n",
    "print(id(p))\n",
    "p1 = greet(p)\n",
    "print(id(p1))"
   ]
  },
  {
   "cell_type": "markdown",
   "id": "c73082b9",
   "metadata": {},
   "source": [
    "#### Instance Variables :"
   ]
  },
  {
   "cell_type": "raw",
   "id": "bd87b1b1",
   "metadata": {},
   "source": [
    "- If the value of a variable varies from object to object, then such variables are called instance variables.\n",
    "\n",
    "- For every object, a separate copy of the instance variable will be created.\n",
    "\n",
    "- Every object has its own copy of the instance attribute. This means that for each object of a class, the instance variable value is different.\n",
    "\n",
    "- In Python, to work with an instance variable and method, we use the self keyword. We use the self keyword as the first parameter to a method. The self refers to the current object."
   ]
  },
  {
   "attachments": {
    "create_declare_instance_variable.png": {
     "image/png": "[encoded data removed]"
    }
   },
   "cell_type": "markdown",
   "id": "269c6b1f",
   "metadata": {},
   "source": [
    "![create_declare_instance_variable.png](attachment:create_declare_instance_variable.png)"
   ]
  },
  {
   "cell_type": "markdown",
   "id": "62607edb",
   "metadata": {},
   "source": [
    "#### Encapsulation in Python :\n"
   ]
  },
  {
   "cell_type": "raw",
   "id": "bf9c89de",
   "metadata": {},
   "source": []
  },
  {
   "cell_type": "code",
   "execution_count": null,
   "id": "e2460f1d",
   "metadata": {},
   "outputs": [],
   "source": []
  },
  {
   "cell_type": "code",
   "execution_count": null,
   "id": "c654a994",
   "metadata": {},
   "outputs": [],
   "source": []
  },
  {
   "cell_type": "code",
   "execution_count": null,
   "id": "8239d8a2",
   "metadata": {},
   "outputs": [],
   "source": []
  },
  {
   "cell_type": "code",
   "execution_count": null,
   "id": "08f53c8e",
   "metadata": {},
   "outputs": [],
   "source": []
  },
  {
   "cell_type": "code",
   "execution_count": null,
   "id": "d2506517",
   "metadata": {},
   "outputs": [],
   "source": []
  },
  {
   "cell_type": "code",
   "execution_count": null,
   "id": "c55a7a24",
   "metadata": {},
   "outputs": [],
   "source": []
  },
  {
   "cell_type": "code",
   "execution_count": null,
   "id": "b915d80b",
   "metadata": {},
   "outputs": [],
   "source": []
  },
  {
   "cell_type": "code",
   "execution_count": null,
   "id": "ac7c29e0",
   "metadata": {},
   "outputs": [],
   "source": []
  },
  {
   "cell_type": "code",
   "execution_count": null,
   "id": "7daa5eef",
   "metadata": {},
   "outputs": [],
   "source": []
  },
  {
   "cell_type": "code",
   "execution_count": null,
   "id": "57063478",
   "metadata": {},
   "outputs": [],
   "source": []
  },
  {
   "cell_type": "code",
   "execution_count": null,
   "id": "5d33a5d5",
   "metadata": {},
   "outputs": [],
   "source": []
  },
  {
   "cell_type": "code",
   "execution_count": null,
   "id": "e0d06a6c",
   "metadata": {},
   "outputs": [],
   "source": []
  },
  {
   "cell_type": "code",
   "execution_count": null,
   "id": "59983273",
   "metadata": {},
   "outputs": [],
   "source": []
  },
  {
   "cell_type": "code",
   "execution_count": null,
   "id": "0300aa44",
   "metadata": {},
   "outputs": [],
   "source": []
  },
  {
   "cell_type": "code",
   "execution_count": null,
   "id": "e3f9434c",
   "metadata": {},
   "outputs": [],
   "source": []
  },
  {
   "cell_type": "code",
   "execution_count": null,
   "id": "6f2a6e30",
   "metadata": {},
   "outputs": [],
   "source": []
  },
  {
   "cell_type": "code",
   "execution_count": null,
   "id": "edc5cc74",
   "metadata": {},
   "outputs": [],
   "source": []
  },
  {
   "cell_type": "code",
   "execution_count": null,
   "id": "431c1116",
   "metadata": {},
   "outputs": [],
   "source": []
  },
  {
   "cell_type": "code",
   "execution_count": null,
   "id": "77d266b0",
   "metadata": {},
   "outputs": [],
   "source": []
  },
  {
   "cell_type": "code",
   "execution_count": null,
   "id": "0f5bbecc",
   "metadata": {},
   "outputs": [],
   "source": []
  },
  {
   "cell_type": "code",
   "execution_count": null,
   "id": "0b61a245",
   "metadata": {},
   "outputs": [],
   "source": []
  },
  {
   "cell_type": "code",
   "execution_count": null,
   "id": "03e03b40",
   "metadata": {},
   "outputs": [],
   "source": []
  },
  {
   "cell_type": "code",
   "execution_count": null,
   "id": "2907620a",
   "metadata": {},
   "outputs": [],
   "source": []
  },
  {
   "cell_type": "code",
   "execution_count": null,
   "id": "7b7fd036",
   "metadata": {},
   "outputs": [],
   "source": []
  },
  {
   "cell_type": "code",
   "execution_count": null,
   "id": "2bd888fc",
   "metadata": {},
   "outputs": [],
   "source": []
  },
  {
   "cell_type": "code",
   "execution_count": null,
   "id": "edf45fec",
   "metadata": {},
   "outputs": [],
   "source": []
  },
  {
   "cell_type": "code",
   "execution_count": null,
   "id": "da9bfd10",
   "metadata": {},
   "outputs": [],
   "source": []
  },
  {
   "cell_type": "code",
   "execution_count": null,
   "id": "80dc03a3",
   "metadata": {},
   "outputs": [],
   "source": []
  },
  {
   "cell_type": "code",
   "execution_count": null,
   "id": "5c51e072",
   "metadata": {},
   "outputs": [],
   "source": []
  },
  {
   "cell_type": "code",
   "execution_count": null,
   "id": "240e5fe9",
   "metadata": {},
   "outputs": [],
   "source": []
  },
  {
   "cell_type": "code",
   "execution_count": null,
   "id": "6c432c80",
   "metadata": {},
   "outputs": [],
   "source": []
  },
  {
   "cell_type": "code",
   "execution_count": null,
   "id": "ac86b0aa",
   "metadata": {},
   "outputs": [],
   "source": []
  },
  {
   "cell_type": "code",
   "execution_count": null,
   "id": "0929f468",
   "metadata": {},
   "outputs": [],
   "source": []
  },
  {
   "cell_type": "code",
   "execution_count": null,
   "id": "70f40e46",
   "metadata": {},
   "outputs": [],
   "source": []
  },
  {
   "cell_type": "code",
   "execution_count": null,
   "id": "2e6f6e64",
   "metadata": {},
   "outputs": [],
   "source": []
  },
  {
   "cell_type": "code",
   "execution_count": null,
   "id": "1f3a5864",
   "metadata": {},
   "outputs": [],
   "source": []
  },
  {
   "cell_type": "code",
   "execution_count": null,
   "id": "12f253a1",
   "metadata": {},
   "outputs": [],
   "source": []
  },
  {
   "cell_type": "code",
   "execution_count": null,
   "id": "a488df62",
   "metadata": {},
   "outputs": [],
   "source": []
  },
  {
   "cell_type": "code",
   "execution_count": null,
   "id": "c5bd5780",
   "metadata": {},
   "outputs": [],
   "source": []
  },
  {
   "cell_type": "code",
   "execution_count": null,
   "id": "f0b82062",
   "metadata": {},
   "outputs": [],
   "source": []
  },
  {
   "cell_type": "code",
   "execution_count": null,
   "id": "baa8ce0b",
   "metadata": {},
   "outputs": [],
   "source": []
  },
  {
   "cell_type": "code",
   "execution_count": null,
   "id": "0c80b4da",
   "metadata": {},
   "outputs": [],
   "source": []
  },
  {
   "cell_type": "code",
   "execution_count": null,
   "id": "69c7321b",
   "metadata": {},
   "outputs": [],
   "source": []
  },
  {
   "cell_type": "code",
   "execution_count": null,
   "id": "e259292e",
   "metadata": {},
   "outputs": [],
   "source": []
  },
  {
   "cell_type": "code",
   "execution_count": null,
   "id": "ff72efc7",
   "metadata": {},
   "outputs": [],
   "source": []
  },
  {
   "cell_type": "code",
   "execution_count": null,
   "id": "62ca7139",
   "metadata": {},
   "outputs": [],
   "source": []
  },
  {
   "cell_type": "code",
   "execution_count": null,
   "id": "f33030fb",
   "metadata": {},
   "outputs": [],
   "source": []
  },
  {
   "cell_type": "code",
   "execution_count": null,
   "id": "cd0c9946",
   "metadata": {},
   "outputs": [],
   "source": []
  },
  {
   "cell_type": "code",
   "execution_count": null,
   "id": "8ea99b57",
   "metadata": {},
   "outputs": [],
   "source": []
  },
  {
   "cell_type": "code",
   "execution_count": null,
   "id": "2e65ab5c",
   "metadata": {},
   "outputs": [],
   "source": []
  },
  {
   "cell_type": "code",
   "execution_count": null,
   "id": "cb0adb2b",
   "metadata": {},
   "outputs": [],
   "source": []
  }
 ],
 "metadata": {
  "kernelspec": {
   "display_name": "Python 3 (ipykernel)",
   "language": "python",
   "name": "python3"
  },
  "language_info": {
   "codemirror_mode": {
    "name": "ipython",
    "version": 3
   },
   "file_extension": ".py",
   "mimetype": "text/x-python",
   "name": "python",
   "nbconvert_exporter": "python",
   "pygments_lexer": "ipython3",
   "version": "3.10.7"
  }
 },
 "nbformat": 4,
 "nbformat_minor": 5
}
