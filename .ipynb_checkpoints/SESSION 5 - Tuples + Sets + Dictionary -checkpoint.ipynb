{
 "cells": [
  {
   "cell_type": "markdown",
   "id": "0311e3ee",
   "metadata": {},
   "source": [
    "### TUPLES IN PYTHON :"
   ]
  },
  {
   "cell_type": "raw",
   "id": "a7194b87",
   "metadata": {},
   "source": [
    "1.A tuple in Python is similar to a list.\n",
    "\n",
    "2.The difference between the two is that we cannot change the elements of a tuple once it is assigned whereas we can change the elements of a list.\n",
    "\n",
    "3.In short, a tuple is an immutable list. A tuple can not be changed in any way once it is created.\n",
    "\n",
    "4. It occupies less memory compare to list.\n",
    "\n",
    "#Characterstics\n",
    " 1.Ordered\n",
    " 2.Unchangeble\n",
    " 3.Allows duplicate"
   ]
  },
  {
   "cell_type": "code",
   "execution_count": null,
   "id": "e1c912a9",
   "metadata": {},
   "outputs": [],
   "source": []
  },
  {
   "cell_type": "markdown",
   "id": "2b46fa66",
   "metadata": {},
   "source": [
    "#### CREATING TUPLES :"
   ]
  },
  {
   "cell_type": "code",
   "execution_count": 15,
   "id": "35a990a7",
   "metadata": {},
   "outputs": [
    {
     "name": "stdout",
     "output_type": "stream",
     "text": [
      "()\n",
      "2 <class 'int'>\n",
      "(2,) <class 'tuple'>\n",
      "(1, 2, 3, 4)\n",
      "(1, 'Hello', [45, 7.9], 3.4, (3+6j))\n",
      "(1, 'Hello', (93, 4, 5, 'ASP', 45.55), 3.4, (3+6j))\n",
      "(1, 2, 3, (4, 5))\n",
      "('h', 'e', 'l', 'l', 'o') <class 'tuple'>\n"
     ]
    }
   ],
   "source": [
    "# A tuple is created by placing all the items (elements) inside parentheses (), separated by commas. The parentheses are optional, however, it is a good practice to use them.\n",
    "\n",
    "# empty tuple\n",
    "t = ()\n",
    "print(t)\n",
    "\n",
    "# creating single item tuple\n",
    "t1 = (2)## worng way\n",
    "print(t1, type(t1))\n",
    "t2 = (2,) # right way to create single item tuple\n",
    "print(t2,type(t2))\n",
    "\n",
    "# Homogenous\n",
    "t3 = (1,2,3,4)\n",
    "print(t3)\n",
    "\n",
    "# Heterogenous\n",
    "t4 = (1, \"Hello\",[45,7.9],3.4, 3+6j)\n",
    "print(t4)\n",
    "\n",
    "# nested tuple\n",
    "t5 = (1, \"Hello\",(93,4,5,'ASP',45.55),3.4, 3+6j)\n",
    "print(t5)\n",
    "\n",
    "# 2d tuple\n",
    "t6 = (1,2,3,(4,5))\n",
    "print(t6)\n",
    "\n",
    "# using type convertion\n",
    "t7 = tuple('hello')\n",
    "print(t7,type(t7))"
   ]
  },
  {
   "cell_type": "markdown",
   "id": "fac48165",
   "metadata": {},
   "source": [
    "#### ACCESSING ITEMS :\n",
    "##### It is similar to lists \n",
    "##### Indexing\n",
    "##### Slicing"
   ]
  },
  {
   "cell_type": "code",
   "execution_count": 29,
   "id": "779d710d",
   "metadata": {},
   "outputs": [
    {
     "name": "stdout",
     "output_type": "stream",
     "text": [
      "(1, 2, 3, 4)\n",
      "4\n",
      "7 3\n",
      "5\n",
      "4\n",
      "2\n",
      "\n",
      "(1, 2, 3, (4, 5), 9) : (2, 3, (4, 5))\n",
      "(1, 2, 3, (4, 5), 9) : (9, (4, 5), 3, 2, 1)\n",
      "(1, 2, 3, (4, 5), 9) : (2, 3, (4, 5), 9)\n",
      "(((1, 2), (3, 4)), ((5, 6), (7, 8))) : (((1, 2), (3, 4)),)\n",
      "(((1, 2), (3, 4)), ((5, 6), (7, 8))) : (((5, 6), (7, 8)),)\n"
     ]
    }
   ],
   "source": [
    "# indexing (list indexing is similar to string indexing)\n",
    "# > positive indexing (left to right and start from zero)\n",
    "t = (1,2,3,4)\n",
    "print(t)\n",
    "print(t[3])\n",
    "\n",
    "# > nagetive indexing (Righ to left and start from end of list means -1)\n",
    "t = (1,2,3,4,7)\n",
    "print(t[-1],t[-3])\n",
    "\n",
    "# 2d indexing \n",
    "t1 = (1,2,3,(4,5),9)\n",
    "print(t1[3][1])\n",
    "\n",
    "#3d indexing\n",
    "t3 = (((1,2),(3,4)),((5,6),(7,8)))\n",
    "print(t3[0][1][1])\n",
    "print(t3[0][0][1])\n",
    "\n",
    "print()\n",
    "\n",
    "# Sclicing\n",
    "print(t1,\":\",t1[1:4])\n",
    "print(t1,\":\",t1[::-1]) # reverse tuple\n",
    "print(t1,\":\",t1[-4::])\n",
    "print(t3,\":\",t3[0:1])\n",
    "print(t3,\":\",t3[-1::])"
   ]
  },
  {
   "cell_type": "markdown",
   "id": "69e09cc2",
   "metadata": {},
   "source": [
    "##### EDITING ITEMS  :"
   ]
  },
  {
   "cell_type": "code",
   "execution_count": 30,
   "id": "49b1ff28",
   "metadata": {
    "scrolled": true
   },
   "outputs": [
    {
     "name": "stdout",
     "output_type": "stream",
     "text": [
      "(1, 2, 3, (4, 5), 9)\n"
     ]
    },
    {
     "ename": "TypeError",
     "evalue": "'tuple' object does not support item assignment",
     "output_type": "error",
     "traceback": [
      "\u001b[1;31m---------------------------------------------------------------------------\u001b[0m",
      "\u001b[1;31mTypeError\u001b[0m                                 Traceback (most recent call last)",
      "Cell \u001b[1;32mIn [30], line 3\u001b[0m\n\u001b[0;32m      1\u001b[0m \u001b[38;5;66;03m# tuple is inmutable just like strings\u001b[39;00m\n\u001b[0;32m      2\u001b[0m \u001b[38;5;28mprint\u001b[39m(t1)\n\u001b[1;32m----> 3\u001b[0m t1[\u001b[38;5;241m3\u001b[39m] \u001b[38;5;241m=\u001b[39m \u001b[38;5;241m20\u001b[39m\n\u001b[0;32m      4\u001b[0m \u001b[38;5;28mprint\u001b[39m(t1)\n",
      "\u001b[1;31mTypeError\u001b[0m: 'tuple' object does not support item assignment"
     ]
    }
   ],
   "source": [
    "# tuple is inmutable just like strings\n",
    "print(t1)\n",
    "t1[3] = 20\n",
    "print(t1) "
   ]
  },
  {
   "cell_type": "markdown",
   "id": "5531f540",
   "metadata": {},
   "source": [
    "##### ADDING ITEMS :"
   ]
  },
  {
   "cell_type": "code",
   "execution_count": 33,
   "id": "259b7043",
   "metadata": {},
   "outputs": [
    {
     "name": "stdout",
     "output_type": "stream",
     "text": [
      "(1, 2, 's', 'ASP', 45, (3+5j))\n"
     ]
    }
   ],
   "source": [
    "# tuple is inmutable just like strings\n",
    "# We concatinate new/same tuple \n",
    "# both tuple has different id\n",
    "a = (1,2,'s')\n",
    "b = ('ASP',45,3+5j)\n",
    "c = a + b\n",
    "print(c)"
   ]
  },
  {
   "cell_type": "markdown",
   "id": "7f85920e",
   "metadata": {},
   "source": [
    "##### DELETING ITEMS :"
   ]
  },
  {
   "cell_type": "code",
   "execution_count": 26,
   "id": "7e488d58",
   "metadata": {},
   "outputs": [
    {
     "ename": "NameError",
     "evalue": "name 't3' is not defined",
     "output_type": "error",
     "traceback": [
      "\u001b[1;31m---------------------------------------------------------------------------\u001b[0m",
      "\u001b[1;31mNameError\u001b[0m                                 Traceback (most recent call last)",
      "Cell \u001b[1;32mIn [26], line 3\u001b[0m\n\u001b[0;32m      1\u001b[0m \u001b[38;5;66;03m# In tuple we can delete only complete tuple and we can not delete only particular tuple items\u001b[39;00m\n\u001b[1;32m----> 3\u001b[0m \u001b[38;5;28mprint\u001b[39m(t3)\n\u001b[0;32m      5\u001b[0m \u001b[38;5;28mprint\u001b[39m(t3)\n",
      "\u001b[1;31mNameError\u001b[0m: name 't3' is not defined"
     ]
    }
   ],
   "source": []
  },
  {
   "cell_type": "markdown",
   "id": "46358b2b",
   "metadata": {},
   "source": [
    "##### OPERATIONS ON TUPLES :"
   ]
  },
  {
   "cell_type": "code",
   "execution_count": null,
   "id": "2b06ab1d",
   "metadata": {},
   "outputs": [],
   "source": []
  },
  {
   "cell_type": "markdown",
   "id": "3c06e14b",
   "metadata": {},
   "source": [
    "##### TUPLE FUNCTION / METHODS :"
   ]
  },
  {
   "cell_type": "code",
   "execution_count": null,
   "id": "7bfd5cad",
   "metadata": {},
   "outputs": [],
   "source": []
  },
  {
   "cell_type": "markdown",
   "id": "000386d7",
   "metadata": {},
   "source": [
    "##### DIFFERENCE BETWEEN LISTS AND TUPLES :"
   ]
  },
  {
   "cell_type": "raw",
   "id": "6df0a874",
   "metadata": {},
   "source": [
    "- Syntax\n",
    "- Mutability\n",
    "- Speed\n",
    "- Memory\n",
    "- Built in functionality\n",
    "- Error prone\n",
    "- Usability"
   ]
  },
  {
   "cell_type": "code",
   "execution_count": null,
   "id": "e222ddb1",
   "metadata": {},
   "outputs": [],
   "source": []
  },
  {
   "cell_type": "markdown",
   "id": "4ca8fbdf",
   "metadata": {},
   "source": [
    "##### WHY USE TUPLE ?"
   ]
  },
  {
   "cell_type": "code",
   "execution_count": null,
   "id": "86784a11",
   "metadata": {},
   "outputs": [],
   "source": []
  },
  {
   "cell_type": "markdown",
   "id": "03f4580b",
   "metadata": {},
   "source": [
    "##### SPECIAL SYNTAX OF TUPLES :"
   ]
  },
  {
   "cell_type": "code",
   "execution_count": null,
   "id": "a75cd627",
   "metadata": {},
   "outputs": [],
   "source": []
  },
  {
   "cell_type": "code",
   "execution_count": null,
   "id": "55b8a84f",
   "metadata": {},
   "outputs": [],
   "source": []
  },
  {
   "cell_type": "code",
   "execution_count": null,
   "id": "30594a8b",
   "metadata": {},
   "outputs": [],
   "source": []
  },
  {
   "cell_type": "code",
   "execution_count": null,
   "id": "2c4bd315",
   "metadata": {},
   "outputs": [],
   "source": []
  },
  {
   "cell_type": "code",
   "execution_count": null,
   "id": "9ad518e2",
   "metadata": {},
   "outputs": [],
   "source": []
  },
  {
   "cell_type": "code",
   "execution_count": null,
   "id": "099150ff",
   "metadata": {},
   "outputs": [],
   "source": []
  },
  {
   "cell_type": "code",
   "execution_count": null,
   "id": "fe852ed9",
   "metadata": {},
   "outputs": [],
   "source": []
  },
  {
   "cell_type": "code",
   "execution_count": null,
   "id": "e0555158",
   "metadata": {},
   "outputs": [],
   "source": []
  },
  {
   "cell_type": "code",
   "execution_count": null,
   "id": "35247bee",
   "metadata": {},
   "outputs": [],
   "source": []
  },
  {
   "cell_type": "code",
   "execution_count": null,
   "id": "4f61a701",
   "metadata": {},
   "outputs": [],
   "source": []
  },
  {
   "cell_type": "code",
   "execution_count": null,
   "id": "20189153",
   "metadata": {},
   "outputs": [],
   "source": []
  },
  {
   "cell_type": "code",
   "execution_count": null,
   "id": "c8070e99",
   "metadata": {},
   "outputs": [],
   "source": []
  },
  {
   "cell_type": "code",
   "execution_count": null,
   "id": "03d79ebe",
   "metadata": {},
   "outputs": [],
   "source": []
  },
  {
   "cell_type": "code",
   "execution_count": null,
   "id": "2337cc89",
   "metadata": {},
   "outputs": [],
   "source": []
  },
  {
   "cell_type": "code",
   "execution_count": null,
   "id": "73051f7e",
   "metadata": {},
   "outputs": [],
   "source": []
  },
  {
   "cell_type": "code",
   "execution_count": null,
   "id": "b220d3bb",
   "metadata": {},
   "outputs": [],
   "source": []
  },
  {
   "cell_type": "code",
   "execution_count": null,
   "id": "0ebde97b",
   "metadata": {},
   "outputs": [],
   "source": []
  },
  {
   "cell_type": "code",
   "execution_count": null,
   "id": "fdf900cf",
   "metadata": {},
   "outputs": [],
   "source": []
  },
  {
   "cell_type": "code",
   "execution_count": null,
   "id": "533d19b7",
   "metadata": {},
   "outputs": [],
   "source": []
  },
  {
   "cell_type": "code",
   "execution_count": null,
   "id": "f4e00ed5",
   "metadata": {},
   "outputs": [],
   "source": []
  },
  {
   "cell_type": "code",
   "execution_count": null,
   "id": "7289a15e",
   "metadata": {},
   "outputs": [],
   "source": []
  },
  {
   "cell_type": "code",
   "execution_count": null,
   "id": "cd40dc17",
   "metadata": {},
   "outputs": [],
   "source": []
  },
  {
   "cell_type": "code",
   "execution_count": null,
   "id": "0633766c",
   "metadata": {},
   "outputs": [],
   "source": []
  },
  {
   "cell_type": "code",
   "execution_count": null,
   "id": "fcbfd7b5",
   "metadata": {},
   "outputs": [],
   "source": []
  },
  {
   "cell_type": "code",
   "execution_count": null,
   "id": "f876eee5",
   "metadata": {},
   "outputs": [],
   "source": []
  },
  {
   "cell_type": "code",
   "execution_count": null,
   "id": "4af6105a",
   "metadata": {},
   "outputs": [],
   "source": []
  },
  {
   "cell_type": "code",
   "execution_count": null,
   "id": "f3cd1ad7",
   "metadata": {},
   "outputs": [],
   "source": []
  },
  {
   "cell_type": "code",
   "execution_count": null,
   "id": "6a84ce52",
   "metadata": {},
   "outputs": [],
   "source": []
  },
  {
   "cell_type": "code",
   "execution_count": null,
   "id": "36783756",
   "metadata": {},
   "outputs": [],
   "source": []
  },
  {
   "cell_type": "code",
   "execution_count": null,
   "id": "8b7b1578",
   "metadata": {},
   "outputs": [],
   "source": []
  },
  {
   "cell_type": "code",
   "execution_count": null,
   "id": "43420250",
   "metadata": {},
   "outputs": [],
   "source": []
  },
  {
   "cell_type": "code",
   "execution_count": null,
   "id": "0304a185",
   "metadata": {},
   "outputs": [],
   "source": []
  },
  {
   "cell_type": "code",
   "execution_count": null,
   "id": "8ccdb408",
   "metadata": {},
   "outputs": [],
   "source": []
  },
  {
   "cell_type": "code",
   "execution_count": null,
   "id": "349ea003",
   "metadata": {},
   "outputs": [],
   "source": []
  }
 ],
 "metadata": {
  "kernelspec": {
   "display_name": "Python 3 (ipykernel)",
   "language": "python",
   "name": "python3"
  },
  "language_info": {
   "codemirror_mode": {
    "name": "ipython",
    "version": 3
   },
   "file_extension": ".py",
   "mimetype": "text/x-python",
   "name": "python",
   "nbconvert_exporter": "python",
   "pygments_lexer": "ipython3",
   "version": "3.10.7"
  }
 },
 "nbformat": 4,
 "nbformat_minor": 5
}
