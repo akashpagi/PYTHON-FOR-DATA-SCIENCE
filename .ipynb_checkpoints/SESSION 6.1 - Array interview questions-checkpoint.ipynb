{
 "cells": [
  {
   "cell_type": "markdown",
   "id": "d41e36e0",
   "metadata": {},
   "source": [
    "### ARRAY INTERVIEW QUESTIONS :\n",
    "\n",
    "#### Points to remember :\n",
    "\n",
    "- Codes asked are relatively easier in comparison to SDE roles\n",
    "- Pythonic syntax is preferred in most companies\n",
    "- Focus is on optimized code\n",
    "- Start with the simplest solution and then improve\n",
    "- A lot of questions are repeated so mugging up the approaches help"
   ]
  },
  {
   "cell_type": "code",
   "execution_count": null,
   "id": "a83706c6",
   "metadata": {},
   "outputs": [],
   "source": [
    "# 1. Find the kth largest/smallest item from a list\n",
    "\n",
    "L = [12,23,1,4,56,34,22,3]\n",
    "\n"
   ]
  },
  {
   "cell_type": "code",
   "execution_count": null,
   "id": "19dc710b",
   "metadata": {},
   "outputs": [],
   "source": [
    "# 2. Check if an array is sorted\n",
    "L = [1,2,3,4,5]"
   ]
  },
  {
   "cell_type": "code",
   "execution_count": null,
   "id": "008bf1a1",
   "metadata": {},
   "outputs": [],
   "source": [
    "# 3. Find Min/Max in a given array\n",
    "\n",
    "L = [21,1,34,23,54,11,10]"
   ]
  },
  {
   "cell_type": "code",
   "execution_count": null,
   "id": "671337bd",
   "metadata": {},
   "outputs": [],
   "source": [
    "# 4. Find the first element to occur k times in an array\n",
    "\n",
    "L = [1,1,2,3,4,4,5,5]"
   ]
  },
  {
   "cell_type": "code",
   "execution_count": null,
   "id": "d0d68177",
   "metadata": {},
   "outputs": [],
   "source": [
    "# 5. Find duplicates in an array\n",
    "L = [1,1,2,3,4,4,5,5]"
   ]
  },
  {
   "cell_type": "code",
   "execution_count": null,
   "id": "5894159a",
   "metadata": {},
   "outputs": [],
   "source": [
    "# 6. Rotate array to left d items\n",
    "\n",
    "L = [1,2,3,4,5]"
   ]
  },
  {
   "cell_type": "code",
   "execution_count": 19,
   "id": "20b435d1",
   "metadata": {},
   "outputs": [
    {
     "name": "stdout",
     "output_type": "stream",
     "text": [
      "3\n",
      "8\n"
     ]
    }
   ],
   "source": [
    "# 7. Find intersection of 2 sorted arrays\n",
    "\n",
    "# Time complexity : O(n^2) because of in operator\n",
    "a = [1,2,3,4,5,8]\n",
    "b = [3,6,7,8]\n",
    "\n",
    "for i in a:\n",
    "    if i in b:\n",
    "        print(i)"
   ]
  },
  {
   "cell_type": "code",
   "execution_count": null,
   "id": "239ee8af",
   "metadata": {},
   "outputs": [],
   "source": [
    "# Time complexity : O(n)\n",
    "# It's work on only because of both are sorted list\n",
    "a = [1,2,3,4,5,8]\n",
    "b = [3,6,7,8]\n",
    "\n"
   ]
  },
  {
   "cell_type": "code",
   "execution_count": 9,
   "id": "65ed2e10",
   "metadata": {},
   "outputs": [
    {
     "name": "stdout",
     "output_type": "stream",
     "text": [
      "[7, 9]\n"
     ]
    }
   ],
   "source": [
    "# 8. Find continous subarray with a given sum(given non-negative numbers)\n",
    "# return the starting and ending index of the subarray\n",
    "# return 1st subarray in case of multiple\n",
    "\n",
    "# Time complexity : O(n^2)\n",
    "L = [1,22,13,7,9,11,10]\n",
    "S = 16\n",
    "\n",
    "for i in range(0, len(L)):\n",
    "    subarray = []\n",
    "    for j in range(i, len(L)):\n",
    "        subarray.append(L[j])\n",
    "\n",
    "        if sum(subarray) == S:\n",
    "            print(subarray)\n"
   ]
  },
  {
   "cell_type": "code",
   "execution_count": 18,
   "id": "009622dc",
   "metadata": {},
   "outputs": [
    {
     "name": "stdout",
     "output_type": "stream",
     "text": [
      "3 4\n"
     ]
    }
   ],
   "source": [
    "# Time complexity : O(n)\n",
    "L = [1,22,13,7,9,11,10]\n",
    "S = 16\n",
    "\n",
    "d = {}\n",
    "\n",
    "curr_sum = 0\n",
    "\n",
    "for i in range(len(L)):\n",
    "    curr_sum = curr_sum + L[i]\n",
    "    \n",
    "    if (curr_sum - S) in d:\n",
    "        print(d[curr_sum - S]+1, i)\n",
    "        break \n",
    "        \n",
    "    d[curr_sum] = i\n"
   ]
  },
  {
   "cell_type": "code",
   "execution_count": 63,
   "id": "805555a1",
   "metadata": {},
   "outputs": [
    {
     "name": "stdout",
     "output_type": "stream",
     "text": [
      "5\n"
     ]
    }
   ],
   "source": [
    "# 9. Find element with left side smaller/right side greater in an array\n",
    "\n",
    "# Time complexity : O(n^2)\n",
    "L = [3,1,2,5,8,7,9]\n",
    "\n",
    "\n",
    "for i in range(1, len(L)-1):\n",
    "    flag = True\n",
    "    \n",
    "    for j in range(0, i):\n",
    "        if L[j] > L[i]:  # L[i] = 5\n",
    "            flag = False\n",
    "        \n",
    "    for k in range(i+1, len(L)):\n",
    "        if L[k] < L[i]:\n",
    "            flag = False\n",
    "        \n",
    "    if flag:\n",
    "        print(L[i])"
   ]
  },
  {
   "cell_type": "code",
   "execution_count": 69,
   "id": "b995786e",
   "metadata": {},
   "outputs": [
    {
     "name": "stdout",
     "output_type": "stream",
     "text": [
      "5\n"
     ]
    }
   ],
   "source": [
    "# Time complexity : O(n^2) because of max and min method\n",
    "L = [3,1,2,5,8,7,9]\n",
    "\n",
    "for i in range(1, len(L)-1):\n",
    "    if max(L[:i]) < L[i] < min(L[i+1:]):\n",
    "        print(L[i])"
   ]
  },
  {
   "cell_type": "code",
   "execution_count": 78,
   "id": "9e9a70c4",
   "metadata": {},
   "outputs": [
    {
     "name": "stdout",
     "output_type": "stream",
     "text": [
      "5\n"
     ]
    }
   ],
   "source": [
    "# Time complexity : O(n) because of no use of nested loop\n",
    "\n",
    "L = [3,1,2,5,8,7,9]\n",
    "\n",
    "max_arr = []\n",
    "min_arr = []\n",
    "max_value = L[0]\n",
    "min_value = L[-1]\n",
    "\n",
    "for i in L:\n",
    "    if i > max_value:\n",
    "        max_value = i\n",
    "    max_arr.append(max_value)\n",
    "    \n",
    "for i in range(len(L)-1, -1, -1):\n",
    "    if L[i] < min_value:\n",
    "        min_value = L[i]\n",
    "    min_arr.insert(0, min_value)\n",
    "\n",
    "for i in range(1, len(L)-1):\n",
    "    if max_arr[i-1] < L[i] < min_arr[i+1]:\n",
    "        print(L[i])"
   ]
  },
  {
   "cell_type": "code",
   "execution_count": 17,
   "id": "2d684fc1",
   "metadata": {},
   "outputs": [
    {
     "name": "stdout",
     "output_type": "stream",
     "text": [
      "[4, 7, -1, 6, -11, 14, 3, -1, -6]\n"
     ]
    }
   ],
   "source": [
    "# 10. Maximum sum subarray\n",
    "\n",
    "# Time complexity : O(n^2)\n",
    "L = [-2,4,7,-1,6,-11,14,3,-1,-6]\n",
    "\n",
    "d = {}\n",
    "for i in range(0, len(L)):\n",
    "    subarray = []\n",
    "    for j in range(i, len(L)):\n",
    "        subarray.append(L[j])\n",
    "        d[sum(subarray)] = subarray \n",
    "max_value = max(d.keys())     \n",
    "\n",
    "for i in d:\n",
    "    if i == max_value:\n",
    "        print(d[i])"
   ]
  },
  {
   "cell_type": "code",
   "execution_count": 44,
   "id": "3da5c402",
   "metadata": {
    "scrolled": true
   },
   "outputs": [
    {
     "name": "stdout",
     "output_type": "stream",
     "text": [
      "22 [4, 7, -1, 6, -11, 14, 3, -1, -6]\n"
     ]
    }
   ],
   "source": [
    "# Time complexity : O(n)\n",
    "# using kadane's algorithm\n",
    "\n",
    "L = [-2,4,7,-1,6,-11,14,3,-1,-6]\n",
    "\n",
    "curr_sum = 0\n",
    "curr_subarr = []\n",
    "best_sum = L[0]\n",
    "best_subarr = []\n",
    "\n",
    "for i in L:\n",
    "    if i + curr_sum > i:\n",
    "        curr_sum = curr_sum + i\n",
    "        curr_subarr.append(i)\n",
    "    else:\n",
    "        curr_sum = i\n",
    "        curr_subarr.clear()\n",
    "        curr_subarr.append(i)\n",
    "        \n",
    "    if curr_sum > best_sum:\n",
    "        best_sum = curr_sum\n",
    "        best_subarr = curr_subarr\n",
    "        \n",
    "    #print(curr_subarr, curr_sum)\n",
    "\n",
    "print(best_sum, best_subarr)"
   ]
  },
  {
   "cell_type": "code",
   "execution_count": null,
   "id": "08237f8d",
   "metadata": {},
   "outputs": [],
   "source": [
    "# 11. Sort arrays with items 1 and 0"
   ]
  },
  {
   "cell_type": "code",
   "execution_count": null,
   "id": "f06e0b91",
   "metadata": {},
   "outputs": [],
   "source": [
    "# 12. Move all -ve numbers to the end"
   ]
  },
  {
   "cell_type": "code",
   "execution_count": null,
   "id": "f53dcc87",
   "metadata": {},
   "outputs": [],
   "source": [
    "# 13. Maximum Product Subarray"
   ]
  },
  {
   "cell_type": "code",
   "execution_count": null,
   "id": "d1ba286f",
   "metadata": {},
   "outputs": [],
   "source": [
    "# 14. Find union of 2 arrays"
   ]
  },
  {
   "cell_type": "code",
   "execution_count": null,
   "id": "5ed8f4d5",
   "metadata": {},
   "outputs": [],
   "source": [
    "# 15. Find Pythagorean triplets in an array"
   ]
  },
  {
   "cell_type": "code",
   "execution_count": null,
   "id": "7cf13c48",
   "metadata": {},
   "outputs": [],
   "source": []
  },
  {
   "cell_type": "code",
   "execution_count": null,
   "id": "f780503a",
   "metadata": {},
   "outputs": [],
   "source": []
  },
  {
   "cell_type": "code",
   "execution_count": null,
   "id": "5d45587b",
   "metadata": {},
   "outputs": [],
   "source": []
  },
  {
   "cell_type": "code",
   "execution_count": null,
   "id": "07f0524d",
   "metadata": {},
   "outputs": [],
   "source": []
  },
  {
   "cell_type": "code",
   "execution_count": null,
   "id": "4a8887eb",
   "metadata": {},
   "outputs": [],
   "source": []
  },
  {
   "cell_type": "code",
   "execution_count": null,
   "id": "a6d098ea",
   "metadata": {},
   "outputs": [],
   "source": []
  },
  {
   "cell_type": "code",
   "execution_count": null,
   "id": "f066092f",
   "metadata": {},
   "outputs": [],
   "source": []
  },
  {
   "cell_type": "code",
   "execution_count": null,
   "id": "3d619b7e",
   "metadata": {},
   "outputs": [],
   "source": []
  },
  {
   "cell_type": "code",
   "execution_count": null,
   "id": "22870c48",
   "metadata": {},
   "outputs": [],
   "source": []
  }
 ],
 "metadata": {
  "kernelspec": {
   "display_name": "Python 3 (ipykernel)",
   "language": "python",
   "name": "python3"
  },
  "language_info": {
   "codemirror_mode": {
    "name": "ipython",
    "version": 3
   },
   "file_extension": ".py",
   "mimetype": "text/x-python",
   "name": "python",
   "nbconvert_exporter": "python",
   "pygments_lexer": "ipython3",
   "version": "3.10.7"
  }
 },
 "nbformat": 4,
 "nbformat_minor": 5
}
