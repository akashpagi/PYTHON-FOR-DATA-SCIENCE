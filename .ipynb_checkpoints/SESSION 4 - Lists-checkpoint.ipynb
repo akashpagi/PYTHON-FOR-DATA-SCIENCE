{
 "cells": [
  {
   "cell_type": "markdown",
   "id": "7aca4dd8",
   "metadata": {},
   "source": [
    "### LISTS IN PYTHON"
   ]
  },
  {
   "cell_type": "markdown",
   "id": "62422f4e",
   "metadata": {},
   "source": [
    "#### WHAT IS LISTS IN PYTHON ?"
   ]
  },
  {
   "cell_type": "code",
   "execution_count": 1,
   "id": "04889897",
   "metadata": {},
   "outputs": [
    {
     "name": "stdout",
     "output_type": "stream",
     "text": [
      "['Python', 'Java', 34, 54.78, [34, 65, 79]]\n"
     ]
    }
   ],
   "source": [
    "# A list is a collection of similar or different types of data.\n",
    "\n",
    "# More technically ,lists act like dynamic arrays which means you can add more items on the it.\n",
    "\n",
    "# A list is dynamic; it means we can add multiple elements to it and update or delete elements. Also, we don’t need to predefine the size of the list. You can insert any number of items in the list, and it can dynamically increase its size internally.\n",
    "\n",
    "# Lists are Heterogenous :A list can contain elements of different data types. For example, in a single list object, you can keep integers, floats, strings, tuples, lists, and other things too.\n",
    "\n",
    "# A list is created in Python by placing items inside [], separated by commas.\n",
    "\n",
    "# A list can have any number of items and they may be of different types (integer, float, string, etc.)\n",
    "\n",
    "L = ['Python', 'Java', 34 , 54.78, [34,65,79]]\n",
    "print(L)"
   ]
  },
  {
   "cell_type": "markdown",
   "id": "2b6a157f",
   "metadata": {},
   "source": [
    "#### NOTE :\n",
    "##### List items are ordered, changeable, and allow duplicate values.\n",
    "##### Ordered : When we say that lists are ordered, it means that the items have a defined                               order, and that order will not change.\n",
    "##### If you add new items to a list, the new items will be placed at the end of the list.\n",
    "##### There are some list methods that will change the order, but in general: the order of the items will not change.\n",
    "##### Changeable (Mutable): The list is changeable, meaning that we can change, add, and remove items in a list after it has been created.\n",
    "##### Duplicates : Since lists are indexed, lists can have items with the same value\n",
    "##### List items are indexed, the first item has index [0], the second item has index [1] etc.\n"
   ]
  },
  {
   "cell_type": "code",
   "execution_count": 2,
   "id": "63ed3cf4",
   "metadata": {},
   "outputs": [],
   "source": [
    "# Some of the use-cases where we generally use lists are,\n",
    "#List of active players in the game.\n",
    "#List of items in the shopping cart.\n",
    "#List of the running processes in the system.\n",
    "#List of messages received by the server.\n",
    "#etc."
   ]
  },
  {
   "cell_type": "markdown",
   "id": "ceaf1c4e",
   "metadata": {},
   "source": [
    "#### Array Vs Lists :"
   ]
  },
  {
   "cell_type": "code",
   "execution_count": null,
   "id": "e7b91842",
   "metadata": {},
   "outputs": [],
   "source": [
    "# Fixed Vs Dynamic Size\n",
    "# Convencnience(homogenuous : same datatype) -> Hetrogenous( use diffrent datatypes)\n",
    "# Array is fast - List execution speed is slow\n",
    "# list take more Memory"
   ]
  },
  {
   "cell_type": "markdown",
   "id": "5bc755ee",
   "metadata": {},
   "source": [
    "#### HOW LISTS ARE STORED IN MEMORY :"
   ]
  },
  {
   "cell_type": "code",
   "execution_count": 6,
   "id": "f09eaffb",
   "metadata": {},
   "outputs": [
    {
     "ename": "TypeError",
     "evalue": "can only concatenate str (not \"list\") to str",
     "output_type": "error",
     "traceback": [
      "\u001b[1;31m----------------------------------------------------------------\u001b[0m",
      "\u001b[1;31mTypeError\u001b[0m                      Traceback (most recent call last)",
      "Cell \u001b[1;32mIn [6], line 5\u001b[0m\n\u001b[0;32m      1\u001b[0m \u001b[38;5;66;03m# list uses referntial array means it act like item reference/pointer address\u001b[39;00m\n\u001b[0;32m      3\u001b[0m L \u001b[38;5;241m=\u001b[39m [\u001b[38;5;241m1\u001b[39m ,\u001b[38;5;241m2\u001b[39m, \u001b[38;5;241m3\u001b[39m]\n\u001b[1;32m----> 5\u001b[0m \u001b[38;5;28mprint\u001b[39m(\u001b[38;5;124m'\u001b[39m\u001b[38;5;124mL :\u001b[39m\u001b[38;5;124m'\u001b[39m\u001b[38;5;241m+\u001b[39m L)\n\u001b[0;32m      7\u001b[0m \u001b[38;5;28mprint\u001b[39m(\u001b[38;5;28mid\u001b[39m(L[\u001b[38;5;241m0\u001b[39m]))\n\u001b[0;32m      8\u001b[0m \u001b[38;5;28mprint\u001b[39m(\u001b[38;5;28mid\u001b[39m(L[\u001b[38;5;241m1\u001b[39m]))\n",
      "\u001b[1;31mTypeError\u001b[0m: can only concatenate str (not \"list\") to str"
     ]
    }
   ],
   "source": [
    "# list uses referntial array means it act like item reference/pointer address\n",
    "\n",
    "L = [1 ,2, 3]\n",
    "print('L:',L)\n",
    "\n",
    "print(id(L[0]))\n",
    "print(id(L[1]))\n",
    "print(id(L[2]))\n"
   ]
  },
  {
   "cell_type": "code",
   "execution_count": null,
   "id": "00cf9b05",
   "metadata": {},
   "outputs": [],
   "source": []
  },
  {
   "cell_type": "code",
   "execution_count": null,
   "id": "ae697fe6",
   "metadata": {},
   "outputs": [],
   "source": []
  },
  {
   "cell_type": "code",
   "execution_count": null,
   "id": "f4506dc4",
   "metadata": {},
   "outputs": [],
   "source": []
  },
  {
   "cell_type": "code",
   "execution_count": null,
   "id": "5371622e",
   "metadata": {},
   "outputs": [],
   "source": []
  },
  {
   "cell_type": "code",
   "execution_count": null,
   "id": "872869c0",
   "metadata": {},
   "outputs": [],
   "source": []
  },
  {
   "cell_type": "code",
   "execution_count": null,
   "id": "9a238e20",
   "metadata": {},
   "outputs": [],
   "source": []
  }
 ],
 "metadata": {
  "kernelspec": {
   "display_name": "Python 3 (ipykernel)",
   "language": "python",
   "name": "python3"
  },
  "language_info": {
   "codemirror_mode": {
    "name": "ipython",
    "version": 3
   },
   "file_extension": ".py",
   "mimetype": "text/x-python",
   "name": "python",
   "nbconvert_exporter": "python",
   "pygments_lexer": "ipython3",
   "version": "3.10.7"
  }
 },
 "nbformat": 4,
 "nbformat_minor": 5
}
