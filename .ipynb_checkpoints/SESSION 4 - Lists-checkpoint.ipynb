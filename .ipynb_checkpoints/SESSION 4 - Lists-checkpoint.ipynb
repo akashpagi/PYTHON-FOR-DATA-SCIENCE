{
 "cells": [
  {
   "cell_type": "markdown",
   "id": "bf4a0fb3",
   "metadata": {},
   "source": [
    "### LISTS IN PYTHON"
   ]
  },
  {
   "cell_type": "markdown",
   "id": "16252d2b",
   "metadata": {},
   "source": [
    "#### WHAT IS LISTS IN PYTHON ?"
   ]
  },
  {
   "cell_type": "code",
   "execution_count": 1,
   "id": "6172b496",
   "metadata": {},
   "outputs": [
    {
     "name": "stdout",
     "output_type": "stream",
     "text": [
      "['Python', 'Java', 34, 54.78, [34, 65, 79]]\n"
     ]
    }
   ],
   "source": [
    "# A list is a collection of similar or different types of data.\n",
    "\n",
    "# More technically ,lists act like dynamic arrays which means you can add more items on the it.\n",
    "\n",
    "# A list is dynamic; it means we can add multiple elements to it and update or delete elements. Also, we don’t need to predefine the size of the list. You can insert any number of items in the list, and it can dynamically increase its size internally.\n",
    "\n",
    "# Lists are Heterogenous :A list can contain elements of different data types. For example, in a single list object, you can keep integers, floats, strings, tuples, lists, and other things too.\n",
    "\n",
    "# A list is created in Python by placing items inside [], separated by commas.\n",
    "\n",
    "# A list can have any number of items and they may be of different types (integer, float, string, etc.)\n",
    "\n",
    "L = ['Python', 'Java', 34 , 54.78, [34,65,79]]\n",
    "print(L)"
   ]
  },
  {
   "cell_type": "markdown",
   "id": "7ccf69a4",
   "metadata": {},
   "source": [
    "#### NOTE :\n",
    "##### List items are ordered, changeable, and allow duplicate values.\n",
    "##### Ordered : When we say that lists are ordered, it means that the items have a defined                               order, and that order will not change.\n",
    "##### If you add new items to a list, the new items will be placed at the end of the list.\n",
    "##### There are some list methods that will change the order, but in general: the order of the items will not change.\n",
    "##### Changeable (Mutable): The list is changeable, meaning that we can change, add, and remove items in a list after it has been created.\n",
    "##### Duplicates : Since lists are indexed, lists can have items with the same value\n",
    "##### List items are indexed, the first item has index [0], the second item has index [1] etc.\n"
   ]
  },
  {
   "cell_type": "code",
   "execution_count": 2,
   "id": "9df3c1d4",
   "metadata": {},
   "outputs": [],
   "source": [
    "# Some of the use-cases where we generally use lists are,\n",
    "#List of active players in the game.\n",
    "#List of items in the shopping cart.\n",
    "#List of the running processes in the system.\n",
    "#List of messages received by the server.\n",
    "#etc."
   ]
  },
  {
   "cell_type": "markdown",
   "id": "16c8914e",
   "metadata": {},
   "source": [
    "#### Array Vs Lists :"
   ]
  },
  {
   "cell_type": "code",
   "execution_count": null,
   "id": "48c5b5d4",
   "metadata": {},
   "outputs": [],
   "source": [
    "# Fixed Vs Dynamic Size\n",
    "# Convencnience(homogenuous : same datatype) -> Hetrogenous( use referantial array)\n",
    "# Array is fast - List execution speed is slow\n",
    "# list take more Memory"
   ]
  },
  {
   "cell_type": "markdown",
   "id": "c144a406",
   "metadata": {},
   "source": [
    "#### HOW LISTS ARE STORED IN MEMORY :"
   ]
  },
  {
   "cell_type": "code",
   "execution_count": 10,
   "id": "c1e85b98",
   "metadata": {
    "scrolled": true
   },
   "outputs": [
    {
     "name": "stdout",
     "output_type": "stream",
     "text": [
      "L: [1, 2, 3]\n",
      "1709037250624\n",
      "1708928729328 : 1708928729328\n",
      "1708928729360 : 1708928729360\n",
      "1708928729392 : 1708928729392\n"
     ]
    }
   ],
   "source": [
    "# list uses referntial array means it act like item reference/pointer address\n",
    "\n",
    "L = [1 ,2, 3]\n",
    "print('L:',L)\n",
    "print(id(L))\n",
    "print(id(L[0]),':',id(1))\n",
    "print(id(L[1]),':',id(2))\n",
    "print(id(L[2]),':',id(3))\n"
   ]
  },
  {
   "cell_type": "markdown",
   "id": "c94804aa",
   "metadata": {},
   "source": [
    "#### CHARACTERSTICS OF A LIST :"
   ]
  },
  {
   "cell_type": "code",
   "execution_count": 13,
   "id": "15928568",
   "metadata": {},
   "outputs": [
    {
     "name": "stdout",
     "output_type": "stream",
     "text": [
      "False\n"
     ]
    }
   ],
   "source": [
    "# Ordered\n",
    "l1 = [1,2,3]\n",
    "l2 = [3,2,1]\n",
    "print(l1 == l2)\n",
    "\n",
    "# Changeble/ Mutable\n",
    "\n",
    "# Hetrogeneous\n",
    "\n",
    "# Allow Dulplicates\n",
    "\n",
    "# dynamic\n",
    "\n",
    "# list can be nested : list within the list\n",
    "\n",
    "# items can be accessed\n",
    "\n",
    "# can contain any kind of objects in python"
   ]
  },
  {
   "cell_type": "markdown",
   "id": "b99e76e7",
   "metadata": {},
   "source": [
    "#### CREATING A LIST :"
   ]
  },
  {
   "cell_type": "code",
   "execution_count": 20,
   "id": "a298bcfb",
   "metadata": {},
   "outputs": [
    {
     "name": "stdout",
     "output_type": "stream",
     "text": [
      "[]\n",
      "[1, 2, 3, 4]\n",
      "[1, 2, 3, 4, [1, 2, 3, 4]]\n",
      "[[[1, 2], [3, 4]], [[5, 6], [7, 8]]]\n",
      "[True, 'String', 56, 87, 23, (9+7j)]\n",
      "['s', 'a', 'i', 't', 'a', 'm', 'a']\n"
     ]
    }
   ],
   "source": [
    "# Empty list\n",
    "l = []\n",
    "print(l)\n",
    "\n",
    "#1D list -> Homogenous list\n",
    "l1 = [1,2,3,4]\n",
    "print(l1)\n",
    "\n",
    "#2D list -> Hetrogenous list\n",
    "l2 = [1,2,3,4,[1,2,3,4]]\n",
    "print(l2)\n",
    "\n",
    "#3D\n",
    "# nested 2d list\n",
    "l3 = [[[1,2],[3,4]],[[5,6],[7,8]]]\n",
    "print(l3)\n",
    "\n",
    "#list -> Hetrogenous list\n",
    "print([True,'String',56,87,23,9+7j])\n",
    "\n",
    "# Using type conversion\n",
    "print(list('saitama'))"
   ]
  },
  {
   "cell_type": "markdown",
   "id": "035b6387",
   "metadata": {},
   "source": [
    "#### ACCESSING ITEMS FROM A LIST :"
   ]
  },
  {
   "cell_type": "code",
   "execution_count": 21,
   "id": "875b61b9",
   "metadata": {},
   "outputs": [
    {
     "name": "stdout",
     "output_type": "stream",
     "text": [
      "1\n",
      "4\n",
      "4\n",
      "4\n",
      "2\n"
     ]
    }
   ],
   "source": [
    "# In Python, each item in a list is associated with a number. The number is known as a list index.\n",
    "# We can access elements of an array using the index number (0, 1, 2 …).\n",
    "\n",
    "# indexing (list indexing is similar to string indexing)\n",
    "# > positive indexing (left to right and start from zero)\n",
    "l = [1,2,3,4]\n",
    "print(l[0])\n",
    "\n",
    "# > nagetive indexing (Righ to left and start from end of list means -1)\n",
    "l = [1,2,3,4]\n",
    "print(l[-1])\n",
    "\n",
    "# 2d indexing \n",
    "l1 = [1,2,3,[4,5]]\n",
    "print(l1[3][0])\n",
    "\n",
    "#3d indexing\n",
    "l3 = [[[1,2],[3,4]],[[5,6],[7,8]]]\n",
    "print(l3[0][1][1])\n",
    "print(l3[0][0][1])\n",
    "\n"
   ]
  },
  {
   "cell_type": "markdown",
   "id": "599ee880",
   "metadata": {},
   "source": [
    "#### SLICING IN LIST :\n"
   ]
  },
  {
   "cell_type": "code",
   "execution_count": 28,
   "id": "bd743f86",
   "metadata": {},
   "outputs": [
    {
     "name": "stdout",
     "output_type": "stream",
     "text": [
      "[1, 3, 5]\n",
      "[3, 2, 1]\n",
      "[6, 5, 4]\n",
      "[6, 5, 4, 3, 2, 1]\n"
     ]
    }
   ],
   "source": [
    "# Slicing in list\n",
    "# In Python it is possible to access a section of items from the list using the slicing operator :, not just a single item\n",
    "l4 = [1,2,3,4,5,6]\n",
    "print(l4[0::2])\n",
    "print(l4[-4::-1])\n",
    "print(l4[-1:2:-1])\n",
    "print(l4[::-1])"
   ]
  },
  {
   "cell_type": "code",
   "execution_count": null,
   "id": "2186288c",
   "metadata": {},
   "outputs": [],
   "source": []
  },
  {
   "cell_type": "code",
   "execution_count": null,
   "id": "efd0d25c",
   "metadata": {},
   "outputs": [],
   "source": []
  },
  {
   "cell_type": "code",
   "execution_count": null,
   "id": "fea2cdc5",
   "metadata": {},
   "outputs": [],
   "source": []
  },
  {
   "cell_type": "code",
   "execution_count": null,
   "id": "0fefd9cd",
   "metadata": {},
   "outputs": [],
   "source": []
  },
  {
   "cell_type": "code",
   "execution_count": null,
   "id": "61e4bdcf",
   "metadata": {},
   "outputs": [],
   "source": []
  },
  {
   "cell_type": "code",
   "execution_count": null,
   "id": "297d75cd",
   "metadata": {},
   "outputs": [],
   "source": []
  },
  {
   "cell_type": "code",
   "execution_count": null,
   "id": "23706d8f",
   "metadata": {},
   "outputs": [],
   "source": []
  },
  {
   "cell_type": "code",
   "execution_count": null,
   "id": "faead2b5",
   "metadata": {},
   "outputs": [],
   "source": []
  },
  {
   "cell_type": "code",
   "execution_count": null,
   "id": "307e7d25",
   "metadata": {},
   "outputs": [],
   "source": []
  },
  {
   "cell_type": "code",
   "execution_count": null,
   "id": "302ae2f5",
   "metadata": {},
   "outputs": [],
   "source": []
  }
 ],
 "metadata": {
  "kernelspec": {
   "display_name": "Python 3 (ipykernel)",
   "language": "python",
   "name": "python3"
  },
  "language_info": {
   "codemirror_mode": {
    "name": "ipython",
    "version": 3
   },
   "file_extension": ".py",
   "mimetype": "text/x-python",
   "name": "python",
   "nbconvert_exporter": "python",
   "pygments_lexer": "ipython3",
   "version": "3.10.7"
  }
 },
 "nbformat": 4,
 "nbformat_minor": 5
}
