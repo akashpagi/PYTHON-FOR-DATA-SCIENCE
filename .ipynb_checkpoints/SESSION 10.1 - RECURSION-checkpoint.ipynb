{
 "cells": [
  {
   "attachments": {
    "image.png": {
     "image/png": "[encoded data removed]"
    }
   },
   "cell_type": "markdown",
   "id": "fcc47d91",
   "metadata": {},
   "source": [
    "### SESSION 10.1 - RECURSION \n",
    "\n",
    "**RECURSION :**\n",
    "- The function calling itself\n",
    "![image.png](attachment:image.png)"
   ]
  },
  {
   "cell_type": "code",
   "execution_count": null,
   "id": "b3fc13ff",
   "metadata": {},
   "outputs": [],
   "source": []
  },
  {
   "cell_type": "code",
   "execution_count": 5,
   "id": "10b3c6be",
   "metadata": {},
   "outputs": [
    {
     "name": "stdout",
     "output_type": "stream",
     "text": [
      "12\n"
     ]
    }
   ],
   "source": [
    "# iterative solution\n",
    "def Multiply(a, b):\n",
    "    res = 0\n",
    "    \n",
    "    for i in range(b):\n",
    "        res = res + a\n",
    "    return res\n",
    "    \n",
    "print(Multiply(3,4))"
   ]
  },
  {
   "cell_type": "code",
   "execution_count": 6,
   "id": "8d242dd2",
   "metadata": {},
   "outputs": [
    {
     "name": "stdout",
     "output_type": "stream",
     "text": [
      "12\n"
     ]
    }
   ],
   "source": [
    "# Recursive solution\n",
    "def Multi(a,b):\n",
    "    if b == 1:\n",
    "        return a\n",
    "    else:\n",
    "        return a + Multi(a, b-1)\n",
    "print(Multi(3,4))\n",
    "        "
   ]
  },
  {
   "cell_type": "code",
   "execution_count": 39,
   "id": "ffcbfba4",
   "metadata": {},
   "outputs": [
    {
     "name": "stdout",
     "output_type": "stream",
     "text": [
      "String not is palindrome\n",
      "String is palindrome\n",
      "String is palindrome\n"
     ]
    }
   ],
   "source": [
    "# Palindrome example\n",
    "\n",
    "def Palin(text):\n",
    "    string = text.lower()\n",
    "    s = len(string)\n",
    "    if s <= 1:\n",
    "        return 'String is palindrome'\n",
    "    else:\n",
    "        if string[0] == string[-1]:\n",
    "            return Palin(string[1:-1])\n",
    "        else:\n",
    "            return 'String not is palindrome'\n",
    "        \n",
    "print(Palin('dA'))\n",
    "print(Palin('adda')) \n",
    "print(Palin(''))"
   ]
  },
  {
   "cell_type": "code",
   "execution_count": null,
   "id": "5b775948",
   "metadata": {},
   "outputs": [],
   "source": [
    "# Rabbit problem using fibonacci series\n",
    "def fibo(m):\n",
    "    if m == 0 and m == 1:\n",
    "        return 1\n",
    "    else:\n",
    "        return fibo(m-1) + fibo(m+1)\n",
    "print(fibo(12))\n",
    "# RECURSIONERROR"
   ]
  },
  {
   "cell_type": "code",
   "execution_count": 3,
   "id": "36cae99e",
   "metadata": {},
   "outputs": [
    {
     "name": "stdout",
     "output_type": "stream",
     "text": [
      "8\n"
     ]
    }
   ],
   "source": [
    "# Rabbit problem using Memoization \n",
    "\n",
    "def memo(m, d):\n",
    "    if m in d:\n",
    "        return d[m]\n",
    "    else:\n",
    "        d[m] = memo(m-1, d) + memo(m-2, d)\n",
    "        return d[m]\n",
    "\n",
    "d = {0:1, 1:1}\n",
    "print(memo(5,d))"
   ]
  },
  {
   "cell_type": "markdown",
   "id": "27ea0645",
   "metadata": {},
   "source": [
    "### Types of Recursion :\n",
    "**There are 4 Types of Recursion :**\n",
    "- Direct Recursion\n",
    "- Indirect recursion\n",
    "- Tail recursion\n",
    "- Head / Non-Tail Recursion"
   ]
  },
  {
   "cell_type": "markdown",
   "id": "b7f52845",
   "metadata": {},
   "source": [
    "**Direct Recursion :**\n",
    "- A Recursion in Which the Function calls the Same Function again is known as Direct Recursion."
   ]
  },
  {
   "cell_type": "code",
   "execution_count": 2,
   "id": "46e0d639",
   "metadata": {},
   "outputs": [
    {
     "name": "stdout",
     "output_type": "stream",
     "text": [
      "54321None\n"
     ]
    }
   ],
   "source": [
    "# Direct Recursion example :\n",
    "\n",
    "def DirectRecursion(n):\n",
    "    if (n > 0):\n",
    "        print(n, end='')\n",
    "        DirectRecursion(n - 1)\n",
    "        \n",
    "print(DirectRecursion(5))\n",
    "# RECURSIONERROR"
   ]
  },
  {
   "cell_type": "code",
   "execution_count": null,
   "id": "64ae5c83",
   "metadata": {},
   "outputs": [],
   "source": []
  },
  {
   "cell_type": "code",
   "execution_count": null,
   "id": "5859464e",
   "metadata": {},
   "outputs": [],
   "source": []
  },
  {
   "cell_type": "code",
   "execution_count": null,
   "id": "da924db1",
   "metadata": {},
   "outputs": [],
   "source": []
  },
  {
   "cell_type": "code",
   "execution_count": null,
   "id": "d3e1eba2",
   "metadata": {},
   "outputs": [],
   "source": []
  },
  {
   "cell_type": "code",
   "execution_count": null,
   "id": "5487ddc0",
   "metadata": {},
   "outputs": [],
   "source": []
  },
  {
   "cell_type": "code",
   "execution_count": null,
   "id": "462dc3df",
   "metadata": {},
   "outputs": [],
   "source": []
  },
  {
   "cell_type": "code",
   "execution_count": null,
   "id": "92c4d850",
   "metadata": {},
   "outputs": [],
   "source": []
  },
  {
   "cell_type": "code",
   "execution_count": null,
   "id": "1d235874",
   "metadata": {},
   "outputs": [],
   "source": []
  },
  {
   "cell_type": "code",
   "execution_count": null,
   "id": "38a44660",
   "metadata": {},
   "outputs": [],
   "source": []
  },
  {
   "cell_type": "code",
   "execution_count": null,
   "id": "297df4a1",
   "metadata": {},
   "outputs": [],
   "source": []
  },
  {
   "cell_type": "code",
   "execution_count": null,
   "id": "8124e833",
   "metadata": {},
   "outputs": [],
   "source": []
  },
  {
   "cell_type": "code",
   "execution_count": null,
   "id": "86db4095",
   "metadata": {},
   "outputs": [],
   "source": []
  },
  {
   "cell_type": "code",
   "execution_count": null,
   "id": "adbb787d",
   "metadata": {},
   "outputs": [],
   "source": []
  }
 ],
 "metadata": {
  "kernelspec": {
   "display_name": "Python 3 (ipykernel)",
   "language": "python",
   "name": "python3"
  },
  "language_info": {
   "codemirror_mode": {
    "name": "ipython",
    "version": 3
   },
   "file_extension": ".py",
   "mimetype": "text/x-python",
   "name": "python",
   "nbconvert_exporter": "python",
   "pygments_lexer": "ipython3",
   "version": "3.10.7"
  }
 },
 "nbformat": 4,
 "nbformat_minor": 5
}
