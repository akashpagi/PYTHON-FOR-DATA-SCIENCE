{
 "cells": [
  {
   "cell_type": "markdown",
   "id": "e12d845c",
   "metadata": {},
   "source": [
    "### SESSION 1 - Fundamentals Of Python"
   ]
  },
  {
   "cell_type": "markdown",
   "id": "bb3bcd3d",
   "metadata": {},
   "source": [
    "#### PYTHON BASIC : ( print any value or string & print statement )"
   ]
  },
  {
   "cell_type": "code",
   "execution_count": 1,
   "id": "a21bb4b9",
   "metadata": {},
   "outputs": [
    {
     "name": "stdout",
     "output_type": "stream",
     "text": [
      "akash\n"
     ]
    }
   ],
   "source": [
    "print('akash')"
   ]
  },
  {
   "cell_type": "code",
   "execution_count": 2,
   "id": "3b741ded",
   "metadata": {},
   "outputs": [
    {
     "name": "stdout",
     "output_type": "stream",
     "text": [
      "7.7\n"
     ]
    }
   ],
   "source": [
    "print(7.7)"
   ]
  },
  {
   "cell_type": "code",
   "execution_count": 3,
   "id": "4aa20700",
   "metadata": {},
   "outputs": [
    {
     "name": "stdout",
     "output_type": "stream",
     "text": [
      "True\n"
     ]
    }
   ],
   "source": [
    "print(True)"
   ]
  },
  {
   "cell_type": "code",
   "execution_count": 1,
   "id": "5aed7ba0",
   "metadata": {},
   "outputs": [
    {
     "name": "stdout",
     "output_type": "stream",
     "text": [
      "My name is Akash and i'm 21 years old !\n"
     ]
    }
   ],
   "source": [
    "print('My name is Akash',\"and i'm 21 years old !\")"
   ]
  },
  {
   "cell_type": "code",
   "execution_count": 6,
   "id": "35b645ec",
   "metadata": {},
   "outputs": [
    {
     "name": "stdout",
     "output_type": "stream",
     "text": [
      "Akash 7.7 False\n"
     ]
    }
   ],
   "source": [
    "print('Akash',7.7,False)"
   ]
  },
  {
   "cell_type": "code",
   "execution_count": 10,
   "id": "48ae9980",
   "metadata": {},
   "outputs": [
    {
     "name": "stdout",
     "output_type": "stream",
     "text": [
      "Akash/7.7/False\n"
     ]
    }
   ],
   "source": [
    "print('Akash',7.7,False,sep=\"/\")"
   ]
  },
  {
   "cell_type": "code",
   "execution_count": 12,
   "id": "e264ea2f",
   "metadata": {},
   "outputs": [
    {
     "name": "stdout",
     "output_type": "stream",
     "text": [
      "Eren Yegaer Grisha Yegear\n"
     ]
    }
   ],
   "source": [
    "print('Eren Yegaer',end=' ')\n",
    "print('Grisha Yegear')"
   ]
  },
  {
   "cell_type": "code",
   "execution_count": 19,
   "id": "2fee0a98",
   "metadata": {},
   "outputs": [
    {
     "name": "stdout",
     "output_type": "stream",
     "text": [
      "Eren Yegaer Grisha Yegear Zeke Yeagear\n"
     ]
    }
   ],
   "source": [
    "print('Eren Yegaer', end = \" \")\n",
    "print('Grisha Yegear', end=' ')\n",
    "print('Zeke Yeagear')"
   ]
  },
  {
   "cell_type": "markdown",
   "id": "4c76f763",
   "metadata": {},
   "source": [
    "#### DATATYPES IN PYTHON :"
   ]
  },
  {
   "cell_type": "code",
   "execution_count": 2,
   "id": "dfafe8e3",
   "metadata": {},
   "outputs": [
    {
     "name": "stdout",
     "output_type": "stream",
     "text": [
      "8\n"
     ]
    }
   ],
   "source": [
    "#1.Integer\n",
    "print(8)"
   ]
  },
  {
   "cell_type": "code",
   "execution_count": 4,
   "id": "38b46c64",
   "metadata": {},
   "outputs": [
    {
     "name": "stdout",
     "output_type": "stream",
     "text": [
      "3.44\n"
     ]
    }
   ],
   "source": [
    "#2.Decimal/Float\n",
    "print(3.44)"
   ]
  },
  {
   "cell_type": "code",
   "execution_count": 5,
   "id": "a5b95df1",
   "metadata": {},
   "outputs": [
    {
     "name": "stdout",
     "output_type": "stream",
     "text": [
      "It's boolean True\n",
      "It's boolean False\n"
     ]
    }
   ],
   "source": [
    "#3.Boolean\n",
    "print(\"It's boolean\",True)\n",
    "print(\"It's boolean\",False)"
   ]
  },
  {
   "cell_type": "code",
   "execution_count": 6,
   "id": "a0c24134",
   "metadata": {},
   "outputs": [
    {
     "name": "stdout",
     "output_type": "stream",
     "text": [
      "Attack On Titan\n"
     ]
    }
   ],
   "source": [
    "#3.Text / String\n",
    "print('Attack On Titan')"
   ]
  },
  {
   "cell_type": "code",
   "execution_count": 9,
   "id": "4edfc339",
   "metadata": {},
   "outputs": [
    {
     "name": "stdout",
     "output_type": "stream",
     "text": [
      "it is complex number : (3+5j)\n"
     ]
    }
   ],
   "source": [
    "#4.Complex \n",
    "print('it is complex numbers :',3+5j)\n"
   ]
  },
  {
   "cell_type": "code",
   "execution_count": 10,
   "id": "9d624d82",
   "metadata": {},
   "outputs": [
    {
     "name": "stdout",
     "output_type": "stream",
     "text": [
      "List : [1, 2, 3, 4, 5]\n"
     ]
    }
   ],
   "source": [
    "#5.List   \n",
    "print('Lists :',[1,2,3,4,5])"
   ]
  },
  {
   "cell_type": "code",
   "execution_count": 11,
   "id": "3eb5b825",
   "metadata": {},
   "outputs": [
    {
     "name": "stdout",
     "output_type": "stream",
     "text": [
      "Tuple : (1, 2, 3, 4, 5)\n"
     ]
    }
   ],
   "source": [
    "#6.Tuple\n",
    "print(\"Tuples :\",(1,2,3,4,5))"
   ]
  },
  {
   "cell_type": "code",
   "execution_count": 14,
   "id": "0b6c68e4",
   "metadata": {},
   "outputs": [
    {
     "name": "stdout",
     "output_type": "stream",
     "text": [
      "Sets : {1, 2, 3, 4, 5}\n"
     ]
    }
   ],
   "source": [
    "#7.Sets\n",
    "print('Sets :',{5,4,3,2,1}) "
   ]
  },
  {
   "cell_type": "code",
   "execution_count": 15,
   "id": "34bb4cd8",
   "metadata": {},
   "outputs": [
    {
     "name": "stdout",
     "output_type": "stream",
     "text": [
      "Dictionary :  {1: 'AOT', 2: 'OPM', 3: 'OP'}\n"
     ]
    }
   ],
   "source": [
    "#8.Dictionary\n",
    "print('Dictionary : ',{1:'AOT', 2:'OPM', 3:'OP'})"
   ]
  },
  {
   "cell_type": "code",
   "execution_count": null,
   "id": "3bbceb42",
   "metadata": {},
   "outputs": [],
   "source": [
    "##TYPE FUNCTION"
   ]
  },
  {
   "cell_type": "code",
   "execution_count": 16,
   "id": "152d11b2",
   "metadata": {},
   "outputs": [
    {
     "name": "stdout",
     "output_type": "stream",
     "text": [
      "string\n"
     ]
    }
   ],
   "source": [
    "print('string')"
   ]
  },
  {
   "cell_type": "code",
   "execution_count": 17,
   "id": "118cf756",
   "metadata": {},
   "outputs": [
    {
     "name": "stdout",
     "output_type": "stream",
     "text": [
      "<class 'str'>\n"
     ]
    }
   ],
   "source": [
    "print(type('string'))"
   ]
  },
  {
   "cell_type": "code",
   "execution_count": 19,
   "id": "14dc6919",
   "metadata": {},
   "outputs": [
    {
     "name": "stdout",
     "output_type": "stream",
     "text": [
      "<class 'float'>\n"
     ]
    }
   ],
   "source": [
    "print(type(454.76))"
   ]
  },
  {
   "cell_type": "markdown",
   "id": "d7021e41",
   "metadata": {},
   "source": [
    "#### VARIABLES IN PYTHON :"
   ]
  },
  {
   "cell_type": "code",
   "execution_count": null,
   "id": "24a1bc97",
   "metadata": {},
   "outputs": [],
   "source": [
    "# Static & Dynamic Typing [Inteview Question]\n",
    "# Static Vs Dynamic Binding\n",
    "# Stylish decalartion Techniquies"
   ]
  },
  {
   "cell_type": "code",
   "execution_count": 22,
   "id": "e60bae71",
   "metadata": {},
   "outputs": [
    {
     "name": "stdout",
     "output_type": "stream",
     "text": [
      "Here a = 3 and b = 5 ,Then addition of is 8 .\n"
     ]
    }
   ],
   "source": [
    "a = 3 \n",
    "b = 5\n",
    "print('Here a = 3 and b = 5 ,Then addition of is',a + b,'.')"
   ]
  },
  {
   "cell_type": "code",
   "execution_count": null,
   "id": "226e562f",
   "metadata": {},
   "outputs": [],
   "source": [
    "# [Interview Question]\n",
    "# Dynamic Typing \n",
    "#-> compaire to other language, python interpreter hold or identifies the datatype of the variable, so we don't need's to type variales "
   ]
  },
  {
   "cell_type": "code",
   "execution_count": null,
   "id": "376be5b9",
   "metadata": {},
   "outputs": [],
   "source": [
    "# [Interview Question]\n",
    "# Static Typing \n",
    "#-> In Static Typing , we declare the datatype of the variable vairable like in c/C++ , java"
   ]
  },
  {
   "cell_type": "code",
   "execution_count": 27,
   "id": "bee11c9f",
   "metadata": {},
   "outputs": [
    {
     "name": "stdout",
     "output_type": "stream",
     "text": [
      "a = 5\n",
      "a = AOT\n"
     ]
    }
   ],
   "source": [
    "# [Interview Question]\n",
    "# Dynamic Biding \n",
    "#-> In python , we don't have fixed data type so according to requirement we can changed the datatype\n",
    "# for e.g.\n",
    "a = 5\n",
    "print('a =',a)\n",
    "\n",
    "a = 'AOT'\n",
    "print('a =',a)"
   ]
  },
  {
   "cell_type": "code",
   "execution_count": null,
   "id": "e3963c53",
   "metadata": {},
   "outputs": [],
   "source": [
    "# [Interview Question]\n",
    "# Static Biding \n",
    "#-> In c/c++, Java, we have fixed data type so we can't changed the datatype"
   ]
  },
  {
   "cell_type": "code",
   "execution_count": 31,
   "id": "77977b6a",
   "metadata": {},
   "outputs": [
    {
     "name": "stdout",
     "output_type": "stream",
     "text": [
      "3 5 4\n",
      "78\n",
      "78\n"
     ]
    }
   ],
   "source": [
    "# eg.\n",
    "x ,y, z = 5, 4, 3\n",
    "print(z,x,y)\n",
    "\n",
    "a = b = c = 78\n",
    "print(a)\n",
    "print(c)"
   ]
  },
  {
   "cell_type": "markdown",
   "id": "d5018966",
   "metadata": {},
   "source": [
    "#### COMMENTS IN PYTHON :"
   ]
  },
  {
   "cell_type": "code",
   "execution_count": 32,
   "id": "361129e3",
   "metadata": {},
   "outputs": [
    {
     "name": "stdout",
     "output_type": "stream",
     "text": [
      "Attack On Titan\n"
     ]
    }
   ],
   "source": [
    "# This is single line comment\n",
    "print('Attack On Titan')"
   ]
  },
  {
   "cell_type": "markdown",
   "id": "804e190d",
   "metadata": {},
   "source": [
    "#### KEYWORDS & IDENTIFIERS :"
   ]
  },
  {
   "cell_type": "code",
   "execution_count": null,
   "id": "d972e16c",
   "metadata": {},
   "outputs": [],
   "source": [
    "#Keywords\n",
    "#-> Reserved keywords "
   ]
  },
  {
   "cell_type": "code",
   "execution_count": 1,
   "id": "76a7ad33",
   "metadata": {},
   "outputs": [
    {
     "name": "stdout",
     "output_type": "stream",
     "text": [
      "Eren Yeager\n"
     ]
    }
   ],
   "source": [
    "# Identifires\n",
    "#->\n",
    "Name = 'Eren Yeager'\n",
    "print(Name)"
   ]
  },
  {
   "cell_type": "markdown",
   "id": "e007c1af",
   "metadata": {},
   "source": [
    "#### TYPE CONVERSION :"
   ]
  },
  {
   "cell_type": "code",
   "execution_count": 14,
   "id": "802dd430",
   "metadata": {},
   "outputs": [
    {
     "name": "stdout",
     "output_type": "stream",
     "text": [
      "10.6\n",
      "string5\n"
     ]
    }
   ],
   "source": [
    "#Implicit\n",
    "# Python automatically converts one data type to another.\n",
    "\n",
    "print(5 + 5.6)\n",
    "print('string' + '5') "
   ]
  },
  {
   "cell_type": "code",
   "execution_count": 33,
   "id": "f855b833",
   "metadata": {},
   "outputs": [
    {
     "name": "stdout",
     "output_type": "stream",
     "text": [
      "<class 'int'>\n",
      "<class 'int'>\n",
      "int -> str : <class 'str'>\n"
     ]
    }
   ],
   "source": [
    "# Explicit\n",
    "# Explicit Conversion - manual type conversion\n",
    "# built-in functions like int(), float(), str(),\n",
    "\n",
    "# str -> int\n",
    "a = '5'\n",
    "print(type(int(a)))\n",
    "\n",
    "#float -> int\n",
    "b = 5.6\n",
    "print(type(int(b)))\n",
    "\n",
    "c = 9 \n",
    "print('int -> str :',type(str(c)))"
   ]
  },
  {
   "cell_type": "markdown",
   "id": "a0fd6941",
   "metadata": {},
   "source": [
    "#### USER INPUT :"
   ]
  },
  {
   "cell_type": "code",
   "execution_count": 3,
   "id": "d69452d3",
   "metadata": {},
   "outputs": [
    {
     "name": "stdout",
     "output_type": "stream",
     "text": [
      "Enter your name :Eren\n"
     ]
    },
    {
     "data": {
      "text/plain": [
       "'Eren'"
      ]
     },
     "execution_count": 3,
     "metadata": {},
     "output_type": "execute_result"
    }
   ],
   "source": [
    "#Static & Dynamic\n",
    "input('Enter your name :')"
   ]
  },
  {
   "cell_type": "code",
   "execution_count": 37,
   "id": "8477b5df",
   "metadata": {},
   "outputs": [
    {
     "name": "stdout",
     "output_type": "stream",
     "text": [
      "First number :8\n",
      "Last number :9\n",
      "Result is 17\n"
     ]
    }
   ],
   "source": [
    "# take input from users and store them in a vaariale\n",
    "#add the 2 variable and print the result\n",
    "\n",
    "var1 = int(input('First number :'))\n",
    "var2 = int(input('Last number :'))\n",
    "\n",
    "#print(type(var1), type(var2))\n",
    "result = var1 + var2\n",
    "\n",
    "print('Result is',result)"
   ]
  },
  {
   "cell_type": "markdown",
   "id": "15178a0e",
   "metadata": {},
   "source": [
    "#### LITERALS :"
   ]
  },
  {
   "cell_type": "code",
   "execution_count": 38,
   "id": "1452e035",
   "metadata": {},
   "outputs": [
    {
     "name": "stdout",
     "output_type": "stream",
     "text": [
      "Program executed\n"
     ]
    }
   ],
   "source": [
    "#None\n",
    "#None is used to define a null value or Null object in Python. It is not the same as an empty string, False, or a zero. It is a data type of the class\n",
    "#None is not the same as False.\n",
    "#None is not 0.\n",
    "#None is not an empty string.\n",
    "#Comparing None to anything will always return False except None itself.\n",
    "k = None\n",
    "a = 4\n",
    "b = 6\n",
    "print('Program executed')\n"
   ]
  }
 ],
 "metadata": {
  "kernelspec": {
   "display_name": "Python 3 (ipykernel)",
   "language": "python",
   "name": "python3"
  },
  "language_info": {
   "codemirror_mode": {
    "name": "ipython",
    "version": 3
   },
   "file_extension": ".py",
   "mimetype": "text/x-python",
   "name": "python",
   "nbconvert_exporter": "python",
   "pygments_lexer": "ipython3",
   "version": "3.10.7"
  }
 },
 "nbformat": 4,
 "nbformat_minor": 5
}
