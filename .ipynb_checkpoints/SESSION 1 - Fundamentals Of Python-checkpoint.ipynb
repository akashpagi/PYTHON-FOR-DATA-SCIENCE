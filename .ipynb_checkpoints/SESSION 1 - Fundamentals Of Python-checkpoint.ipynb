{
 "cells": [
  {
   "cell_type": "markdown",
   "id": "e12d845c",
   "metadata": {},
   "source": [
    "### SESSION 1 - Fundamentals Of Python"
   ]
  },
  {
   "cell_type": "markdown",
   "id": "bb3bcd3d",
   "metadata": {},
   "source": [
    "#### PYTHON BASIC : ( print any value or string & print statement )\n",
    "- The print() function prints the given object to the standard output device (screen) or to the text stream file.\n",
    "- **syntax: print(*objects, sep=' ', end='\\n', file=sys.stdout, flush=False)**\n",
    "    - **objects** - object to the printed. * indicates that there may be more than one object\n",
    "    - **sep** - objects are separated by sep. Default value: ' '\n",
    "    - **end** - end is printed at last\n",
    "- **print() Return Value : It doesn't return any value; returns None**"
   ]
  },
  {
   "cell_type": "code",
   "execution_count": 3,
   "id": "a21bb4b9",
   "metadata": {},
   "outputs": [
    {
     "name": "stdout",
     "output_type": "stream",
     "text": [
      "akash\n",
      "My name is Akash and i'm 21 years old !\n",
      "Akash 7.7 False\n",
      "Akash/7.7/False\n"
     ]
    }
   ],
   "source": [
    "print('akash')\n",
    "print('My name is Akash',\"and i'm 21 years old !\")\n",
    "print('Akash',7.7,False)\n",
    "print('Akash',7.7,False,sep=\"/\")"
   ]
  },
  {
   "cell_type": "code",
   "execution_count": 4,
   "id": "5aed7ba0",
   "metadata": {},
   "outputs": [
    {
     "name": "stdout",
     "output_type": "stream",
     "text": [
      "Eren Yegaer Grisha Yegear Zeke Yeagear\n"
     ]
    }
   ],
   "source": [
    "print('Eren Yegaer', end = \" \")\n",
    "print('Grisha Yegear', end=' ')\n",
    "print('Zeke Yeagear')"
   ]
  },
  {
   "cell_type": "markdown",
   "id": "4c76f763",
   "metadata": {},
   "source": [
    "#### DATATYPES IN PYTHON :"
   ]
  },
  {
   "cell_type": "markdown",
   "id": "25a52e7a",
   "metadata": {},
   "source": [
    "##### `int` data type :\n",
    "- Python uses the int data type to represent whole integer values. \n",
    "- **For example**, we can use the int data type to store the roll number of a student. \n",
    "- The Integer type in Python is represented using a `int` class.\n",
    "- You can store positive and negative integer numbers of any length such as **235, -758, 235689741.**\n",
    "\n",
    "- We can create an integer variable using the two ways\n",
    "    - **Directly assigning an integer value to a variable**\n",
    "    - Using a **int() class**."
   ]
  },
  {
   "cell_type": "code",
   "execution_count": 7,
   "id": "dfafe8e3",
   "metadata": {},
   "outputs": [
    {
     "name": "stdout",
     "output_type": "stream",
     "text": [
      "Roll number is: 33\n",
      "<class 'int'>\n",
      "25\n",
      "<class 'int'>\n"
     ]
    }
   ],
   "source": [
    "# store int value\n",
    "roll_no = 33\n",
    "print(\"Roll number is:\", roll_no)\n",
    "\n",
    "print(type(roll_no))  \n",
    "\n",
    "# store integer using int() class\n",
    "id = int(25)\n",
    "print(id)  # 25\n",
    "print(type(id))"
   ]
  },
  {
   "cell_type": "markdown",
   "id": "da3f1ad0",
   "metadata": {},
   "source": [
    "#### Float data type :\n",
    "- To represent floating-point values or decimal values, we can use the float data type. For example, if we want to store the salary, we can use the float type.\n",
    "\n",
    "- The float type in Python is represented using a `float class`.\n",
    "\n",
    "- We can create a float variable using the two ways\n",
    "    - **Directly assigning a float value to a variable**\n",
    "    - Using a **float() class**.\n"
   ]
  },
  {
   "cell_type": "code",
   "execution_count": 8,
   "id": "38b46c64",
   "metadata": {
    "scrolled": true
   },
   "outputs": [
    {
     "name": "stdout",
     "output_type": "stream",
     "text": [
      "Salary is : 8000.456\n",
      "<class 'float'>\n",
      "54.75\n",
      "<class 'float'>\n"
     ]
    }
   ],
   "source": [
    "# store a floating-point value\n",
    "salary = 8000.456\n",
    "print(\"Salary is :\", salary)  # 8000.456\n",
    "print(type(salary))  # class 'float'\n",
    "\n",
    "# store a floating-point value using float() class\n",
    "num = float(54.75)\n",
    "print(num)  # 54.75\n",
    "print(type(num))  # class 'float'"
   ]
  },
  {
   "cell_type": "markdown",
   "id": "9d2df73b",
   "metadata": {},
   "source": [
    "#### Boolean data type\n",
    "- In Python, to represent boolean values (True and False) we use the bool data type. \n",
    "- Boolean values are used to evaluate the value of the expression. **For example,** when we compare two values, the expression is evaluated, and Python returns the boolean **True or False.**"
   ]
  },
  {
   "cell_type": "code",
   "execution_count": 5,
   "id": "a5b95df1",
   "metadata": {},
   "outputs": [
    {
     "name": "stdout",
     "output_type": "stream",
     "text": [
      "It's boolean True\n",
      "It's boolean False\n"
     ]
    }
   ],
   "source": [
    "#3.Boolean\n",
    "print(\"It's boolean\",True)\n",
    "print(\"It's boolean\",False)"
   ]
  },
  {
   "cell_type": "markdown",
   "id": "d39ed4cb",
   "metadata": {},
   "source": [
    "#### `Str` data type :\n",
    "- In Python, **A string is a sequence of characters enclosed within a single quote or double quote.**\n",
    "- These characters could be anything like letters, numbers, or special symbols enclosed within double quotation marks. **For example,** \"Attack On Titan\" is a string.\n",
    "- The string type in Python is represented using a `str class`.\n",
    "- To work with text or character data in Python, we use Strings. \n",
    "- Once a string is created, we can do many operations on it, such as searching inside it, creating a substring from it, and splitting it."
   ]
  },
  {
   "cell_type": "code",
   "execution_count": 11,
   "id": "a0c24134",
   "metadata": {},
   "outputs": [
    {
     "name": "stdout",
     "output_type": "stream",
     "text": [
      "Attack On Titan\n",
      "<class 'str'>\n"
     ]
    }
   ],
   "source": [
    "#3.Text / String\n",
    "Anime = 'Attack On Titan'\n",
    "print(Anime)\n",
    "print(type(Anime))  # <class 'str'>"
   ]
  },
  {
   "cell_type": "markdown",
   "id": "e6a6a172",
   "metadata": {},
   "source": [
    "#### `Complex` data type :\n",
    "- A complex number is a number with a real and an imaginary component represented as **a+bj where a and b contain integers or floating-point values.**\n",
    "- The complex type is generally used in scientific applications and electrical engineering applications. \n",
    "- If we want to declare a complex value, then we can use the `a+bj form`.\n",
    "- The **real part of the complex number is represented using an integer value**. \n",
    "- The integer value can be in the form of either decimal, float, binary, or hexadecimal. \n",
    "- But the **imaginary part should be represented using the decimal form only**.\n",
    "- If we are trying to represent an imaginary part as binary, hex, or octal, we will get an error."
   ]
  },
  {
   "cell_type": "code",
   "execution_count": 10,
   "id": "4edfc339",
   "metadata": {},
   "outputs": [
    {
     "name": "stdout",
     "output_type": "stream",
     "text": [
      "<class 'complex'>\n",
      "it is complex numbers : (9+8j)\n",
      "(10+4.5j)\n"
     ]
    }
   ],
   "source": [
    "#4.Complex \n",
    "x = 9 + 8j  # both value are int type\n",
    "y = 10 + 4.5j  # one int and one float\n",
    "print(type(x))  # class 'complex'>\n",
    "print('it is complex numbers :',x)  # (9+8j)\n",
    "print(y)"
   ]
  },
  {
   "cell_type": "markdown",
   "id": "171cddff",
   "metadata": {},
   "source": [
    "#### `List` data type :\n",
    "- The Python **List is an ordered collection (also known as a sequence ) of elements.** \n",
    "- List elements can be accessed, iterated, and removed according to the order they inserted at the creation time.\n",
    "\n",
    "- We use the **list data type to represent groups of the element as a single entity.** \n",
    "- For example,**If we want to store all student’s names, we can use list type.**\n",
    "\n",
    "- The list can contain data of all data types such as  int, float, string Duplicates elements are allowed in the list.\n",
    "- The **list is mutable which means we can modify the value of list elements.**\n",
    "- We can create a list using the two ways\n",
    "    - By **enclosing elements in the square brackets [].**\n",
    "    - Using a `list() class`."
   ]
  },
  {
   "cell_type": "code",
   "execution_count": 12,
   "id": "9d624d82",
   "metadata": {},
   "outputs": [
    {
     "name": "stdout",
     "output_type": "stream",
     "text": [
      "['Saitama', 'Goku', 20, 35.75]\n",
      "<class 'list'>\n",
      "Lists : [1, 2, 3, 4, 5]\n"
     ]
    }
   ],
   "source": [
    "#5.List \n",
    "my_list = ['Saitama', \"Goku\", 20, 35.75]\n",
    "# display list\n",
    "print(my_list) \n",
    "print(type(my_list))\n",
    "print('Lists :',[1,2,3,4,5])"
   ]
  },
  {
   "cell_type": "markdown",
   "id": "48912215",
   "metadata": {},
   "source": [
    "#### `Tuple` data type:\n",
    "- Tuples are **ordered collections of elements that are unchangeable.**\n",
    "- The tuple is the**same as the list, except the tuple is immutable means we can’t modify the tuple once created.**\n",
    "- In other words, we can say a **tuple is a read-only version of the list.**\n",
    "\n",
    "- **For example,** If you want to store the roll numbers of students that you don’t change, you can use the tuple data type.\n",
    "\n",
    "- **Note:** Tuple maintains the insertion order and also, allows us to store duplicate elements.\n",
    "\n",
    "- We can create a tuple using the two ways\n",
    "    - By **enclosing elements in the parenthesis ().**\n",
    "    - Using a `tuple() class`."
   ]
  },
  {
   "cell_type": "code",
   "execution_count": 14,
   "id": "3eb5b825",
   "metadata": {},
   "outputs": [
    {
     "name": "stdout",
     "output_type": "stream",
     "text": [
      "(11, 24, 56, 88, 78)\n",
      "<class 'tuple'>\n",
      "(10, 20, 30, 40)\n"
     ]
    }
   ],
   "source": [
    "#6.Tuple\n",
    "# create a tuple\n",
    "my_tuple = (11, 24, 56, 88, 78)\n",
    "print(my_tuple)  # (11, 24, 56, 88, 78)\n",
    "print(type(my_tuple))\n",
    "# create a tuple using a tuple() class\n",
    "my_tuple2 = tuple((10, 20, 30, 40))\n",
    "print(my_tuple2)"
   ]
  },
  {
   "cell_type": "markdown",
   "id": "540bb442",
   "metadata": {},
   "source": [
    "#### `Set` data type : \n",
    "- In Python, a **set is an unordered collection of data items that are unique.** \n",
    "- In other words, Python **Set is a collection of elements (Or objects) that contains no duplicate elements.**\n",
    "\n",
    "- In Python, the Set data type used to represent a group of unique elements as a single entity. **For example,** If we want to store student ID numbers, we can use the set data type.\n",
    "\n",
    "- The Set data type in Python is represented using a `set class`.\n",
    ":\n",
    "- We can create a Set using the two ways :\n",
    "    - By enclosing values in the **curly brackets {}**\n",
    "    - Using a `set() class`.\n",
    "    \n",
    "- The set data type has the following characteristics.\n",
    "    - It is **mutable which means we can change set items**\n",
    "    - **Duplicate elements are not allowed**\n",
    "    - **Heterogeneous (values of all data types) elements are allowed**\n",
    "    - **Insertion order of elements is not preserved, so we can’t perform indexing on a Set.**"
   ]
  },
  {
   "cell_type": "code",
   "execution_count": 15,
   "id": "0b6c68e4",
   "metadata": {},
   "outputs": [
    {
     "name": "stdout",
     "output_type": "stream",
     "text": [
      "{25.75, 100, 'Jessa'}\n",
      "<class 'set'>\n",
      "Sets : {1, 2, 3, 4, 5}\n",
      "{25.75, 100, 'Jessa'}\n",
      "<class 'set'>\n"
     ]
    }
   ],
   "source": [
    "#7.Sets\n",
    "# create a set using curly brackets{,}\n",
    "my_set = {100, 25.75, \"Jessa\"}\n",
    "print(my_set)  # {25.75, 100, 'Jessa'}\n",
    "print(type(my_set)) \n",
    "print('Sets :',{5,4,3,2,1})\n",
    "\n",
    "# create a set using set class\n",
    "my_set = set({100, 25.75, \"Jessa\"})\n",
    "print(my_set)  # {25.75, 100, 'Jessa'}\n",
    "print(type(my_set))"
   ]
  },
  {
   "cell_type": "markdown",
   "id": "840a3941",
   "metadata": {},
   "source": [
    "#### `Dict` data type :\n",
    "- In Python, dictionaries are **unordered collections of unique values stored in (Key-Value) pairs.** Use a dictionary data type to **store data as a key-value pair**.\n",
    "\n",
    "- The dictionary type is represented using a `dict class`. **For example,** If you want to store the name and roll number of all students, then you can use the dict type.\n",
    "\n",
    "- In a dictionary, **duplicate keys are not allowed, but the value can be duplicated**.If we try to insert a value with a duplicate key, the old value will be replaced with the new value.\n",
    "\n",
    "- Dictionary has some characteristics which are listed below:\n",
    "    - A **heterogeneous (i.e., str, list, tuple) elements are allowed for both key and value in a dictionary**. But An object can be a key in a dictionary if it is hashable.\n",
    "    - The dictionary is **mutable** which means we can modify its items\n",
    "    - Dictionary is **unordered so we can’t perform indexing and slicing**\n",
    "\n",
    "- We can create a dictionary using the two ways :\n",
    "    - By enclosing key and values in the **curly brackets {}**\n",
    "    - Using a `dict() class`."
   ]
  },
  {
   "cell_type": "code",
   "execution_count": 1,
   "id": "34bb4cd8",
   "metadata": {},
   "outputs": [
    {
     "name": "stdout",
     "output_type": "stream",
     "text": [
      "Dictionary :  {1: 'AOT', 2: 'OPM', 3: 'OP'}\n",
      "{1: 'Naruto', 2: 'Goku', 3: 'Hinata'}\n",
      "<class 'dict'>\n",
      "{1: 'Naruto', 2: 'Goku', 3: 'Hinata'}\n",
      "<class 'dict'>\n"
     ]
    }
   ],
   "source": [
    "#.Dictionary\n",
    "print('Dictionary : ',{1:'AOT', 2:'OPM', 3:'OP'})\n",
    "\n",
    "# create a dictionary\n",
    "my_dict = {1: \"Naruto\", 2: \"Goku\", 3: \"Gohan\"}\n",
    "\n",
    "# display dictionary\n",
    "print(my_dict)  # {1: 'Smith', 2: 'Emma', 3: 'Jessa'}\n",
    "print(type(my_dict))  # class 'dict'\n",
    "\n",
    "# create a dictionary using a dit class\n",
    "my_dict = dict({1: \"Naruto\", 2: \"Goku\", 3: \"Hinata\"})\n",
    "\n",
    "# display dictionary\n",
    "print(my_dict) \n",
    "print(type(my_dict))"
   ]
  },
  {
   "cell_type": "markdown",
   "id": "6a942b02",
   "metadata": {},
   "source": [
    "#### TYPE FUNCTION :\n",
    "- Python has a lot of built-in functions. \n",
    "- The type() function is used to get the type of an object.\n",
    "- **syntax**: type(object)"
   ]
  },
  {
   "cell_type": "code",
   "execution_count": 1,
   "id": "152d11b2",
   "metadata": {},
   "outputs": [
    {
     "name": "stdout",
     "output_type": "stream",
     "text": [
      "string\n",
      "<class 'str'>\n",
      "<class 'float'>\n"
     ]
    }
   ],
   "source": [
    "print('string')\n",
    "print(type('string'))\n",
    "print(type(454.76))"
   ]
  },
  {
   "cell_type": "markdown",
   "id": "d7021e41",
   "metadata": {},
   "source": [
    "#### VARIABLES IN PYTHON :\n",
    "- A variable is a reserved memory area (memory address) to store value. \n",
    "    - For example, we want to store an employee’s salary. In such a case, we can create a variable and store salary using it. Using that variable name, you can read or modify the salary amount\n",
    "- **Variable’s are case-sensitive.**\n",
    "    - Python is a case-sensitive language. If we define a variable with names a = 100 and A =200 then, Python differentiates between a and A. These variables are treated as two different variables (or objects).\n",
    "- Static & Dynamic Typing [Inteview Question]\n",
    "- Static Vs Dynamic Binding\n",
    "- Stylish decalartion Techniquies"
   ]
  },
  {
   "cell_type": "code",
   "execution_count": 22,
   "id": "e60bae71",
   "metadata": {},
   "outputs": [
    {
     "name": "stdout",
     "output_type": "stream",
     "text": [
      "Here a = 3 and b = 5 ,Then addition of is 8 .\n"
     ]
    }
   ],
   "source": [
    "a = 3 \n",
    "b = 5\n",
    "print('Here a = 3 and b = 5 ,Then addition of is',a + b,'.')"
   ]
  },
  {
   "cell_type": "markdown",
   "id": "2ceb8fd3",
   "metadata": {},
   "source": [
    "- **[Interview Question]**\n",
    "    - **Dynamic Typing :**\n",
    "     - compaire to other language, python interpreter hold or identifies the datatype of the variable. \n",
    "    - **Dynamic Binding :**\n",
    "     - In python , we don't have fixed data type so according to requirement we can changed the datatype"
   ]
  },
  {
   "cell_type": "code",
   "execution_count": 1,
   "id": "59a85771",
   "metadata": {},
   "outputs": [
    {
     "name": "stdout",
     "output_type": "stream",
     "text": [
      "a = 5\n",
      "a = AOT\n"
     ]
    }
   ],
   "source": [
    "# for e.g.Dynamic Binding\n",
    "a = 5\n",
    "print('a =',a)\n",
    "\n",
    "a = 'AOT'\n",
    "print('a =',a)"
   ]
  },
  {
   "cell_type": "markdown",
   "id": "b9ae8c63",
   "metadata": {},
   "source": [
    "- **[Interview Question]**\n",
    "     - **Static Typing :**\n",
    "      - In Static Typing , we declare the datatype of the variable vairable like in c/C++ , java\n",
    "     - **Static Binding :**\n",
    "      - In c/c++, Java, we have fixed data type so we can't changed the datatype"
   ]
  },
  {
   "cell_type": "code",
   "execution_count": 31,
   "id": "77977b6a",
   "metadata": {},
   "outputs": [
    {
     "name": "stdout",
     "output_type": "stream",
     "text": [
      "3 5 4\n",
      "78\n",
      "78\n"
     ]
    }
   ],
   "source": [
    "# eg.Static binding\n",
    "x ,y, z = 5, 4, 3\n",
    "print(z,x,y)\n",
    "a = b = c = 78\n",
    "print(a)\n",
    "print(c)"
   ]
  },
  {
   "cell_type": "markdown",
   "id": "d5018966",
   "metadata": {},
   "source": [
    "#### COMMENTS IN PYTHON :\n",
    "- **# (hash)** symbol is used comment for single line comment"
   ]
  },
  {
   "cell_type": "code",
   "execution_count": 32,
   "id": "361129e3",
   "metadata": {},
   "outputs": [
    {
     "name": "stdout",
     "output_type": "stream",
     "text": [
      "Attack On Titan\n"
     ]
    }
   ],
   "source": [
    "# Example for comment :\n",
    "# This is single line comment\n",
    "print('Attack On Titan')"
   ]
  },
  {
   "cell_type": "markdown",
   "id": "804e190d",
   "metadata": {},
   "source": [
    "#### KEYWORDS & IDENTIFIERS :\n",
    "- **Keywords :**\n",
    "    - Python **keywords are reserved words** that have a special meaning associated with them and can’t be used for anything but those specific purposes.\n",
    "    - In simple words, **It is a Reserved keywords in python that are already used in python**.\n",
    "    - Each keyword is designed to achieve specific functionality.\n",
    "    \n",
    "    - Python keywords are **case-sensitive.**\n",
    "\n",
    "        - All keywords contain only letters (no special symbols)\n",
    "        - Except for three keywords (True, False, None), all keywords have lower case letters.\n",
    "    - We can use the following two ways to get the list of keywords in Python\n",
    "\n",
    "        - **keyword module:**The keyword is the buil-in module to get the list of keywords. Also, this module allows a Python program to determine if a string is a keyword.\n",
    "        - **help() function:** Apart from a keyword module, we can use the help() function to get the list of keywords"
   ]
  },
  {
   "cell_type": "code",
   "execution_count": 2,
   "id": "02366a68",
   "metadata": {},
   "outputs": [
    {
     "name": "stdout",
     "output_type": "stream",
     "text": [
      "['False', 'None', 'True', 'and', 'as', 'assert', 'async', 'await', 'break', 'class', 'continue', 'def', 'del', 'elif', 'else', 'except', 'finally', 'for', 'from', 'global', 'if', 'import', 'in', 'is', 'lambda', 'nonlocal', 'not', 'or', 'pass', 'raise', 'return', 'try', 'while', 'with', 'yield']\n"
     ]
    }
   ],
   "source": [
    "import keyword\n",
    "print(keyword.kwlist)"
   ]
  },
  {
   "cell_type": "code",
   "execution_count": 3,
   "id": "73eefbc1",
   "metadata": {},
   "outputs": [
    {
     "name": "stdout",
     "output_type": "stream",
     "text": [
      "\n",
      "Here is a list of the Python keywords.  Enter any keyword to get more help.\n",
      "\n",
      "False               class               from                or\n",
      "None                continue            global              pass\n",
      "True                def                 if                  raise\n",
      "and                 del                 import              return\n",
      "as                  elif                in                  try\n",
      "assert              else                is                  while\n",
      "async               except              lambda              with\n",
      "await               finally             nonlocal            yield\n",
      "break               for                 not                 \n",
      "\n"
     ]
    }
   ],
   "source": [
    "help(\"keywords\")"
   ]
  },
  {
   "cell_type": "markdown",
   "id": "f15af248",
   "metadata": {},
   "source": [
    "- **IDENTIFERS:**\n",
    "- A name in a Python program is called an identifier. An identifier can be a variable name, class name, function name, and module name.\n",
    "\n",
    "- There are **some rules** to define variables in Python.\n",
    "- **Rule 1:** The name of the variable and constant should have a combination of letters, digits, and underscore symbols.\n",
    "    - Alphabet/letters i.e., lowercase (a to z) or uppercase (A to Z)\n",
    "    - Digits(0 to 9)\n",
    "    - Underscore symbol ( _ )\n",
    "- **Rule 2:** Don’t’ use special symbols in a variable name, For declaring variable and constant, we cannot use special symbols like $, #, @, %, !~, etc. If we try to declare names with a special symbol, Python generates an error.\n",
    "- **Rule 3:** Variable and constant should not start with digit letters\n",
    "- **Rule 4:** Identifiers are case sensitive.\n",
    "    - Here, Python makes a difference between these variables that is uppercase and lowercase, so that it will create three different variables total, Total, TOTAL.\n",
    "- **Rule 5:** To declare constant should use capital letters.\n",
    "- **Rule 6:** Use an underscore symbol for separating the words in a variable name\n",
    "     - If we want to declare variable and constant names having two words, use an underscore symbol for separating the words,Ex.current_temperature = 24\n",
    "\n",
    "\n",
    "         \n",
    "  "
   ]
  },
  {
   "cell_type": "code",
   "execution_count": 15,
   "id": "76a7ad33",
   "metadata": {},
   "outputs": [
    {
     "name": "stdout",
     "output_type": "stream",
     "text": [
      "Eren Yeager\n",
      "120\n",
      "130\n",
      "150\n",
      "current_temperature : 24\n"
     ]
    }
   ],
   "source": [
    "# Identifires\n",
    "Name = 'Eren Yeager'\n",
    "print(Name)\n",
    "\n",
    "# Rule 1 : use letters, digits, and underscore symbols \n",
    "total_addition\n",
    "TOTAL_ADDITION\n",
    "totalAddition2\n",
    "Total2addition\n",
    "\n",
    "# Rule 2: special symbol not allow\n",
    "#ca$h = 1000\n",
    "\n",
    "# Rule 3:\n",
    "#1studnet = \"Jessa\"\n",
    "#print(1studnet)\n",
    "\n",
    "# Rule 4:\n",
    "total = 120\n",
    "Total = 130\n",
    "TOTAL = 150\n",
    "print(total)\n",
    "print(Total)\n",
    "print(TOTAL)\n",
    "\n",
    "# Rule 5:\n",
    "MIN_VALUE = 100\n",
    "MAX_VALUE = 1000\n",
    "\n",
    "# Rule 6 :\n",
    "current_temperature = 24\n",
    "print('current_temperature :', current_temperature)"
   ]
  },
  {
   "cell_type": "code",
   "execution_count": 6,
   "id": "64f81887",
   "metadata": {},
   "outputs": [
    {
     "name": "stdout",
     "output_type": "stream",
     "text": [
      "Eren Yeager\n"
     ]
    }
   ],
   "source": [
    "# Identifires\n",
    "Name = 'Eren Yeager'\n",
    "print(Name)"
   ]
  },
  {
   "cell_type": "code",
   "execution_count": 7,
   "id": "581aae61",
   "metadata": {},
   "outputs": [],
   "source": [
    "# Rule 1 : use letters, digits, and underscore symbols \n",
    "total_addition = 2\n",
    "TOTAL_ADDITION = 1\n",
    "totalAddition2 = 4\n",
    "Total2addition = 2"
   ]
  },
  {
   "cell_type": "code",
   "execution_count": 8,
   "id": "10883118",
   "metadata": {},
   "outputs": [
    {
     "ename": "SyntaxError",
     "evalue": "invalid syntax (11323155.py, line 2)",
     "output_type": "error",
     "traceback": [
      "\u001b[1;36m  Cell \u001b[1;32mIn [8], line 2\u001b[1;36m\u001b[0m\n\u001b[1;33m    ca$h = 1000\u001b[0m\n\u001b[1;37m      ^\u001b[0m\n\u001b[1;31mSyntaxError\u001b[0m\u001b[1;31m:\u001b[0m invalid syntax\n"
     ]
    }
   ],
   "source": [
    "# Rule 2: special symbol not allow\n",
    "ca$h = 1000"
   ]
  },
  {
   "cell_type": "code",
   "execution_count": 9,
   "id": "0f99eb5d",
   "metadata": {},
   "outputs": [
    {
     "ename": "SyntaxError",
     "evalue": "invalid decimal literal (3037082046.py, line 2)",
     "output_type": "error",
     "traceback": [
      "\u001b[1;36m  Cell \u001b[1;32mIn [9], line 2\u001b[1;36m\u001b[0m\n\u001b[1;33m    1studnet = \"Jessa\"\u001b[0m\n\u001b[1;37m    ^\u001b[0m\n\u001b[1;31mSyntaxError\u001b[0m\u001b[1;31m:\u001b[0m invalid decimal literal\n"
     ]
    }
   ],
   "source": [
    "# Rule 3: when start with digit\n",
    "1studnet = \"Jessa\"\n",
    "print(1studnet) # ERROR"
   ]
  },
  {
   "cell_type": "code",
   "execution_count": 13,
   "id": "28ff2e7f",
   "metadata": {},
   "outputs": [
    {
     "name": "stdout",
     "output_type": "stream",
     "text": [
      "id of total : 2197732528080\n",
      "id of Total : 2197732528400\n",
      "id of TOTAL : 2197732529040\n"
     ]
    }
   ],
   "source": [
    "# Rule 4: case sensitive \n",
    "total = 120\n",
    "Total = 130\n",
    "TOTAL = 150\n",
    "print('id of total :',id(total))\n",
    "print('id of Total :',id(Total))\n",
    "print('id of TOTAL :',id(TOTAL))"
   ]
  },
  {
   "cell_type": "code",
   "execution_count": null,
   "id": "6935a9b6",
   "metadata": {},
   "outputs": [],
   "source": [
    "# Rule 5: declare constants should use capital letters\n",
    "MIN_VALUE = 100\n",
    "MAX_VALUE = 1000"
   ]
  },
  {
   "cell_type": "code",
   "execution_count": 14,
   "id": "52c286ea",
   "metadata": {},
   "outputs": [
    {
     "name": "stdout",
     "output_type": "stream",
     "text": [
      "current_temperature : 24\n"
     ]
    }
   ],
   "source": [
    "# Rule 6 :\n",
    "current_temperature = 24\n",
    "print('current_temperature :', current_temperature)"
   ]
  },
  {
   "cell_type": "markdown",
   "id": "e007c1af",
   "metadata": {},
   "source": [
    "#### TYPE CONVERSION ( Type casting ):\n",
    "- In Python, **we can convert one type of variable to another type, this conversion is called type casting or type conversion**.\n",
    "- In casting, we convert variables declared in specific data types to the different data types.\n",
    "- Python performs the following **two types of casting.**\n",
    "    - **Implicit casting:** The Python interpreter **automatically performs** an implicit Type conversion, which avoids loss of data.\n",
    "    - **Explicit casting:** \n",
    "    - The explicit type conversion is **performed by the user (manually)** using built-in functions like str() to int() conversion.\n",
    "- To perform a type casting, we are going to use the following built-in functions\n",
    "    - **int():** convert any type variable to the integer type.\n",
    "    - **float():** convert any type variable to the float type.\n",
    "    - **complex():** convert any type variable to the complex type.\n",
    "    - **bool():** convert any type variable to the bool type.\n",
    "    - **str():** convert any type variable to the string type."
   ]
  },
  {
   "cell_type": "code",
   "execution_count": 14,
   "id": "802dd430",
   "metadata": {},
   "outputs": [
    {
     "name": "stdout",
     "output_type": "stream",
     "text": [
      "10.6\n",
      "string5\n"
     ]
    }
   ],
   "source": [
    "#Implicit examples\n",
    "print(5 + 5.6)\n",
    "print('string' + '5') "
   ]
  },
  {
   "cell_type": "code",
   "execution_count": 33,
   "id": "f855b833",
   "metadata": {},
   "outputs": [
    {
     "name": "stdout",
     "output_type": "stream",
     "text": [
      "<class 'int'>\n",
      "<class 'int'>\n",
      "int -> str : <class 'str'>\n"
     ]
    }
   ],
   "source": [
    "# Explicit ( manual type conversion)\n",
    "# built-in functions like float(), str(),\n",
    "# str -> int\n",
    "a = '5'\n",
    "print(type(int(a)))\n",
    "#float -> int\n",
    "b = 5.6\n",
    "print(type(int(b)))\n",
    "c = 9 \n",
    "print('int -> str :',type(str(c)))"
   ]
  },
  {
   "cell_type": "markdown",
   "id": "a0fd6941",
   "metadata": {},
   "source": [
    "#### USER INPUT :\n",
    "- The input is a value provided by the system or user. \n",
    "- we have the following two built-in functions to handle input from a user and system.\n",
    "    - **input(prompt):** To accept input from a user.\n",
    "    - **print():** To display output on the console/screen."
   ]
  },
  {
   "cell_type": "code",
   "execution_count": 2,
   "id": "d69452d3",
   "metadata": {},
   "outputs": [
    {
     "name": "stdout",
     "output_type": "stream",
     "text": [
      "Enter your name :Eren\n",
      "Eren\n"
     ]
    }
   ],
   "source": [
    "#Static & Dynamic\n",
    "print(input('Enter your name :'))"
   ]
  },
  {
   "cell_type": "code",
   "execution_count": 37,
   "id": "8477b5df",
   "metadata": {},
   "outputs": [
    {
     "name": "stdout",
     "output_type": "stream",
     "text": [
      "First number :8\n",
      "Last number :9\n",
      "Result is 17\n"
     ]
    }
   ],
   "source": [
    "# take input from users and store them in a variable\n",
    "#add the 2 variable and print the result\n",
    "var1 = int(input('First number :'))\n",
    "var2 = int(input('Last number :'))\n",
    "#print(type(var1), type(var2))\n",
    "result = var1 + var2\n",
    "print('Result is',result)"
   ]
  },
  {
   "cell_type": "markdown",
   "id": "8c6ef977",
   "metadata": {},
   "source": [
    "- **Get Multiple inputs From a User in One Line :**\n",
    "    - We can accept two or three values from the user.\n",
    "\n",
    "    - For example, in a single execution of the input() function, we can ask the user his/her name, age, and phone number and store it in three different variables.\n",
    "\n",
    "    - Let’ see how to do this.\n",
    "        - Take each input separated by space\n",
    "        - Split input string using **split()** get the value of individual input"
   ]
  },
  {
   "cell_type": "code",
   "execution_count": 1,
   "id": "5777a855",
   "metadata": {},
   "outputs": [
    {
     "name": "stdout",
     "output_type": "stream",
     "text": [
      "Enter your Name, Age, Marks Percentage separated by space Akash 21 100\n",
      "User Details:  Akash 21 100\n"
     ]
    }
   ],
   "source": [
    "name, age, marks = input(\"Enter your Name, Age, Marks Percentage separated by space \").split()\n",
    "print(\"User Details: \", name, age, marks)"
   ]
  },
  {
   "cell_type": "markdown",
   "id": "bb31ef32",
   "metadata": {},
   "source": [
    "- **Python Input() vs raw_input() :**\n",
    "     - The input() function works differently between Python 3 and Python 2.\n",
    "     - In Python 2, we can use both the input() and raw_input() function to accept user input.\n",
    "     - In Python 3, the raw_input() function of Python 2 is renamed to input() and the original input() function is removed.\n",
    "   \n",
    "- **The difference between the input() and raw_input() functions is relevant only when using Python 2.**\n",
    "    - The main difference between those two functions is input() function automatically converts user input to the appropriate type. i.e., If a user-entered string input() function converts it into a string, and if a user entered a number, it converts to an integer.\n",
    "    - The raw_input() convert every user input to a string.\n"
   ]
  },
  {
   "cell_type": "code",
   "execution_count": 22,
   "id": "c8af81c8",
   "metadata": {},
   "outputs": [
    {
     "ename": "NameError",
     "evalue": "name 'raw_input' is not defined",
     "output_type": "error",
     "traceback": [
      "\u001b[1;31m---------------------------------------------------------------------------\u001b[0m",
      "\u001b[1;31mNameError\u001b[0m                                 Traceback (most recent call last)",
      "Cell \u001b[1;32mIn [22], line 4\u001b[0m\n\u001b[0;32m      1\u001b[0m \u001b[38;5;66;03m# Example 1: Python 2 raw_input() function to take input from a user\u001b[39;00m\n\u001b[0;32m      2\u001b[0m \u001b[38;5;66;03m# Python 2 code\u001b[39;00m\n\u001b[0;32m      3\u001b[0m \u001b[38;5;66;03m# raw_input() function\u001b[39;00m\n\u001b[1;32m----> 4\u001b[0m name \u001b[38;5;241m=\u001b[39m raw_input(\u001b[38;5;124m\"\u001b[39m\u001b[38;5;124mEnter your name \u001b[39m\u001b[38;5;124m\"\u001b[39m)\n\u001b[0;32m      5\u001b[0m \u001b[38;5;28mprint\u001b[39m(\u001b[38;5;124m\"\u001b[39m\u001b[38;5;124mStudent Name is: \u001b[39m\u001b[38;5;124m\"\u001b[39m, name)\n\u001b[0;32m      6\u001b[0m \u001b[38;5;28mprint\u001b[39m(\u001b[38;5;28mtype\u001b[39m(name))\n",
      "\u001b[1;31mNameError\u001b[0m: name 'raw_input' is not defined"
     ]
    }
   ],
   "source": [
    "# Example 1: Python 2 raw_input() function to take input from a user\n",
    "# Python 2 code\n",
    "# raw_input() function\n",
    "name = raw_input(\"Enter your name \")\n",
    "print(\"Student Name is: \", name)\n",
    "print(type(name))\n",
    "\n",
    "age = raw_input(\"Enter your age \")\n",
    "print(\"Student age is: \", age)\n",
    "print(type(age))"
   ]
  },
  {
   "cell_type": "code",
   "execution_count": 1,
   "id": "29b3405b",
   "metadata": {},
   "outputs": [
    {
     "name": "stdout",
     "output_type": "stream",
     "text": [
      "Enter your Name akash\n",
      "Student Name is:  akash\n",
      "<class 'str'>\n",
      "Enter your age 21\n",
      "Student age is:  21\n",
      "<class 'str'>\n"
     ]
    }
   ],
   "source": [
    "# Python 3 code\n",
    "# input() function\n",
    "\n",
    "name = input(\"Enter your Name \")\n",
    "print(\"Student Name is: \", name)\n",
    "print(type(name))\n",
    "\n",
    "age = input(\"Enter your age \")\n",
    "print(\"Student age is: \", age)\n",
    "print(type(age))"
   ]
  },
  {
   "cell_type": "markdown",
   "id": "15178a0e",
   "metadata": {},
   "source": [
    "#### LITERALS :\n",
    "\n",
    "- Literals are representations of **fixed values in a program**. They can be numbers, characters, or strings, etc. For example, `'Hello, World!'`, `12`, `23.0`, `'C'`, etc.\n",
    "- Literals are often used to assign values to variables or constants. **For example,**\n",
    "    - site_name = 'programiz.com'\n",
    "    - In the above expression, `site_name` is a variable, and `'programiz.com'` is a literal.\n",
    "    \n",
    "- **Numeric Literals:**\n",
    "    - Numeric Literals are immutable (unchangeable). Numeric literals can belong to 3 different numerical types: `Integer`, `Float`, and `Complex`.\n",
    "    \n",
    "- **String and Character Literals:**\n",
    "    - Character literals are unicode characters enclosed in a quote. **For example,**\n",
    "    - some_character = 'S'\n",
    "    - Here, `S` is a character literal assigned to `some_character`.\n",
    "- **Boolean Literals:**\n",
    "- There are two boolean literals: True and False.**For example,**\n",
    "    - pass = true \n",
    "    - Here, `true` is a boolean literal assigned to `pass`.\n",
    "- **Literal Collections:**\n",
    "    - There are four different literal collections List literals, Tuple literals, Dict literals, and Set literals.\n",
    "- **Special Literal:**\n",
    "    - Python contains one special literal None. We use it to specify a null variable. **For example,** None."
   ]
  },
  {
   "cell_type": "code",
   "execution_count": 2,
   "id": "1452e035",
   "metadata": {},
   "outputs": [
    {
     "name": "stdout",
     "output_type": "stream",
     "text": [
      "Program executed\n"
     ]
    }
   ],
   "source": [
    "#None\n",
    "k = None\n",
    "a = 4\n",
    "b = 6\n",
    "print('Program executed')"
   ]
  },
  {
   "cell_type": "code",
   "execution_count": null,
   "id": "9ae4b1d8",
   "metadata": {},
   "outputs": [],
   "source": []
  }
 ],
 "metadata": {
  "kernelspec": {
   "display_name": "Python 3 (ipykernel)",
   "language": "python",
   "name": "python3"
  },
  "language_info": {
   "codemirror_mode": {
    "name": "ipython",
    "version": 3
   },
   "file_extension": ".py",
   "mimetype": "text/x-python",
   "name": "python",
   "nbconvert_exporter": "python",
   "pygments_lexer": "ipython3",
   "version": "3.10.7"
  }
 },
 "nbformat": 4,
 "nbformat_minor": 5
}
