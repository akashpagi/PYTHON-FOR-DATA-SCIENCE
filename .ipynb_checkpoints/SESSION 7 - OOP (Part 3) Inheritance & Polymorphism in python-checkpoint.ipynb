{
 "cells": [
  {
   "cell_type": "markdown",
   "id": "dd6d1895",
   "metadata": {},
   "source": [
    "### SESSION 7 - OOP (Part 3) Inheritance & Polymorphism in python"
   ]
  },
  {
   "cell_type": "markdown",
   "id": "28fa7965",
   "metadata": {},
   "source": [
    "#### Class Relationships :"
   ]
  },
  {
   "cell_type": "raw",
   "id": "f5974e61",
   "metadata": {},
   "source": [
    "- Aggregation\n",
    "- Inheritance"
   ]
  },
  {
   "cell_type": "markdown",
   "id": "3e6fadba",
   "metadata": {},
   "source": [
    "##### Aggregation (Has A relationship) :"
   ]
  },
  {
   "cell_type": "raw",
   "id": "7dfa4f7c",
   "metadata": {},
   "source": [
    "- It has relation \n",
    "- One class owns the other class\n",
    "- Ex Customer class has a Address class"
   ]
  },
  {
   "cell_type": "code",
   "execution_count": 3,
   "id": "cc70881a",
   "metadata": {},
   "outputs": [
    {
     "name": "stdout",
     "output_type": "stream",
     "text": [
      "House No : 5164\n",
      "City Name : MUMBAI\n",
      "Pin Code : 401208\n"
     ]
    }
   ],
   "source": [
    "#Ex for aggregation\n",
    "class Customer:  \n",
    "    def __init__(self,name,age,address):\n",
    "        self.name = name\n",
    "        self.age = age\n",
    "        self.address = address\n",
    "    \n",
    "    # calling address Address class\n",
    "    def print_address(self):\n",
    "        print('House No :',self.address.house_no)\n",
    "        print('City Name :',self.address.get_city()) \n",
    "        #print('City Name :',self.address.__city) \n",
    "        print('Pin Code :',self.address.pin)\n",
    "        \n",
    "# Creating aggregation class and it is use by Customer class  \n",
    "class Address:\n",
    "    def __init__(self,house_no,city,pin):\n",
    "        self.house_no = house_no\n",
    "        self.__city = city\n",
    "        self.pin = pin\n",
    "        \n",
    "    # getter method for accessing private variable of address class by Customer  \n",
    "    def get_city(self):\n",
    "        return self.__city\n",
    "\n",
    "addrs = Address(5164,'MUMBAI',401208)        \n",
    "cus = Customer('Akash',21,addrs)\n",
    "    \n",
    "cus.print_address()"
   ]
  },
  {
   "cell_type": "raw",
   "id": "c9ba2469",
   "metadata": {},
   "source": [
    "- In above when you perform aggregation we can't access private varibles directly of own class, as a solution you have to us getter method"
   ]
  },
  {
   "cell_type": "code",
   "execution_count": null,
   "id": "7016b354",
   "metadata": {},
   "outputs": [],
   "source": []
  },
  {
   "cell_type": "code",
   "execution_count": null,
   "id": "9d333d57",
   "metadata": {},
   "outputs": [],
   "source": []
  },
  {
   "cell_type": "code",
   "execution_count": null,
   "id": "c0a22921",
   "metadata": {},
   "outputs": [],
   "source": []
  }
 ],
 "metadata": {
  "kernelspec": {
   "display_name": "Python 3 (ipykernel)",
   "language": "python",
   "name": "python3"
  },
  "language_info": {
   "codemirror_mode": {
    "name": "ipython",
    "version": 3
   },
   "file_extension": ".py",
   "mimetype": "text/x-python",
   "name": "python",
   "nbconvert_exporter": "python",
   "pygments_lexer": "ipython3",
   "version": "3.10.7"
  }
 },
 "nbformat": 4,
 "nbformat_minor": 5
}
