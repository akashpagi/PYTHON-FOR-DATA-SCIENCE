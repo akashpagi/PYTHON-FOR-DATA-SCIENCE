{
 "cells": [
  {
   "cell_type": "markdown",
   "id": "5d61be4d",
   "metadata": {},
   "source": [
    "### SESSION 7 - OOP (Part 3) Inheritance & Polymorphism in python"
   ]
  },
  {
   "cell_type": "markdown",
   "id": "604a96aa",
   "metadata": {},
   "source": [
    "#### Class Relationships :"
   ]
  },
  {
   "cell_type": "raw",
   "id": "ecb8b63b",
   "metadata": {},
   "source": [
    "- Aggregation\n",
    "- Inheritance"
   ]
  },
  {
   "cell_type": "markdown",
   "id": "60794277",
   "metadata": {},
   "source": [
    "##### Aggregation (Has A relationship) :"
   ]
  },
  {
   "cell_type": "raw",
   "id": "49742bf5",
   "metadata": {},
   "source": [
    "- It has relation \n",
    "- One class owns the other class\n",
    "- Ex Customer class has a Address class\n",
    "- In below code , when you perform aggregation we can't access private varibles directly of own class, as a solution you have to us getter method"
   ]
  },
  {
   "cell_type": "code",
   "execution_count": 37,
   "id": "af7e63e8",
   "metadata": {},
   "outputs": [
    {
     "name": "stdout",
     "output_type": "stream",
     "text": [
      "5164 MUMBAI 401208\n",
      "mumbai 111111 maharashtra\n"
     ]
    }
   ],
   "source": [
    "#Ex for aggregation\n",
    "class Customer:  \n",
    "    def __init__(self,name,gender,address):\n",
    "        self.name = name\n",
    "        self.gender = gender\n",
    "        self.address = address\n",
    "    \n",
    "    # calling address Address class\n",
    "    def print_address(self):\n",
    "        print(self.address._Address__city,self.address.pin,self.address.state)\n",
    "        \n",
    "    # adding method in customer to edit the class\n",
    "    def edit_profile(self,new_name,new_city,new_pin,new_state):\n",
    "        self.name = new_name\n",
    "        self.address.edit_address(new_city,new_pin,new_state)\n",
    "        \n",
    "        \n",
    "# Creating aggregation class and it is use by Customer class  \n",
    "class Address:\n",
    "    def __init__(self,city,pin,state):\n",
    "        self.__city = city\n",
    "        self.pin = pin\n",
    "        self.state = state\n",
    "        \n",
    "    # getter method for accessing private variable of address class by Customer  \n",
    "    def get_city(self):\n",
    "        return self.__city\n",
    "    \n",
    "    # Adding method to edit the profile\n",
    "    def edit_address(self,new_city,new_pin,new_state):\n",
    "        self.__city = new_city\n",
    "        self.pin = new_pin\n",
    "        self.state = new_state\n",
    "\n",
    "addrs = Address(5164,'MUMBAI',401208)        \n",
    "cus = Customer('Akash',21,addrs)\n",
    "    \n",
    "cus.print_address()\n",
    "cus.edit_profile('ankit','mumbai',111111,'maharashtra')\n",
    "cus.print_address()"
   ]
  },
  {
   "cell_type": "code",
   "execution_count": null,
   "id": "d3fd9d32",
   "metadata": {},
   "outputs": [],
   "source": []
  },
  {
   "cell_type": "code",
   "execution_count": null,
   "id": "8f7a6a0b",
   "metadata": {},
   "outputs": [],
   "source": []
  }
 ],
 "metadata": {
  "kernelspec": {
   "display_name": "Python 3 (ipykernel)",
   "language": "python",
   "name": "python3"
  },
  "language_info": {
   "codemirror_mode": {
    "name": "ipython",
    "version": 3
   },
   "file_extension": ".py",
   "mimetype": "text/x-python",
   "name": "python",
   "nbconvert_exporter": "python",
   "pygments_lexer": "ipython3",
   "version": "3.10.7"
  }
 },
 "nbformat": 4,
 "nbformat_minor": 5
}
