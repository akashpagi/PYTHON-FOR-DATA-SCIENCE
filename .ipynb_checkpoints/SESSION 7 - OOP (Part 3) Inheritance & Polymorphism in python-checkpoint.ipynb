{
 "cells": [
  {
   "cell_type": "markdown",
   "id": "bba2bc16",
   "metadata": {},
   "source": [
    "### SESSION 7 - OOP (Part 3) Inheritance & Polymorphism in python"
   ]
  },
  {
   "cell_type": "markdown",
   "id": "7929ce7c",
   "metadata": {},
   "source": [
    "#### Class Relationships :"
   ]
  },
  {
   "cell_type": "raw",
   "id": "efc4f13a",
   "metadata": {},
   "source": [
    "- Aggregation\n",
    "- Inheritance"
   ]
  },
  {
   "cell_type": "code",
   "execution_count": null,
   "id": "8cf4ed5f",
   "metadata": {},
   "outputs": [],
   "source": []
  },
  {
   "cell_type": "code",
   "execution_count": null,
   "id": "a1c19492",
   "metadata": {},
   "outputs": [],
   "source": []
  },
  {
   "cell_type": "code",
   "execution_count": null,
   "id": "7809ee00",
   "metadata": {},
   "outputs": [],
   "source": []
  },
  {
   "cell_type": "code",
   "execution_count": null,
   "id": "f70ee0c9",
   "metadata": {},
   "outputs": [],
   "source": []
  },
  {
   "cell_type": "code",
   "execution_count": null,
   "id": "9115d456",
   "metadata": {},
   "outputs": [],
   "source": []
  },
  {
   "cell_type": "code",
   "execution_count": null,
   "id": "e03c70eb",
   "metadata": {},
   "outputs": [],
   "source": []
  },
  {
   "cell_type": "code",
   "execution_count": null,
   "id": "73247211",
   "metadata": {},
   "outputs": [],
   "source": []
  }
 ],
 "metadata": {
  "kernelspec": {
   "display_name": "Python 3 (ipykernel)",
   "language": "python",
   "name": "python3"
  },
  "language_info": {
   "codemirror_mode": {
    "name": "ipython",
    "version": 3
   },
   "file_extension": ".py",
   "mimetype": "text/x-python",
   "name": "python",
   "nbconvert_exporter": "python",
   "pygments_lexer": "ipython3",
   "version": "3.10.7"
  }
 },
 "nbformat": 4,
 "nbformat_minor": 5
}
