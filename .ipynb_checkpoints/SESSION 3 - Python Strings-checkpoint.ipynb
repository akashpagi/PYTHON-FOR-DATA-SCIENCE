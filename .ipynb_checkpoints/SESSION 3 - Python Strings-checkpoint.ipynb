{
 "cells": [
  {
   "cell_type": "markdown",
   "id": "2740cd2b",
   "metadata": {},
   "source": [
    "### STRINGS IN PYTHON :"
   ]
  },
  {
   "cell_type": "code",
   "execution_count": 5,
   "id": "af6dd8c0",
   "metadata": {},
   "outputs": [],
   "source": [
    "#1. String is a sequence of characters\n",
    "# In python specifically, strings are a sequence of Unicode Characters.\n",
    "# Diff ASCI(based on 8 bits) Vs Unicode(based on 16 bits : Store more characters)\n",
    "# \n",
    "#\n",
    "#\n",
    "#\n",
    "#\n",
    "#"
   ]
  },
  {
   "cell_type": "markdown",
   "id": "3c6dc322",
   "metadata": {},
   "source": [
    "#### CREATING STRINGS :"
   ]
  },
  {
   "cell_type": "code",
   "execution_count": 6,
   "id": "a1798da7",
   "metadata": {},
   "outputs": [],
   "source": [
    "# Empty string\n",
    "S = ''"
   ]
  },
  {
   "cell_type": "markdown",
   "id": "bcbd2128",
   "metadata": {},
   "source": [
    "#### ACCESSING STRINGS :"
   ]
  },
  {
   "cell_type": "code",
   "execution_count": null,
   "id": "8aa9c727",
   "metadata": {},
   "outputs": [],
   "source": []
  },
  {
   "cell_type": "markdown",
   "id": "e0afbc14",
   "metadata": {},
   "source": [
    "#### ADDING CHARACTERS IN STRINGS :"
   ]
  },
  {
   "cell_type": "code",
   "execution_count": null,
   "id": "9ae2f6c4",
   "metadata": {},
   "outputs": [],
   "source": []
  },
  {
   "cell_type": "markdown",
   "id": "f9d9771c",
   "metadata": {},
   "source": [
    "#### EIDTING A STRINGS:\n"
   ]
  },
  {
   "cell_type": "code",
   "execution_count": 4,
   "id": "5b5c9a5b",
   "metadata": {},
   "outputs": [],
   "source": [
    "#s  = 'Hello world'\n",
    "#del s[-1:-5:2]\n",
    "##print(s)"
   ]
  },
  {
   "cell_type": "code",
   "execution_count": null,
   "id": "2cee816e",
   "metadata": {},
   "outputs": [],
   "source": []
  },
  {
   "cell_type": "markdown",
   "id": "a2d6cf09",
   "metadata": {},
   "source": [
    "#### DELETING A STRINGS:"
   ]
  },
  {
   "cell_type": "code",
   "execution_count": null,
   "id": "75c02d80",
   "metadata": {},
   "outputs": [],
   "source": []
  },
  {
   "cell_type": "markdown",
   "id": "8431baf8",
   "metadata": {},
   "source": [
    "#### OPERSTIONS ON STRINGS :\n",
    "    "
   ]
  },
  {
   "cell_type": "code",
   "execution_count": null,
   "id": "b8840a37",
   "metadata": {},
   "outputs": [],
   "source": []
  },
  {
   "cell_type": "markdown",
   "id": "7a807572",
   "metadata": {},
   "source": [
    "#### STRING FUNCTIONS :\n"
   ]
  },
  {
   "cell_type": "code",
   "execution_count": null,
   "id": "051f183e",
   "metadata": {},
   "outputs": [],
   "source": []
  },
  {
   "cell_type": "code",
   "execution_count": null,
   "id": "8f33e376",
   "metadata": {},
   "outputs": [],
   "source": []
  },
  {
   "cell_type": "code",
   "execution_count": null,
   "id": "9900b4d6",
   "metadata": {},
   "outputs": [],
   "source": []
  },
  {
   "cell_type": "code",
   "execution_count": null,
   "id": "0e8531f6",
   "metadata": {},
   "outputs": [],
   "source": []
  },
  {
   "cell_type": "code",
   "execution_count": null,
   "id": "633dbe0e",
   "metadata": {},
   "outputs": [],
   "source": []
  },
  {
   "cell_type": "code",
   "execution_count": null,
   "id": "3d53ea8a",
   "metadata": {},
   "outputs": [],
   "source": []
  },
  {
   "cell_type": "code",
   "execution_count": null,
   "id": "e4b87442",
   "metadata": {},
   "outputs": [],
   "source": []
  },
  {
   "cell_type": "code",
   "execution_count": null,
   "id": "c80202b0",
   "metadata": {},
   "outputs": [],
   "source": []
  },
  {
   "cell_type": "code",
   "execution_count": null,
   "id": "07f530d2",
   "metadata": {},
   "outputs": [],
   "source": []
  },
  {
   "cell_type": "code",
   "execution_count": null,
   "id": "558fa5ac",
   "metadata": {},
   "outputs": [],
   "source": []
  },
  {
   "cell_type": "code",
   "execution_count": null,
   "id": "62f08bbd",
   "metadata": {},
   "outputs": [],
   "source": []
  },
  {
   "cell_type": "code",
   "execution_count": null,
   "id": "b42b60f8",
   "metadata": {},
   "outputs": [],
   "source": []
  },
  {
   "cell_type": "code",
   "execution_count": null,
   "id": "88da741c",
   "metadata": {},
   "outputs": [],
   "source": []
  }
 ],
 "metadata": {
  "kernelspec": {
   "display_name": "Python 3 (ipykernel)",
   "language": "python",
   "name": "python3"
  },
  "language_info": {
   "codemirror_mode": {
    "name": "ipython",
    "version": 3
   },
   "file_extension": ".py",
   "mimetype": "text/x-python",
   "name": "python",
   "nbconvert_exporter": "python",
   "pygments_lexer": "ipython3",
   "version": "3.10.7"
  }
 },
 "nbformat": 4,
 "nbformat_minor": 5
}
