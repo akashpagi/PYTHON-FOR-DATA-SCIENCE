{
 "cells": [
  {
   "cell_type": "markdown",
   "id": "2740cd2b",
   "metadata": {},
   "source": [
    "### STRINGS IN PYTHON :"
   ]
  },
  {
   "cell_type": "code",
   "execution_count": 5,
   "id": "af6dd8c0",
   "metadata": {},
   "outputs": [],
   "source": [
    "#1. String is a sequence of characters\n",
    "# In python specifically, strings are a sequence of Unicode Characters.\n",
    "# Diff ASCI(based on 8 bits) Vs Unicode(based on 16 bits : Store more characters)\n",
    "# \n",
    "#\n",
    "#\n",
    "#\n",
    "#\n",
    "#"
   ]
  },
  {
   "cell_type": "markdown",
   "id": "3c6dc322",
   "metadata": {},
   "source": [
    "#### CREATING STRINGS :"
   ]
  },
  {
   "cell_type": "code",
   "execution_count": 6,
   "id": "a1798da7",
   "metadata": {},
   "outputs": [
    {
     "name": "stdout",
     "output_type": "stream",
     "text": [
      "Hello\n",
      "allows embedded \"double\" quotes\n",
      "allows embedded 'single' quotes\n",
      "Three single quotes  \"\"\"Three double quotes\"\"\"\n"
     ]
    }
   ],
   "source": [
    "# Empty string\n",
    "S = ''\n",
    "Single_quotes = 'allows embedded \"double\" quotes'\n",
    "\n",
    "Double_quotes = \"allows embedded 'single' quotes\"\n",
    "\n",
    "Triple_quoted = '''Three single quotes  \"\"\"Three double quotes\"\"\"'''\n",
    "\n",
    "s = str(7s)\n",
    "print(s)\n",
    "print(Single_quotes)\n",
    "print(Double_quotes)\n",
    "print(Triple_quoted)"
   ]
  },
  {
   "cell_type": "markdown",
   "id": "bcbd2128",
   "metadata": {},
   "source": [
    "#### ACCESSING STRINGS USING INDEXING:"
   ]
  },
  {
   "cell_type": "code",
   "execution_count": 4,
   "id": "8aa9c727",
   "metadata": {},
   "outputs": [
    {
     "name": "stdout",
     "output_type": "stream",
     "text": [
      "String :  ATTACK_ON_TITAN\n",
      "Positive indexing\n",
      "K\n",
      "C\n",
      "N\n",
      "Negative indexing\n",
      "N\n",
      "I\n",
      "N\n"
     ]
    }
   ],
   "source": [
    "#Positive Indexing (Left to right access the index of string)\n",
    "# Stat form 0 to n\n",
    "s = 'ATTACK_ON_TITAN'\n",
    "print('String : ',s)\n",
    "print('Positive indexing')\n",
    "print(s[5])\n",
    "print(s[4])\n",
    "print(s[8])\n",
    "\n",
    "#Negative Indexing (right to left access the index of string)\n",
    "# negative index start from -1 and Stat form end of the string \n",
    "print('Negative indexing')\n",
    "print(s[-1])\n",
    "print(s[-4])\n",
    "print(s[-7])"
   ]
  },
  {
   "cell_type": "markdown",
   "id": "2f9095af",
   "metadata": {},
   "source": [
    "##### SLICING :\n",
    "##### Slicing is done in a string to obtain sub-strings of the original string. Python allows us to specify where to start slicing, and where to end. Also, we can specify the step value as shown in the below syntax.\n",
    "##### Syntax: \n",
    "###### string_object[start : stop : steps]\n",
    "###### Here, slicing starts from the index 'start' and ends at the index 'stop' in the step of 'steps'. The default value for\n",
    "###### start - 0\n",
    "###### stop - the last index of the string and\n",
    "###### step - 1"
   ]
  },
  {
   "cell_type": "code",
   "execution_count": 14,
   "id": "ca76c75a",
   "metadata": {},
   "outputs": [
    {
     "name": "stdout",
     "output_type": "stream",
     "text": [
      "TTACK\n",
      "ATTACK_ON\n",
      "TAK\n",
      "NO_KCATTA\n",
      "TITAN\n",
      "NATIT\n",
      "NATIT_NO_KCATTA\n"
     ]
    }
   ],
   "source": [
    "s = 'ATTACK_ON_TITAN'\n",
    "# positive \n",
    "print(s[1:6])\n",
    "print(s[:9])\n",
    "print(s[1:6:2])\n",
    "\n",
    "#  negative\n",
    "print(s[8::-1])\n",
    "print(s[-5:])\n",
    "print(s[-1:-6:-1])\n",
    "print(s[::-1])"
   ]
  },
  {
   "cell_type": "markdown",
   "id": "e0afbc14",
   "metadata": {},
   "source": [
    "#### ADDING CHARACTERS IN STRINGS :"
   ]
  },
  {
   "cell_type": "code",
   "execution_count": null,
   "id": "9ae2f6c4",
   "metadata": {},
   "outputs": [],
   "source": []
  },
  {
   "cell_type": "markdown",
   "id": "f9d9771c",
   "metadata": {},
   "source": [
    "#### EDITING A STRINGS:\n"
   ]
  },
  {
   "cell_type": "code",
   "execution_count": 1,
   "id": "5b5c9a5b",
   "metadata": {},
   "outputs": [
    {
     "ename": "TypeError",
     "evalue": "'str' object does not support item assignment",
     "output_type": "error",
     "traceback": [
      "\u001b[1;31m---------------------------------------------------------------------------\u001b[0m",
      "\u001b[1;31mTypeError\u001b[0m                                 Traceback (most recent call last)",
      "Cell \u001b[1;32mIn [1], line 2\u001b[0m\n\u001b[0;32m      1\u001b[0m s  \u001b[38;5;241m=\u001b[39m \u001b[38;5;124m'\u001b[39m\u001b[38;5;124mHello world\u001b[39m\u001b[38;5;124m'\u001b[39m\n\u001b[1;32m----> 2\u001b[0m s[\u001b[38;5;241m0\u001b[39m] \u001b[38;5;241m=\u001b[39m \u001b[38;5;124m'\u001b[39m\u001b[38;5;124mh\u001b[39m\u001b[38;5;124m'\u001b[39m\n",
      "\u001b[1;31mTypeError\u001b[0m: 'str' object does not support item assignment"
     ]
    }
   ],
   "source": [
    "# string is a inmutable(not changeble)\n",
    "s  = 'Hello world'\n",
    "s[0] = 'h'"
   ]
  },
  {
   "cell_type": "code",
   "execution_count": 3,
   "id": "2cee816e",
   "metadata": {},
   "outputs": [],
   "source": []
  },
  {
   "cell_type": "markdown",
   "id": "a2d6cf09",
   "metadata": {},
   "source": [
    "#### DELETING A STRINGS:"
   ]
  },
  {
   "cell_type": "code",
   "execution_count": null,
   "id": "75c02d80",
   "metadata": {},
   "outputs": [],
   "source": [
    "s = 'hello wolrld'\n",
    "del s\n",
    "#print(s)"
   ]
  },
  {
   "cell_type": "markdown",
   "id": "8431baf8",
   "metadata": {},
   "source": [
    "#### OPERATIONS ON STRINGS :\n",
    "##### Arithemetic Operations : + ,*\n",
    "##### Relational Operations : all work on strings\n",
    "##### Logical Operations :\n",
    "##### Loops on strings :\n",
    "##### Membership operations:\n",
    "    "
   ]
  },
  {
   "cell_type": "code",
   "execution_count": 5,
   "id": "b8840a37",
   "metadata": {},
   "outputs": [
    {
     "name": "stdout",
     "output_type": "stream",
     "text": [
      "ATTACK ON TITAN\n"
     ]
    }
   ],
   "source": [
    "#Arithemetic Operation : + ,* \n",
    "\n",
    "print('ATTACK' + ' ' + 'ON' + ' ' + 'TITAN')\n",
    "print('TATAKAE' *10, end=' ')\n"
   ]
  },
  {
   "cell_type": "markdown",
   "id": "7a807572",
   "metadata": {},
   "source": [
    "#### STRING FUNCTIONS :\n"
   ]
  },
  {
   "cell_type": "code",
   "execution_count": null,
   "id": "051f183e",
   "metadata": {},
   "outputs": [],
   "source": []
  },
  {
   "cell_type": "code",
   "execution_count": null,
   "id": "8f33e376",
   "metadata": {},
   "outputs": [],
   "source": []
  },
  {
   "cell_type": "code",
   "execution_count": null,
   "id": "9900b4d6",
   "metadata": {},
   "outputs": [],
   "source": []
  },
  {
   "cell_type": "code",
   "execution_count": null,
   "id": "0e8531f6",
   "metadata": {},
   "outputs": [],
   "source": []
  },
  {
   "cell_type": "code",
   "execution_count": null,
   "id": "633dbe0e",
   "metadata": {},
   "outputs": [],
   "source": []
  },
  {
   "cell_type": "code",
   "execution_count": null,
   "id": "3d53ea8a",
   "metadata": {},
   "outputs": [],
   "source": []
  },
  {
   "cell_type": "code",
   "execution_count": null,
   "id": "e4b87442",
   "metadata": {},
   "outputs": [],
   "source": []
  },
  {
   "cell_type": "code",
   "execution_count": null,
   "id": "c80202b0",
   "metadata": {},
   "outputs": [],
   "source": []
  },
  {
   "cell_type": "code",
   "execution_count": null,
   "id": "07f530d2",
   "metadata": {},
   "outputs": [],
   "source": []
  },
  {
   "cell_type": "code",
   "execution_count": null,
   "id": "558fa5ac",
   "metadata": {},
   "outputs": [],
   "source": []
  },
  {
   "cell_type": "code",
   "execution_count": null,
   "id": "62f08bbd",
   "metadata": {},
   "outputs": [],
   "source": []
  },
  {
   "cell_type": "code",
   "execution_count": null,
   "id": "b42b60f8",
   "metadata": {},
   "outputs": [],
   "source": []
  },
  {
   "cell_type": "code",
   "execution_count": null,
   "id": "88da741c",
   "metadata": {},
   "outputs": [],
   "source": []
  }
 ],
 "metadata": {
  "kernelspec": {
   "display_name": "Python 3 (ipykernel)",
   "language": "python",
   "name": "python3"
  },
  "language_info": {
   "codemirror_mode": {
    "name": "ipython",
    "version": 3
   },
   "file_extension": ".py",
   "mimetype": "text/x-python",
   "name": "python",
   "nbconvert_exporter": "python",
   "pygments_lexer": "ipython3",
   "version": "3.10.7"
  }
 },
 "nbformat": 4,
 "nbformat_minor": 5
}
