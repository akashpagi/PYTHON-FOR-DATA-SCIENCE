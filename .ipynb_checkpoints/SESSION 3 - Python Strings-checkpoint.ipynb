{
 "cells": [
  {
   "cell_type": "markdown",
   "id": "2740cd2b",
   "metadata": {},
   "source": [
    "### STRINGS IN PYTHON :"
   ]
  },
  {
   "cell_type": "code",
   "execution_count": 5,
   "id": "af6dd8c0",
   "metadata": {},
   "outputs": [],
   "source": [
    "#1. String is a sequence of characters\n",
    "# In python specifically, strings are a sequence of Unicode Characters.\n",
    "# Diff ASCII(based on 8 bits) Vs Unicode(based on 16 bits : Store more characters)\n",
    "# \n"
   ]
  },
  {
   "cell_type": "markdown",
   "id": "3c6dc322",
   "metadata": {},
   "source": [
    "#### CREATING STRINGS :"
   ]
  },
  {
   "cell_type": "code",
   "execution_count": 6,
   "id": "a1798da7",
   "metadata": {},
   "outputs": [
    {
     "name": "stdout",
     "output_type": "stream",
     "text": [
      "Hello\n",
      "allows embedded \"double\" quotes\n",
      "allows embedded 'single' quotes\n",
      "Three single quotes  \"\"\"Three double quotes\"\"\"\n"
     ]
    }
   ],
   "source": [
    "# Empty string\n",
    "S = ''\n",
    "Single_quotes = 'allows embedded \"double\" quotes'\n",
    "\n",
    "Double_quotes = \"allows embedded 'single' quotes\"\n",
    "\n",
    "Triple_quoted = '''Three single quotes  \"\"\"Three double quotes\"\"\"'''\n",
    "\n",
    "s = str(7s)\n",
    "print(s)\n",
    "print(Single_quotes)\n",
    "print(Double_quotes)\n",
    "print(Triple_quoted)"
   ]
  },
  {
   "cell_type": "markdown",
   "id": "bcbd2128",
   "metadata": {},
   "source": [
    "#### ACCESSING STRINGS USING INDEXING:"
   ]
  },
  {
   "cell_type": "code",
   "execution_count": 4,
   "id": "8aa9c727",
   "metadata": {},
   "outputs": [
    {
     "name": "stdout",
     "output_type": "stream",
     "text": [
      "String :  ATTACK_ON_TITAN\n",
      "Positive indexing\n",
      "K\n",
      "C\n",
      "N\n",
      "Negative indexing\n",
      "N\n",
      "I\n",
      "N\n"
     ]
    }
   ],
   "source": [
    "#Positive Indexing (Left to right access the index of string)\n",
    "# Stat form 0 to n\n",
    "s = 'ATTACK_ON_TITAN'\n",
    "print('String : ',s)\n",
    "print('Positive indexing')\n",
    "print(s[5])\n",
    "print(s[4])\n",
    "print(s[8])\n",
    "\n",
    "#Negative Indexing (right to left access the index of string)\n",
    "# negative index start from -1 and Stat form end of the string \n",
    "print('Negative indexing')\n",
    "print(s[-1])\n",
    "print(s[-4])\n",
    "print(s[-7])"
   ]
  },
  {
   "cell_type": "markdown",
   "id": "2f9095af",
   "metadata": {},
   "source": [
    "##### SLICING :\n",
    "##### Slicing is done in a string to obtain sub-strings of the original string. Python allows us to specify where to start slicing, and where to end. Also, we can specify the step value as shown in the below syntax.\n",
    "##### Syntax: \n",
    "###### string_object[start : stop : steps]\n",
    "###### Here, slicing starts from the index 'start' and ends at the index 'stop' in the step of 'steps'. The default value for\n",
    "###### start - 0\n",
    "###### stop - the last index of the string and\n",
    "###### step - 1"
   ]
  },
  {
   "cell_type": "code",
   "execution_count": 14,
   "id": "ca76c75a",
   "metadata": {},
   "outputs": [
    {
     "name": "stdout",
     "output_type": "stream",
     "text": [
      "TTACK\n",
      "ATTACK_ON\n",
      "TAK\n",
      "NO_KCATTA\n",
      "TITAN\n",
      "NATIT\n",
      "NATIT_NO_KCATTA\n"
     ]
    }
   ],
   "source": [
    "s = 'ATTACK_ON_TITAN'\n",
    "# positive \n",
    "print(s[1:6])\n",
    "print(s[:9])\n",
    "print(s[1:6:2])\n",
    "\n",
    "#  negative\n",
    "print(s[8::-1])\n",
    "print(s[-5:])\n",
    "print(s[-1:-6:-1])\n",
    "print(s[::-1])"
   ]
  },
  {
   "cell_type": "markdown",
   "id": "f9d9771c",
   "metadata": {},
   "source": [
    "#### EDITING A STRINGS:\n"
   ]
  },
  {
   "cell_type": "code",
   "execution_count": 24,
   "id": "5b5c9a5b",
   "metadata": {},
   "outputs": [
    {
     "ename": "TypeError",
     "evalue": "'str' object does not support item assignment",
     "output_type": "error",
     "traceback": [
      "\u001b[1;31m---------------------------------------------------------------------------\u001b[0m",
      "\u001b[1;31mTypeError\u001b[0m                                 Traceback (most recent call last)",
      "Cell \u001b[1;32mIn [24], line 3\u001b[0m\n\u001b[0;32m      1\u001b[0m \u001b[38;5;66;03m# string is a immutable(not changeble)\u001b[39;00m\n\u001b[0;32m      2\u001b[0m s  \u001b[38;5;241m=\u001b[39m \u001b[38;5;124m'\u001b[39m\u001b[38;5;124mHello world\u001b[39m\u001b[38;5;124m'\u001b[39m\n\u001b[1;32m----> 3\u001b[0m s[\u001b[38;5;241m0\u001b[39m] \u001b[38;5;241m=\u001b[39m \u001b[38;5;124m'\u001b[39m\u001b[38;5;124mh\u001b[39m\u001b[38;5;124m'\u001b[39m\n",
      "\u001b[1;31mTypeError\u001b[0m: 'str' object does not support item assignment"
     ]
    }
   ],
   "source": [
    "# string is a immutable(not changeble)\n",
    "s  = 'Hello world'\n",
    "s[0] = 'h'"
   ]
  },
  {
   "cell_type": "code",
   "execution_count": 30,
   "id": "2cee816e",
   "metadata": {},
   "outputs": [
    {
     "name": "stdout",
     "output_type": "stream",
     "text": [
      "Enter the number :efkfn\n"
     ]
    },
    {
     "ename": "TypeError",
     "evalue": "'str' object is not callable",
     "output_type": "error",
     "traceback": [
      "\u001b[1;31m---------------------------------------------------------------------------\u001b[0m",
      "\u001b[1;31mTypeError\u001b[0m                                 Traceback (most recent call last)",
      "Cell \u001b[1;32mIn [30], line 1\u001b[0m\n\u001b[1;32m----> 1\u001b[0m s \u001b[38;5;241m=\u001b[39m \u001b[38;5;28mstr\u001b[39m(\u001b[38;5;28minput\u001b[39m(\u001b[38;5;124m'\u001b[39m\u001b[38;5;124mEnter the number :\u001b[39m\u001b[38;5;124m'\u001b[39m))\n\u001b[0;32m      2\u001b[0m l \u001b[38;5;241m=\u001b[39m \u001b[38;5;28mlen\u001b[39m(s)\n\u001b[0;32m      3\u001b[0m \u001b[38;5;28mprint\u001b[39m(l)\n",
      "\u001b[1;31mTypeError\u001b[0m: 'str' object is not callable"
     ]
    }
   ],
   "source": [
    "s = str(input('Enter the number :'))\n",
    "l = len(s)\n",
    "print(l)\n",
    "for a in range(-1,(-l-1),-1):\n",
    "    print(s[a])\n"
   ]
  },
  {
   "cell_type": "markdown",
   "id": "a2d6cf09",
   "metadata": {},
   "source": [
    "#### DELETING A STRINGS:"
   ]
  },
  {
   "cell_type": "code",
   "execution_count": null,
   "id": "75c02d80",
   "metadata": {},
   "outputs": [],
   "source": [
    "s = 'hello wolrld'\n",
    "del s\n",
    "#print(s)"
   ]
  },
  {
   "cell_type": "markdown",
   "id": "8431baf8",
   "metadata": {},
   "source": [
    "#### OPERATIONS ON STRINGS :\n",
    "##### Arithemetic Operations : + ,*\n",
    "##### Relational Operations : all work on strings\n",
    "##### Logical Operations :\n",
    "##### Loops on strings :\n",
    "##### Membership operations: \n",
    "    "
   ]
  },
  {
   "cell_type": "code",
   "execution_count": 23,
   "id": "b8840a37",
   "metadata": {},
   "outputs": [
    {
     "name": "stdout",
     "output_type": "stream",
     "text": [
      "ATTACK ON TITAN\n",
      "TATAKAETATAKAETATAKAETATAKAETATAKAETATAKAETATAKAETATAKAETATAKAETATAKAE\n",
      "\n",
      "True\n",
      "False\n",
      "False\n",
      "hello\n",
      "\n",
      "pune\n",
      "pune\n",
      "pune\n",
      "pune\n",
      "pune\n",
      "\n",
      "True\n",
      "False\n"
     ]
    }
   ],
   "source": [
    "#Arithemetic Operation : + ,* \n",
    "\n",
    "#string concatination\n",
    "print('ATTACK' + ' ' + 'ON' + ' ' + 'TITAN')\n",
    "print('TATAKAE' *10)\n",
    "print()\n",
    "\n",
    "#Relational Operations : all work on strings\n",
    "print('delhi'=='delhi')\n",
    "\n",
    "\n",
    "print('mumbai' > 'pune')\n",
    "print('Pune' > 'pune')\n",
    "\n",
    "#Logical Operations :\n",
    "\" \" or 'Hello'\n",
    "print(\" \" and 'hello')\n",
    "print()\n",
    "\n",
    "#Loops on strings :\n",
    "for i in 'delhi':\n",
    "    print('pune')\n",
    "    \n",
    "print()\n",
    "#Membership operations: in ,not in\n",
    "print('D' in 'Delhi')\n",
    "print('D' not in 'Delhi')\n",
    "    "
   ]
  },
  {
   "cell_type": "code",
   "execution_count": 18,
   "id": "0b518467",
   "metadata": {},
   "outputs": [
    {
     "name": "stdout",
     "output_type": "stream",
     "text": [
      "True\n",
      "False\n"
     ]
    }
   ],
   "source": []
  },
  {
   "cell_type": "markdown",
   "id": "7a807572",
   "metadata": {},
   "source": [
    "#### STRING FUNCTIONS :\n",
    "##### common functions : it's works on other datatypes like tuple, set ,dictionary ,list\n",
    "###### len() , max() , max() ,sorted() \n"
   ]
  },
  {
   "cell_type": "code",
   "execution_count": 3,
   "id": "051f183e",
   "metadata": {},
   "outputs": [
    {
     "name": "stdout",
     "output_type": "stream",
     "text": [
      "Here length of the 'ATTACK' is  6\n"
     ]
    }
   ],
   "source": [
    "# len() \n",
    "# ->  len() function returns the length of a string\n",
    "# -> Count space also\n",
    "s  = \"ATTACK\"\n",
    "print(\"Here length of the 'ATTACK' is \",len(s))"
   ]
  },
  {
   "cell_type": "code",
   "execution_count": 4,
   "id": "8f33e376",
   "metadata": {},
   "outputs": [
    {
     "name": "stdout",
     "output_type": "stream",
     "text": [
      "t\n"
     ]
    }
   ],
   "source": [
    "# max()\n",
    "# max character in string\n",
    "s = 'Attack On TiTan'\n",
    "print(max(s))"
   ]
  },
  {
   "cell_type": "code",
   "execution_count": 6,
   "id": "0e8531f6",
   "metadata": {},
   "outputs": [
    {
     "data": {
      "text/plain": [
       "' '"
      ]
     },
     "execution_count": 6,
     "metadata": {},
     "output_type": "execute_result"
    }
   ],
   "source": [
    "# min()\n",
    "# min character in string based on ascii values\n",
    "s1 = 'Attack On TiTan'\n",
    "min(s1)"
   ]
  },
  {
   "cell_type": "code",
   "execution_count": 10,
   "id": "633dbe0e",
   "metadata": {},
   "outputs": [
    {
     "name": "stdout",
     "output_type": "stream",
     "text": [
      "[' ', ' ', 'A', 'O', 'T', 'T', 'a', 'a', 'c', 'i', 'k', 'n', 'n', 't', 't']\n",
      "\n",
      "['t', 't', 't', 'n', 'n', 'k', 'i', 'c', 'a', 'a', 'T', 'O', 'A', ' ', ' ']\n"
     ]
    }
   ],
   "source": [
    "# sorted()\n",
    "# -> sorted() function returns a sorted list of the specified iterable object.\n",
    "# You can specify ascending or descending order. Strings are sorted alphabetically, and numbers are sorted numerically.\n",
    "Vs = 'Attack On Titan'\n",
    "print(sorted(s))\n",
    "print()\n",
    "s = 'Attack On Titan'\n",
    "print(sorted(s, reverse = True))"
   ]
  },
  {
   "cell_type": "markdown",
   "id": "35b3486b",
   "metadata": {},
   "source": [
    "#### Capitalize() / Title() / Upper() / lower() / Swapcase() :"
   ]
  },
  {
   "cell_type": "code",
   "execution_count": 13,
   "id": "e4b87442",
   "metadata": {},
   "outputs": [
    {
     "data": {
      "text/plain": [
       "'Eren'"
      ]
     },
     "execution_count": 13,
     "metadata": {},
     "output_type": "execute_result"
    }
   ],
   "source": [
    "# capitalize() :\n",
    "# first character of string is in Upper case\n",
    "s = 'eren'\n",
    "s.capitalize()"
   ]
  },
  {
   "cell_type": "code",
   "execution_count": 15,
   "id": "c80202b0",
   "metadata": {},
   "outputs": [
    {
     "data": {
      "text/plain": [
       "'Attack On Titan'"
      ]
     },
     "execution_count": 15,
     "metadata": {},
     "output_type": "execute_result"
    }
   ],
   "source": [
    "# Title() :\n",
    "# Every world of string first character is in Upper case\n",
    "s = 'attack on titan'\n",
    "s.title()"
   ]
  },
  {
   "cell_type": "code",
   "execution_count": 17,
   "id": "07f530d2",
   "metadata": {},
   "outputs": [
    {
     "data": {
      "text/plain": [
       "'EREN'"
      ]
     },
     "execution_count": 17,
     "metadata": {},
     "output_type": "execute_result"
    }
   ],
   "source": [
    "# Upper() :\n",
    "# convert the lowercase string into the Uppercase string\n",
    "s = 'eren'\n",
    "s.upper()"
   ]
  },
  {
   "cell_type": "code",
   "execution_count": 23,
   "id": "558fa5ac",
   "metadata": {},
   "outputs": [
    {
     "data": {
      "text/plain": [
       "'eren'"
      ]
     },
     "execution_count": 23,
     "metadata": {},
     "output_type": "execute_result"
    }
   ],
   "source": [
    "# lower() :\n",
    "# convert the uppercase string into the loercase string\n",
    "s = 'EReN'\n",
    "s.lower()"
   ]
  },
  {
   "cell_type": "code",
   "execution_count": 24,
   "id": "62f08bbd",
   "metadata": {},
   "outputs": [
    {
     "data": {
      "text/plain": [
       "'erEn'"
      ]
     },
     "execution_count": 24,
     "metadata": {},
     "output_type": "execute_result"
    }
   ],
   "source": [
    "# swapcase()\n",
    "# lowercaser coverted into uppercase and vis versa\n",
    "s = 'EReN'\n",
    "s.swapcase()"
   ]
  },
  {
   "cell_type": "markdown",
   "id": "5ef36e52",
   "metadata": {},
   "source": [
    "#### count() / find() / index() :"
   ]
  },
  {
   "cell_type": "code",
   "execution_count": 28,
   "id": "88da741c",
   "metadata": {},
   "outputs": [
    {
     "name": "stdout",
     "output_type": "stream",
     "text": [
      "5\n",
      "11\n"
     ]
    }
   ],
   "source": [
    "# count() \n",
    "#count() Returns the number of times a specified value occurs in a string\n",
    "s = 'Returns the number of times a specified value occurs in a string'\n",
    "print(s.count('i'))\n",
    "print(s.count(' '))"
   ]
  },
  {
   "cell_type": "code",
   "execution_count": 1,
   "id": "1659cd57",
   "metadata": {},
   "outputs": [
    {
     "name": "stdout",
     "output_type": "stream",
     "text": [
      "20\n",
      "9\n",
      "-1\n"
     ]
    }
   ],
   "source": [
    "#find()\n",
    "# Searches the string for a specified value and returns the position of where it was found.\n",
    "# The find() method finds the first occurrence of the specified value.\n",
    "# The find() method returns -1 if the value is not found.\n",
    "# The find() method is almost the same as the index() method, the only difference is that the index() method raises an exception if the value is not found. (See example below)\n",
    "# syntax : string.find(value, start, end)\n",
    "\n",
    "\n",
    "s = 'Searches the string for a specified value'\n",
    "print(s.find('for'))\n",
    "print(s.find('the',5,20))\n",
    "print(s.find('z')) # -1"
   ]
  },
  {
   "cell_type": "code",
   "execution_count": 37,
   "id": "15c97152",
   "metadata": {},
   "outputs": [
    {
     "name": "stdout",
     "output_type": "stream",
     "text": [
      "1\n",
      "9\n"
     ]
    },
    {
     "ename": "ValueError",
     "evalue": "substring not found",
     "output_type": "error",
     "traceback": [
      "\u001b[1;31m---------------------------------------------------------------------------\u001b[0m",
      "\u001b[1;31mValueError\u001b[0m                                Traceback (most recent call last)",
      "Cell \u001b[1;32mIn [37], line 9\u001b[0m\n\u001b[0;32m      7\u001b[0m \u001b[38;5;28mprint\u001b[39m(s\u001b[38;5;241m.\u001b[39mindex(\u001b[38;5;124m'\u001b[39m\u001b[38;5;124me\u001b[39m\u001b[38;5;124m'\u001b[39m))\n\u001b[0;32m      8\u001b[0m \u001b[38;5;28mprint\u001b[39m(s\u001b[38;5;241m.\u001b[39mindex(\u001b[38;5;124m'\u001b[39m\u001b[38;5;124mthe\u001b[39m\u001b[38;5;124m'\u001b[39m,\u001b[38;5;241m5\u001b[39m,\u001b[38;5;241m20\u001b[39m))\n\u001b[1;32m----> 9\u001b[0m \u001b[38;5;28mprint\u001b[39m(s\u001b[38;5;241m.\u001b[39mindex(\u001b[38;5;124m'\u001b[39m\u001b[38;5;124mz\u001b[39m\u001b[38;5;124m'\u001b[39m))\n",
      "\u001b[1;31mValueError\u001b[0m: substring not found"
     ]
    }
   ],
   "source": [
    "# index()\n",
    "# The index() method finds the first occurrence of the specified value.\n",
    "# The index() method raises an exception if the value is not found.\n",
    "# The index() method is almost the same as the find() method, the only difference is that the find() method returns -1 if the value is not found. (See example below)\n",
    "\n",
    "s = 'Searches the string for a specified value'\n",
    "print(s.index('e'))\n",
    "print(s.index('the',5,20))\n",
    "print(s.index('z')) # error\n"
   ]
  },
  {
   "cell_type": "markdown",
   "id": "e6a89d59",
   "metadata": {},
   "source": [
    "##### Endswith() / Startswith() :"
   ]
  },
  {
   "cell_type": "code",
   "execution_count": 15,
   "id": "1dc9f46c",
   "metadata": {},
   "outputs": [
    {
     "name": "stdout",
     "output_type": "stream",
     "text": [
      "False\n",
      "True\n",
      "False\n"
     ]
    }
   ],
   "source": [
    "# endswith() :\n",
    "#The endswith() method returns True if the string ends with the specified value, otherwise False.\n",
    "# syntax :  string.endswith(value, start, end)\n",
    "s = 'The endswith() method returns True if the string ends with'\n",
    "print(s.endswith('so'))\n",
    "print(s.endswith('with'))\n",
    "x = s.endswith('returns', 0 ,19)\n",
    "print(x)\n"
   ]
  },
  {
   "cell_type": "code",
   "execution_count": 14,
   "id": "f45488f1",
   "metadata": {},
   "outputs": [
    {
     "name": "stdout",
     "output_type": "stream",
     "text": [
      "True\n",
      "True\n"
     ]
    }
   ],
   "source": [
    "# startswith():\n",
    "# The startswith() method returns True if the string starts with the specified value, otherwise False.\n",
    "# syntax : string.startswith(value, start, end)\n",
    "s = 'The startswith() method returns True if the string starts with'\n",
    "print(s.startswith('T'))\n",
    "x = s.startswith('The', 0 ,20) \n",
    "print(x)"
   ]
  },
  {
   "cell_type": "markdown",
   "id": "1d4cf73d",
   "metadata": {},
   "source": [
    "#### String formatting\n",
    "#### format() method :\n",
    "##### The format() method formats the specified value(s) and insert them inside the string's placeholder.\n",
    "###### The placeholder is defined using curly brackets: {}. Read more about the placeholders in the Placeholder section below.\n",
    "##### The format() method returns the formatted string.\n",
    "##### syntax : string.format(value1, value2...)\n"
   ]
  },
  {
   "cell_type": "code",
   "execution_count": 24,
   "id": "47d7f6ab",
   "metadata": {},
   "outputs": [
    {
     "name": "stdout",
     "output_type": "stream",
     "text": [
      "Enter the first name : akash\n",
      "Enter the age :21\n",
      "My name is akash and i'm 21 years old.\n",
      "0 1\n",
      "20 90\n"
     ]
    }
   ],
   "source": [
    "first_name = input('Enter the first name : ')\n",
    "age = int(input('Enter the age :'))\n",
    "\n",
    "x = \"My name is {} and i'm {} years old.\"\n",
    "print(x.format(first_name,age))\n",
    "\n",
    "print('{0} {1}'.format(0,1))\n",
    "\n",
    "print('{n1} {n2}'.format(n1=20,n2=90))"
   ]
  },
  {
   "cell_type": "markdown",
   "id": "de237556",
   "metadata": {},
   "source": [
    "#### String Methods / Functions :\n",
    "#### replace() / split() / join()"
   ]
  },
  {
   "cell_type": "code",
   "execution_count": 28,
   "id": "d8203a84",
   "metadata": {
    "scrolled": true
   },
   "outputs": [
    {
     "name": "stdout",
     "output_type": "stream",
     "text": [
      "HTML is a markup language\n",
      "\n",
      "one one was a race horse, two two was one too.\n",
      "three three was a race horse, two two was one too.\n"
     ]
    }
   ],
   "source": [
    "# replace():\n",
    "# The replace() method replaces a specified phrase with another specified phrase.\n",
    "# Note: All occurrences of the specified phrase will be replaced, if nothing else is specified.\n",
    "# syntax \"string.replace(oldvalue, newvalue, count)\n",
    "\n",
    "txt = 'HTML is a programming language'\n",
    "x = txt.replace('programming','markup')\n",
    "print(x)\n",
    "print()\n",
    "txt1 = \"one one was a race horse, two two was one too.\"\n",
    "print(txt1)\n",
    "\n",
    "x1 = txt1.replace(\"one\", \"three\", 2)\n",
    "\n",
    "print(x1)"
   ]
  },
  {
   "cell_type": "code",
   "execution_count": 38,
   "id": "f816e60f",
   "metadata": {},
   "outputs": [
    {
     "name": "stdout",
     "output_type": "stream",
     "text": [
      "['Hello', 'everyone', ',', 'My', 'name', 'is', 'Akash,', 'I', 'am', '21', 'years', 'old']\n",
      "['H', 'llo ', 'v', 'ryon', ' , My nam', ' is Akash, I am 21 y', 'ars old']\n"
     ]
    }
   ],
   "source": [
    "#split():\n",
    "# The split() method splits a string into a list.\n",
    "# You can specify the separator, default separator is any whitespace.\n",
    "# Note: When maxsplit is specified, the list will contain the specified number of elements plus one.\n",
    "# syntax : string.split(separator, maxsplit)\n",
    "\n",
    "txt = \"Hello everyone , My name is Akash, I am 21 years old\"\n",
    "x = txt.split()\n",
    "x1 = txt.split('e')\n",
    "print(x)\n",
    "print(x1)"
   ]
  },
  {
   "cell_type": "code",
   "execution_count": 41,
   "id": "4355a623",
   "metadata": {},
   "outputs": [
    {
     "name": "stdout",
     "output_type": "stream",
     "text": [
      "['H', 'llo ', 'v', 'ryon', ' , My nam', ' is Akash, I am 21 y', 'ars old']\n"
     ]
    },
    {
     "data": {
      "text/plain": [
       "'Hello everyone , My name is Akash, I am 21 years old'"
      ]
     },
     "execution_count": 41,
     "metadata": {},
     "output_type": "execute_result"
    }
   ],
   "source": [
    "# join() :\n",
    "# The join() method takes all items in an iterable and joins them into one string.\n",
    "# A string must be specified as the separator.\n",
    "# syntax : string.join(iterable)\n",
    "\n",
    "txt = \"Hello everyone , My name is Akash, I am 21 years old\"\n",
    "x = txt.split('e')\n",
    "print(x)\n",
    "'e'.join(x)"
   ]
  },
  {
   "cell_type": "markdown",
   "id": "00d2ad1c",
   "metadata": {},
   "source": [
    "#### Stirp()"
   ]
  },
  {
   "cell_type": "code",
   "execution_count": 42,
   "id": "b8587ed4",
   "metadata": {},
   "outputs": [
    {
     "name": "stdout",
     "output_type": "stream",
     "text": [
      "eren\n"
     ]
    }
   ],
   "source": [
    "#strip():\n",
    "# The strip() method removes any leading (spaces at the beginning) and trailing (spaces at the end) characters (space is the default leading character to remove)\n",
    "# syntax :string.strip(characters)\n",
    "\n",
    "txt = '    eren     '\n",
    "x = txt.strip()\n",
    "print(x)"
   ]
  },
  {
   "cell_type": "markdown",
   "id": "0d038bf5",
   "metadata": {},
   "source": [
    "#### isalnum()/ isalpha() / isdigit() / isidentifier()"
   ]
  },
  {
   "cell_type": "code",
   "execution_count": 8,
   "id": "212f95a4",
   "metadata": {},
   "outputs": [
    {
     "data": {
      "text/plain": [
       "False"
      ]
     },
     "execution_count": 8,
     "metadata": {},
     "output_type": "execute_result"
    }
   ],
   "source": [
    "# isalnum() :\n",
    "# The isalnum() method returns True if all the characters are alphanumeric, meaning alphabet letter (a-z) and numbers (0-9).\n",
    "# Example of characters that are not alphanumeric: (space)!#%&? etc.\n",
    "# syntax : string.isalnum()\n",
    "\n",
    "#s = 'Akash07' # True\n",
    "#s = 'Akash' # True\n",
    "s = 'Akash$3' # False\n",
    "s.isalnum()"
   ]
  },
  {
   "cell_type": "code",
   "execution_count": 20,
   "id": "441f9456",
   "metadata": {},
   "outputs": [
    {
     "name": "stdout",
     "output_type": "stream",
     "text": [
      "True\n",
      "True\n",
      "True\n"
     ]
    }
   ],
   "source": [
    "# isalpha():\n",
    "# The isalpha() method returns True if all the characters are alphabet letters (a-z).\n",
    "#Example of characters that are not alphabet letters: (space)!#%&? etc.\n",
    "#Syntax : string.isalpha()\n",
    "\n",
    "#s = 'Akash07' # False\n",
    "# s = 'Akash$3' # False\n",
    "# s = 'Akash' # True\n",
    "s.isalpha()"
   ]
  },
  {
   "cell_type": "code",
   "execution_count": 21,
   "id": "638f27e2",
   "metadata": {},
   "outputs": [
    {
     "name": "stdout",
     "output_type": "stream",
     "text": [
      "True\n",
      "True\n",
      "True\n"
     ]
    }
   ],
   "source": [
    "# isdigit()\n",
    "# The isdigit() method returns True if all the characters are digits, otherwise False.\n",
    "# Exponents, like ², are also considered to be a digit.\n",
    "# Syntax : string.isdigit()\n",
    "\n",
    "# s = '07' # Ture\n",
    "# s = 'Akash$03' # False\n",
    "s = 'Akash' # True\n",
    "a = \"\\u0030\" #unicode for 0\n",
    "b = \"\\u00B2\" #unicode for ²\n",
    "print(s.isalpha())\n",
    "print(a.isdigit())\n",
    "print(b.isdigit())"
   ]
  },
  {
   "cell_type": "code",
   "execution_count": 23,
   "id": "ec9768c3",
   "metadata": {},
   "outputs": [
    {
     "name": "stdout",
     "output_type": "stream",
     "text": [
      "True\n",
      "True\n",
      "False\n",
      "False\n",
      "True\n"
     ]
    }
   ],
   "source": [
    "# isidentifier()\n",
    "# The isidentifier() method returns True if the string is a valid identifier, otherwise False.\n",
    "# A string is considered a valid identifier if it only contains alphanumeric letters (a-z) and (0-9), or underscores (_). A valid identifier cannot start with a number, or contain any spaces.\n",
    "# Syntax : string.isidentifier()\n",
    "\n",
    "a = \"MyFolder\"\n",
    "b = \"Demo002\"\n",
    "c = \"2bring\"\n",
    "d = \"my demo\"\n",
    "e = \"_My_\"\n",
    "\n",
    "print(a.isidentifier())\n",
    "print(b.isidentifier())\n",
    "print(c.isidentifier())\n",
    "print(d.isidentifier())\n",
    "print(e.isidentifier())"
   ]
  },
  {
   "cell_type": "markdown",
   "id": "fea9108e",
   "metadata": {},
   "source": [
    "### STRINGS EXAMPLES :\n"
   ]
  },
  {
   "cell_type": "code",
   "execution_count": null,
   "id": "dd90c949",
   "metadata": {},
   "outputs": [],
   "source": [
    "#1.Find the length of a given string without using the len() function."
   ]
  },
  {
   "cell_type": "code",
   "execution_count": null,
   "id": "2e338cf2",
   "metadata": {},
   "outputs": [],
   "source": [
    "# Extract username from a given email. \n",
    "# Eg if the email is nitish24singh@gmail.com \n",
    "# then the username should be nitish24singh"
   ]
  },
  {
   "cell_type": "code",
   "execution_count": null,
   "id": "b0a21a6c",
   "metadata": {},
   "outputs": [],
   "source": [
    "# Count the frequency of a particular character in a provided string. \n",
    "# Eg 'hello how are you' is the string, the frequency of h in this string is 2."
   ]
  },
  {
   "cell_type": "code",
   "execution_count": null,
   "id": "defda9e3",
   "metadata": {},
   "outputs": [],
   "source": [
    "# Write a program which can remove a particular character from a string."
   ]
  },
  {
   "cell_type": "code",
   "execution_count": null,
   "id": "e5fd1255",
   "metadata": {},
   "outputs": [],
   "source": [
    "# Write a program that can check whether a given string is palindrome or not.\n",
    "# abba\n",
    "# malayalam"
   ]
  },
  {
   "cell_type": "code",
   "execution_count": null,
   "id": "8706dc7b",
   "metadata": {},
   "outputs": [],
   "source": [
    "# Write a program to count the number of words in a string without split()"
   ]
  },
  {
   "cell_type": "code",
   "execution_count": null,
   "id": "aaaf03ce",
   "metadata": {},
   "outputs": [],
   "source": [
    "# Write a python program to convert a string to title case without using the title()"
   ]
  },
  {
   "cell_type": "code",
   "execution_count": null,
   "id": "2f9b2c0f",
   "metadata": {},
   "outputs": [],
   "source": [
    "# Write a program that can convert an integer to string."
   ]
  },
  {
   "cell_type": "code",
   "execution_count": null,
   "id": "06a53607",
   "metadata": {},
   "outputs": [],
   "source": []
  },
  {
   "cell_type": "code",
   "execution_count": null,
   "id": "22bc055b",
   "metadata": {},
   "outputs": [],
   "source": []
  },
  {
   "cell_type": "code",
   "execution_count": null,
   "id": "3d3f92db",
   "metadata": {},
   "outputs": [],
   "source": []
  },
  {
   "cell_type": "code",
   "execution_count": null,
   "id": "07beed01",
   "metadata": {},
   "outputs": [],
   "source": []
  },
  {
   "cell_type": "code",
   "execution_count": null,
   "id": "8f772149",
   "metadata": {},
   "outputs": [],
   "source": []
  }
 ],
 "metadata": {
  "kernelspec": {
   "display_name": "Python 3 (ipykernel)",
   "language": "python",
   "name": "python3"
  },
  "language_info": {
   "codemirror_mode": {
    "name": "ipython",
    "version": 3
   },
   "file_extension": ".py",
   "mimetype": "text/x-python",
   "name": "python",
   "nbconvert_exporter": "python",
   "pygments_lexer": "ipython3",
   "version": "3.10.7"
  }
 },
 "nbformat": 4,
 "nbformat_minor": 5
}
