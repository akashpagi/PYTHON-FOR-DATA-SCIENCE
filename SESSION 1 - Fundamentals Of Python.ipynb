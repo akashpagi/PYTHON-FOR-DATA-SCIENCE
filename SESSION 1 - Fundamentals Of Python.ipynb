{
 "cells": [
  {
   "cell_type": "markdown",
   "id": "bb3bcd3d",
   "metadata": {},
   "source": [
    "## 1.Python Output :\n",
    "\n"
   ]
  },
  {
   "cell_type": "code",
   "execution_count": 1,
   "id": "a21bb4b9",
   "metadata": {},
   "outputs": [
    {
     "name": "stdout",
     "output_type": "stream",
     "text": [
      "akash\n"
     ]
    }
   ],
   "source": [
    "print('akash')"
   ]
  },
  {
   "cell_type": "code",
   "execution_count": 1,
   "id": "44806033",
   "metadata": {},
   "outputs": [
    {
     "name": "stdout",
     "output_type": "stream",
     "text": [
      "CampusX\n"
     ]
    }
   ],
   "source": [
    "print('CampusX')"
   ]
  },
  {
   "cell_type": "code",
   "execution_count": 2,
   "id": "3b741ded",
   "metadata": {},
   "outputs": [
    {
     "name": "stdout",
     "output_type": "stream",
     "text": [
      "7.7\n"
     ]
    }
   ],
   "source": [
    "print(7.7)"
   ]
  },
  {
   "cell_type": "code",
   "execution_count": 3,
   "id": "e6ac6022",
   "metadata": {},
   "outputs": [
    {
     "name": "stdout",
     "output_type": "stream",
     "text": [
      "True\n"
     ]
    }
   ],
   "source": [
    "print(True)"
   ]
  },
  {
   "cell_type": "code",
   "execution_count": 5,
   "id": "33cea17a",
   "metadata": {},
   "outputs": [
    {
     "name": "stdout",
     "output_type": "stream",
     "text": [
      "My name is Akash and i'm 21 years old !\n"
     ]
    }
   ],
   "source": [
    "print('My name is Akash',\"and i'm 21 years old !\")"
   ]
  },
  {
   "cell_type": "code",
   "execution_count": 6,
   "id": "90dd9040",
   "metadata": {},
   "outputs": [
    {
     "name": "stdout",
     "output_type": "stream",
     "text": [
      "Akash 7.7 False\n"
     ]
    }
   ],
   "source": [
    "print('Akash',7.7,False)"
   ]
  },
  {
   "cell_type": "code",
   "execution_count": 9,
   "id": "ca7fa2a9",
   "metadata": {},
   "outputs": [
    {
     "name": "stdout",
     "output_type": "stream",
     "text": [
      "Akash__7.7__False\n"
     ]
    }
   ],
   "source": [
    "print('Akash',7.7,False,sep=\"__\")"
   ]
  },
  {
   "cell_type": "code",
   "execution_count": null,
   "id": "ecff0105",
   "metadata": {},
   "outputs": [],
   "source": []
  }
 ],
 "metadata": {
  "kernelspec": {
   "display_name": "Python 3 (ipykernel)",
   "language": "python",
   "name": "python3"
  },
  "language_info": {
   "codemirror_mode": {
    "name": "ipython",
    "version": 3
   },
   "file_extension": ".py",
   "mimetype": "text/x-python",
   "name": "python",
   "nbconvert_exporter": "python",
   "pygments_lexer": "ipython3",
   "version": "3.10.7"
  }
 },
 "nbformat": 4,
 "nbformat_minor": 5
}
