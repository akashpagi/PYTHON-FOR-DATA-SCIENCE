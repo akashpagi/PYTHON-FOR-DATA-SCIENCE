{
 "cells": [
  {
   "cell_type": "markdown",
   "id": "e12d845c",
   "metadata": {},
   "source": [
    "### SESSION 1 - Fundamentals Of Python"
   ]
  },
  {
   "cell_type": "markdown",
   "id": "bb3bcd3d",
   "metadata": {},
   "source": [
    "#### PYTHON BASIC : ( print any value or string & print statement )"
   ]
  },
  {
   "cell_type": "code",
   "execution_count": 1,
   "id": "a21bb4b9",
   "metadata": {},
   "outputs": [
    {
     "name": "stdout",
     "output_type": "stream",
     "text": [
      "akash\n"
     ]
    }
   ],
   "source": [
    "print('akash')"
   ]
  },
  {
   "cell_type": "code",
   "execution_count": 2,
   "id": "3b741ded",
   "metadata": {},
   "outputs": [
    {
     "name": "stdout",
     "output_type": "stream",
     "text": [
      "7.7\n"
     ]
    }
   ],
   "source": [
    "print(7.7)"
   ]
  },
  {
   "cell_type": "code",
   "execution_count": 3,
   "id": "4aa20700",
   "metadata": {},
   "outputs": [
    {
     "name": "stdout",
     "output_type": "stream",
     "text": [
      "True\n"
     ]
    }
   ],
   "source": [
    "print(True)"
   ]
  },
  {
   "cell_type": "code",
   "execution_count": 1,
   "id": "5aed7ba0",
   "metadata": {},
   "outputs": [
    {
     "name": "stdout",
     "output_type": "stream",
     "text": [
      "My name is Akash and i'm 21 years old !\n"
     ]
    }
   ],
   "source": [
    "print('My name is Akash',\"and i'm 21 years old !\")"
   ]
  },
  {
   "cell_type": "code",
   "execution_count": 6,
   "id": "35b645ec",
   "metadata": {},
   "outputs": [
    {
     "name": "stdout",
     "output_type": "stream",
     "text": [
      "Akash 7.7 False\n"
     ]
    }
   ],
   "source": [
    "print('Akash',7.7,False)"
   ]
  },
  {
   "cell_type": "code",
   "execution_count": 10,
   "id": "48ae9980",
   "metadata": {},
   "outputs": [
    {
     "name": "stdout",
     "output_type": "stream",
     "text": [
      "Akash/7.7/False\n"
     ]
    }
   ],
   "source": [
    "print('Akash',7.7,False,sep=\"/\")"
   ]
  },
  {
   "cell_type": "code",
   "execution_count": 12,
   "id": "e264ea2f",
   "metadata": {},
   "outputs": [
    {
     "name": "stdout",
     "output_type": "stream",
     "text": [
      "Eren Yegaer Grisha Yegear\n"
     ]
    }
   ],
   "source": [
    "print('Eren Yegaer',end=' ')\n",
    "print('Grisha Yegear')"
   ]
  },
  {
   "cell_type": "code",
   "execution_count": 19,
   "id": "2fee0a98",
   "metadata": {},
   "outputs": [
    {
     "name": "stdout",
     "output_type": "stream",
     "text": [
      "Eren Yegaer Grisha Yegear Zeke Yeagear\n"
     ]
    }
   ],
   "source": [
    "print('Eren Yegaer', end = \" \")\n",
    "print('Grisha Yegear', end=' ')\n",
    "print('Zeke Yeagear')"
   ]
  },
  {
   "cell_type": "markdown",
   "id": "4c76f763",
   "metadata": {},
   "source": [
    "#### DATATYPES IN PYTHON :"
   ]
  },
  {
   "cell_type": "code",
   "execution_count": 2,
   "id": "dfafe8e3",
   "metadata": {},
   "outputs": [
    {
     "name": "stdout",
     "output_type": "stream",
     "text": [
      "8\n"
     ]
    }
   ],
   "source": [
    "#1.Integer\n",
    "print(8)"
   ]
  },
  {
   "cell_type": "code",
   "execution_count": 4,
   "id": "38b46c64",
   "metadata": {},
   "outputs": [
    {
     "name": "stdout",
     "output_type": "stream",
     "text": [
      "3.44\n"
     ]
    }
   ],
   "source": [
    "#2.Decimal/Float\n",
    "print(3.44)"
   ]
  },
  {
   "cell_type": "code",
   "execution_count": 5,
   "id": "a5b95df1",
   "metadata": {},
   "outputs": [
    {
     "name": "stdout",
     "output_type": "stream",
     "text": [
      "It's boolean True\n",
      "It's boolean False\n"
     ]
    }
   ],
   "source": [
    "#3.Boolean\n",
    "print(\"It's boolean\",True)\n",
    "print(\"It's boolean\",False)"
   ]
  },
  {
   "cell_type": "code",
   "execution_count": 6,
   "id": "a0c24134",
   "metadata": {},
   "outputs": [
    {
     "name": "stdout",
     "output_type": "stream",
     "text": [
      "Attack On Titan\n"
     ]
    }
   ],
   "source": [
    "#3.Text / String\n",
    "print('Attack On Titan')"
   ]
  },
  {
   "cell_type": "code",
   "execution_count": 9,
   "id": "4edfc339",
   "metadata": {},
   "outputs": [
    {
     "name": "stdout",
     "output_type": "stream",
     "text": [
      "it is complex number : (3+5j)\n"
     ]
    }
   ],
   "source": [
    "#4.Complex \n",
    "print('it is complex numbers :',3+5j)\n"
   ]
  },
  {
   "cell_type": "code",
   "execution_count": 10,
   "id": "9d624d82",
   "metadata": {},
   "outputs": [
    {
     "name": "stdout",
     "output_type": "stream",
     "text": [
      "List : [1, 2, 3, 4, 5]\n"
     ]
    }
   ],
   "source": [
    "#5.List   \n",
    "print('Lists :',[1,2,3,4,5])"
   ]
  },
  {
   "cell_type": "code",
   "execution_count": 11,
   "id": "3eb5b825",
   "metadata": {},
   "outputs": [
    {
     "name": "stdout",
     "output_type": "stream",
     "text": [
      "Tuple : (1, 2, 3, 4, 5)\n"
     ]
    }
   ],
   "source": [
    "#6.Tuple\n",
    "print(\"Tuples :\",(1,2,3,4,5))"
   ]
  },
  {
   "cell_type": "code",
   "execution_count": 14,
   "id": "0b6c68e4",
   "metadata": {},
   "outputs": [
    {
     "name": "stdout",
     "output_type": "stream",
     "text": [
      "Sets : {1, 2, 3, 4, 5}\n"
     ]
    }
   ],
   "source": [
    "#7.Sets\n",
    "print('Sets :',{5,4,3,2,1}) "
   ]
  },
  {
   "cell_type": "code",
   "execution_count": 15,
   "id": "34bb4cd8",
   "metadata": {},
   "outputs": [
    {
     "name": "stdout",
     "output_type": "stream",
     "text": [
      "Dictionary :  {1: 'AOT', 2: 'OPM', 3: 'OP'}\n"
     ]
    }
   ],
   "source": [
    "#8.Dictionary\n",
    "print('Dictionary : ',{1:'AOT', 2:'OPM', 3:'OP'})"
   ]
  },
  {
   "cell_type": "code",
   "execution_count": null,
   "id": "3bbceb42",
   "metadata": {},
   "outputs": [],
   "source": [
    "##TYPE FUNCTION"
   ]
  },
  {
   "cell_type": "code",
   "execution_count": 16,
   "id": "152d11b2",
   "metadata": {},
   "outputs": [
    {
     "name": "stdout",
     "output_type": "stream",
     "text": [
      "string\n"
     ]
    }
   ],
   "source": [
    "print('string')"
   ]
  },
  {
   "cell_type": "code",
   "execution_count": 17,
   "id": "118cf756",
   "metadata": {},
   "outputs": [
    {
     "name": "stdout",
     "output_type": "stream",
     "text": [
      "<class 'str'>\n"
     ]
    }
   ],
   "source": [
    "print(type('string'))"
   ]
  },
  {
   "cell_type": "code",
   "execution_count": 19,
   "id": "14dc6919",
   "metadata": {},
   "outputs": [
    {
     "name": "stdout",
     "output_type": "stream",
     "text": [
      "<class 'float'>\n"
     ]
    }
   ],
   "source": [
    "print(type(454.76))"
   ]
  },
  {
   "cell_type": "markdown",
   "id": "d7021e41",
   "metadata": {},
   "source": [
    "#### VARIABLES IN PYTHON :\n",
    "- A variable is a reserved memory area (memory address) to store value. \n",
    "    - For example, we want to store an employee’s salary. In such a case, we can create a variable and store salary using it. Using that variable name, you can read or modify the salary amount\n",
    "- **Variable’s are case-sensitive.**\n",
    "    - Python is a case-sensitive language. If we define a variable with names a = 100 and A =200 then, Python differentiates between a and A. These variables are treated as two different variables (or objects).\n",
    "- Static & Dynamic Typing [Inteview Question]\n",
    "- Static Vs Dynamic Binding\n",
    "- Stylish decalartion Techniquies"
   ]
  },
  {
   "cell_type": "code",
   "execution_count": 22,
   "id": "e60bae71",
   "metadata": {},
   "outputs": [
    {
     "name": "stdout",
     "output_type": "stream",
     "text": [
      "Here a = 3 and b = 5 ,Then addition of is 8 .\n"
     ]
    }
   ],
   "source": [
    "a = 3 \n",
    "b = 5\n",
    "print('Here a = 3 and b = 5 ,Then addition of is',a + b,'.')"
   ]
  },
  {
   "cell_type": "markdown",
   "id": "4ef002b8",
   "metadata": {},
   "source": [
    "- **[Interview Question]**\n",
    "    - **Dynamic Typing :**\n",
    "     - compaire to other language, python interpreter hold or identifies the datatype of the variable, so we don't need's to type variales \n",
    "    - **Dynamic Binding :**\n",
    "     - In python , we don't have fixed data type so according to requirement we can changed the datatype"
   ]
  },
  {
   "cell_type": "code",
   "execution_count": 1,
   "id": "3190f68b",
   "metadata": {},
   "outputs": [
    {
     "name": "stdout",
     "output_type": "stream",
     "text": [
      "a = 5\n",
      "a = AOT\n"
     ]
    }
   ],
   "source": [
    "# for e.g.Dynamic Binding\n",
    "a = 5\n",
    "print('a =',a)\n",
    "\n",
    "a = 'AOT'\n",
    "print('a =',a)"
   ]
  },
  {
   "cell_type": "markdown",
   "id": "a57159d1",
   "metadata": {},
   "source": [
    "- **[Interview Question]**\n",
    "     - **Static Typing :**\n",
    "      - In Static Typing , we declare the datatype of the variable vairable like in c/C++ , java\n",
    "     - **Static Binding :**\n",
    "      - In c/c++, Java, we have fixed data type so we can't changed the datatype"
   ]
  },
  {
   "cell_type": "code",
   "execution_count": 31,
   "id": "77977b6a",
   "metadata": {},
   "outputs": [
    {
     "name": "stdout",
     "output_type": "stream",
     "text": [
      "3 5 4\n",
      "78\n",
      "78\n"
     ]
    }
   ],
   "source": [
    "# eg.Static binding\n",
    "x ,y, z = 5, 4, 3\n",
    "print(z,x,y)\n",
    "\n",
    "a = b = c = 78\n",
    "print(a)\n",
    "print(c)"
   ]
  },
  {
   "cell_type": "markdown",
   "id": "d5018966",
   "metadata": {},
   "source": [
    "#### COMMENTS IN PYTHON :\n",
    "- #(hash) symbol is used comment for single line comment"
   ]
  },
  {
   "cell_type": "code",
   "execution_count": 32,
   "id": "361129e3",
   "metadata": {},
   "outputs": [
    {
     "name": "stdout",
     "output_type": "stream",
     "text": [
      "Attack On Titan\n"
     ]
    }
   ],
   "source": [
    "# Example for comment :\n",
    "# This is single line comment\n",
    "print('Attack On Titan')"
   ]
  },
  {
   "cell_type": "markdown",
   "id": "804e190d",
   "metadata": {},
   "source": [
    "#### KEYWORDS & IDENTIFIERS :\n",
    "- **Keywords :**\n",
    "    - Python **keywords are reserved words** that have a special meaning associated with them and can’t be used for anything but those specific purposes.\n",
    "    - In simple words, **It is a Reserved keywords in python that are already used in python**.\n",
    "    - Each keyword is designed to achieve specific functionality.\n",
    "    \n",
    "    - Python keywords are **case-sensitive.**\n",
    "\n",
    "        - All keywords contain only letters (no special symbols)\n",
    "        - Except for three keywords (True, False, None), all keywords have lower case letters.\n",
    "    - We can use the following two ways to get the list of keywords in Python\n",
    "\n",
    "        - **keyword module:**The keyword is the buil-in module to get the list of keywords. Also, this module allows a Python program to determine if a string is a keyword.\n",
    "        - **help() function:** Apart from a keyword module, we can use the help() function to get the list of keywords"
   ]
  },
  {
   "cell_type": "code",
   "execution_count": 2,
   "id": "ab4f2fe9",
   "metadata": {},
   "outputs": [
    {
     "name": "stdout",
     "output_type": "stream",
     "text": [
      "['False', 'None', 'True', 'and', 'as', 'assert', 'async', 'await', 'break', 'class', 'continue', 'def', 'del', 'elif', 'else', 'except', 'finally', 'for', 'from', 'global', 'if', 'import', 'in', 'is', 'lambda', 'nonlocal', 'not', 'or', 'pass', 'raise', 'return', 'try', 'while', 'with', 'yield']\n"
     ]
    }
   ],
   "source": [
    "import keyword\n",
    "print(keyword.kwlist)"
   ]
  },
  {
   "cell_type": "code",
   "execution_count": 3,
   "id": "bb87ada3",
   "metadata": {},
   "outputs": [
    {
     "name": "stdout",
     "output_type": "stream",
     "text": [
      "\n",
      "Here is a list of the Python keywords.  Enter any keyword to get more help.\n",
      "\n",
      "False               class               from                or\n",
      "None                continue            global              pass\n",
      "True                def                 if                  raise\n",
      "and                 del                 import              return\n",
      "as                  elif                in                  try\n",
      "assert              else                is                  while\n",
      "async               except              lambda              with\n",
      "await               finally             nonlocal            yield\n",
      "break               for                 not                 \n",
      "\n"
     ]
    }
   ],
   "source": [
    "help(\"keywords\")"
   ]
  },
  {
   "cell_type": "markdown",
   "id": "add584e0",
   "metadata": {},
   "source": [
    "- **Identifiers :**\n",
    "    - A name in a Python program is called an identifier. An identifier can be a variable name, class name, function name, and module name.\n",
    "\n",
    "     - There are some rules to define variables in Python.\n",
    "     - **Rule 1:** The name of the variable and constant should have a combination of letters, digits, and underscore symbols.\n",
    "         - Alphabet/letters i.e., lowercase (a to z) or uppercase (A to Z)\n",
    "         - Digits(0 to 9)\n",
    "         - Underscore symbol ( _ )\n",
    "     - **Rule 2:** Don’t’ use special symbols in a variable name, For declaring variable and constant, we cannot use special symbols like $, #, @, %, !~, etc. If we try to declare names with a special symbol, Python generates an error.\n",
    "     - **Rule 3:** Variable and constant should not start with digit letters\n",
    "     - **Rule 4:** Identifiers are case sensitive.\n",
    "          - Here, Python makes a difference between these variables that is uppercase and lowercase, so that it will create three different variables total, Total, TOTAL.\n",
    "     - **Rule 5:** To declare constant should use capital letters.\n",
    "     - **Rule 6:** Use an underscore symbol for separating the words in a variable name\n",
    "        - If we want to declare variable and constant names having two words, use an underscore symbol for separating the words.\n",
    "\n",
    "        - Ex.current_temperature = 24\n",
    "\n",
    "\n",
    "         \n",
    "  "
   ]
  },
  {
   "cell_type": "code",
   "execution_count": 12,
   "id": "76a7ad33",
   "metadata": {},
   "outputs": [
    {
     "name": "stdout",
     "output_type": "stream",
     "text": [
      "Eren Yeager\n",
      "120\n",
      "130\n",
      "150\n"
     ]
    }
   ],
   "source": [
    "# Identifires\n",
    "Name = 'Eren Yeager'\n",
    "print(Name)\n",
    "\n",
    "# Rule :\n",
    "total_addition\n",
    "TOTAL_ADDITION\n",
    "totalAddition2\n",
    "Total2addition\n",
    "\n",
    "\n",
    "# Rule 2:\n",
    "ca$h = 1000\n",
    "\n",
    "# Rule 3:\n",
    "#1studnet = \"Jessa\"\n",
    "#print(1studnet)\n",
    "\n",
    "# Rule 4:\n",
    "total = 120\n",
    "Total = 130\n",
    "TOTAL = 150\n",
    "print(total)\n",
    "print(Total)\n",
    "print(TOTAL)\n",
    "\n",
    "# Rule 5:\n",
    "MIN_VALUE = 100\n",
    "MAX_VALUE = 1000\n",
    "\n",
    "# Rule 6 :\n",
    "current_temperature = 24\n"
   ]
  },
  {
   "cell_type": "markdown",
   "id": "e007c1af",
   "metadata": {},
   "source": [
    "#### TYPE CONVERSION :"
   ]
  },
  {
   "cell_type": "code",
   "execution_count": 14,
   "id": "802dd430",
   "metadata": {},
   "outputs": [
    {
     "name": "stdout",
     "output_type": "stream",
     "text": [
      "10.6\n",
      "string5\n"
     ]
    }
   ],
   "source": [
    "#Implicit\n",
    "# Python automatically converts one data type to another.\n",
    "\n",
    "print(5 + 5.6)\n",
    "print('string' + '5') "
   ]
  },
  {
   "cell_type": "code",
   "execution_count": 33,
   "id": "f855b833",
   "metadata": {},
   "outputs": [
    {
     "name": "stdout",
     "output_type": "stream",
     "text": [
      "<class 'int'>\n",
      "<class 'int'>\n",
      "int -> str : <class 'str'>\n"
     ]
    }
   ],
   "source": [
    "# Explicit\n",
    "# Explicit Conversion - manual type conversion\n",
    "# built-in functions like int(), float(), str(),\n",
    "\n",
    "# str -> int\n",
    "a = '5'\n",
    "print(type(int(a)))\n",
    "\n",
    "#float -> int\n",
    "b = 5.6\n",
    "print(type(int(b)))\n",
    "\n",
    "c = 9 \n",
    "print('int -> str :',type(str(c)))"
   ]
  },
  {
   "cell_type": "markdown",
   "id": "a0fd6941",
   "metadata": {},
   "source": [
    "#### USER INPUT :"
   ]
  },
  {
   "cell_type": "code",
   "execution_count": 3,
   "id": "d69452d3",
   "metadata": {},
   "outputs": [
    {
     "name": "stdout",
     "output_type": "stream",
     "text": [
      "Enter your name :Eren\n"
     ]
    },
    {
     "data": {
      "text/plain": [
       "'Eren'"
      ]
     },
     "execution_count": 3,
     "metadata": {},
     "output_type": "execute_result"
    }
   ],
   "source": [
    "#Static & Dynamic\n",
    "input('Enter your name :')"
   ]
  },
  {
   "cell_type": "code",
   "execution_count": 37,
   "id": "8477b5df",
   "metadata": {},
   "outputs": [
    {
     "name": "stdout",
     "output_type": "stream",
     "text": [
      "First number :8\n",
      "Last number :9\n",
      "Result is 17\n"
     ]
    }
   ],
   "source": [
    "# take input from users and store them in a vaariale\n",
    "#add the 2 variable and print the result\n",
    "\n",
    "var1 = int(input('First number :'))\n",
    "var2 = int(input('Last number :'))\n",
    "\n",
    "#print(type(var1), type(var2))\n",
    "result = var1 + var2\n",
    "\n",
    "print('Result is',result)"
   ]
  },
  {
   "cell_type": "markdown",
   "id": "15178a0e",
   "metadata": {},
   "source": [
    "#### LITERALS :"
   ]
  },
  {
   "cell_type": "code",
   "execution_count": 38,
   "id": "1452e035",
   "metadata": {},
   "outputs": [
    {
     "name": "stdout",
     "output_type": "stream",
     "text": [
      "Program executed\n"
     ]
    }
   ],
   "source": [
    "#None\n",
    "#None is used to define a null value or Null object in Python. It is not the same as an empty string, False, or a zero. It is a data type of the class\n",
    "#None is not the same as False.\n",
    "#None is not 0.\n",
    "#None is not an empty string.\n",
    "#Comparing None to anything will always return False except None itself.\n",
    "k = None\n",
    "a = 4\n",
    "b = 6\n",
    "print('Program executed')\n"
   ]
  }
 ],
 "metadata": {
  "kernelspec": {
   "display_name": "Python 3 (ipykernel)",
   "language": "python",
   "name": "python3"
  },
  "language_info": {
   "codemirror_mode": {
    "name": "ipython",
    "version": 3
   },
   "file_extension": ".py",
   "mimetype": "text/x-python",
   "name": "python",
   "nbconvert_exporter": "python",
   "pygments_lexer": "ipython3",
   "version": "3.10.7"
  }
 },
 "nbformat": 4,
 "nbformat_minor": 5
}
